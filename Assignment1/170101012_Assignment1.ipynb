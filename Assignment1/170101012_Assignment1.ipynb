{
  "nbformat": 4,
  "nbformat_minor": 0,
  "metadata": {
    "colab": {
      "name": "170101012_Assignment1.ipynb",
      "provenance": []
    },
    "kernelspec": {
      "name": "python3",
      "display_name": "Python 3"
    },
    "accelerator": "GPU"
  },
  "cells": [
    {
      "cell_type": "code",
      "metadata": {
        "id": "4kZFkmjbv2ZO",
        "outputId": "7aaa2a12-45b8-4665-ed05-fd6a1c655fea",
        "colab": {
          "base_uri": "https://localhost:8080/",
          "height": 890
        }
      },
      "source": [
        "!pip install indic-nlp-library\n",
        "!pip3 install -U git+https://github.com/aboSamoor/polyglot.git@master\n",
        "!polyglot download morph2.hi\n",
        "!polyglot download morph2.en\n",
        "import requests\n",
        "from sys import getsizeof\n",
        "import nltk\n",
        "nltk.download('punkt')\n",
        "nltk.download('averaged_perceptron_tagger')\n",
        "from spacy.lang.en import English\n",
        "from indicnlp.tokenize import sentence_tokenize, indic_tokenize\n",
        "from spacy.lang.hi import Hindi\n",
        "import matplotlib.pyplot as plt\n",
        "import numpy as np\n",
        "from nltk.stem import PorterStemmer \n",
        "from polyglot.text import Text, Word\n",
        "from nltk import word_tokenize, pos_tag\n",
        "import random\n",
        "import collections\n",
        "from IPython.display import display, Markdown\n",
        "import warnings\n",
        "import matplotlib.patches as mpatches\n",
        "warnings.filterwarnings('ignore')"
      ],
      "execution_count": null,
      "outputs": [
        {
          "output_type": "stream",
          "text": [
            "Collecting indic-nlp-library\n",
            "  Downloading https://files.pythonhosted.org/packages/2f/51/f4e4542a226055b73a621ad442c16ae2c913d6b497283c99cae7a9661e6c/indic_nlp_library-0.71-py3-none-any.whl\n",
            "Requirement already satisfied: numpy in /usr/local/lib/python3.6/dist-packages (from indic-nlp-library) (1.18.5)\n",
            "Collecting morfessor\n",
            "  Downloading https://files.pythonhosted.org/packages/39/e6/7afea30be2ee4d29ce9de0fa53acbb033163615f849515c0b1956ad074ee/Morfessor-2.0.6-py3-none-any.whl\n",
            "Requirement already satisfied: pandas in /usr/local/lib/python3.6/dist-packages (from indic-nlp-library) (1.1.2)\n",
            "Requirement already satisfied: python-dateutil>=2.7.3 in /usr/local/lib/python3.6/dist-packages (from pandas->indic-nlp-library) (2.8.1)\n",
            "Requirement already satisfied: pytz>=2017.2 in /usr/local/lib/python3.6/dist-packages (from pandas->indic-nlp-library) (2018.9)\n",
            "Requirement already satisfied: six>=1.5 in /usr/local/lib/python3.6/dist-packages (from python-dateutil>=2.7.3->pandas->indic-nlp-library) (1.15.0)\n",
            "Installing collected packages: morfessor, indic-nlp-library\n",
            "Successfully installed indic-nlp-library-0.71 morfessor-2.0.6\n",
            "Collecting git+https://github.com/aboSamoor/polyglot.git@master\n",
            "  Cloning https://github.com/aboSamoor/polyglot.git (to revision master) to /tmp/pip-req-build-h7u9i8o1\n",
            "  Running command git clone -q https://github.com/aboSamoor/polyglot.git /tmp/pip-req-build-h7u9i8o1\n",
            "Requirement already satisfied, skipping upgrade: six>=1.7.3 in /usr/local/lib/python3.6/dist-packages (from polyglot==16.7.4) (1.15.0)\n",
            "Requirement already satisfied, skipping upgrade: numpy>=1.6.1 in /usr/local/lib/python3.6/dist-packages (from polyglot==16.7.4) (1.18.5)\n",
            "Collecting pycld2>=0.3\n",
            "\u001b[?25l  Downloading https://files.pythonhosted.org/packages/21/d2/8b0def84a53c88d0eb27c67b05269fbd16ad68df8c78849e7b5d65e6aec3/pycld2-0.41.tar.gz (41.4MB)\n",
            "\u001b[K     |████████████████████████████████| 41.4MB 73kB/s \n",
            "\u001b[?25hRequirement already satisfied, skipping upgrade: wheel>=0.23.0 in /usr/local/lib/python3.6/dist-packages (from polyglot==16.7.4) (0.35.1)\n",
            "Collecting PyICU>=1.8\n",
            "\u001b[?25l  Downloading https://files.pythonhosted.org/packages/5a/99/c48c816095208bf3f4936ff67e571621fbddef461303a35a076f234e31f6/PyICU-2.5.tar.gz (225kB)\n",
            "\u001b[K     |████████████████████████████████| 235kB 42.6MB/s \n",
            "\u001b[?25hRequirement already satisfied, skipping upgrade: morfessor>=2.0.2a1 in /usr/local/lib/python3.6/dist-packages (from polyglot==16.7.4) (2.0.6)\n",
            "Collecting futures>=2.1.6\n",
            "  Downloading https://files.pythonhosted.org/packages/05/80/f41cca0ea1ff69bce7e7a7d76182b47bb4e1a494380a532af3e8ee70b9ec/futures-3.1.1-py3-none-any.whl\n",
            "Building wheels for collected packages: polyglot, pycld2, PyICU\n",
            "  Building wheel for polyglot (setup.py) ... \u001b[?25l\u001b[?25hdone\n",
            "  Created wheel for polyglot: filename=polyglot-16.7.4-py2.py3-none-any.whl size=70642 sha256=9d953248bd0074fa46860d86523b9cefdac6be4cf01fab304dea82932c69b579\n",
            "  Stored in directory: /tmp/pip-ephem-wheel-cache-3zwgq0eh/wheels/42/d9/73/345c7ae8554299ff8b31635d64eb8455fd591385fa734cdbef\n",
            "  Building wheel for pycld2 (setup.py) ... \u001b[?25l\u001b[?25hdone\n",
            "  Created wheel for pycld2: filename=pycld2-0.41-cp36-cp36m-linux_x86_64.whl size=9833514 sha256=1550faecdc66dc411244af3574edff7abf36b2a6ea5112ab34f1eb99bc737759\n",
            "  Stored in directory: /root/.cache/pip/wheels/c6/8f/e9/08a1a8932a490175bd140206cd86a3dbcfc70498100de11079\n",
            "  Building wheel for PyICU (setup.py) ... \u001b[?25l\u001b[?25hdone\n",
            "  Created wheel for PyICU: filename=PyICU-2.5-cp36-cp36m-linux_x86_64.whl size=1252643 sha256=cb01c03f1aa85cfbd0802fa43e8ce315d6407cb7fbbf00043cf373e5cab01359\n",
            "  Stored in directory: /root/.cache/pip/wheels/07/3a/28/09f90c38785945ddf9af61b7add1aa62a740f40e259626ef3a\n",
            "Successfully built polyglot pycld2 PyICU\n",
            "Installing collected packages: pycld2, PyICU, futures, polyglot\n",
            "Successfully installed PyICU-2.5 futures-3.1.1 polyglot-16.7.4 pycld2-0.41\n",
            "[polyglot_data] Downloading package morph2.hi to\n",
            "[polyglot_data]     /root/polyglot_data...\n",
            "[polyglot_data] Downloading package morph2.en to\n",
            "[polyglot_data]     /root/polyglot_data...\n",
            "[nltk_data] Downloading package punkt to /root/nltk_data...\n",
            "[nltk_data]   Unzipping tokenizers/punkt.zip.\n",
            "[nltk_data] Downloading package averaged_perceptron_tagger to\n",
            "[nltk_data]     /root/nltk_data...\n",
            "[nltk_data]   Unzipping taggers/averaged_perceptron_tagger.zip.\n"
          ],
          "name": "stdout"
        }
      ]
    },
    {
      "cell_type": "code",
      "metadata": {
        "id": "K3aCYR9a1RQh"
      },
      "source": [
        "#Downloading the Corpus\n",
        "en_url = \"https://drive.google.com/file/d/1H3cNxmsG8k79Vr3FkSa0hkLcC2AGIxSy/view?usp=sharing\"\n",
        "en_url_down = \"https://drive.google.com/uc?export=download&id=1H3cNxmsG8k79Vr3FkSa0hkLcC2AGIxSy\"\n",
        "hi_url = \"https://drive.google.com/file/d/1a19UH6TkkJYrlft59KTgXyxf8V8WYUy_/view?usp=sharing\"\n",
        "hi_url_down = \"https://drive.google.com/uc?export=download&id=1a19UH6TkkJYrlft59KTgXyxf8V8WYUy_\"\n",
        "\n",
        "response = requests.get(en_url_down)\n",
        "en_data = response.text\n",
        "en_data = en_data[: len(en_data) // 2]\n",
        "response = requests.get(hi_url_down)\n",
        "response.encoding = \"utf-8\"\n",
        "hi_data = response.text\n",
        "hi_data = hi_data[: len(hi_data) // 2]"
      ],
      "execution_count": null,
      "outputs": []
    },
    {
      "cell_type": "markdown",
      "metadata": {
        "id": "-yHZJerKnZ-0"
      },
      "source": [
        "# Task 1.3.1\n",
        "## English Corpus"
      ]
    },
    {
      "cell_type": "code",
      "metadata": {
        "id": "sEBZQLB9MICK",
        "outputId": "5a2ca3e9-9b09-4858-8d52-6e11405a02aa",
        "colab": {
          "base_uri": "https://localhost:8080/",
          "height": 536
        }
      },
      "source": [
        "####################################  Task 1.3.1 (1) English  ####################################\n",
        "#sentence segmentation and word tokenisation using NLTK on en_wiki.txt\n",
        "\n",
        "nltk_en_sentences = nltk.sent_tokenize(en_data)\n",
        "display(Markdown(\"##Using NLTK on English corpus.\"))\n",
        "display(Markdown(\"###Number of sentences after performing sentence segmentation: {}\".format(str(len(nltk_en_sentences)))))\n",
        "display(Markdown(\"### Some of examples are:\"))\n",
        "# print(\"Using NLTK on English corpus.\")\n",
        "# print(\"Number of sentences after performing sentence segmentation: \" + str(len(nltk_en_sentences)))\n",
        "# print(\"Some examples of sentences are:\")\n",
        "print(nltk_en_sentences[0:10])\n",
        "\n",
        "nltk_en_tokens = nltk.word_tokenize(en_data)\n",
        "display(Markdown(\"###Number of tokens after performing word tokenisation: {}\".format( str(len(nltk_en_tokens)))))\n",
        "display(Markdown(\"###Some examples of tokens are:\"))\n",
        "print(nltk_en_tokens[0:10])\n",
        "\n",
        "\n",
        "#sentence segmentation and word tokenisation using spaCy on en_wiki.txt\n",
        "nlp = English()\n",
        "sentencizer = nlp.create_pipe(\"sentencizer\")\n",
        "nlp.max_length = 103100000 # or even higher\n",
        "nlp.add_pipe(sentencizer)\n",
        "doc = nlp(en_data)\n",
        "spacy_en_sentences = list(doc.sents)\n",
        "display(Markdown(\"##Using spaCy on English corpus.\"))\n",
        "display(Markdown(\"###Number of sentences after performing sentence segmentation: {}\".format(str(len(spacy_en_sentences)))))\n",
        "display(Markdown(\"### Some of examples are:\"))\n",
        "print(spacy_en_sentences[0:10])\n",
        "\n",
        "tokenizer = nlp.Defaults.create_tokenizer(nlp)\n",
        "spacy_en_tokens = tokenizer(en_data)\n",
        "display(Markdown(\"###Number of tokens after performing word tokenisation: {}\".format(str(len(spacy_en_tokens)))))\n",
        "display(Markdown(\"###Some examples of tokens are:\"))\n",
        "print(*spacy_en_tokens[0:10], sep=',')\n",
        "\n",
        "# to free some space in RAM\n",
        "del nltk_en_sentences, spacy_en_sentences, spacy_en_tokens\n"
      ],
      "execution_count": null,
      "outputs": [
        {
          "output_type": "display_data",
          "data": {
            "text/markdown": "##Using NLTK on English corpus.",
            "text/plain": [
              "<IPython.core.display.Markdown object>"
            ]
          },
          "metadata": {
            "tags": []
          }
        },
        {
          "output_type": "display_data",
          "data": {
            "text/markdown": "###Number of sentences after performing sentence segmentation: 397072",
            "text/plain": [
              "<IPython.core.display.Markdown object>"
            ]
          },
          "metadata": {
            "tags": []
          }
        },
        {
          "output_type": "display_data",
          "data": {
            "text/markdown": "### Some of examples are:",
            "text/plain": [
              "<IPython.core.display.Markdown object>"
            ]
          },
          "metadata": {
            "tags": []
          }
        },
        {
          "output_type": "stream",
          "text": [
            "['The word \"atom\" was coined by ancient Greek philosophers.', 'However, these ideas were founded in philosophical and theological reasoning rather than evidence and experimentation.', 'As a result, their views on what atoms look like and how they behave were incorrect.', 'They also could not convince everybody, so atomism was but one of a number of competing theories on the nature of matter.', 'It was not until the 19th century that the idea was embraced and refined by scientists, when the blossoming science of chemistry produced discoveries that only the concept of atoms could explain.', 'In the early 1800s, John Dalton used the concept of atoms to explain why elements always react in ratios of small whole numbers (the law of multiple proportions).', 'For instance, there are two types of tin oxide: one is 88.1% tin and 11.9% oxygen and the other is 78.7% tin and 21.3% oxygen (tin(II) oxide and tin dioxide respectively).', 'This means that 100g of tin will combine either with 13.5g or 27g of oxygen.', '13.5 and 27 form a ratio of 1:2, a ratio of small whole numbers.', 'This common pattern in chemistry suggested to Dalton that elements react in whole number multiples of discrete unitsâ\\x80\\x94in other words, atoms.']\n"
          ],
          "name": "stdout"
        },
        {
          "output_type": "display_data",
          "data": {
            "text/markdown": "###Number of tokens after performing word tokenisation: 9936739",
            "text/plain": [
              "<IPython.core.display.Markdown object>"
            ]
          },
          "metadata": {
            "tags": []
          }
        },
        {
          "output_type": "display_data",
          "data": {
            "text/markdown": "###Some examples of tokens are:",
            "text/plain": [
              "<IPython.core.display.Markdown object>"
            ]
          },
          "metadata": {
            "tags": []
          }
        },
        {
          "output_type": "stream",
          "text": [
            "['The', 'word', '``', 'atom', \"''\", 'was', 'coined', 'by', 'ancient', 'Greek']\n"
          ],
          "name": "stdout"
        },
        {
          "output_type": "display_data",
          "data": {
            "text/markdown": "##Using spaCy on English corpus.",
            "text/plain": [
              "<IPython.core.display.Markdown object>"
            ]
          },
          "metadata": {
            "tags": []
          }
        },
        {
          "output_type": "display_data",
          "data": {
            "text/markdown": "###Number of sentences after performing sentence segmentation: 394417",
            "text/plain": [
              "<IPython.core.display.Markdown object>"
            ]
          },
          "metadata": {
            "tags": []
          }
        },
        {
          "output_type": "display_data",
          "data": {
            "text/markdown": "### Some of examples are:",
            "text/plain": [
              "<IPython.core.display.Markdown object>"
            ]
          },
          "metadata": {
            "tags": []
          }
        },
        {
          "output_type": "stream",
          "text": [
            "[The word \"atom\" was coined by ancient Greek philosophers., However, these ideas were founded in philosophical and theological reasoning rather than evidence and experimentation., As a result, their views on what atoms look like and how they behave were incorrect., They also could not convince everybody, so atomism was but one of a number of competing theories on the nature of matter., It was not until the 19th century that the idea was embraced and refined by scientists, when the blossoming science of chemistry produced discoveries that only the concept of atoms could explain., \n",
            "\n",
            "In the early 1800s, John Dalton used the concept of atoms to explain why elements always react in ratios of small whole numbers (the law of multiple proportions)., For instance, there are two types of tin oxide: one is 88.1% tin and 11.9% oxygen and the other is 78.7% tin and 21.3% oxygen (tin(II) oxide and tin dioxide respectively)., This means that 100g of tin will combine either with 13.5g or 27g of oxygen., 13.5 and 27 form a ratio of 1:2, a ratio of small whole numbers., This common pattern in chemistry suggested to Dalton that elements react in whole number multiples of discrete unitsâin other words, atoms.]\n"
          ],
          "name": "stdout"
        },
        {
          "output_type": "display_data",
          "data": {
            "text/markdown": "###Number of tokens after performing word tokenisation: 10255199",
            "text/plain": [
              "<IPython.core.display.Markdown object>"
            ]
          },
          "metadata": {
            "tags": []
          }
        },
        {
          "output_type": "display_data",
          "data": {
            "text/markdown": "###Some examples of tokens are:",
            "text/plain": [
              "<IPython.core.display.Markdown object>"
            ]
          },
          "metadata": {
            "tags": []
          }
        },
        {
          "output_type": "stream",
          "text": [
            "The,word,\",atom,\",was,coined,by,ancient,Greek\n"
          ],
          "name": "stdout"
        }
      ]
    },
    {
      "cell_type": "markdown",
      "metadata": {
        "id": "4DEDO5-oposc"
      },
      "source": [
        "## Hindi Corpus"
      ]
    },
    {
      "cell_type": "code",
      "metadata": {
        "id": "AzT0YADVjGu6",
        "outputId": "7dd83cbe-7b5f-4e0d-daad-e1b92560ab0e",
        "colab": {
          "base_uri": "https://localhost:8080/",
          "height": 572
        }
      },
      "source": [
        "####################################  Task 1.3.1 (1) Hindi  ####################################\n",
        "\n",
        "#sentence segmentation and word tokenisation using indicNLP on hi_wiki.txt\n",
        "indicNLP_hi_sentences = sentence_tokenize.sentence_split(hi_data, lang='hi')\n",
        "display(Markdown(\"##Using indicNLP on Hindi corpus.\"))\n",
        "display(Markdown(\"###Number of sentences after performing sentence segmentation: {}\".format(str(len(indicNLP_hi_sentences)))))\n",
        "display(Markdown(\"###Some examples of sentences are:\"))\n",
        "print(indicNLP_hi_sentences[0:10])\n",
        "\n",
        "indicNLP_hi_tokens = indic_tokenize.trivial_tokenize(hi_data, lang='hi')\n",
        "display(Markdown(\"###Number of tokens after performing word tokenisation: {}\".format(str(len(indicNLP_hi_tokens)))))\n",
        "display(Markdown(\"###Some examples of tokens are:\"))\n",
        "print(indicNLP_hi_tokens[0:10])\n",
        "\n",
        "#sentence segmentation and word tokenisation using spaCy on hi_wiki.txt\n",
        "nlp = Hindi()\n",
        "sentencizer = nlp.create_pipe(\"sentencizer\")\n",
        "nlp.max_length = 103100000 # or even higher\n",
        "nlp.add_pipe(sentencizer)\n",
        "doc = nlp(hi_data)\n",
        "spacy_hi_sentences = list(doc.sents)\n",
        "display(Markdown(\"##Using spaCy on Hindi corpus.\"))\n",
        "display(Markdown(\"###Number of sentences after performing sentence segmentation: {}\".format(str(len(spacy_hi_sentences)))))\n",
        "display(Markdown(\"###Some examples of sentences are:\"))\n",
        "print(spacy_hi_sentences[0:10])\n",
        "\n",
        "tokenizer = nlp.Defaults.create_tokenizer(nlp)\n",
        "spacy_hi_tokens = tokenizer(hi_data)\n",
        "display(Markdown(\"###Number of tokens after performing word tokenisation: {}\".format(str(len(spacy_hi_tokens)))))\n",
        "display(Markdown(\"###Some examples of tokens are:\"))\n",
        "print(*spacy_hi_tokens[0:10], sep=',')\n",
        " \n",
        "\n",
        "del indicNLP_hi_sentences, spacy_hi_sentences, spacy_hi_tokens"
      ],
      "execution_count": null,
      "outputs": [
        {
          "output_type": "display_data",
          "data": {
            "text/markdown": "##Using indicNLP on Hindi corpus.",
            "text/plain": [
              "<IPython.core.display.Markdown object>"
            ]
          },
          "metadata": {
            "tags": []
          }
        },
        {
          "output_type": "display_data",
          "data": {
            "text/markdown": "###Number of sentences after performing sentence segmentation: 175117",
            "text/plain": [
              "<IPython.core.display.Markdown object>"
            ]
          },
          "metadata": {
            "tags": []
          }
        },
        {
          "output_type": "display_data",
          "data": {
            "text/markdown": "###Some examples of sentences are:",
            "text/plain": [
              "<IPython.core.display.Markdown object>"
            ]
          },
          "metadata": {
            "tags": []
          }
        },
        {
          "output_type": "stream",
          "text": [
            "['मास्टर ऑफ़ हेल्थ एडमिनिस्ट्रेशन या मास्टर ऑफ हेल्थकेयर एडमिनिस्ट्रेशन (एमएचए या एम. एच. ए) स्नातकोत्तर (पोस्ट ग्रेजुएशन) की एक पेशेवर डिग्री है जो स्वास्थ्य प्रशासन के क्षेत्र में दी जाती हैं।', 'यह उन छात्रों को प्रदान की जाती हैं जिन्होंने स्वास्थ्य प्रशासन, अस्पताल प्रबंधन एवं अन्य स्वास्थ्य सेवा संगठनों के क्षेत्र में जरूरी ज्ञान और दक्षता हासिल की हैं।', 'इन पाठ्यक्रमो में परिस्थितियों के अनुसार इनके सरंचना में अंतर हो सकता हैं हालांकि व्यवसायी-शिक्षक मॉडल कार्यक्रम आमतौर पर चिकित्सा, स्वास्थ्य व्यवसायों या संबद्ध स्वास्थ्य के कॉलेजों में पाए जाते हैं, कक्षा-आधारित कार्यक्रम व्यवसाय या सार्वजनिक स्वास्थ्य के कॉलेजों में होते हैं।', 'इस पाठ्यक्रम के अध्ययन के दौरान आम तौर पर विद्यार्थियों को जनसंख्या स्वास्थ्य, स्वास्थ्य देखभाल अर्थशास्त्र, स्वास्थ्य नीति, संगठनात्मक व्यवहार, स्वास्थ्य से जुड़े संगठनों के प्रबंधन, स्वास्थ्य विपणन और संचार, मानव संसाधन प्रबंधन, सूचना प्रणाली प्रबंधन के अध्ययन एवं अन्य क्षेत्रों में व्यावहारिक अनुभव की भी आवश्यकता होती है।', 'यह डिग्री प्रोग्राम स्वास्थ्य विषय के स्नातको को प्रबंधन के मुद्दों की विस्तृत एवं गहन समझ और उन्हें वरिष्ठ प्रबंधन भूमिकाओं के लिए तैयार करने के लिए डिज़ाइन किया गया है।', 'यह अमेरिकी, यूरोपीय, ऑस्ट्रेलियाई, भारतीय और श्रीलंकाई (पोस्ट ग्रेजुएट इंस्टीट्यूट ऑफ मेडिसिन- कोलंबो विश्वविद्यालय) विश्वविद्यालयों के द्वारा प्रदान किया जाता हैं।', 'यह डिग्री प्रोग्राम पारंपरिक रूप से स्वास्थ्य प्रशासन के स्थानीय, राज्य और संघीय स्तर पर एवं साथ ही गैर-लाभकारी क्षेत्र पर केंद्रित होता है।', 'एमएचए कार्यक्रमों का उद्देश्य छात्रों को स्वास्थ्य सेवाओं और सिस्टम क्षेत्रों में वरिष्ठ प्रबंधकीय और नियोजन कार्य के लिए जरूरी ज्ञान प्रदान करना है।', 'कार्यक्रम के उद्देश्य उन स्नातकों को विकसित करना है जो सक्षम सामान्य और वित्तीय प्रबंधकों, सक्षम योजनाकारों, सार्वजनिक स्वास्थ्य के बारे में जानकार और स्वास्थ्य देखभाल प्रणालियों के वित्तपोषण, समाज, कानून और नैतिकता के बारे में जानकार हो।', 'इस पाठ्यक्रम के लिए अधिकांश देशों में, आवेदकों को न्यूनतम चार वर्ष की स्नातक से नीचे की डिग्री की आवश्यकता होती है एवं उन्हें स्वास्थ्य प्रणाली में न्यूनतम पेशेवर अनुभव वांछनीय है।']\n"
          ],
          "name": "stdout"
        },
        {
          "output_type": "display_data",
          "data": {
            "text/markdown": "###Number of tokens after performing word tokenisation: 4315181",
            "text/plain": [
              "<IPython.core.display.Markdown object>"
            ]
          },
          "metadata": {
            "tags": []
          }
        },
        {
          "output_type": "display_data",
          "data": {
            "text/markdown": "###Some examples of tokens are:",
            "text/plain": [
              "<IPython.core.display.Markdown object>"
            ]
          },
          "metadata": {
            "tags": []
          }
        },
        {
          "output_type": "stream",
          "text": [
            "['मास्टर', 'ऑफ़', 'हेल्थ', 'एडमिनिस्ट्रेशन', 'या', 'मास्टर', 'ऑफ', 'हेल्थकेयर', 'एडमिनिस्ट्रेशन', '(']\n"
          ],
          "name": "stdout"
        },
        {
          "output_type": "display_data",
          "data": {
            "text/markdown": "##Using spaCy on Hindi corpus.",
            "text/plain": [
              "<IPython.core.display.Markdown object>"
            ]
          },
          "metadata": {
            "tags": []
          }
        },
        {
          "output_type": "display_data",
          "data": {
            "text/markdown": "###Number of sentences after performing sentence segmentation: 178911",
            "text/plain": [
              "<IPython.core.display.Markdown object>"
            ]
          },
          "metadata": {
            "tags": []
          }
        },
        {
          "output_type": "display_data",
          "data": {
            "text/markdown": "###Some examples of sentences are:",
            "text/plain": [
              "<IPython.core.display.Markdown object>"
            ]
          },
          "metadata": {
            "tags": []
          }
        },
        {
          "output_type": "stream",
          "text": [
            "[मास्टर ऑफ़ हेल्थ एडमिनिस्ट्रेशन या मास्टर ऑफ हेल्थकेयर एडमिनिस्ट्रेशन (एमएचए या एम., एच., ए) स्नातकोत्तर (पोस्ट ग्रेजुएशन) की एक पेशेवर डिग्री है जो स्वास्थ्य प्रशासन के क्षेत्र में दी जाती हैं।, यह उन छात्रों को प्रदान की जाती हैं जिन्होंने स्वास्थ्य प्रशासन, अस्पताल प्रबंधन एवं अन्य स्वास्थ्य सेवा संगठनों के क्षेत्र में जरूरी ज्ञान और दक्षता हासिल की हैं।, इन पाठ्यक्रमो में परिस्थितियों के अनुसार इनके सरंचना में अंतर हो सकता हैं हालांकि व्यवसायी-शिक्षक मॉडल कार्यक्रम आमतौर पर चिकित्सा, स्वास्थ्य व्यवसायों या संबद्ध स्वास्थ्य के कॉलेजों में पाए जाते हैं, कक्षा-आधारित कार्यक्रम व्यवसाय या सार्वजनिक स्वास्थ्य के कॉलेजों में होते हैं।, \n",
            "\n",
            "इस पाठ्यक्रम के अध्ययन के दौरान आम तौर पर विद्यार्थियों को जनसंख्या स्वास्थ्य, स्वास्थ्य देखभाल अर्थशास्त्र, स्वास्थ्य नीति, संगठनात्मक व्यवहार, स्वास्थ्य से जुड़े संगठनों के प्रबंधन, स्वास्थ्य विपणन और संचार, मानव संसाधन प्रबंधन, सूचना प्रणाली प्रबंधन के अध्ययन एवं अन्य क्षेत्रों में व्यावहारिक अनुभव की भी आवश्यकता होती है।, यह डिग्री प्रोग्राम स्वास्थ्य विषय के स्नातको को प्रबंधन के मुद्दों की विस्तृत एवं गहन समझ और उन्हें वरिष्ठ प्रबंधन भूमिकाओं के लिए तैयार करने के लिए डिज़ाइन किया गया है।, यह अमेरिकी, यूरोपीय, ऑस्ट्रेलियाई, भारतीय और श्रीलंकाई (पोस्ट ग्रेजुएट इंस्टीट्यूट ऑफ मेडिसिन- कोलंबो विश्वविद्यालय) विश्वविद्यालयों के द्वारा प्रदान किया जाता हैं।, यह डिग्री प्रोग्राम पारंपरिक रूप से स्वास्थ्य प्रशासन के स्थानीय, राज्य और संघीय स्तर पर एवं साथ ही गैर-लाभकारी क्षेत्र पर केंद्रित होता है।, \n",
            "\n",
            "एमएचए कार्यक्रमों का उद्देश्य छात्रों को स्वास्थ्य सेवाओं और सिस्टम क्षेत्रों में वरिष्ठ प्रबंधकीय और नियोजन कार्य के लिए जरूरी ज्ञान प्रदान करना है।]\n"
          ],
          "name": "stdout"
        },
        {
          "output_type": "display_data",
          "data": {
            "text/markdown": "###Number of tokens after performing word tokenisation: 4356434",
            "text/plain": [
              "<IPython.core.display.Markdown object>"
            ]
          },
          "metadata": {
            "tags": []
          }
        },
        {
          "output_type": "display_data",
          "data": {
            "text/markdown": "###Some examples of tokens are:",
            "text/plain": [
              "<IPython.core.display.Markdown object>"
            ]
          },
          "metadata": {
            "tags": []
          }
        },
        {
          "output_type": "stream",
          "text": [
            "मास्टर,ऑफ़,हेल्थ,एडमिनिस्ट्रेशन,या,मास्टर,ऑफ,हेल्थकेयर,एडमिनिस्ट्रेशन,(\n"
          ],
          "name": "stdout"
        }
      ]
    },
    {
      "cell_type": "markdown",
      "metadata": {
        "id": "XG4K1dlypswG"
      },
      "source": [
        "## Frequency Distributions and Zipf's Law"
      ]
    },
    {
      "cell_type": "code",
      "metadata": {
        "id": "epMr6QdjVz3n",
        "outputId": "e682683a-b274-42c2-ee57-9ee133811572",
        "colab": {
          "base_uri": "https://localhost:8080/",
          "height": 1000
        }
      },
      "source": [
        "####################################  Task 1.3.1 (2, 3, 4) ####################################\n",
        "# function to caculate n-grams and return them as a dictionary, with key as n-gram and value as its frequency in the corpus\n",
        "def ngrams(tokens, n):\n",
        "  output = {}\n",
        "  for i in range(len(tokens)-n+1):\n",
        "    g = ' '.join(tokens[i:i+n])\n",
        "    output.setdefault(g, 0)\n",
        "    output[g] += 1\n",
        "  return output\n",
        "\n",
        "# Using tokens from nltk for n-gram calculation for en_wiki.txt\n",
        "en_unigrams = ngrams(nltk_en_tokens, 1)\n",
        "en_bigrams = ngrams(nltk_en_tokens, 2)\n",
        "en_trigrams = ngrams(nltk_en_tokens, 3)\n",
        "\n",
        "# Using indic-nlp tokens for n-gram calculation for hi_wiki.txt\n",
        "hi_unigrams = ngrams(indicNLP_hi_tokens, 1)\n",
        "hi_bigrams = ngrams(indicNLP_hi_tokens, 2)\n",
        "hi_trigrams = ngrams(indicNLP_hi_tokens, 3)\n",
        "\n",
        "# Number of items in various n-grams\n",
        "display(Markdown(\"####Number of english unigrams: {}\".format(str(len(en_unigrams)))))\n",
        "display(Markdown(\"####Number of english bigrams: {}\".format(str(len(en_bigrams)))))\n",
        "display(Markdown(\"####Number of english trigrams: {}\".format(str(len(en_trigrams)))))\n",
        "display(Markdown(\"####Number of hindi unigrams: {}\".format(str(len(hi_unigrams)))))\n",
        "display(Markdown(\"####Number of hindi bigrams: {}\".format(str(len(hi_bigrams)))))\n",
        "display(Markdown(\"####Number of hindi trigrams: {}\".format(str(len(hi_trigrams)))))\n",
        "\n",
        "\n",
        "# Plotting only 100 n-grams in each category otherwise it will lead to no memory\n",
        "\n",
        "# Plotting unigram frequency distribution of english corpus\n",
        "display(Markdown(\"###Unigram frequency distribution of english corpus \"))\n",
        "sorted100_en_unigrams = sorted(en_unigrams.items(), key=lambda x: x[1], reverse=True)[:100]\n",
        "ids = [x for x in range(1, 101, 1)]\n",
        "y = [v for k, v in sorted(en_unigrams.items(), key=lambda x: x[1], reverse=True)[:100]]\n",
        "# x, y = zip(*sorted100_en_unigrams)\n",
        "plt.plot(ids, y)\n",
        "plt.xlabel(\"Unigrams\") \n",
        "plt.ylabel(\"Frequency\") \n",
        "plt.title(\"Frequency distribution of English unigrams\") \n",
        "plt.show()\n",
        "\n",
        "# Plotting unigram frequency distribution of hindi corpus \n",
        "display(Markdown(\"###Unigram frequency distribution of hindi corpus \"))\n",
        "sorted100_hi_unigrams = sorted(hi_unigrams.items(), key=lambda x: x[1], reverse=True)[:100]\n",
        "# x, y = zip(*sorted100_hi_unigrams)\n",
        "y = [v for k, v in sorted(hi_unigrams.items(), key=lambda x: x[1], reverse=True)[:100]]\n",
        "plt.plot(ids, y)\n",
        "plt.xlabel(\"Unigrams\") \n",
        "plt.ylabel(\"Frequency\") \n",
        "plt.title(\"Frequency distribution of Hindi unigrams\") \n",
        "plt.show()\n",
        "\n",
        "# ########################################################################################\n",
        "\n",
        "# Plotting bigram frequency distribution of english corpus\n",
        "display(Markdown(\"###Bigram frequency distribution of english corpus \"))\n",
        "sorted100_en_bigrams = sorted(en_bigrams.items(), key=lambda x: x[1], reverse=True)[:100]\n",
        "# x, y = zip(*sorted100_en_bigrams)\n",
        "y = [v for k, v in sorted(en_bigrams.items(), key=lambda x: x[1], reverse=True)[:100]]\n",
        "plt.plot(ids, y)\n",
        "plt.xlabel(\"Bigrams\") \n",
        "plt.ylabel(\"Frequency\") \n",
        "plt.title(\"Frequency distribution of English bigrams\") \n",
        "plt.show()\n",
        "\n",
        "# Plotting bigram frequency distribution of hindi corpus \n",
        "display(Markdown(\"###Bigram frequency distribution of hindi corpus \"))\n",
        "sorted100_hi_bigrams = sorted(hi_bigrams.items(), key=lambda x: x[1], reverse=True)[:100]\n",
        "# x, y = zip(*sorted100_hi_bigrams)\n",
        "y = [v for k, v in sorted(hi_bigrams.items(), key=lambda x: x[1], reverse=True)[:100]]\n",
        "plt.plot(ids, y)\n",
        "plt.xlabel(\"Bigrams\") \n",
        "plt.ylabel(\"Frequency\") \n",
        "plt.title(\"Frequency distribution of Hindi bigrams\") \n",
        "plt.show()\n",
        "\n",
        "# ########################################################################################\n",
        "\n",
        "# Plotting unigram frequency distribution of english corpus\n",
        "display(Markdown(\"###Trigram frequency distribution of english corpus \"))\n",
        "sorted100_en_trigrams = sorted(en_trigrams.items(), key=lambda x: x[1], reverse=True)[:100]\n",
        "# x, y = zip(*sorted100_en_trigrams)\n",
        "y = [v for k, v in sorted(en_trigrams.items(), key=lambda x: x[1], reverse=True)[:100]]\n",
        "plt.plot(ids, y)\n",
        "plt.xlabel(\"Trigrams\") \n",
        "plt.ylabel(\"Frequency\") \n",
        "plt.title(\"Frequency distribution of English trigrams\") \n",
        "plt.show()\n",
        "\n",
        "# Plotting unigram frequency distribution of hindi corpus \n",
        "display(Markdown(\"###Trigram frequency distribution of hindi corpus \"))\n",
        "sorted100_hi_trigrams = sorted(hi_trigrams.items(), key=lambda x: x[1], reverse=True)[:100]\n",
        "# x, y = zip(*sorted100_hi_trigrams)\n",
        "y = [v for k, v in sorted(hi_trigrams.items(), key=lambda x: x[1], reverse=True)[:100]]\n",
        "plt.plot(ids, y)\n",
        "plt.xlabel(\"Trigrams\") \n",
        "plt.ylabel(\"Frequency\") \n",
        "plt.title(\"Frequency distribution of Hindi trigrams\") \n",
        "plt.show()\n",
        "\n",
        "\n",
        "####################################  Zipf's Law (English)####################################\n",
        "x = [np.log(x) for x in range(1, len(en_unigrams)+1)]\n",
        "y = [np.log(v)for k, v in  sorted(en_unigrams.items(), key=lambda x: x[1], reverse=True)]\n",
        "x = np.array(x)\n",
        "y = np.array(y)\n",
        "slope, intercept = np.polyfit(x, y, 1)\n",
        "display(Markdown(\"###Zipf's Law(English Corpus)\"))\n",
        "display(Markdown(\"####Approximate straight line has slope = {} and y-intercept = {}\".format(slope, intercept)))\n",
        "plt.xlabel(\"log(rank)\")\n",
        "plt.ylabel(\"log(frequency)\")\n",
        "plt.title(\"Zipf's law for English corpus\")\n",
        "blue_patch = mpatches.Patch(color='blue', label='Actual fit')\n",
        "orange_patch = mpatches.Patch(color='orange', label='Straight line polynomial fit')\n",
        "plt.legend(handles=[blue_patch, orange_patch])\n",
        "plt.plot(x, y)\n",
        "plt.plot(x, slope*x+intercept)\n",
        "plt.show()\n",
        "\n",
        "####################################  Zipf's Law (Hindi)####################################\n",
        "x = [np.log(x) for x in range(1, len(hi_unigrams)+1)]\n",
        "y = [np.log(v)for k, v in  sorted(hi_unigrams.items(), key=lambda x: x[1], reverse=True)]\n",
        "x = np.array(x)\n",
        "y = np.array(y)\n",
        "slope, intercept = np.polyfit(x, y, 1)\n",
        "display(Markdown(\"###Zipf's Law(Hindi Corpus)\"))\n",
        "display(Markdown(\"####Approximate straight line has slope = {} and y-intercept = {}\".format(slope, intercept)))\n",
        "plt.xlabel(\"log(rank)\")\n",
        "plt.ylabel(\"log(frequency)\")\n",
        "plt.title(\"Zipf's law for Hindi corpus\")\n",
        "blue_patch = mpatches.Patch(color='blue', label='Actual fit')\n",
        "orange_patch = mpatches.Patch(color='orange', label='Straight line polynomial fit')\n",
        "plt.legend(handles=[blue_patch, orange_patch])\n",
        "plt.plot(x, y)\n",
        "plt.plot(x, slope*x+intercept)\n",
        "plt.show()\n",
        "\n",
        "\n",
        "del sorted100_en_unigrams, sorted100_en_bigrams, sorted100_en_trigrams, sorted100_hi_unigrams, sorted100_hi_bigrams, sorted100_hi_trigrams"
      ],
      "execution_count": null,
      "outputs": [
        {
          "output_type": "display_data",
          "data": {
            "text/markdown": "####Number of english unigrams: 252518",
            "text/plain": [
              "<IPython.core.display.Markdown object>"
            ]
          },
          "metadata": {
            "tags": []
          }
        },
        {
          "output_type": "display_data",
          "data": {
            "text/markdown": "####Number of english bigrams: 2291666",
            "text/plain": [
              "<IPython.core.display.Markdown object>"
            ]
          },
          "metadata": {
            "tags": []
          }
        },
        {
          "output_type": "display_data",
          "data": {
            "text/markdown": "####Number of english trigrams: 5490720",
            "text/plain": [
              "<IPython.core.display.Markdown object>"
            ]
          },
          "metadata": {
            "tags": []
          }
        },
        {
          "output_type": "display_data",
          "data": {
            "text/markdown": "####Number of hindi unigrams: 197753",
            "text/plain": [
              "<IPython.core.display.Markdown object>"
            ]
          },
          "metadata": {
            "tags": []
          }
        },
        {
          "output_type": "display_data",
          "data": {
            "text/markdown": "####Number of hindi bigrams: 1386422",
            "text/plain": [
              "<IPython.core.display.Markdown object>"
            ]
          },
          "metadata": {
            "tags": []
          }
        },
        {
          "output_type": "display_data",
          "data": {
            "text/markdown": "####Number of hindi trigrams: 2949111",
            "text/plain": [
              "<IPython.core.display.Markdown object>"
            ]
          },
          "metadata": {
            "tags": []
          }
        },
        {
          "output_type": "display_data",
          "data": {
            "text/markdown": "###Unigram frequency distribution of english corpus ",
            "text/plain": [
              "<IPython.core.display.Markdown object>"
            ]
          },
          "metadata": {
            "tags": []
          }
        },
        {
          "output_type": "display_data",
          "data": {
            "image/png": "[encoded data removed]",
            "text/plain": [
              "<Figure size 432x288 with 1 Axes>"
            ]
          },
          "metadata": {
            "tags": [],
            "needs_background": "light"
          }
        },
        {
          "output_type": "display_data",
          "data": {
            "text/markdown": "###Unigram frequency distribution of hindi corpus ",
            "text/plain": [
              "<IPython.core.display.Markdown object>"
            ]
          },
          "metadata": {
            "tags": []
          }
        },
        {
          "output_type": "display_data",
          "data": {
            "image/png": "[encoded data removed]",
            "text/plain": [
              "<Figure size 432x288 with 1 Axes>"
            ]
          },
          "metadata": {
            "tags": [],
            "needs_background": "light"
          }
        },
        {
          "output_type": "display_data",
          "data": {
            "text/markdown": "###Bigram frequency distribution of english corpus ",
            "text/plain": [
              "<IPython.core.display.Markdown object>"
            ]
          },
          "metadata": {
            "tags": []
          }
        },
        {
          "output_type": "display_data",
          "data": {
            "image/png": "[encoded data removed]",
            "text/plain": [
              "<Figure size 432x288 with 1 Axes>"
            ]
          },
          "metadata": {
            "tags": [],
            "needs_background": "light"
          }
        },
        {
          "output_type": "display_data",
          "data": {
            "text/markdown": "###Bigram frequency distribution of hindi corpus ",
            "text/plain": [
              "<IPython.core.display.Markdown object>"
            ]
          },
          "metadata": {
            "tags": []
          }
        },
        {
          "output_type": "display_data",
          "data": {
            "image/png": "[encoded data removed]",
            "text/plain": [
              "<Figure size 432x288 with 1 Axes>"
            ]
          },
          "metadata": {
            "tags": [],
            "needs_background": "light"
          }
        },
        {
          "output_type": "display_data",
          "data": {
            "text/markdown": "###Trigram frequency distribution of english corpus ",
            "text/plain": [
              "<IPython.core.display.Markdown object>"
            ]
          },
          "metadata": {
            "tags": []
          }
        },
        {
          "output_type": "display_data",
          "data": {
            "image/png": "[encoded data removed]",
            "text/plain": [
              "<Figure size 432x288 with 1 Axes>"
            ]
          },
          "metadata": {
            "tags": [],
            "needs_background": "light"
          }
        },
        {
          "output_type": "display_data",
          "data": {
            "text/markdown": "###Trigram frequency distribution of hindi corpus ",
            "text/plain": [
              "<IPython.core.display.Markdown object>"
            ]
          },
          "metadata": {
            "tags": []
          }
        },
        {
          "output_type": "display_data",
          "data": {
            "image/png": "[encoded data removed]",
            "text/plain": [
              "<Figure size 432x288 with 1 Axes>"
            ]
          },
          "metadata": {
            "tags": [],
            "needs_background": "light"
          }
        },
        {
          "output_type": "display_data",
          "data": {
            "text/markdown": "###Zipf's Law(English Corpus)",
            "text/plain": [
              "<IPython.core.display.Markdown object>"
            ]
          },
          "metadata": {
            "tags": []
          }
        },
        {
          "output_type": "display_data",
          "data": {
            "text/markdown": "####Approximate straight line has slope = -1.3632912841002662 and y-intercept = 16.52330873933697",
            "text/plain": [
              "<IPython.core.display.Markdown object>"
            ]
          },
          "metadata": {
            "tags": []
          }
        },
        {
          "output_type": "display_data",
          "data": {
            "image/png": "[encoded data removed]",
            "text/plain": [
              "<Figure size 432x288 with 1 Axes>"
            ]
          },
          "metadata": {
            "tags": [],
            "needs_background": "light"
          }
        },
        {
          "output_type": "display_data",
          "data": {
            "text/markdown": "###Zipf's Law(Hindi Corpus)",
            "text/plain": [
              "<IPython.core.display.Markdown object>"
            ]
          },
          "metadata": {
            "tags": []
          }
        },
        {
          "output_type": "display_data",
          "data": {
            "text/markdown": "####Approximate straight line has slope = -1.1737064184389572 and y-intercept = 13.846670757909154",
            "text/plain": [
              "<IPython.core.display.Markdown object>"
            ]
          },
          "metadata": {
            "tags": []
          }
        },
        {
          "output_type": "display_data",
          "data": {
            "image/png": "[encoded data removed]",
            "text/plain": [
              "<Figure size 432x288 with 1 Axes>"
            ]
          },
          "metadata": {
            "tags": [],
            "needs_background": "light"
          }
        }
      ]
    },
    {
      "cell_type": "markdown",
      "metadata": {
        "id": "BkS7YvmenkaI"
      },
      "source": [
        "# Task 1.3.2\n"
      ]
    },
    {
      "cell_type": "code",
      "metadata": {
        "id": "fS2Fr1rfP3do",
        "outputId": "3e47e853-fa2e-4bb6-e679-77ee8218dce6",
        "colab": {
          "base_uri": "https://localhost:8080/",
          "height": 590
        }
      },
      "source": [
        "####################################  Task 1.3.2 (1, 2, 3) ####################################\n",
        "# first sort the dictionary by values in descending order then do the required task with given %coverage \n",
        "#TODO: at the moment calculating coverage with wrt respective n-gram, might have to calculate using total words\n",
        "en_total_unigrams = len(nltk_en_tokens)\n",
        "en_total_bigrams = len(nltk_en_tokens)-1\n",
        "en_total_trigrams = len(nltk_en_tokens)-2\n",
        "\n",
        "hi_total_unigrams = len(indicNLP_hi_tokens)\n",
        "hi_total_bigrams = len(indicNLP_hi_tokens)-1\n",
        "hi_total_trigrams = len(indicNLP_hi_tokens)-2\n",
        "\n",
        "def most_frequent_ngrams_coverage(coverage, total_n_grams, n_gram_dict):\n",
        "  sorted_n_grams = sorted(n_gram_dict.items(), key=lambda x: x[1], reverse=True)\n",
        "  count=0\n",
        "  total_sum=0\n",
        "  for k, v in sorted_n_grams:\n",
        "    total_sum+=v\n",
        "    count+=1\n",
        "    if total_sum>=coverage*total_n_grams:\n",
        "      return count\n",
        "      \n",
        "display(Markdown(\"###Before performing stemming on English Corpus:\"))\n",
        "display(Markdown(\"####Number of (most frequent) uni-grams required for 90% coverage of the selected english corpora: {}\".format(str(most_frequent_ngrams_coverage(0.9, en_total_unigrams, en_unigrams)))))\n",
        "display(Markdown(\"####Number of (most frequent) bi-grams required for 80% coverage of the selected english corpora: {}\".format(str(most_frequent_ngrams_coverage(0.8, en_total_bigrams, en_bigrams)))))\n",
        "display(Markdown(\"####Number of (most frequent) tri-grams required for 70% coverage of the selected english corpora: {}\".format(str(most_frequent_ngrams_coverage(0.7, en_total_trigrams, en_trigrams)))))\n",
        "display(Markdown(\"###Before performing stemming on Hindi Corpus:\"))\n",
        "display(Markdown(\"####Number of (most frequent) uni-grams required for 90% coverage of the selected hindi corpora: {}\".format(str(most_frequent_ngrams_coverage(0.9, hi_total_unigrams, hi_unigrams)))))\n",
        "display(Markdown(\"####Number of (most frequent) bi-grams required for 80% coverage of the selected hindi corpora: {}\".format(str(most_frequent_ngrams_coverage(0.8, hi_total_bigrams, hi_bigrams)))))\n",
        "display(Markdown(\"####Number of (most frequent) tri-grams required for 70% coverage of the selected hindi corpora: {}\".format(str(most_frequent_ngrams_coverage(0.7, hi_total_trigrams, hi_trigrams)))))\n",
        "\n",
        "####################################  Task 1.3.2 (4) ####################################\n",
        "display(Markdown(\"###After performing stemming on English Corpus:\"))\n",
        "\n",
        "# Performing stemming on each token in English corpus and calculating n-grams and again\n",
        "\n",
        "ps = PorterStemmer() \n",
        "stemmed_en_tokens = []\n",
        "for w in nltk_en_tokens:\n",
        "  stemmed_en_tokens.append(ps.stem(w))\n",
        "\n",
        "# The n-grams dictionaries \n",
        "stemmed_en_unigrams = ngrams(stemmed_en_tokens, 1)\n",
        "stemmed_en_bigrams = ngrams(stemmed_en_tokens, 2)\n",
        "stemmed_en_trigrams = ngrams(stemmed_en_tokens, 3)\n",
        "\n",
        "# Total possible n-grams after stemming\n",
        "stemmed_total_en_unigrams = len(stemmed_en_tokens)\n",
        "stemmed_total_en_bigrams = len(stemmed_en_tokens)-1\n",
        "stemmed_total_en_trigrams = len(stemmed_en_tokens)-2\n",
        " \n",
        "#Calculating the coverage\n",
        "display(Markdown(\"####Number of (most frequent) uni-grams required for 90% coverage of the selected english corpora(stemmed): {}\".format(str(most_frequent_ngrams_coverage(0.9, stemmed_total_en_unigrams, stemmed_en_unigrams)))))\n",
        "display(Markdown(\"####Number of (most frequent) bi-grams required for 80% coverage of the selected english corpora(stemmed): {}\".format(str(most_frequent_ngrams_coverage(0.8, stemmed_total_en_bigrams, stemmed_en_bigrams)))))\n",
        "display(Markdown(\"####Number of (most frequent) tri-grams required for 70% coverage of the selected english corpora(stemmed): {}\".format(str(most_frequent_ngrams_coverage(0.7, stemmed_total_en_trigrams, stemmed_en_trigrams)))))\n",
        "\n",
        "\n",
        "display(Markdown(\"###After performing stemming on Hindi Corpus:\"))\n",
        "\n",
        "# Performing stemming on each token in hindi corpus\n",
        "hi_suffixes = {\n",
        "    1: [\"ो\", \"े\", \"ू\", \"ु\", \"ी\", \"ि\", \"ा\"],\n",
        "    2: [\"कर\", \"ाओ\", \"िए\", \"ाई\", \"ाए\", \"ने\", \"नी\", \"ना\", \"ते\", \"ीं\", \"ती\", \"ता\", \"ाँ\", \"ां\", \"ों\", \"ें\"],\n",
        "    3: [\"ाकर\", \"ाइए\", \"ाईं\", \"ाया\", \"ेगी\", \"ेगा\", \"ोगी\", \"ोगे\", \"ाने\", \"ाना\", \"ाते\", \"ाती\", \"ाता\", \"तीं\", \"ाओं\", \"ाएं\", \"ुओं\", \"ुएं\", \"ुआं\"],\n",
        "    4: [\"ाएगी\", \"ाएगा\", \"ाओगी\", \"ाओगे\", \"एंगी\", \"ेंगी\", \"एंगे\", \"ेंगे\", \"ूंगी\", \"ूंगा\", \"ातीं\", \"नाओं\", \"नाएं\", \"ताओं\", \"ताएं\", \"ियाँ\", \"ियों\", \"ियां\"],\n",
        "    5: [\"ाएंगी\", \"ाएंगे\", \"ाऊंगी\", \"ाऊंगा\", \"ाइयाँ\", \"ाइयों\", \"ाइयां\"],\n",
        "}\n",
        "\n",
        "def hi_stemmer(word):\n",
        "    for L in range(5, 0, -1):\n",
        "        if len(word) > L + 1:\n",
        "            for suf in hi_suffixes[L]:\n",
        "                if word.endswith(suf):\n",
        "                    return word[:-L]\n",
        "    return word\n",
        "\n",
        "stemmed_hi_tokens = [hi_stemmer(w) for w in indicNLP_hi_tokens]\n",
        "\n",
        "# The n-grams dictionaries \n",
        "stemmed_hi_unigrams = ngrams(stemmed_hi_tokens, 1)\n",
        "stemmed_hi_bigrams = ngrams(stemmed_hi_tokens, 2)\n",
        "stemmed_hi_trigrams = ngrams(stemmed_hi_tokens, 3)\n",
        "\n",
        "# Total possible n-grams after stemming\n",
        "stemmed_total_hi_unigrams = len(stemmed_hi_tokens)\n",
        "stemmed_total_hi_bigrams = len(stemmed_hi_tokens)-1\n",
        "stemmed_total_hi_trigrams = len(stemmed_hi_tokens)-2\n",
        "display(Markdown(\"####Number of (most frequent) uni-grams required for 90% coverage of the selected hindi corpora(stemmed): {}\".format(str(most_frequent_ngrams_coverage(0.9, stemmed_total_hi_unigrams, stemmed_hi_unigrams)))))\n",
        "display(Markdown(\"####Number of (most frequent) bi-grams required for 80% coverage of the selected hindi corpora(stemmed): {}\".format(str(most_frequent_ngrams_coverage(0.8, stemmed_total_hi_bigrams, stemmed_hi_bigrams)))))\n",
        "display(Markdown(\"####Number of (most frequent) tri-grams required for 70% coverage of the selected hindi corpora(stemmed): {}\".format(str(most_frequent_ngrams_coverage(0.7, stemmed_total_hi_trigrams, stemmed_hi_trigrams)))))\n",
        "\n",
        "####################################  Task 1.3.2 (5, 6) in Report ####################################\n",
        "\n",
        "\n",
        "del stemmed_en_unigrams, stemmed_en_bigrams, stemmed_en_trigrams, stemmed_hi_unigrams, stemmed_hi_bigrams, stemmed_hi_trigrams"
      ],
      "execution_count": null,
      "outputs": [
        {
          "output_type": "display_data",
          "data": {
            "text/markdown": "###Before performing stemming on English Corpus:",
            "text/plain": [
              "<IPython.core.display.Markdown object>"
            ]
          },
          "metadata": {
            "tags": []
          }
        },
        {
          "output_type": "display_data",
          "data": {
            "text/markdown": "####Number of (most frequent) uni-grams required for 90% coverage of the selected english corpora: 12339",
            "text/plain": [
              "<IPython.core.display.Markdown object>"
            ]
          },
          "metadata": {
            "tags": []
          }
        },
        {
          "output_type": "display_data",
          "data": {
            "text/markdown": "####Number of (most frequent) bi-grams required for 80% coverage of the selected english corpora: 490199",
            "text/plain": [
              "<IPython.core.display.Markdown object>"
            ]
          },
          "metadata": {
            "tags": []
          }
        },
        {
          "output_type": "display_data",
          "data": {
            "text/markdown": "####Number of (most frequent) tri-grams required for 70% coverage of the selected english corpora: 2509699",
            "text/plain": [
              "<IPython.core.display.Markdown object>"
            ]
          },
          "metadata": {
            "tags": []
          }
        },
        {
          "output_type": "display_data",
          "data": {
            "text/markdown": "###Before performing stemming on Hindi Corpus:",
            "text/plain": [
              "<IPython.core.display.Markdown object>"
            ]
          },
          "metadata": {
            "tags": []
          }
        },
        {
          "output_type": "display_data",
          "data": {
            "text/markdown": "####Number of (most frequent) uni-grams required for 90% coverage of the selected hindi corpora: 12641",
            "text/plain": [
              "<IPython.core.display.Markdown object>"
            ]
          },
          "metadata": {
            "tags": []
          }
        },
        {
          "output_type": "display_data",
          "data": {
            "text/markdown": "####Number of (most frequent) bi-grams required for 80% coverage of the selected hindi corpora: 523386",
            "text/plain": [
              "<IPython.core.display.Markdown object>"
            ]
          },
          "metadata": {
            "tags": []
          }
        },
        {
          "output_type": "display_data",
          "data": {
            "text/markdown": "####Number of (most frequent) tri-grams required for 70% coverage of the selected hindi corpora: 1654558",
            "text/plain": [
              "<IPython.core.display.Markdown object>"
            ]
          },
          "metadata": {
            "tags": []
          }
        },
        {
          "output_type": "display_data",
          "data": {
            "text/markdown": "###After performing stemming on English Corpus:",
            "text/plain": [
              "<IPython.core.display.Markdown object>"
            ]
          },
          "metadata": {
            "tags": []
          }
        },
        {
          "output_type": "display_data",
          "data": {
            "text/markdown": "####Number of (most frequent) uni-grams required for 90% coverage of the selected english corpora(stemmed): 5301",
            "text/plain": [
              "<IPython.core.display.Markdown object>"
            ]
          },
          "metadata": {
            "tags": []
          }
        },
        {
          "output_type": "display_data",
          "data": {
            "text/markdown": "####Number of (most frequent) bi-grams required for 80% coverage of the selected english corpora(stemmed): 300497",
            "text/plain": [
              "<IPython.core.display.Markdown object>"
            ]
          },
          "metadata": {
            "tags": []
          }
        },
        {
          "output_type": "display_data",
          "data": {
            "text/markdown": "####Number of (most frequent) tri-grams required for 70% coverage of the selected english corpora(stemmed): 2208333",
            "text/plain": [
              "<IPython.core.display.Markdown object>"
            ]
          },
          "metadata": {
            "tags": []
          }
        },
        {
          "output_type": "display_data",
          "data": {
            "text/markdown": "###After performing stemming on Hindi Corpus:",
            "text/plain": [
              "<IPython.core.display.Markdown object>"
            ]
          },
          "metadata": {
            "tags": []
          }
        },
        {
          "output_type": "display_data",
          "data": {
            "text/markdown": "####Number of (most frequent) uni-grams required for 90% coverage of the selected hindi corpora(stemmed): 7656",
            "text/plain": [
              "<IPython.core.display.Markdown object>"
            ]
          },
          "metadata": {
            "tags": []
          }
        },
        {
          "output_type": "display_data",
          "data": {
            "text/markdown": "####Number of (most frequent) bi-grams required for 80% coverage of the selected hindi corpora(stemmed): 371517",
            "text/plain": [
              "<IPython.core.display.Markdown object>"
            ]
          },
          "metadata": {
            "tags": []
          }
        },
        {
          "output_type": "display_data",
          "data": {
            "text/markdown": "####Number of (most frequent) tri-grams required for 70% coverage of the selected hindi corpora(stemmed): 1530240",
            "text/plain": [
              "<IPython.core.display.Markdown object>"
            ]
          },
          "metadata": {
            "tags": []
          }
        }
      ]
    },
    {
      "cell_type": "markdown",
      "metadata": {
        "id": "rkdRTtiUpMLy"
      },
      "source": [
        "# Task 1.3.3\n",
        "## Part 1 (English heuristics)"
      ]
    },
    {
      "cell_type": "code",
      "metadata": {
        "id": "GrDYKPXZLfg0",
        "outputId": "4f3d2fd0-7a56-4864-dc4a-0e0aee148c08",
        "colab": {
          "base_uri": "https://localhost:8080/",
          "height": 567
        }
      },
      "source": [
        "####################################  Task 1.3.3(1) (English) ####################################\n",
        "#Sentence segmetnation using heuristics\n",
        "\"\"\"\n",
        "    First remove all the new line characters ('\\n')\n",
        "    Sentence ends only with (\".\", \"!\" or \"?\")\n",
        "    If . is preceded by abbreviation then don't count it\n",
        "    Similarly if ! and ? is followed by lower case word don't count it.\n",
        "\"\"\"\n",
        "months = frozenset(\n",
        "\"\"\"\n",
        "Jän Jan en ene Ene feb febr Feb Mär Mar mzo Mzo Apr abr abl Abr may May jun Jun\n",
        "jul Jul ago agto Aug sep Sep sept Sept setbre set\n",
        "oct octbre Oct Okt nov novbre Nov dic dicbre Dic Dez Dec\n",
        "\"\"\".split()\n",
        ")\n",
        "\n",
        "abbreviations = frozenset(\n",
        "\"\"\"\n",
        "Abb adm Adm Abs afmo alt Alt Anl ap apdo approx Approx art Art atte atto Aufl ave Ave Az\n",
        "bmo Bmo brig Bd Brig bsp Bsp bspw bzgl bzw ca cap capt Capt cf cmdt Cmdt cnel Cnel Co col Col Corp\n",
        "de Dr dgl dt emp en es etc evtl excl exca Exca excmo Excmo exsmo Exsmo ff fig Fig figs Figs fr Fr\n",
        "gal gen Gen ggf gral Gral GmbH gob Gob Hd hno Hno hnos Hnos Inc incl inkl lic Lic lit ldo Ldo Ltd\n",
        "mag Mag max med Med min Mio mos Mr mr Mrd Mrs mrs Ms ms Mt mt MwSt nat Nat Nr nr ntra Ntra ntro Ntro\n",
        "pag phil phd Phd prof Prof rer Rer resp sci Sci Sr sr Sra sra Srta srta St st synth tab Tab tel Tel\n",
        "univ Univ Urt vda Vda vol Vol vs vta zB zit zzgl\n",
        "Mon lun Tue mar Wed mie mié Thu jue Fri vie Sat sab Sun dom\n",
        "\"\"\".split()\n",
        "    + list(months)\n",
        ")\n",
        "\n",
        "en_data_without_new_lines = en_data.replace('\\n+', ' ')\n",
        "count_sentences = 0\n",
        "en_sentences = []\n",
        "temp_sentence = []\n",
        "index=0\n",
        "for word in en_data_without_new_lines.split():\n",
        "    temp_sentence.append(word)\n",
        "    if word[-1:] == '.':\n",
        "        if word[:-1] not in list(abbreviations):\n",
        "            count_sentences+=1\n",
        "            en_sentences.append(' '.join(temp_sentence))\n",
        "            temp_sentence = []\n",
        "\n",
        "    if word[-1:] == '?' or word[-1:] == '!':\n",
        "        if en_data_without_new_lines[index+1][0].isupper():\n",
        "            count_sentences+=1\n",
        "            en_sentences.append(' '.join(temp_sentence))\n",
        "            temp_sentence = []\n",
        "\n",
        "    index+=1\n",
        "display(Markdown(\"#English corpora\"))\n",
        "display(Markdown(\"###Number of sentences in corpus: {}\".format(count_sentences)))\n",
        "display(Markdown(\"### Some of examples are:\"))\n",
        "print(en_sentences[:10])    \n",
        "\n",
        "# Word tokenisation using heuristics\n",
        "\"\"\"\n",
        "    Tokens have to be separated by space\n",
        "    if a token has a punctuation mark at the end:\n",
        "        If \".\" is present and the word is a abbreviation then it is 1 token\n",
        "        Else it is two tokens\n",
        "        If any other punctuation token then two tokens\n",
        "    Single/double approtrophes or hyphens in between words are single tokens\n",
        "\"\"\"\n",
        "\n",
        "count_tokens = 0\n",
        "en_tokens = []\n",
        "for word in en_data_without_new_lines.split():\n",
        "    if word[-1:] == '.':\n",
        "        if word[:-1]  not in list(abbreviations):\n",
        "            count_tokens+=2\n",
        "            en_tokens.append(word[:-1])\n",
        "            en_tokens.append(word[-1:])\n",
        "        else:\n",
        "            count_tokens+=1\n",
        "            en_tokens.append(word)\n",
        "    elif not word[-1:].isalpha():\n",
        "        count_tokens+=2\n",
        "        en_tokens.append(word[:-1])\n",
        "        en_tokens.append(word[-1:])\n",
        "    else:\n",
        "        count_tokens+=1\n",
        "        en_tokens.append(word)\n",
        "    \n",
        "display(Markdown(\"###Number of tokens in corpus: {}\".format(count_tokens)))\n",
        "display(Markdown(\"### Some of examples are:\"))\n",
        "print(en_tokens[:10])\n",
        "\n",
        "\n",
        "# Total n-ngrams using our heuristics\n",
        "en_total_unigrams_heuristics = len(en_tokens)\n",
        "en_total_bigrams_heuristics = len(en_tokens)-1\n",
        "en_total_trigrams_heuristics = len(en_tokens)-2\n",
        "\n",
        "# n-grams found from our tokens\n",
        "en_unigrams_heuristics = ngrams(en_tokens, 1)\n",
        "en_bigrams_heuristics = ngrams(en_tokens, 2)\n",
        "en_trigrams_heuristics = ngrams(en_tokens, 3)\n",
        "\n",
        "display(Markdown(\"###Before performing stemming on Corpus:\"))\n",
        "display(Markdown(\"####Number of (most frequent) uni-grams required for 90% coverage of the selected corpora: {}\".format(str(most_frequent_ngrams_coverage(0.9, en_total_unigrams_heuristics, en_unigrams_heuristics)))))\n",
        "display(Markdown(\"####Number of (most frequent) bi-grams required for 80% coverage of the selected corpora: {}\".format(str(most_frequent_ngrams_coverage(0.8, en_total_bigrams_heuristics, en_bigrams_heuristics)))))\n",
        "display(Markdown(\"####Number of (most frequent) tri-grams required for 70% coverage of the selected corpora: {}\".format(str(most_frequent_ngrams_coverage(0.7, en_total_trigrams_heuristics, en_trigrams_heuristics)))))\n",
        "\n",
        "# Performing stemming on each token in English corpus and calculating n-grams and again\n",
        "\n",
        "stemmed_en_tokens_heuristic = []\n",
        "for w in en_tokens:\n",
        "  stemmed_en_tokens_heuristic.append(ps.stem(w))\n",
        "\n",
        "# The n-grams dictionaries \n",
        "stemmed_en_unigrams_heuristic = ngrams(stemmed_en_tokens_heuristic, 1)\n",
        "stemmed_en_bigrams_heuristic = ngrams(stemmed_en_tokens_heuristic, 2)\n",
        "stemmed_en_trigrams_heuristic = ngrams(stemmed_en_tokens_heuristic, 3)\n",
        "\n",
        "# Total possible n-grams after stemming\n",
        "stemmed_total_en_unigrams_heuristic = len(stemmed_en_tokens_heuristic)\n",
        "stemmed_total_en_bigrams_heuristic = len(stemmed_en_tokens_heuristic)-1\n",
        "stemmed_total_en_trigrams_heuristic = len(stemmed_en_tokens_heuristic)-2\n",
        " \n",
        "#Calculating the coverage\n",
        "display(Markdown(\"###After performing stemming on Corpus:\"))\n",
        "display(Markdown(\"####Number of (most frequent) uni-grams required for 90% coverage of the selected corpora(stemmed): {}\".format(str(most_frequent_ngrams_coverage(0.9, stemmed_total_en_unigrams_heuristic, stemmed_en_unigrams_heuristic)))))\n",
        "display(Markdown(\"####Number of (most frequent) bi-grams required for 80% coverage of the selected corpora(stemmed): {}\".format(str(most_frequent_ngrams_coverage(0.8, stemmed_total_en_bigrams_heuristic, stemmed_en_bigrams_heuristic)))))\n",
        "display(Markdown(\"####Number of (most frequent) tri-grams required for 70% coverage of the selected corpora(stemmed): {}\".format(str(most_frequent_ngrams_coverage(0.7, stemmed_total_en_trigrams_heuristic, stemmed_en_trigrams_heuristic)))))\n",
        "\n",
        "\n",
        "\n",
        "del en_sentences, en_tokens, en_unigrams_heuristics, en_bigrams_heuristics, en_trigrams_heuristics, stemmed_en_unigrams_heuristic, stemmed_en_bigrams_heuristic, stemmed_en_trigrams_heuristic"
      ],
      "execution_count": null,
      "outputs": [
        {
          "output_type": "display_data",
          "data": {
            "text/markdown": "#English corpora",
            "text/plain": [
              "<IPython.core.display.Markdown object>"
            ]
          },
          "metadata": {
            "tags": []
          }
        },
        {
          "output_type": "display_data",
          "data": {
            "text/markdown": "###Number of sentences in corpus: 397020",
            "text/plain": [
              "<IPython.core.display.Markdown object>"
            ]
          },
          "metadata": {
            "tags": []
          }
        },
        {
          "output_type": "display_data",
          "data": {
            "text/markdown": "### Some of examples are:",
            "text/plain": [
              "<IPython.core.display.Markdown object>"
            ]
          },
          "metadata": {
            "tags": []
          }
        },
        {
          "output_type": "stream",
          "text": [
            "['The word \"atom\" was coined by ancient Greek philosophers.', 'However, these ideas were founded in philosophical and theological reasoning rather than evidence and experimentation.', 'As a result, their views on what atoms look like and how they behave were incorrect.', 'They also could not convince everybody, so atomism was but one of a number of competing theories on the nature of matter.', 'It was not until the 19th century that the idea was embraced and refined by scientists, when the blossoming science of chemistry produced discoveries that only the concept of atoms could explain.', 'In the early 1800s, John Dalton used the concept of atoms to explain why elements always react in ratios of small whole numbers (the law of multiple proportions).', 'For instance, there are two types of tin oxide: one is 88.1% tin and 11.9% oxygen and the other is 78.7% tin and 21.3% oxygen (tin(II) oxide and tin dioxide respectively).', 'This means that 100g of tin will combine either with 13.5g or 27g of oxygen.', '13.5 and 27 form a ratio of 1:2, a ratio of small whole numbers.', 'This common pattern in chemistry suggested to Dalton that elements react in whole number multiples of discrete unitsâ\\x80\\x94in other words, atoms.']\n"
          ],
          "name": "stdout"
        },
        {
          "output_type": "display_data",
          "data": {
            "text/markdown": "###Number of tokens in corpus: 9802615",
            "text/plain": [
              "<IPython.core.display.Markdown object>"
            ]
          },
          "metadata": {
            "tags": []
          }
        },
        {
          "output_type": "display_data",
          "data": {
            "text/markdown": "### Some of examples are:",
            "text/plain": [
              "<IPython.core.display.Markdown object>"
            ]
          },
          "metadata": {
            "tags": []
          }
        },
        {
          "output_type": "stream",
          "text": [
            "['The', 'word', '\"atom', '\"', 'was', 'coined', 'by', 'ancient', 'Greek', 'philosophers']\n"
          ],
          "name": "stdout"
        },
        {
          "output_type": "display_data",
          "data": {
            "text/markdown": "###Before performing stemming on Corpus:",
            "text/plain": [
              "<IPython.core.display.Markdown object>"
            ]
          },
          "metadata": {
            "tags": []
          }
        },
        {
          "output_type": "display_data",
          "data": {
            "text/markdown": "####Number of (most frequent) uni-grams required for 90% coverage of the selected corpora: 15060",
            "text/plain": [
              "<IPython.core.display.Markdown object>"
            ]
          },
          "metadata": {
            "tags": []
          }
        },
        {
          "output_type": "display_data",
          "data": {
            "text/markdown": "####Number of (most frequent) bi-grams required for 80% coverage of the selected corpora: 550650",
            "text/plain": [
              "<IPython.core.display.Markdown object>"
            ]
          },
          "metadata": {
            "tags": []
          }
        },
        {
          "output_type": "display_data",
          "data": {
            "text/markdown": "####Number of (most frequent) tri-grams required for 70% coverage of the selected corpora: 2557858",
            "text/plain": [
              "<IPython.core.display.Markdown object>"
            ]
          },
          "metadata": {
            "tags": []
          }
        },
        {
          "output_type": "display_data",
          "data": {
            "text/markdown": "###After performing stemming on Corpus:",
            "text/plain": [
              "<IPython.core.display.Markdown object>"
            ]
          },
          "metadata": {
            "tags": []
          }
        },
        {
          "output_type": "display_data",
          "data": {
            "text/markdown": "####Number of (most frequent) uni-grams required for 90% coverage of the selected corpora(stemmed): 6619",
            "text/plain": [
              "<IPython.core.display.Markdown object>"
            ]
          },
          "metadata": {
            "tags": []
          }
        },
        {
          "output_type": "display_data",
          "data": {
            "text/markdown": "####Number of (most frequent) bi-grams required for 80% coverage of the selected corpora(stemmed): 345965",
            "text/plain": [
              "<IPython.core.display.Markdown object>"
            ]
          },
          "metadata": {
            "tags": []
          }
        },
        {
          "output_type": "display_data",
          "data": {
            "text/markdown": "####Number of (most frequent) tri-grams required for 70% coverage of the selected corpora(stemmed): 2282512",
            "text/plain": [
              "<IPython.core.display.Markdown object>"
            ]
          },
          "metadata": {
            "tags": []
          }
        }
      ]
    },
    {
      "cell_type": "markdown",
      "metadata": {
        "id": "fk1zsyMhqEgN"
      },
      "source": [
        "## Part 1 (Hindi heuristics)"
      ]
    },
    {
      "cell_type": "code",
      "metadata": {
        "id": "LRZCUUIeYCaz",
        "outputId": "0028942d-9b3f-4f77-e1d4-87d8f4a42d26",
        "colab": {
          "base_uri": "https://localhost:8080/",
          "height": 567
        }
      },
      "source": [
        "####################################  Task 1.3.3(1) (Hindi) ####################################\n",
        "# Sentence segmentation\n",
        "\"\"\"\n",
        "    For hindi since there is no concept of lower and upper case so whenever a sentence ends with \"|\" of \"?\" or \"!\" \n",
        "    it is assumed to be terminated\n",
        "\"\"\"\n",
        "hi_data_without_new_lines = hi_data.replace('\\n+', ' ')\n",
        "count_sentences = 0\n",
        "hi_sentences = []\n",
        "temp_sentence = []\n",
        "index=0\n",
        "for word in hi_data_without_new_lines.split():\n",
        "    temp_sentence.append(word)\n",
        "    if word[-1:] == '।':\n",
        "        count_sentences+=1\n",
        "        hi_sentences.append(' '.join(temp_sentence))\n",
        "        temp_sentence = []\n",
        "\n",
        "    elif word[-1:] == '?' or word[-1:] == '!':\n",
        "        count_sentences+=1\n",
        "        hi_sentences.append(' '.join(temp_sentence))\n",
        "        temp_sentence = []  \n",
        "\n",
        "    index+=1\n",
        "display(Markdown(\"#Hindi corpora\"))\n",
        "display(Markdown(\"###Number of sentences in corpus: {}\".format(count_sentences)))\n",
        "display(Markdown(\"### Some of examples are:\"))\n",
        "print(hi_sentences[:10])    \n",
        "\n",
        "\n",
        "# Word tokenisation using heuristics\n",
        "\"\"\"\n",
        "    Tokens have to be separated by space\n",
        "    if a token has a punctuation mark at the end:\n",
        "        If \"|\" is present it is taken as 2\n",
        "        If any other punctuation token then two tokens\n",
        "    Single/double approtrophes or hyphens in between words are single tokens\n",
        "\"\"\"\n",
        "\n",
        "count_tokens = 0\n",
        "hi_tokens = []\n",
        "for word in hi_data_without_new_lines.split():\n",
        "    if word[-1:] == '।':\n",
        "        count_tokens+=2\n",
        "        hi_tokens.append(word[:-1])\n",
        "        hi_tokens.append(word[-1:])\n",
        "    elif not word[-1:].isalpha():\n",
        "        count_tokens+=2\n",
        "        hi_tokens.append(word[:-1])\n",
        "        hi_tokens.append(word[-1:])\n",
        "    else:\n",
        "        count_tokens+=1\n",
        "        hi_tokens.append(word)\n",
        "    \n",
        "display(Markdown(\"###Number of tokens in corpus: {}\".format(count_tokens)))\n",
        "display(Markdown(\"### Some of examples are:\"))\n",
        "print(hi_tokens[:10])\n",
        "\n",
        "\n",
        "# Total n-ngrams using our heuristics\n",
        "hi_total_unigrams_heuristics = len(hi_tokens)\n",
        "hi_total_bigrams_heuristics = len(hi_tokens)-1\n",
        "hi_total_trigrams_heuristics = len(hi_tokens)-2\n",
        "\n",
        "# n-grams found from our tokens\n",
        "hi_unigrams_heuristics = ngrams(hi_tokens, 1)\n",
        "hi_bigrams_heuristics = ngrams(hi_tokens, 2)\n",
        "hi_trigrams_heuristics = ngrams(hi_tokens, 3)\n",
        "\n",
        "display(Markdown(\"###Before performing stemming on Corpus:\"))\n",
        "display(Markdown(\"####Number of (most frequent) uni-grams required for 90% coverage of the selected corpora: {}\".format(str(most_frequent_ngrams_coverage(0.9, hi_total_unigrams_heuristics, hi_unigrams_heuristics)))))\n",
        "display(Markdown(\"####Number of (most frequent) bi-grams required for 80% coverage of the selected corpora: {}\".format(str(most_frequent_ngrams_coverage(0.8, hi_total_bigrams_heuristics, hi_bigrams_heuristics)))))\n",
        "display(Markdown(\"####Number of (most frequent) tri-grams required for 70% coverage of the selected corpora: {}\".format(str(most_frequent_ngrams_coverage(0.7, hi_total_trigrams_heuristics, hi_trigrams_heuristics)))))\n",
        "\n",
        "# Performing stemming on each token in English corpus and calculating n-grams and again\n",
        "\n",
        "stemmed_hi_tokens_heuristic = [hi_stemmer(w) for w in hi_tokens]\n",
        "\n",
        "\n",
        "# The n-grams dictionaries \n",
        "stemmed_hi_unigrams_heuristic = ngrams(stemmed_hi_tokens_heuristic, 1)\n",
        "stemmed_hi_bigrams_heuristic = ngrams(stemmed_hi_tokens_heuristic, 2)\n",
        "stemmed_hi_trigrams_heuristic = ngrams(stemmed_hi_tokens_heuristic, 3)\n",
        "\n",
        "# Total possible n-grams after stemming\n",
        "stemmed_total_hi_unigrams_heuristic = len(stemmed_hi_tokens_heuristic)\n",
        "stemmed_total_hi_bigrams_heuristic = len(stemmed_hi_tokens_heuristic)-1\n",
        "stemmed_total_hi_trigrams_heuristic = len(stemmed_hi_tokens_heuristic)-2\n",
        " \n",
        "#Calculating the coverage\n",
        "display(Markdown(\"###After performing stemming on Corpus:\"))\n",
        "display(Markdown(\"####Number of (most frequent) uni-grams required for 90% coverage of the selected corpora(stemmed): {}\".format(str(most_frequent_ngrams_coverage(0.9, stemmed_total_hi_unigrams_heuristic, stemmed_hi_unigrams_heuristic)))))\n",
        "display(Markdown(\"####Number of (most frequent) bi-grams required for 80% coverage of the selected corpora(stemmed): {}\".format(str(most_frequent_ngrams_coverage(0.8, stemmed_total_hi_bigrams_heuristic, stemmed_hi_bigrams_heuristic)))))\n",
        "display(Markdown(\"####Number of (most frequent) tri-grams required for 70% coverage of the selected corpora(stemmed): {}\".format(str(most_frequent_ngrams_coverage(0.7, stemmed_total_hi_trigrams_heuristic, stemmed_hi_trigrams_heuristic)))))\n",
        "\n",
        "\n",
        "del hi_sentences, hi_tokens, hi_unigrams_heuristics, hi_bigrams_heuristics, hi_trigrams_heuristics, stemmed_hi_bigrams_heuristic, stemmed_hi_unigrams_heuristic, stemmed_hi_trigrams_heuristic\n"
      ],
      "execution_count": null,
      "outputs": [
        {
          "output_type": "display_data",
          "data": {
            "text/markdown": "#Hindi corpora",
            "text/plain": [
              "<IPython.core.display.Markdown object>"
            ]
          },
          "metadata": {
            "tags": []
          }
        },
        {
          "output_type": "display_data",
          "data": {
            "text/markdown": "###Number of sentences in corpus: 159512",
            "text/plain": [
              "<IPython.core.display.Markdown object>"
            ]
          },
          "metadata": {
            "tags": []
          }
        },
        {
          "output_type": "display_data",
          "data": {
            "text/markdown": "### Some of examples are:",
            "text/plain": [
              "<IPython.core.display.Markdown object>"
            ]
          },
          "metadata": {
            "tags": []
          }
        },
        {
          "output_type": "stream",
          "text": [
            "['मास्टर ऑफ़ हेल्थ एडमिनिस्ट्रेशन या मास्टर ऑफ हेल्थकेयर एडमिनिस्ट्रेशन (एमएचए या एम.एच.ए) स्नातकोत्तर (पोस्ट ग्रेजुएशन) की एक पेशेवर डिग्री है जो स्वास्थ्य प्रशासन के क्षेत्र में दी जाती हैं।', 'यह उन छात्रों को प्रदान की जाती हैं जिन्होंने स्वास्थ्य प्रशासन, अस्पताल प्रबंधन एवं अन्य स्वास्थ्य सेवा संगठनों के क्षेत्र में जरूरी ज्ञान और दक्षता हासिल की हैं।', 'इन पाठ्यक्रमो में परिस्थितियों के अनुसार इनके सरंचना में अंतर हो सकता हैं हालांकि व्यवसायी-शिक्षक मॉडल कार्यक्रम आमतौर पर चिकित्सा, स्वास्थ्य व्यवसायों या संबद्ध स्वास्थ्य के कॉलेजों में पाए जाते हैं, कक्षा-आधारित कार्यक्रम व्यवसाय या सार्वजनिक स्वास्थ्य के कॉलेजों में होते हैं।', 'इस पाठ्यक्रम के अध्ययन के दौरान आम तौर पर विद्यार्थियों को जनसंख्या स्वास्थ्य, स्वास्थ्य देखभाल अर्थशास्त्र, स्वास्थ्य नीति, संगठनात्मक व्यवहार, स्वास्थ्य से जुड़े संगठनों के प्रबंधन, स्वास्थ्य विपणन और संचार, मानव संसाधन प्रबंधन, सूचना प्रणाली प्रबंधन के अध्ययन एवं अन्य क्षेत्रों में व्यावहारिक अनुभव की भी आवश्यकता होती है।', 'यह डिग्री प्रोग्राम स्वास्थ्य विषय के स्नातको को प्रबंधन के मुद्दों की विस्तृत एवं गहन समझ और उन्हें वरिष्ठ प्रबंधन भूमिकाओं के लिए तैयार करने के लिए डिज़ाइन किया गया है।', 'यह अमेरिकी, यूरोपीय, ऑस्ट्रेलियाई, भारतीय और श्रीलंकाई (पोस्ट ग्रेजुएट इंस्टीट्यूट ऑफ मेडिसिन- कोलंबो विश्वविद्यालय) विश्वविद्यालयों के द्वारा प्रदान किया जाता हैं।', 'यह डिग्री प्रोग्राम पारंपरिक रूप से स्वास्थ्य प्रशासन के स्थानीय, राज्य और संघीय स्तर पर एवं साथ ही गैर-लाभकारी क्षेत्र पर केंद्रित होता है।', 'एमएचए कार्यक्रमों का उद्देश्य छात्रों को स्वास्थ्य सेवाओं और सिस्टम क्षेत्रों में वरिष्ठ प्रबंधकीय और नियोजन कार्य के लिए जरूरी ज्ञान प्रदान करना है।', 'कार्यक्रम के उद्देश्य उन स्नातकों को विकसित करना है जो सक्षम सामान्य और वित्तीय प्रबंधकों, सक्षम योजनाकारों, सार्वजनिक स्वास्थ्य के बारे में जानकार और स्वास्थ्य देखभाल प्रणालियों के वित्तपोषण, समाज, कानून और नैतिकता के बारे में जानकार हो।', 'इस पाठ्यक्रम के लिए अधिकांश देशों में, आवेदकों को न्यूनतम चार वर्ष की स्नातक से नीचे की डिग्री की आवश्यकता होती है एवं उन्हें स्वास्थ्य प्रणाली में न्यूनतम पेशेवर अनुभव वांछनीय है।']\n"
          ],
          "name": "stdout"
        },
        {
          "output_type": "display_data",
          "data": {
            "text/markdown": "###Number of tokens in corpus: 6068517",
            "text/plain": [
              "<IPython.core.display.Markdown object>"
            ]
          },
          "metadata": {
            "tags": []
          }
        },
        {
          "output_type": "display_data",
          "data": {
            "text/markdown": "### Some of examples are:",
            "text/plain": [
              "<IPython.core.display.Markdown object>"
            ]
          },
          "metadata": {
            "tags": []
          }
        },
        {
          "output_type": "stream",
          "text": [
            "['मास्टर', 'ऑफ', '़', 'हेल्थ', 'एडमिनिस्ट्रेशन', 'य', 'ा', 'मास्टर', 'ऑफ', 'हेल्थकेयर']\n"
          ],
          "name": "stdout"
        },
        {
          "output_type": "display_data",
          "data": {
            "text/markdown": "###Before performing stemming on Corpus:",
            "text/plain": [
              "<IPython.core.display.Markdown object>"
            ]
          },
          "metadata": {
            "tags": []
          }
        },
        {
          "output_type": "display_data",
          "data": {
            "text/markdown": "####Number of (most frequent) uni-grams required for 90% coverage of the selected corpora: 5556",
            "text/plain": [
              "<IPython.core.display.Markdown object>"
            ]
          },
          "metadata": {
            "tags": []
          }
        },
        {
          "output_type": "display_data",
          "data": {
            "text/markdown": "####Number of (most frequent) bi-grams required for 80% coverage of the selected corpora: 106844",
            "text/plain": [
              "<IPython.core.display.Markdown object>"
            ]
          },
          "metadata": {
            "tags": []
          }
        },
        {
          "output_type": "display_data",
          "data": {
            "text/markdown": "####Number of (most frequent) tri-grams required for 70% coverage of the selected corpora: 507463",
            "text/plain": [
              "<IPython.core.display.Markdown object>"
            ]
          },
          "metadata": {
            "tags": []
          }
        },
        {
          "output_type": "display_data",
          "data": {
            "text/markdown": "###After performing stemming on Corpus:",
            "text/plain": [
              "<IPython.core.display.Markdown object>"
            ]
          },
          "metadata": {
            "tags": []
          }
        },
        {
          "output_type": "display_data",
          "data": {
            "text/markdown": "####Number of (most frequent) uni-grams required for 90% coverage of the selected corpora(stemmed): 4224",
            "text/plain": [
              "<IPython.core.display.Markdown object>"
            ]
          },
          "metadata": {
            "tags": []
          }
        },
        {
          "output_type": "display_data",
          "data": {
            "text/markdown": "####Number of (most frequent) bi-grams required for 80% coverage of the selected corpora(stemmed): 91892",
            "text/plain": [
              "<IPython.core.display.Markdown object>"
            ]
          },
          "metadata": {
            "tags": []
          }
        },
        {
          "output_type": "display_data",
          "data": {
            "text/markdown": "####Number of (most frequent) tri-grams required for 70% coverage of the selected corpora(stemmed): 461750",
            "text/plain": [
              "<IPython.core.display.Markdown object>"
            ]
          },
          "metadata": {
            "tags": []
          }
        }
      ]
    },
    {
      "cell_type": "markdown",
      "metadata": {
        "id": "MmarbZfkqHWE"
      },
      "source": [
        "## Part 2 (Likelihood Ratio Test)"
      ]
    },
    {
      "cell_type": "code",
      "metadata": {
        "id": "vkasCmJEqO0u",
        "outputId": "d265afa4-31a8-4c30-e1c9-28b0606683d2",
        "colab": {
          "base_uri": "https://localhost:8080/",
          "height": 153
        }
      },
      "source": [
        "####################################  Task 1.3.3(2) ####################################\n",
        "def logL(k, n, x):\n",
        "  return k*np.log(x) + (n-k)*np.log(1-x)\n",
        "\n",
        "def likelihood_ratio_test(c1, c2, c12, bigram, N):\n",
        "  # Total nunmber of tokens is same as total number of unigrams\n",
        "  p = c2/N\n",
        "  p1 = c12/c1\n",
        "  p2 = (c2-c12)/(N-c1)\n",
        "\n",
        "  log_lambda = logL(c12, c1, p) + logL(c2-c12, N-c1, p) - logL(c12, c1, p1) - logL(c2-c12, N-c1, p2)\n",
        "  if np.isnan(log_lambda):\n",
        "    log_lambda = 0\n",
        "  return [-2*log_lambda, bigram]\n",
        "\n",
        "# Returns [float, collocation] tuples for English corpus\n",
        "def find_en_collocations(bigrams):\n",
        "  collocations = []\n",
        "  for bigram in bigrams.keys():\n",
        "    #  print(bigram.split())\n",
        "     c1 = en_unigrams[bigram.split()[0]]\n",
        "     c2 = en_unigrams[bigram.split()[1]]\n",
        "     c12 = en_bigrams[bigram]\n",
        "     collocations.append(likelihood_ratio_test(c1,  c2, c12, bigram, en_total_unigrams))\n",
        "  return sorted(collocations, reverse=True)\n",
        "\n",
        "display(Markdown(\"###Collocations (first 10) in English corpus in decreasing order of their rank:\"))\n",
        "en_collocations = find_en_collocations(en_bigrams)\n",
        "print(en_collocations[:100])\n",
        "\n",
        "# Returns [float, collocation] tuples for Hindi corpus\n",
        "def find_hi_collocations(bigrams):\n",
        "  collocations = []\n",
        "  for bigram in bigrams.keys():\n",
        "    # print(len(bigram.split()), bigram)\n",
        "    if len(bigram.split())==2:  # because of last bigram as it has only 1 toknen\n",
        "      if bigram.split()[0] in hi_unigrams and bigram.split()[1] in hi_unigrams:\n",
        "        c12 = hi_bigrams[bigram]\n",
        "        c1 = hi_unigrams[bigram.split()[0]]\n",
        "        c2 = hi_unigrams[bigram.split()[1]]\n",
        "      else:\n",
        "        continue\n",
        "    else:\n",
        "      continue\n",
        "    collocations.append(likelihood_ratio_test(c1,  c2, c12, bigram, hi_total_unigrams))\n",
        "  return sorted(collocations, reverse=True)\n",
        "\n",
        "display(Markdown(\"###Collocations (first 10) in Hindi corpus in decreasing order of their rank:\"))\n",
        "hi_collocations = find_hi_collocations(hi_bigrams)\n",
        "print(hi_collocations[:100])\n"
      ],
      "execution_count": null,
      "outputs": [
        {
          "output_type": "display_data",
          "data": {
            "text/markdown": "###Collocations (first 10) in English corpus in decreasing order of their rank:",
            "text/plain": [
              "<IPython.core.display.Markdown object>"
            ]
          },
          "metadata": {
            "tags": []
          }
        },
        {
          "output_type": "stream",
          "text": [
            "[[503786.266489417, '. The'], [185565.23763180355, '. In'], [177428.5964182401, 'of the'], [147428.40264532345, 'United States'], [129908.18098115455, ', and'], [129816.20884379242, 'median income'], [113471.901052495, 'in the'], [102756.60783239106, 'every 100'], [101434.86926822373, '65 years'], [100631.49817997986, 'there were'], [97162.09895173453, 'For every'], [96806.75007899017, '100 females'], [93605.9955635455, 'or older'], [92690.81288186833, '% from'], [89049.3318777961, 'income for'], [81770.15042294533, '% had'], [81668.29716343479, 'There were'], [77886.06711590389, '. There'], [74765.2369842061, 'square mile'], [71569.47233487038, 'housing units'], [71546.6878217936, 'size was'], [70492.47062116479, 'racial makeup'], [70097.54555763466, 'married couples'], [67159.2392896699, 'was $'], [63711.128003456906, 'families residing'], [63005.3716308574, 'per square'], [62736.52094561656, 'female householder'], [62331.32573470199, 'husband present'], [61378.168087748214, '. For'], [61354.735431381036, 'the the'], [60931.937755124454, 'the city'], [60430.04152781976, 'age or'], [59405.78099322645, 'the ,'], [58764.04609032065, '. It'], [58349.94267985418, 'Census Bureau'], [58297.52404960536, 'such as'], [58175.0409604872, '. He'], [57355.619902439736, 'couples living'], [57063.57764532138, ', ,'], [56486.35354351168, 'no husband'], [56394.793845286535, 'someone living'], [56000.160895793066, 'the township'], [55721.59760965468, 'living alone'], [55691.702716484775, 'poverty line'], [55113.46420770185, '% of'], [52772.087630292895, 'made up'], [52762.586207071115, 'The median'], [52625.93567964574, 'older .'], [52296.34549046762, 'alone who'], [52275.910754564975, 'household size'], [52245.7794621802, 'living together'], [52164.795040243815, 'per capita'], [51841.18535795435, ') .'], [51581.15661036095, '% were'], [50903.06777528045, 'mile ('], [50875.12930382253, 'householder with'], [49523.16642504296, 'children under'], [48955.893461520754, 'family size'], [48656.35529743887, '. As'], [48082.31212985904, 'average household'], [47460.34676800968, 'capita income'], [47392.849017963206, 'had someone'], [47071.188584692776, 'under the'], [46618.80049299603, 'any race'], [46549.993761323756, 'average density'], [45869.452510658186, 'total area'], [45725.52399758471, 'units at'], [44693.12673065733, ', but'], [44639.198454663434, 'average family'], [44630.297101275064, 'males .'], [44248.86481863167, 'According to'], [44218.6055862545, 'the .'], [43825.96045222986, 'from 45'], [43625.33814155916, ', .'], [43575.84048449248, 'had a'], [43387.43885413947, 'versus $'], [43351.731244019174, 'were non-families'], [43266.58744130918, 'population density'], [43184.32513673883, '. the'], [42946.71633633334, '. This'], [42775.94502400467, '. ,'], [42775.16315648076, 'spread out'], [42251.389903022646, 'all households'], [42062.862363109074, 'age 18'], [41350.04610532279, 'Native American'], [41262.688272610096, 'had children'], [40744.11522258099, 'from 25'], [40444.24252358891, 'the population'], [40131.999844932754, 'Males had'], [40051.40552788679, 'The population'], [39754.08150339736, 'New York'], [39282.352767258795, 'of 18'], [39233.965339885064, 'with no'], [38830.35211628518, 'The racial'], [38786.068938605786, 'more races'], [38526.50396535074, 'to be'], [38522.99665413554, 'States Census'], [38149.40758862138, 'were married'], [37841.53565566847, 'the of'], [37512.1641332733, '18 living']]\n"
          ],
          "name": "stdout"
        },
        {
          "output_type": "display_data",
          "data": {
            "text/markdown": "###Collocations (first 10) in Hindi corpus in decreasing order of their rank:",
            "text/plain": [
              "<IPython.core.display.Markdown object>"
            ]
          },
          "metadata": {
            "tags": []
          }
        },
        {
          "output_type": "stream",
          "text": [
            "[[281176.9819395649, 'है ।'], [148228.12489047454, 'के लिए'], [106225.9015678321, 'हैं ।'], [80587.05693209195, 'जाता है'], [50985.759263354885, 'के साथ'], [50794.1984440668, 'था ।'], [46531.4552818494, 'किया गया'], [46329.22569568874, 'होता है'], [41135.7420947419, 'रूप में'], [33724.047092876215, 'जा सकता'], [31942.53804535017, 'के रूप'], [31407.3634017577, 'है कि'], [31233.791306766914, 'सकता है'], [30088.416843469255, 'करता है'], [27354.261721420684, 'होते हैं'], [27145.85103362467, 'गया था'], [27072.164351373678, 'रूप से'], [26170.075699185254, 'है ,'], [25696.25109941978, 'थे ।'], [23870.867334991228, 'करते हैं'], [21727.017861338798, 'होती है'], [21034.87071984113, 'किया जाता'], [20823.43510689182, 'कर दिया'], [20150.231888609473, 'थी ।'], [20064.335337508863, 'के बाद'], [18683.310833895986, ', जो'], [18523.095897260297, 'सकते हैं'], [18478.38813660317, 'करने के'], [18143.851297866844, 'जाते हैं'], [17631.247735819663, 'जाती है'], [17250.62278492024, '। इस'], [16284.166985796357, 'दिया गया'], [16025.914283287631, '] ]'], [15975.42965184545, 'के बीच'], [15689.811428419642, '[ ['], [15685.659534311853, 'तौर पर'], [15391.821636647059, 'के अनुसार'], [15306.9394762905, 'के कारण'], [14799.852155010914, 'के के'], [14585.219737380045, 'गया ।'], [14030.662334200606, '। यह'], [13863.082355429651, '। \\xa0\\n\\nके'], [13863.082355429651, '। \\nके'], [13863.082355429651, '। \\n\\n\\n\\nके'], [13771.684040367603, '। \\n\\nके'], [13621.316938579192, 'के दौरान'], [13471.920001990162, 'के ।'], [13443.91950517986, 'गया है'], [13397.461463198531, '। के'], [13309.975278703048, 'के लिये'], [13238.956942922086, 'कहते हैं'], [13071.135052283738, 'इस प्रकार'], [12125.095869286248, 'माना जाता'], [11766.624042130483, 'ई .'], [11763.695554482227, 'किया जा'], [11745.50037018102, 'कहा जाता'], [11700.286774439206, '। इसके'], [11401.590205066837, ', \\xa0के'], [11354.552998867584, ', \\nके'], [11317.281546460697, 'के में'], [11129.635134217562, 'बारे में'], [10922.213853168301, 'में के'], [10535.570049682501, ', लेकिन'], [10420.907857738901, 'के ,'], [10370.044971255586, '। \\n\\n\\n\\nमें'], [10353.63505018549, '। \\n\\nमें'], [10344.917228395352, 'हैं ,'], [10239.095982349012, ', ।'], [10124.56311589053, 'करते हुए'], [10070.616204340942, '। में'], [10036.340863325866, '। ,'], [9970.136709234474, 'जाना जाता'], [9850.425649088807, 'देता है'], [9690.025821488583, 'के है'], [9650.510362608591, 'किया ।'], [9390.886106647085, 'आधार पर'], [9002.607524459134, 'माध्यम से'], [8999.949171306565, '। \\n\\nहै'], [8999.949171305867, 'है\\xa0\\xa0 ।'], [8983.826579664834, '। है'], [8983.826579664834, 'है\\xa0 ।'], [8983.826579664834, '\\xa0है ।'], [8968.750514359446, '\\nहै ।'], [8780.511800834676, 'है के'], [8769.894146039864, 'का उपयोग'], [8666.451397371711, '। ।'], [8646.089748710627, 'है और'], [8528.249617392663, 'में\\xa0\\xa0 ,'], [8473.99700246207, 'हो गया'], [8452.031795710202, 'आम तौर'], [8425.878875329285, 'की स्थापना'], [8396.005165779701, 'हो सकता'], [8361.326423755381, 'में ।'], [8348.693382495083, ', के'], [8242.097756183473, 'में में'], [8205.28108100174, 'रहा है'], [8125.8538735555485, ', ,'], [8108.68368837973, 'की ओर'], [8075.458630757712, 'किए गए'], [7997.6535562174395, 'करती है']]\n"
          ],
          "name": "stdout"
        }
      ]
    },
    {
      "cell_type": "markdown",
      "metadata": {
        "id": "zeUih1PHpSvf"
      },
      "source": [
        "# Task 1.3.4 (Morphological Analysis)"
      ]
    },
    {
      "cell_type": "code",
      "metadata": {
        "id": "_P0KB6Cnib3U",
        "outputId": "3057d23c-3758-4d01-efae-f4c77d0d3729",
        "colab": {
          "base_uri": "https://localhost:8080/",
          "height": 673
        }
      },
      "source": [
        "####################################  Task 1.3.4 ####################################\n",
        "\n",
        "def morphological_analysis_en(tokens):\n",
        "  pos_tags = pos_tag(tokens, None, 'en')\n",
        "  i=0\n",
        "  print(\"{0: <20} {1: <60} {2: <10}\".format(\"Word\", \"Morphemes\", \"POS TAG\"))\n",
        "  for w in tokens:\n",
        "    w = Word(w, language=\"en\")\n",
        "    print(\"{0: <20} {1: <60} {2: <10}\".format(str(w), str(w.morphemes), pos_tags[i][1]))\n",
        "    i+=1\n",
        "\n",
        "# Using unigrams as they are basically words\n",
        "sorted100_en_unigrams = sorted(en_unigrams.items(), key=lambda x: x[1], reverse=True)[:100]\n",
        "first100_en_tokens = [k for k, v in list(sorted100_en_unigrams)]\n",
        "\n",
        "sorted100_en_unigrams_last = sorted(en_unigrams.items(), key=lambda x: x[1])[:100]\n",
        "last100_en_tokens = [k for k, v in list(sorted100_en_unigrams_last)]\n",
        "\n",
        "# Generating 5 random numbers between 0 and 99 which will be indices of the above lists\n",
        "random_indices = random.sample(range(1, 100), 5)\n",
        "first_random5_en_tokens = [first100_en_tokens[i] for i in random_indices]\n",
        "random_indices = random.sample(range(1, 100), 5)\n",
        "last_random5_en_tokens = [last100_en_tokens[i] for i in random_indices]\n",
        "\n",
        "display(Markdown(\"###Morphological analysis of 5 random tokens for English tokens:\"))\n",
        "display(Markdown(\"####From first 100 words:\"))\n",
        "morphological_analysis_en(first_random5_en_tokens)\n",
        "display(Markdown(\"####From last 100 words:\"))\n",
        "morphological_analysis_en(last_random5_en_tokens)\n",
        "\n",
        "\n",
        "# Morphological analysis for Hindi Corpus\n",
        "\n",
        "def morphological_analysis_hi(tokens):\n",
        "  pos_tags = pos_tag(tokens, None, 'hi')\n",
        "  i=0\n",
        "  print(\"{0: <20} {1: <60} {2: <10}\".format(\"Word\", \"Morphemes\", \"POS TAG\"))\n",
        "  for w in tokens:\n",
        "    w = Word(w, language=\"hi\")\n",
        "    print(\"{0: <20} {1: <60} {2: <10}\".format(str(w), str(w.morphemes), pos_tags[i][1]))\n",
        "    i+=1\n",
        "\n",
        "# Using unigrams as they are basically words\n",
        "sorted100_hi_unigrams = sorted(hi_unigrams.items(), key=lambda x: x[1], reverse=True)[:100]\n",
        "first100_hi_tokens = [k for k, v in list(sorted100_hi_unigrams)]\n",
        "\n",
        "sorted100_hi_unigrams_last = sorted(hi_unigrams.items(), key=lambda x: x[1])[:100]\n",
        "last100_hi_tokens = [k for k, v in list(sorted100_hi_unigrams_last)]\n",
        "\n",
        "# Generating 5 random numbers between 0 and 99 which will be indices of the above lists\n",
        "random_indices = random.sample(range(1, 100), 5)\n",
        "first_random5_hi_tokens = [first100_hi_tokens[i] for i in random_indices]\n",
        "random_indices = random.sample(range(1, 100), 5)\n",
        "last_random5_hi_tokens = [last100_hi_tokens[i] for i in random_indices]\n",
        "\n",
        "display(Markdown(\"###Morphological analysis of 5 random tokens for Hindi tokens:\"))\n",
        "display(Markdown(\"####From first 100 words:\"))\n",
        "morphological_analysis_hi(first_random5_hi_tokens)\n",
        "display(Markdown(\"####From last 100 words:\"))\n",
        "morphological_analysis_hi(last_random5_hi_tokens)"
      ],
      "execution_count": null,
      "outputs": [
        {
          "output_type": "display_data",
          "data": {
            "text/markdown": "###Morphological analysis of 5 random tokens for English tokens:",
            "text/plain": [
              "<IPython.core.display.Markdown object>"
            ]
          },
          "metadata": {
            "tags": []
          }
        },
        {
          "output_type": "display_data",
          "data": {
            "text/markdown": "####From first 100 words:",
            "text/plain": [
              "<IPython.core.display.Markdown object>"
            ]
          },
          "metadata": {
            "tags": []
          }
        },
        {
          "output_type": "stream",
          "text": [
            "Word                 Morphemes                                                    POS TAG   \n",
            "no                   ['no']                                                       DT        \n",
            "that                 ['th', 'at']                                                 IN        \n",
            "out                  ['out']                                                      RP        \n",
            "are                  ['a', 're']                                                  VBP       \n",
            "two                  ['two']                                                      CD        \n"
          ],
          "name": "stdout"
        },
        {
          "output_type": "display_data",
          "data": {
            "text/markdown": "####From last 100 words:",
            "text/plain": [
              "<IPython.core.display.Markdown object>"
            ]
          },
          "metadata": {
            "tags": []
          }
        },
        {
          "output_type": "stream",
          "text": [
            "Word                 Morphemes                                                    POS TAG   \n",
            "half-lifeâthat     ['half', '-', 'life', 'â\\x80\\x94that']                       JJ        \n",
            "1.07Â                ['1.0', '7', 'Â']                                            CD        \n",
            "low-symmetry         ['low', '-', 'sym', 'metry']                                 JJ        \n",
            "transuranium         ['trans', 'ur', 'an', 'ium']                                 NN        \n",
            "unbind               ['un', 'bind']                                               NN        \n"
          ],
          "name": "stdout"
        },
        {
          "output_type": "display_data",
          "data": {
            "text/markdown": "###Morphological analysis of 5 random tokens for Hindi tokens:",
            "text/plain": [
              "<IPython.core.display.Markdown object>"
            ]
          },
          "metadata": {
            "tags": []
          }
        },
        {
          "output_type": "display_data",
          "data": {
            "text/markdown": "####From first 100 words:",
            "text/plain": [
              "<IPython.core.display.Markdown object>"
            ]
          },
          "metadata": {
            "tags": []
          }
        },
        {
          "output_type": "stream",
          "text": [
            "Word                 Morphemes                                                    POS TAG   \n",
            "वह                   ['वह']                                                       JJ        \n",
            "पहले                 ['पहल', 'े']                                                 NNP       \n",
            "हुआ                  ['हुआ']                                                      NNP       \n",
            "(                    ['(']                                                        (         \n",
            "'                    [\"'\"]                                                        ''        \n"
          ],
          "name": "stdout"
        },
        {
          "output_type": "display_data",
          "data": {
            "text/markdown": "####From last 100 words:",
            "text/plain": [
              "<IPython.core.display.Markdown object>"
            ]
          },
          "metadata": {
            "tags": []
          }
        },
        {
          "output_type": "stream",
          "text": [
            "Word                 Morphemes                                                    POS TAG   \n",
            "सूज़ाने              ['सू', 'ज़ा', 'ने']                                          JJ        \n",
            "जकीउर                ['ज', 'की', 'उर']                                            NNP       \n",
            "मंडलांतानुक्रम       ['मंडल', 'ांत', 'ानु', 'क्रम']                               NNP       \n",
            "जहिद                 ['ज', 'हि', 'द']                                             NNP       \n",
            "अनुवाकानुक्रमणी      ['अनु', 'वाक', 'ानु', 'क्रमण', 'ी']                          NN        \n"
          ],
          "name": "stdout"
        }
      ]
    },
    {
      "cell_type": "markdown",
      "metadata": {
        "id": "FDeqw24EpWQU"
      },
      "source": [
        "# Task 1.3.5\n",
        "## General functions"
      ]
    },
    {
      "cell_type": "code",
      "metadata": {
        "id": "ZBttg3NLBdd6"
      },
      "source": [
        "####################################  Task 1.3.5 (General functions)  ####################################\n",
        "# Separate each character by space and place a '#' at the end to mark the ending of word\n",
        "def build_vocab(vocab):\n",
        "  new_vocab = {}\n",
        "  for word in vocab:\n",
        "    new_vocab[' '.join(list(word)) + ' #'] = vocab[word]\n",
        "  return new_vocab\n",
        "\n",
        "# Get frequencies of adjacent symbols in each word in new_vocab\n",
        "def get_stats(vocab):\n",
        "  adjacent_pairs = collections.defaultdict(int)\n",
        "  for word, frequency in vocab.items():\n",
        "    symbols = word.split()\n",
        "    for i in range(len(symbols)-1):\n",
        "      adjacent_pairs[symbols[i],symbols[i+1]] += frequency\n",
        "  return adjacent_pairs\n",
        "\n",
        "# Change all the words in new_vocab as per the found best pair\n",
        "def merge_vocab(vocab, pair):\n",
        "  new_vocab = {}\n",
        "  to_replace = ' '.join(pair)\n",
        "  replace_with = ''.join(pair)\n",
        "  for word, frequency in vocab.items():\n",
        "    new_word = word.replace(to_replace, replace_with)\n",
        "    new_vocab[new_word] = frequency\n",
        "  return new_vocab\n",
        "\n",
        "# This function will break vocab dictionary into tokens e.g. \"w or d#\" will be broken into ['w', 'or', 'd#']\n",
        "def get_tokens(vocab):\n",
        "  new_vocab = {}\n",
        "  for word, frequency in vocab.items():\n",
        "    tokens = word.split(' ')\n",
        "    for token in tokens:\n",
        "        if token not in new_vocab:\n",
        "            new_vocab[token] = frequency\n",
        "        else:\n",
        "            new_vocab[token] += frequency\n",
        "  return new_vocab\n",
        "\n",
        "\n",
        "# To find the tokenisation of an unknown word usinng BPE\n",
        "def find_tokenisation(word, tokens, token_list):\n",
        "  if len(word) == 0:\n",
        "    return\n",
        "  for i in range(len(word)-1, -1, -1):\n",
        "    firstword = word[0:i]\n",
        "    reminder = word[i:len(word)]\n",
        "    if firstword in tokens:\n",
        "      token_list.append(firstword)\n",
        "      return find_tokenisation(reminder, tokens, token_list)\n",
        "\n",
        "# Get tokenisation of 10 unkown words\n",
        "def get_tokenisation_of_10_words(unknown_words, tokens):\n",
        "  for unknown_word in unknown_words:\n",
        "    token_list = []\n",
        "    find_tokenisation(unknown_word + '#', tokens, token_list)\n",
        "    # print(unknown_word + \"=>\" + str(token_list))\n",
        "    print(\"{0:<20}  {1:<30}\".format(unknown_word, str(token_list)))\n",
        "\n",
        "# To compare the tokenisation of word between the morphological analysis by library and BPE\n",
        "def compare_tokenisation(words, tokens, lang):\n",
        "  # From morphological analysis\n",
        "  print(\"{0:<20}{1:50}{2:50}\".format(\"Word\", \"From Polyglot library\",\"From BPE\"))\n",
        "  for w in words:\n",
        "    token_list = []\n",
        "    find_tokenisation(w + '#', tokens, token_list)\n",
        "    print(\"{0:<20}{1:<50}{2:<50}\".format(str(w), str(Word(w, language=lang).morphemes), str(token_list)))\n",
        "  # From BPE\n",
        "\n",
        "vocab_size = 10000\n",
        "num_merges = 5000"
      ],
      "execution_count": null,
      "outputs": []
    },
    {
      "cell_type": "markdown",
      "metadata": {
        "id": "gtRLjdImqTIR"
      },
      "source": [
        "## English Corpora"
      ]
    },
    {
      "cell_type": "code",
      "metadata": {
        "id": "wljrRzvHK87G",
        "outputId": "5a964f11-35d6-4aaf-f7a6-4326c0c3a003",
        "colab": {
          "base_uri": "https://localhost:8080/",
          "height": 698
        }
      },
      "source": [
        "\n",
        "####################################  Task 1.3.5 (English corpora)  ####################################\n",
        "\n",
        "#First build the corpus i.e. take 500 tokens from en_data with len>=3 so that punctations don't come\n",
        "en_vocab = {}\n",
        "count=0\n",
        "for k, v in en_unigrams.items():\n",
        "  if len(k)>=3:\n",
        "    en_vocab[k]=v\n",
        "    count+=1\n",
        "  if count>=vocab_size:\n",
        "    break\n",
        "vocab = build_vocab(en_vocab)\n",
        "# Hyperparameter defining the number of merges\n",
        "# the more the number of merges more complex tokens will be learnt \n",
        "for i in range(num_merges):\n",
        "  pairs = get_stats(vocab)\n",
        "  sorted_pairs = sorted(pairs.items(), key=lambda x: x[1], reverse=True)\n",
        "  best_pair = list(sorted_pairs)[0]\n",
        "  vocab = merge_vocab(vocab, best_pair[0])\n",
        "\n",
        "display(Markdown(\"###English corpus:\"))\n",
        "display(Markdown(\"####Tokens found after training on vocab using BPE:\"))\n",
        "print(get_tokens(vocab))\n",
        "BPE_en_tokens = get_tokens(vocab)\n",
        "sorted_BPE_tokens = sorted(BPE_en_tokens.items(), key=lambda x: x[1], reverse=True)\n",
        "display(Markdown(\"####50 most frequent tokens:\"))\n",
        "print(sorted_BPE_tokens[:50])\n",
        "display(Markdown(\"####50 least frequent tokens:\"))\n",
        "print(sorted_BPE_tokens[-50:])\n",
        "\n",
        "\n",
        "# Getting 10 unknown words for English corpora i.e. words after index 1000 from en_unigrams\n",
        "random_indices = random.sample(range(10001, 20000), 10)\n",
        "unknown_words = [list(en_unigrams)[i] for i in random_indices]\n",
        "display(Markdown(\"###Tokenisation of 10 test words \"))\n",
        "get_tokenisation_of_10_words(unknown_words, BPE_en_tokens)\n",
        "\n",
        "# Comparing tokenisation of 10 words chosen in 1.3.4\n",
        "words = first_random5_en_tokens + last_random5_en_tokens\n",
        "display(Markdown(\"###Comparison of tokenisation\"))\n",
        "compare_tokenisation(words, BPE_en_tokens, \"en\")"
      ],
      "execution_count": null,
      "outputs": [
        {
          "output_type": "display_data",
          "data": {
            "text/markdown": "###English corpus:",
            "text/plain": [
              "<IPython.core.display.Markdown object>"
            ]
          },
          "metadata": {
            "tags": []
          }
        },
        {
          "output_type": "display_data",
          "data": {
            "text/markdown": "####Tokens found after training on vocab using BPE:",
            "text/plain": [
              "<IPython.core.display.Markdown object>"
            ]
          },
          "metadata": {
            "tags": []
          }
        },
        {
          "output_type": "stream",
          "text": [
            "{'The#': 103608, 'word#': 1311, 'atom#': 212, 'was#': 124543, 'coined#': 151, 'ancient#': 853, 'Greek#': 1147, 'philosophers#': 136, 'However#': 3705, 'these#': 5040, 'ideas#': 537, 'were#': 72193, 'founded#': 1400, 'philosophical#': 185, 'and#': 254426, 'theological#': 106, 'reasoning#': 117, 'rather#': 1578, 'than#': 7648, 'evidence#': 919, 'experimentation#': 57, 'result#': 1657, 'their#': 16718, 'views#': 396, 'what#': 2599, 'atoms#': 260, 'look#': 483, 'like#': 3116, 'how#': 1509, 'they#': 10712, 'be': 166, 'have#': 15987, 'incorrect#': 62, 'They#': 3739, 'also#': 17891, 'could#': 3859, 'not#': 17291, 'convince#': 78, 'everybody#': 66, 'atomis': 7, 'm#': 516, 'but#': 14784, 'one#': 13719, 'number#': 5003, 'competing#': 137, 'theories#': 294, 'the#': 537039, 'nature#': 874, 'matter#': 568, 'until#': 4213, '19th#': 809, 'century#': 3880, 'that#': 49262, 'idea#': 863, 'embraced#': 64, 'refined#': 67, 'scientists#': 229, 'when#': 8226, 'blos': 8, 'soming#': 8, 'science#': 861, 'chemistry#': 129, 'produced#': 1951, 'discoveries#': 85, 'only#': 8107, 'concept#': 733, 'explain#': 231, 'early#': 5028, '1800s#': 45, 'John#': 3642, 'D': 445, 'alton#': 62, 'used#': 8549, 'why#': 356, 'elements#': 858, 'always#': 1030, 'react#': 63, 'rati': 57, 'o': 680, 's#': 659, 'small#': 2954, 'whole#': 806, 'numbers#': 1138, 'law#': 1872, 'multiple#': 651, 'propor': 62, 'tions#': 267, 'For#': 10363, 'instance#': 468, 'there#': 17488, 'are#': 28824, 'two#': 14127, 'types#': 847, 'tin#': 73, 'oxide#': 107, '8': 299, '8.1#': 22, '11.9#': 173, 'oxygen#': 171, 'other#': 13303, '7': 311, '8.': 13, '7#': 112, '21.3#': 157, 'di': 461, 'respectively#': 548, 'This#': 8237, 'means#': 1250, '100': 2, 'g#': 59, 'will#': 3969, 'combine#': 104, 'either#': 1549, 'with#': 63352, '13.': 4, '5': 185, '2': 367, '13.5#': 156, 'form#': 2928, 'ratio#': 263, '1': 123, ':': 21, '2#': 327, 'common#': 2154, 'pattern#': 323, 'suggested#': 729, 'multi': 90, 'ples#': 43, 'discrete#': 49, 'unit': 1, 's': 496, 'â\\x80\\x94': 53, 'in#': 91, 'words#': 942, 'case#': 1686, 'oxides#': 24, 'believed#': 917, 'atomic#': 263, 'theory#': 1038, 'water#': 4601, 'absor': 94, 'bs#': 86, 'different#': 2750, 'gases#': 105, 'example#': 2675, 'found#': 3531, 'carbon#': 210, 'far#': 1074, 'better#': 866, 'nitrogen#': 120, 'hy': 134, 'pothesi': 29, 'zed#': 209, 'this#': 13310, 'due#': 2734, 'differences#': 417, 'mass#': 773, 'complexity#': 108, 'respective#': 175, 'particles#': 270, 'Indeed#': 124, 'molecules#': 173, 'heavier#': 78, 'larger#': 945, '1827#': 63, 'botanist#': 21, 'Robert#': 1253, 'Brown#': 571, 'micro': 65, 'scope#': 146, 'dust#': 77, 'grains#': 87, 'floating#': 93, 'discovered#': 737, 'moved#': 1806, 'about#': 6562, 'er': 75, 'ratically#': 7, 'phenomenon#': 173, 'became#': 6000, 'known#': 6169, 'Brow': 65, 'ni': 86, 'an#': 316, 'motion#': 486, 'thought#': 1165, 'caused#': 985, 'k': 536, 'noc': 27, 'king#': 1249, '1905#': 211, 'Albert#': 502, 'Einstein#': 94, 'proved#': 500, 'reality#': 307, 'mo': 86, 'producing#': 407, 'first#': 15806, 'Statistical#': 409, 'physics#': 279, 'analysis#': 522, 'French#': 2756, 'physicist#': 80, 'Jean#': 395, 'Per': 6, 'rin#': 6, 'work#': 4492, 'experimentally#': 25, 'determine#': 320, 'dimensions#': 119, 'thereby#': 212, 'conclu': 77, 'sively#': 15, 'veri': 40, 'f': 251, 'ying#': 69, 'Thomson#': 86, 'measured#': 254, 'c': 336, 'atho': 59, 'de#': 155, 'rays#': 72, 'showing#': 296, 'made#': 10690, 'around#': 3293, '1800#': 67, 'times#': 1895, 'lighter#': 104, 'ligh': 130, 'test#': 590, 'hydrogen#': 207, 'Therefore#': 245, 'new#': 7279, 'particle#': 207, 'sub': 147, 'which#': 32158, 'originally#': 1300, 'called#': 5506, 'cor': 253, 'pu': 29, 'scle#': 1, 'later#': 6124, 'named#': 4660, 'electron#': 264, 'after#': 9814, 'postul': 46, 'ated#': 348, 'George#': 1631, 'John': 9, 'stone#': 468, 'Stoney#': 18, '1874#': 161, 'showed#': 549, 'identical#': 227, 'given#': 2336, 'off#': 2065, 'photo': 4, 'electric#': 332, 'radioactive#': 71, 'materials#': 413, 'quickly#': 727, 'recognized#': 551, 'carry#': 371, 'cur': 58, 'rents#': 56, 'metal#': 641, 'wires#': 27, 'negative#': 482, 'charge#': 498, 'within#': 3298, '1906#': 216, 'Nobel#': 303, 'Prize#': 383, 'Phy': 68, 'sics#': 61, 'for#': 70998, 'Thus#': 563, 'over': 189, 'turned#': 843, 'belief#': 346, 'indivisible#': 6, 'ultimate#': 106, 'incor': 61, 'rec': 61, 'tly#': 238, 'low#': 1002, 'neg': 90, 'atively#': 91, 'charged#': 338, 'electrons#': 252, 'distributed#': 330, 'throughout#': 1576, 'uniform#': 354, 'sea#': 732, 'positive#': 617, 'plum#': 11, 'dding#': 47, 'model#': 905, '1909#': 184, 'Hans#': 119, 'Gei': 13, 'ger#': 15, 'Ernest#': 104, 'Mar': 212, 'den#': 96, 'under#': 16721, 'direction#': 614, 'Rutherford#': 101, 'bom': 132, 'barded#': 6, 'foil#': 36, 'alpha#': 89, 'observe#': 86, 'scattered#': 97, 'expected#': 560, 'all#': 14353, 'pass#': 358, 'straight#': 424, 'through#': 5667, 'little#': 1193, 'deflec': 18, 'tion#': 163, 'because#': 3673, 'said#': 3055, 'charges#': 279, 'diffuse#': 24, 'fields#': 472, 'affect#': 191, 'much#': 3032, 'spot': 58, 'ted#': 708, 'being#': 5579, 'angles#': 115, 'greater#': 771, '9': 123, '0': 93, 'Â°': 13, '#': 461, 'supposed#': 197, 'impossible#': 243, 'according#': 1181, 'proposed#': 726, 'concentrated#': 176, 'tiny#': 114, 'nucleus#': 185, 'center#': 1400, 'While#': 1642, 'experimenting#': 32, 'products#': 624, 'decay#': 111, '1913#': 234, 'radioch': 1, 'emist#': 42, 'Frederick#': 319, 'So': 17, 'd': 714, 'dy#': 126, 'appeared#': 1763, 'more#': 12982, 'type#': 1125, 'each#': 3628, 'position#': 1512, 'periodic#': 73, 'table#': 367, 'term#': 1944, 'iso': 52, 'tope#': 18, 'Margaret#': 252, 'Todd#': 155, 'suitable#': 260, 'name#': 5757, 'belong#': 155, 'same#': 4147, 'element#': 416, 'J': 98, '.': 86, '.#': 115, 'created#': 1903, 'technique#': 384, 'separating#': 65, 'his#': 33739, 'i': 320, 'oni': 25, 'subsequently#': 639, 'led#': 2613, 'discovery#': 301, 'stable#': 204, 'topes#': 36, 'Ni': 128, 'els#': 111, 'Bo': 114, 'h': 340, 'r#': 71, 'assumed#': 314, 'orbit#': 221, 'finite#': 121, 'set#': 3151, 'orbits#': 64, 'jump#': 113, 'between#': 7521, 'changes#': 923, 'energy#': 1086, 'corresponding#': 196, 'absorption#': 83, 'radiation#': 309, 'photon#': 55, 'quanti': 20, 'zation#': 107, 'normally#': 305, 'acceleration#': 60, 'including#': 9072, 'circular#': 132, 'lose#': 262, 'kinetic#': 47, 'emitted#': 48, 'electromagnetic#': 62, 'see#': 1683, 'syn': 117, 'ch': 365, 'ro': 362, 'tron#': 45, 'b#': 157, 'emit#': 30, 'spec': 187, 'tra#': 71, 'Later#': 696, 'year#': 5493, 'Henry#': 1208, 'Mo': 17, 'seley#': 8, 'provided#': 1319, 'additional#': 778, 'experimental#': 253, 'favor#': 290, 'These#': 2462, 'results#': 727, 'An': 84, 'toni': 6, 'us#': 32, 'Van#': 348, 'B': 503, 'ek#': 6, 'contains#': 954, 'its#': 14478, 'nuclear#': 440, 'equal#': 504, 'Until#': 243, 'experiments#': 235, 'physical#': 678, 'quantity#': 155, 'That#': 857, 'remains#': 1019, 'accepted#': 648, 'today#': 1077, 'Ch': 61, 'emical#': 55, 'bonds#': 280, 'now#': 3551, 'explained#': 336, 'Gilbert#': 180, 'Newton#': 314, 'Lewis#': 405, '1916#': 213, 'interactions#': 95, 'constitu': 92, 'ent#': 104, 'chemical#': 389, 'properties#': 399, 'largely#': 790, 'repeat#': 83, 'themselves#': 1006, '1919#': 252, 'American#': 10007, 'Irving#': 80, 'L': 131, 'ang': 44, 'mu': 71, 'ir#': 2, 'connected#': 474, 'clu': 108, 'stered#': 55, 'some#': 7439, 'manner#': 346, 'G': 547, 'roups#': 31, 'occupy#': 78, 'shells#': 85, 'Ster': 53, 'n': 472, 'â\\x80\\x93': 111, 'Ger': 73, 'l': 516, 'ach#': 7, 'experiment#': 220, '1922#': 230, 'further#': 1517, 'quantum#': 202, 'When#': 2605, 'beam#': 123, 'silver#': 368, 'passed#': 804, 'specially#': 89, 'shaped#': 142, 'magnetic#': 196, 'field#': 1163, 'split#': 458, 'based#': 3041, 'angular#': 85, 'momentum#': 139, 'spin#': 87, 'random#': 201, 'spread#': 3860, 'into#': 9456, 'line#': 5710, 'Instead#': 328, 'parts#': 1241, 'depending#': 364, 'whether#': 889, 'oriented#': 76, 'down#': 2008, '1924#': 227, 'Louis#': 1151, 'glie#': 24, 'extent#': 309, 'waves#': 208, '1926#': 234, 'Er': 49, 'win#': 23, 'S': 421, 'r': 185, 'Ã¶': 68, 'dinger#': 17, 'develop#': 533, 'mathematical#': 229, 'described#': 1604, 'three-': 65, 'dimensi': 73, 'onal#': 104, 'w': 122, 'ave': 8, 'forms#': 965, 'point#': 1988, 'consequence#': 137, 'using#': 2360, 'describe#': 354, 'mathematically#': 20, 'obtain#': 262, 'precise#': 134, 'values#': 462, 'both#': 5235, 'time#': 9303, 'uncertainty#': 66, 'principle#': 257, 'formulated#': 60, 'Wer': 54, 'ner#': 121, 'H': 578, 'eisen': 10, 'berg#': 81, 'accuracy#': 147, 'measuring#': 99, 'range#': 1202, 'probable#': 77, 'vice#': 119, 'ver': 104, 'sa#': 40, 'able#': 1311, 'observations#': 156, 'behavior#': 335, 'previous#': 1023, 'models#': 483, 'such#': 9222, 'certain#': 1049, 'structural#': 189, 'tral#': 60, 'patterns#': 200, 'planetary#': 54, 'discarded#': 62, 'orbital#': 142, 'zones#': 125, 'where#': 6452, 'most#': 8728, 'likely#': 762, 'observed#': 379, 'development#': 1841, 'trometer#': 9, 'allowed#': 1134, 'increased#': 939, 'device#': 416, 'uses#': 852, 'magnet#': 33, 'bend#': 37, 'tra': 29, 'jec': 40, 'tory#': 38, 'ions#': 76, 'amount#': 682, 'determined#': 466, 'Francis#': 338, 'William#': 1772, 'Aston#': 22, 'instrument#': 314, 'show#': 2542, 'had#': 36376, 'masses#': 99, 'varied#': 196, 'integer#': 105, 'amounts#': 248, 'rule#': 778, 'explanation#': 165, 'aw': 44, 'aited#': 24, 'neutron#': 30, 'un': 408, 'similar#': 1787, 'proton#': 62, 'James#': 1575, 'Chad': 9, 'wic': 29, 'k#': 324, '1932#': 246, 'Iso': 3, 'then#': 5458, 'protons#': 68, 'neutrons#': 37, '1938#': 342, 'German#': 2337, 'Otto#': 143, 'a': 328, 'n#': 192, 'student#': 648, 'directed#': 863, 'onto#': 374, 'urani': 21, 'um#': 548, 'expec': 81, 'ting#': 452, 'get#': 971, 'transurani': 1, 'bari': 3, 'product#': 592, 'Lise#': 4, 'Meit': 4, 'her#': 8550, 'nephew#': 156, 'Frisch#': 5, 'fied#': 214, 'fission#': 14, '1944#': 373, 'received#': 2309, 'prize#': 259, 'Despite#': 916, 'efforts#': 595, 'contributions#': 264, '1950s#': 577, 'improved#': 380, 'accelerators#': 31, 'detec': 45, 'tors#': 41, 'study#': 1273, 'imp': 43, 'acts#': 475, 'moving#': 565, 'high#': 2736, 'ener': 114, 'gies#': 123, 'N': 381, 'e': 534, 'utrons#': 4, 'had': 14, 'rons#': 14, 'composites#': 12, 'smaller#': 878, 'quar': 130, 'ks#': 130, 'standard#': 1082, 'developed#': 1789, 'has#': 21065, 'successfully#': 357, 'terms#': 1132, '-': 909, 'forces#': 1264, 'govern#': 52, 'Though#': 453, 'denoted#': 59, 'can#': 8585, 'cut#': 580, 'modern#': 1799, 'scientific#': 495, 'usage#': 276, 'composed#': 622, 'various#': 1962, 'three#': 5282, 'fer': 57, 'mions#': 19, 'hydro': 18, 'gen': 16, '1#': 156, 'hydron#': 2, 'on#': 242, 'least#': 1386, 'massive#': 365, 'electrical#': 194, 'size#': 9783, 'too#': 1148, 'available#': 1431, 'techniques#': 397, 'rest#': 982, 'Under#': 528, 'ordinary#': 198, 'conditions#': 743, 'bound#': 205, 'positively#': 62, 'attraction#': 166, 'from#': 52966, 'opposite#': 396, 'fewer#': 216, 'becomes#': 532, 'Elec': 18, 'trons#': 11, 'been#': 12839, 'since#': 4431, 'late#': 2356, 'mostly#': 917, 'thanks#': 147, 'history#': 2562, 'details#': 310, 'Pro': 196, 'tons#': 3, ',': 63, '3': 475, '6#': 114, 'al': 191, 'pha': 1, 'bar': 100, 'ment#': 262, 'jects#': 3, 'nuclei#': 53, '1920#': 260, 'distinct#': 504, 'free#': 1369, '9#': 277, 'heavi': 25, 'est#': 25, 'reduced#': 515, 'binding#': 250, 'collectively#': 90, 'nucle': 21, 'ons#': 68, 'comparable#': 110, 'on': 198, 'order#': 2114, 'although#': 2245, \"'\": 54, 'surface#': 845, 'sharply#': 75, 'defined#': 723, 'English#': 2548, 'Standard#': 192, 'Model#': 93, 'truly#': 121, 'elementary#': 277, 'internal#': 438, 'structure#': 1001, 'composite#': 80, 'There#': 12968, 'having#': 1950, 'fractional#': 25, 'â': 44, '\\x88': 44, '\\x92': 42, 'consist#': 186, 'distinction#': 270, 'accounts#': 295, 'difference#': 386, 'held#': 2434, 'together#': 5886, 'strong#': 1043, 'interaction#': 139, 'force#': 1126, 'medi': 24, 'glu': 8, 'turn#': 760, 'resi': 38, 'du': 15, 'somewhat#': 374, 'range-': 1, 'article#': 552, 'member#': 1694, 'family#': 10924, 'gau': 62, 'ge#': 65, 'bo': 13, 'sons#': 361, 'mediate#': 13, 'All#': 1437, 'make#': 2489, 'radius#': 143, 'approximately#': 933, '1.': 2, 'Â#': 233, 'total#': 4820, '10Â#': 83, 'short': 56, 'ranged#': 1, 'attractive#': 97, 'potential#': 578, 'dual#': 142, 'distances#': 114, '2.5#': 243, 'powerful#': 513, 'elec': 112, 'tro': 72, 'static#': 32, 'causes#': 419, 'repel#': 15, 'Atoms#': 12, 'Within#': 302, 'single#': 2409, 'may#': 5287, 'vary#': 295, 'determining#': 94, 'uclide#': 7, 'relative#': 368, 'determines#': 71, 'stability#': 126, 'under': 160, 'going#': 801, 'classified#': 328, 'Fer': 58, 'obey#': 32, 'P': 369, 'auli#': 13, 'exclu': 44, 'sion#': 107, 'pro': 217, 'hi': 39, 'bits#': 34, 'occupying#': 69, 'state#': 3942, 'every#': 8733, 'must#': 1552, 'applies#': 117, 'cloud#': 63, 'tends#': 124, 'drop#': 180, 'lower#': 942, 'neutron': 2, 'closer#': 220, 'increases#': 289, 'higher#': 1042, 'proportion#': 157, 'required#': 1080, 'offset#': 73, 'mutual#': 149, 'repulsion#': 6, 'above#': 1325, 'calcium#': 87, 'highest#': 945, 'proton': 1, 'lead-': 2, '20': 7, '8#': 355, '1.5#': 276, 'modified#': 317, 'require#': 400, 'very#': 3002, 'Nuclear#': 83, 'fusion#': 94, 'occurs#': 433, 'join#': 404, 'getic#': 46, 'collision#': 52, 'core#': 344, 'Sun#': 414, '10#': 29, 'ke': 25, 'V': 122, 'overcome#': 115, 'repulsi': 1, 'coulom': 6, 'barri': 2, 'fuse#': 27, 'process#': 1503, 'causing#': 347, 'nuclei': 1, 'usually#': 1858, 'photons#': 66, 'modi': 32, 'fies#': 64, 'following#': 3032, 'reaction#': 364, 'less#': 1991, 'sum#': 200, 'separate#': 959, 'u': 133, 'sable#': 54, 'g': 484, 'am': 229, 'ma#': 70, 'ray#': 38, 'beta#': 57, 'mass': 7, 'equiv': 35, 'alence#': 74, 'formula#': 411, 'loss#': 750, 'speed#': 477, 'light#': 1221, 'deficit#': 73, 'part#': 5689, 'non-': 78, 'recoverable#': 1, 'fused#': 62, 'remain#': 646, 'requires#': 361, 'create#': 860, 'iron#': 443, 'nickel': 1, 'a#': 595, '6': 164, 'is#': 13, 'exother': 4, 'mic#': 53, 'releases#': 271, 'bring#': 459, 'them#': 9464, 'gy': 8, 'releasing#': 176, 'makes#': 873, 'stars#': 788, 'self-': 105, 'su': 152, 'staining#': 9, 'per#': 10326, 'begins#': 334, 'decrease#': 164, 'processes#': 329, 'en': 378, 'dother': 2, 'undergo#': 82, 'sustain#': 71, 'equilibrium#': 72, 'star#': 882, 'attracted#': 267, 'bin': 27, 'ds#': 178, 'inside#': 567, 'well#': 5172, 'surrounding#': 617, 'external#': 279, 'source#': 930, 'needed#': 668, 'escape#': 364, 'Hence#': 79, 'near#': 2348, 'those#': 9132, 'separations#': 8, 'wave#': 378, 'region#': 2153, 'standing#': 327, 'does#': 1775, 'move#': 903, 'function#': 898, 'characterises#': 4, 'probability#': 192, 'appears#': 783, 'particular#': 1038, 'location#': 1067, 'Only#': 383, 'orbitals#': 89, 'exist#': 565, 'possible#': 1352, 'rapidly#': 322, 'Or': 48, 'bitals#': 5, 'ring#': 335, 'no': 220, 'structures#': 471, 'differ#': 173, 'shape#': 465, 'orientation#': 114, 'Each#': 557, 'corresponds#': 83, 'level#': 1450, 'change#': 1179, 'bing#': 54, 'sufficient#': 277, 'boost#': 74, 'Likewise#': 85, 'spon': 83, 'taneous#': 101, 'emission#': 58, 'while#': 5010, 'radi': 62, 'ating#': 309, 'excess#': 132, 'characteristic#': 250, 'states#': 1452, 'responsible#': 619, 'lines#': 979, 'remove#': 238, 'add#': 214, 'tron': 5, 'strip#': 176, 'ground-': 1, 'compared#': 625, '2.': 1, 'million#': 2680, 'splitting#': 54, 'de': 55, 'uteri': 5, 'trically#': 38, 'neutral#': 115, 'sur': 121, 'plus#': 301, 'far': 75, 'thest#': 15, 'transferred#': 404, 'nearby#': 901, 'shared#': 438, 'mechanism#': 239, 'bond#': 221, 'compounds#': 188, 'onic#': 49, 'co': 206, 'v': 337, 'alent#': 9, 'network#': 821, 'crystals#': 91, 'definition#': 402, 'any#': 7405, 'ad': 179, 'mit#': 116, 'exactly#': 272, 'proti': 1, 'triti': 8, '18': 2, 'ununoc': 1, 'ti': 144, 'About#': 3052, 'uclides#': 11, 'occur#': 577, 'naturally#': 149, 'Earth#': 897, '25': 229, '4#': 290, 'referred#': 1140, 'even#': 2699, 'Another#': 928, '16': 192, 'bringing#': 247, 'though#': 1937, 'getically#': 8, 'formally#': 301, 'hal': 31, 'f-': 26, 'lives#': 509, 'longer#': 950, 'years#': 20388, 'long': 24, '-lived#': 14, 'enough#': 899, 'present#': 6371, 'birth#': 640, 'solar#': 154, 'system#': 3586, 'collection#': 856, 'primor': 16, 'dial#': 16, 'Finally#': 201, 'short-lived#': 126, 'daughter#': 1011, 'else#': 254, 'natural#': 1105, 'cos': 84, 'car': 92, 'bon': 44, '14#': 24, 'exists#': 285, 'handful#': 91, 'average#': 14329, '3.2#': 269, 'T': 354, 'wenty': 9, 'six#': 1672, 'largest#': 2103, 'ten#': 872, 'E': 372, 'lements#': 58, 'numbered#': 109, 'Stability#': 6, 'affected#': 390, 'presence#': 610, 'magic#': 277, 'represent#': 376, 'closed#': 791, 'filled#': 290, 'correspond#': 70, 'levels#': 657, 'shell#': 150, 'confers#': 7, 'unusual#': 289, 'four#': 3174, 'odd#': 121, 'lithi': 17, 'um': 21, 'boron': 1, 'nitro': 2, 'Also#': 786, 'occurring#': 169, 'life#': 2730, 'over#': 13553, 'billion#': 454, 'potassi': 45, '40#': 19, 'van': 1, 'adi': 3, '0#': 7, 'lan': 5, 'thanum': 1, '13': 4, 'tan': 58, 'talum': 1, '180': 90, 'Most#': 1329, 'highly#': 727, 'unstable#': 68, 'respect#': 323, 'even': 1, 'therefore#': 693, 'strongly#': 345, 'p': 488, 'airing#': 13, 'effects#': 837, 'large#': 3415, 'majority#': 950, 'comes#': 538, 'instead#': 1204, 'dimension#': 72, 'expres': 50, 'ses#': 353, 'count#': 171, 'use#': 4811, '12#': 106, 'actual#': 473, 'often#': 3900, 'expressed#': 474, 'unified#': 89, 'unit#': 668, 'twel': 53, 'th#': 227, 'y': 324, 'lowest#': 298, 'weight#': 452, '00': 11, 'value#': 945, 'roughly#': 350, '14': 35, 'except#': 607, 'below#': 4585, 'directly#': 790, 'emists#': 13, 'moles#': 4, 'One#': 2094, 'mole#': 19, 'chosen#': 527, 'close#': 1164, 'gram#': 48, 'Because#': 718, '12': 33, 'weigh': 54, 'lack#': 676, 'well-': 46, 'outer#': 226, 'boundary#': 403, 'measure#': 330, 'distance#': 536, 'out#': 12446, 'extends#': 159, 'assumes#': 70, 'exhibit#': 156, 'spherical#': 56, 'obeyed#': 7, 'vacuum#': 116, 'space#': 1137, 'Atomic#': 82, 'i#': 46, 'derived#': 686, 'joined#': 1105, 'varies#': 201, 'chart#': 496, 'neighboring#': 226, 'coordination#': 52, 'mechanical#': 236, 'property#': 758, 'increase#': 809, 'columns#': 225, 'across#': 1300, 'rows#': 70, 'left#': 2364, 'right#': 1453, 'Consequently#': 99, 'smallest#': 154, 'heli': 47, 'esi': 27, 'subjected#': 87, 'devi': 61, 'ate#': 331, 'sym': 117, 'metry#': 52, 'deformation#': 15, 'depends#': 186, 'magnitude#': 138, 'shown#': 774, 'group': 1, 'theoretical#': 105, 'considerations#': 57, 'Aspherical#': 1, 'ations#': 239, 'might#': 978, 'elicited#': 11, 'cry': 28, 'stal-': 1, 'low': 39, 'attice#': 20, 'sites#': 542, 'Si': 153, 'gnificant#': 20, 'el': 28, 'li': 135, 'so': 3, 'dal#': 7, 'deformations#': 2, 'recently#': 650, 'sul': 83, 'fur#': 147, 'chalco': 1, 'gen#': 43, 'rite-': 1, 'thousands#': 407, 'aveleng': 34, 'ths#': 61, '400': 2, '00Â#': 28, 'viewed#': 291, 'optical#': 205, 'individual#': 930, 'scanning#': 34, 'tun': 39, 'neling#': 11, 'visu': 13, 'ali': 133, 'ze#': 74, 'minuteness#': 1, 'consider#': 353, 'typical#': 376, 'human#': 1495, 'hair#': 225, 'width#': 97, 'sextillion#': 3, 'twice#': 417, 'carat#': 7, 'amon': 60, 'd#': 243, 'apple#': 70, 'magni': 9, 'would#': 9142, 'original#': 2689, 'Every#': 183, 'subject#': 851, 'R': 307, 'activity#': 549, 'Other#': 1475, 'rare#': 385, 'include#': 3452, 'jection#': 61, 'sters#': 54, 'analog#': 94, 'allows#': 507, 'ex': 493, 'cited#': 384, 'way#': 2240, 'conver': 46, 'si': 160, 'â\\x80\\x94#': 773, 'produces#': 228, 'high-speed#': 66, 'followed#': 1497, 'production#': 2116, 'high-': 36, 'few#': 2259, 'explo': 66, 'fragments#': 107, 'varying#': 152, 'several#': 4378, 'perio': 76, 'fe': 1, 'half#': 1263, 'sample#': 206, 'exponential#': 29, 'steadily#': 83, 'decreases#': 64, 'remaining#': 735, 'forth#': 173, 'Elementary#': 420, 'possess#': 115, 'intrin': 21, 'sic#': 21, 'analo': 67, 'gous#': 58, 'object#': 426, 'spin': 49, 'ning#': 127, 'strictly#': 92, 'speaking#': 252, 'po': 131, 'int': 44, 'rotating#': 72, 'Spin#': 29, 'units#': 5066, 'Plan': 27, 'constant#': 426, 'Â': 19, '½': 7, 'spin-': 1, 'addition#': 1661, 'itself#': 1232, 'pos': 101, 'ses': 61, 'atom': 5, 'moment': 1, 'just#': 2135, 'classically#': 21, 'dominant#': 248, 'contribution#': 217, 'Due#': 393, 'pair#': 333, 'spins#': 17, 'cancel#': 36, 'reducing#': 189, 'pole#': 24, 'moment#': 211, 'zero#': 281, 'romagnetic#': 5, 'cobalt#': 11, 'nickel#': 46, 'leads#': 325, 'aired#': 3, 'net#': 160, 'overall#': 666, 'overl': 90, 'ap#': 59, 'achieved#': 458, 'aligned#': 91, 'exchange#': 521, 'moments#': 139, 'lined#': 55, 'material#': 1094, 'produce#': 860, 'measurable#': 31, 'macro': 13, 'scopic#': 50, 'Paramagnetic#': 1, 'directions#': 120, 'cases#': 989, 'Nor': 27, 'mally#': 26, 'thermal#': 131, 'x': 52, 'enon-': 1, '129#': 66, 'polari': 3, 'significant#': 1368, 'direc': 2, 'tion': 16, 'condition#': 427, 'per': 140, 'important#': 2217, 'applications#': 282, 'reson': 47, 'ance#': 105, 'imaging#': 39, 'depen': 62, 'dence#': 50, 'reaches#': 151, 'minimum#': 247, 'absolute#': 279, 'vanish': 12, 'es#': 578, 'goes#': 338, 'infinity#': 37, 'inverse#': 53, 'quan': 6, 'tum': 6, 'centered#': 149, 'specific#': 797, 'time-': 5, 'independent#': 839, 'equation#': 268, 'bind#': 65, 'vol': 30, 'ts#': 334, 'ground#': 759, 'i.e#': 342, 'stationary#': 46, 'transition#': 202, 'raises#': 40, 'Depen': 4, 'e.g#': 454, 'grounded#': 29, 'matching#': 74, 'precisely#': 119, 'calculated#': 148, 'particle-': 1, 'fashion#': 209, 'strikes#': 83, 'response#': 650, 'proportional#': 113, 'frequency#': 305, 'appear#': 852, 'bands#': 581, 'spectrum#': 129, 'depend#': 118, 'factors#': 400, 'continuous#': 222, 'gas#': 592, 'plasma#': 71, 'absorbed#': 129, 'Those#': 203, 'tane': 31, 'ously#': 140, 'traveling#': 169, 'back#': 2435, 'fil': 72, 'ter#': 78, 'series#': 4772, 'dark#': 341, 'output#': 271, 'observer#': 66, 'viewing#': 98, 'view#': 803, 'background#': 357, 'sees#': 195, 'Spec': 20, 'measurements#': 104, 'strength#': 366, 'allow#': 752, 'composition#': 306, 'substance#': 184, 'C': 481, 'examination#': 129, 'reveals#': 159, 'display#': 493, 'fine#': 261, 'coupling#': 13, 'outer': 18, 'become#': 2468, 'components#': 283, 'Z': 110, 'eman#': 2, 'effect#': 895, 'Some#': 2240, 'confi': 37, 'gurations#': 24, 'thus#': 1180, 'shi': 120, 'fts#': 121, 'slightly#': 432, 'resulting#': 635, 'cause#': 905, 'Star': 39, 'interacting#': 36, 'proper#': 302, 'stimul': 50, 'parallel#': 273, 'phases#': 82, 'roni': 15, 'asers#': 14, 'herent#': 29, 'narrow#': 256, 'band#': 3709, 'alen': 2, 'cy#': 121, 'combining#': 118, 'power#': 2126, 'displace#': 9, 'forming#': 310, 'combined#': 565, 'ding#': 294, 'tend#': 320, 'emically#': 21, 'fills#': 29, 'emp': 33, 'ties#': 216, 'transfer#': 366, 'useful#': 284, 'approximation#': 69, 'one-': 71, 'others#': 1759, 'short#': 1381, 'full#': 1195, 'compound#': 139, 'sodium#': 78, 'loride#': 41, 'sal': 62, 'many#': 7364, 'alences#': 1, 'tenden': 33, 'cies#': 75, 'share#': 548, 'differing#': 77, 'takes#': 733, 'sharing#': 151, 'simple#': 575, 'transfers#': 50, 'Examples#': 202, 'organic#': 381, 'displayed#': 234, 'laid#': 298, 'recurring#': 114, 'group#': 3480, 'column#': 189, 'horizontal#': 177, 'filling#': 84, 'completely#': 569, 'iner': 11, 't#': 745, 'noble#': 128, 'Qu': 19, 'antities#': 1, 'temperature#': 808, 'pressure#': 818, 'solids#': 33, 'liqu': 42, 'ids#': 72, 'plas': 5, 'mas#': 4, 'allo': 21, 'tropes#': 2, 'solid#': 251, 'graphite#': 19, 'ase': 21, 'ous#': 266, 'z': 355, 'temperatures#': 446, 'se': 28, 'con': 379, 'den': 79, 'sate#': 12, 'scale#': 449, 'apparent#': 317, 'super': 113, 'cooled#': 43, 'haves#': 10, 'super#': 30, 'fundamental#': 227, 'checks#': 63, 'surfaces#': 122, 'barrier#': 92, 'in': 430, 'moun': 20, 'tunnel#': 104, 'plan': 73, 'ar#': 119, 'des#': 446, 'sor': 24, 'bed#': 112, 'providing#': 479, 'neling': 2, 'current#': 1311, 'density#': 9061, 'canning#': 3, 'taken#': 1364, 'tip#': 129, 'moves#': 241, 'past#': 801, 'permits#': 88, 'plo': 78, 'tting#': 34, 'displacement#': 67, 'versus#': 3661, 'ateral#': 67, 'separation#': 173, 'calculation#': 60, 'shows#': 1114, 'scanning': 1, 'images#': 319, 'visible#': 260, 'confir': 24, 'ms#': 156, 'bias#': 75, 'sp': 64, 'ace-': 1, 'averaged#': 1, 'closely#': 399, 'packed#': 58, 'levels': 2, 'mi#': 56, 'local#': 2835, 'removing#': 122, 'passes#': 241, 'to': 71, 'intensity#': 115, 'beams#': 53, 'Tech': 23, 'ques#': 7, 'apori': 5, 'induc': 3, 'tively#': 7, 'coupled#': 83, 'scopy#': 35, 'trometry#': 8, 'samples#': 143, 'area': 1, 'selec': 1, 'tive#': 204, 'method#': 859, 'measures#': 252, 'transmission#': 163, 'interacts#': 18, 'portion#': 619, 'probe#': 1, 'tomo': 1, 'graph#': 1, 'anometer#': 1, 'resolution#': 210, 'identify#': 224, 'of-': 40, 'flight#': 8, 'analy': 131, 'distant#': 121, 'Speci': 28, 'fic#': 28, 'contained#': 482, 'separated#': 348, 'related#': 847, 'transitions#': 26, 'colors#': 330, 'replicated#': 22, 'as': 12, 'discharge#': 2, 'lamp#': 89, 'containing#': 412, 'eli': 6, 'before#': 4363, 'observ': 27, 'Universe#': 69, '/': 78, 'alax': 28, 'y#': 291, 'Mil': 78, 'ky#': 65, 'Way#': 187, 'concentration#': 269, 'inter': 276, 'stellar#': 72, 'medium#': 233, 'IS': 63, 'M#': 60, 'ranging#': 246, 'Local#': 257, 'Bu': 81, 'b': 316, 'ble#': 198, 'neighborhood#': 224, 'Stars#': 352, 'dense#': 116, 'clou': 75, 'evolutionary#': 90, 'steady#': 122, 'rich': 17, 'remainder#': 206, 'unknown#': 358, 'stages#': 225, 'Big#': 594, 'ang#': 89, 'thesis#': 105, 'reactions#': 181, 'minutes#': 596, 'perhaps#': 493, 'bery': 5, 'boron#': 11, 'U': 181, 'bi': 149, 'qu': 260, 'itousness#': 1, 'relies#': 83, 'Where#': 168, 'ma': 19, 'possibly#': 386, 'bare#': 53, 'drops#': 82, 'statistically#': 28, 'favorable#': 92, 'complete#': 853, 'domin': 90, '0Â#': 65, 'epoch#': 19, 'recombination#': 8, 'expanding#': 140, 'attached#': 284, 'Since#': 1357, 'via#': 985, 'triple#': 72, 'sequence#': 368, 'generated#': 259, 'lation#': 63, 'jected#': 28, 'nov': 17, 'e#': 381, 'A': 406, 'involve#': 157, 'capture#': 275, 'lead#': 1403, 'formed#': 1587, 'inhabitants#': 458, 'ne': 14, 'bul': 4, 'collapsed#': 127, 'molecular#': 96, 'Solar#': 59, 'System#': 572, 'age#': 32281, 'radiometric#': 4, 'dating#': 433, 'crust#': 37, 'wells#': 76, 'abundance#': 86, '3#': 164, 'trace#': 85, 'beginning#': 1028, 'i.e.#': 217, 'nor#': 414, 'Car': 94, 'continuously#': 125, 'atmosphere#': 214, 'arti': 31, 'ficially#': 43, 'deliberately#': 95, 'by': 37, 'reactors#': 18, 'explosions#': 25, 'transuranic#': 1, 'element': 1, 'plutoni': 4, 'nep': 2, 'tuni': 2, 'ran': 25, 'suranic#': 1, 'fetimes#': 7, 'shorter#': 159, 'identi': 24, 'fi': 72, 'quantities#': 155, 'long#': 2291, 'dec': 18, 'ayed#': 18, 'exception#': 307, 'traces#': 73, '4': 209, 'deposited#': 66, 'Natural#': 192, 'deposits#': 208, 'ore#': 103, 'Although#': 1731, 'ar': 280, 'gon#': 10, 'neon#': 63, 'overwhelming#': 70, 'salt#': 228, 'silicates#': 5, 'liquid#': 277, 'metals#': 130, 'networked#': 15, 'arrangements#': 153, 'smal': 25, 'l-': 38, 'interrupted#': 62, 'associated#': 944, 'island#': 1237, '103#': 99, 'heavy#': 642, 'relatively#': 626, 'against#': 3622, 'candidate#': 335, 'exi': 1, '184': 2, 'antimatter#': 54, 'positron#': 17, 'anti': 84, 'equivalent#': 383, 'meet#': 478, 'an': 231, 'hilate#': 7, 'along#': 3010, 'im': 18, 'balance#': 215, 'latter#': 777, 'universe#': 206, 'yet#': 672, 'fully#': 500, 'understood#': 230, 'bary': 4, 'genesis#': 4, 'offer#': 530, '1996#': 831, 'counterpart#': 81, 'thesi': 30, 'laboratory#': 157, 'Geneva#': 161, 'exotic#': 62, 'replacing#': 193, 'replaced#': 1213, 'predictions#': 64, 'Arable#': 5, 'land#': 5341, 'Latin#': 978, 'arabilis#': 1, 'plowed#': 4, 'capable#': 310, 'plou': 5, 'gh': 109, 'ed#': 45, 'grow#': 327, 'crops#': 197, 'Britain#': 787, 'traditionally#': 286, 'contrasted#': 59, 'pasturable#': 1, 'lands#': 383, 'eaths#': 6, 'sh': 124, 'ep': 13, 'rearing#': 2, 'm': 200, 'quite#': 464, 'kind#': 533, 'agencies#': 195, 'concerned#': 253, 'agriculture#': 321, 'statistics#': 193, 'arable#': 37, 'F': 138, 'O#': 88, 'World#': 2934, 'Bank#': 408, 'glos': 6, 'sary#': 6, 'accompanying#': 88, 'O': 292, 'â\\x80': 11, '\\x9c': 9, 'temporary#': 214, 'agricultural#': 422, 'ple-': 1, 'cropped#': 1, 'areas#': 1807, 'counted#': 115, 'once#': 1277, 'meadow': 21, 'mowing#': 5, 'pasture#': 26, 'market#': 1045, 'kitchen#': 87, 'gardens#': 141, 'temporarily#': 139, 'fallow#': 6, 'five#': 2932, 'abandoned#': 376, 'cultivation#': 116, 'included#': 2651, 'category#': 315, 'Data#': 86, '\\x98': 6, 'land': 71, 'â\\x80\\x99': 78, 'meant#': 425, 'indicate#': 288, 'potentially#': 145, 'cultiv': 25, 'able.': 1, 'â\\x80\\x9d#': 115, 'bri': 52, 'fer#': 5, 'appearing#': 238, 'uro': 11, 'stat#': 11, 'similarly#': 140, 'refers#': 513, 'worked#': 1238, 'tilled#': 5, 'regularly#': 345, 'generally#': 1453, 'crop#': 169, 'tation': 1, '2008#': 1926, 'world#': 3639, 'amoun': 53, 'figure#': 529, 'data#': 910, 'refer#': 519, 'map#': 294, 'CIA#': 85, 'resembles#': 73, 'gricultural#': 53, 'includes#': 1295, 'woo': 36, 'vegetation#': 111, 'or': 203, 'chard': 1, 'viney': 16, 'ards#': 31, 'coffee#': 110, 'tations#': 64, 'rubber#': 89, 'ut#': 27, 'trees#': 474, 'grazed#': 7, 'grasslands#': 20, 'sedge#': 6, 'hay#': 21, 'regions#': 602, 'Land#': 349, 'sense#': 650, 'lacking#': 98, 'capability#': 89, 'itability#': 10, 'limitations#': 84, 'fresh#': 214, 'irrigation#': 66, 'stoniness#': 1, 'ste': 10, 'ness#': 115, 'adverse#': 55, 'climate#': 833, 'excessive#': 104, 'wet': 39, 'racticality#': 1, 'drainage#': 95, 'among#': 2318, 'preclude#': 14, 'agricul': 2, 'turally#': 2, 'productive#': 87, 'S#': 119, 'percent#': 762, 'federal#': 677, 'forested#': 37, 'rangeland#': 3, 'graz': 42, 'ing#': 181, 'livestock#': 97, 'British#': 2867, 'Columbia#': 482, 'Canada#': 1061, 'provincial#': 158, 'Reserve#': 241, 'area#': 8411, 'cultivated#': 132, 'forage#': 18, 'Similar#': 88, 'examples#': 534, 'elsewhere#': 252, 'incapable#': 27, 'sometimes#': 1514, 'converted#': 365, 'New#': 6256, 'food#': 1145, 'reduce#': 424, 'star': 86, 'ation#': 451, 'outcome#': 108, 'country#': 2143, 'politically#': 139, 'impor': 39, 'tation#': 114, 'Ma': 132, 'involves#': 225, 'ging#': 42, 'canals#': 69, 'aqu': 63, 'educ': 31, 'desalination#': 4, 'plants#': 621, 'planting#': 64, 'shade#': 45, 'desert#': 147, 'hydroponic': 2, 'tili': 31, 'er#': 83, 'pesticides#': 52, 'reverse#': 168, 'sis#': 80, 'proces': 29, 'sors#': 104, 'film#': 6414, 'sulation#': 27, 'heat#': 593, 'cold#': 440, 'dit': 16, 'ches#': 16, 'hills#': 174, 'protection#': 410, 'wind#': 288, 'gre': 18, 'houses#': 10, 'outside#': 1190, 'provide#': 1104, 'extremely#': 395, 'expensive#': 230, 'alternative#': 481, 'eawater#': 1, 'Gre': 8, 'house#': 1461, 'desalin': 1, 'ates#': 264, 'ev': 39, 'aporation#': 34, 'sation#': 65, 'input#': 187, 'technology#': 700, 'op': 81, 'timi': 26, 'infertile#': 12, 'fertile#': 83, 'Alumini': 54, 'aluminum#': 70, 'bol': 1, 'num': 8, 'ber': 32, 'sil': 13, 'very': 1, 'white#': 1310, 'soft#': 174, 'non': 8, 'duc': 40, 'tile#': 6, 'third#': 1856, 'abundant#': 108, 'silicon#': 28, 'man': 79, 'tle#': 24, 'reactive#': 21, 'native#': 762, 'specimens#': 86, 'limited#': 927, 'extreme#': 344, 'environments#': 108, '70#': 68, 'minerals#': 94, 'chief#': 608, 'aluminium#': 242, 'au': 159, 'xite#': 16, 'remarkable#': 141, 'ability#': 640, 'resist#': 73, 'passi': 2, 'Struc': 15, 'tural#': 23, 'alloys#': 90, 'vital#': 140, 'ero': 38, 'industry#': 1262, 'transportation#': 295, 'building#': 2011, 'fac': 15, 'ades#': 16, 'window#': 234, 'frames#': 106, 'basis#': 687, 'fates#': 2, 'prev': 77, 'environment#': 450, 'metabolically#': 2, 'keeping#': 220, 'asi': 9, 'veness#': 3, 'tolerated#': 23, 'animals#': 583, 'wing#': 37, 'beneficial#': 72, 'otherwise#': 334, 'biological#': 182, 'roles#': 592, 'continuing#': 260, 'interest#': 1106, 'durable#': 31, 'tweight#': 44, 'mal': 41, 'leable#': 8, 'appearance#': 856, 'dul': 55, 'l#': 62, 'gray#': 62, 'rou': 23, 'easily#': 416, 'gnite#': 13, 'serves#': 891, 'good#': 1246, 'reflec': 20, 'tor#': 99, 'excellent#': 176, 'infrared#': 53, 'yield#': 127, 'pure#': 208, 'M': 37, 'streng': 24, '200#': 552, '600#': 152, 'sti': 17, 'ff': 20, 'steel#': 373, 'machined#': 11, 'cast#': 878, 'drawn#': 286, 'extru': 6, 'ded#': 164, 'arranged#': 290, 'face-': 1, 'cu': 52, 'bic#': 43, 'c#': 12, 'stacking': 1, 'fault#': 1, 'conductor#': 149, 'conduc': 76, 'tivity#': 54, 'copper#': 181, 'superconductor#': 1, 'superconduc': 10, 'critical#': 641, '1.2#': 245, 'kel': 6, 'vin#': 57, '100#': 8440, 'ss#': 66, 'millitesl': 1, 'as#': 65, 'Cor': 10, 'resistance#': 289, 'thin#': 150, 'layer#': 192, 'exposed#': 231, 'air#': 1054, 'effectively#': 315, 'preventing#': 83, 'oxi': 55, 'dation#': 47, 'strongest#': 101, 'resistant#': 53, 'vanic#': 3, 'yed#': 10, 'greatly#': 385, 'particularly#': 1083, 'dissimilar#': 12, 'aci': 143, 'dic#': 48, 'solutions#': 187, 'reacts#': 26, 'aline#': 20, 'ones#': 352, 'alumin': 16, 'ates': 1, 'protective#': 72, 'negligi': 30, 'lorides#': 5, 'well-known#': 255, 'sources#': 610, 'reasons#': 431, 'household#': 8232, 'plum': 28, 'never#': 1795, 'owing#': 103, 'retain#': 170, 'tance#': 40, 'finely#': 18, 'pow': 11, 'dered#': 25, 'making#': 1769, 'component#': 239, 'colored#': 3, 'aints#': 23, 'mirror#': 116, 'finish#': 278, '200': 1, '400Â#': 1, '10': 4, 'out': 44, 'performed#': 7, 'gold#': 835, 'Â°C#': 218, 'hydroxide#': 19, 'conversion#': 149, 'Chal': 9, 'lenges#': 9, 'circum': 53, 'venting#': 7, 'inhi': 50, 'expenses#': 72, 'storage#': 274, 're': 381, 'generation#': 425, 'whose#': 1339, 'however#': 2277, 'Ã': 141, '\\x97': 1, 'mic': 3, 'practical#': 234, 'application#': 331, 'marine#': 190, 'sediments#': 33, 'mang': 17, 'anese#': 17, 'dules#': 10, 'gl': 59, 'acial#': 56, 'ice#': 479, 't': 411, 'z#': 102, 'rock#': 1342, 'exposures#': 26, 'mete': 34, 'orites#': 7, 'role#': 2440, 'transport#': 448, 'deposition#': 38, 'sediment#': 27, 'burial#': 114, 'erosion#': 87, 'scales#': 84, 'Co': 27, 'genic#': 4, 'applied#': 539, 'studies#': 656, 'Moon#': 292, 'Mete': 3, 'oro': 2, 'id#': 24, 'departure#': 260, 'parent#': 170, 'bodies#': 370, 'intense#': 209, 'during#': 6892, 'travel#': 552, 'substantial#': 244, 'After#': 3908, 'falling#': 216, 'atmospheric#': 101, 'drastically#': 61, 'reduces#': 85, 'orite#': 29, 'ter': 146, 'restrial#': 52, 'research#': 1310, 'formation#': 354, 'our#': 747, 'believe#': 540, 'released#': 3939, 'mel': 73, 'differenti': 87, 'astero': 21, '4.': 9, '5#': 114, 'ago#': 401, 'Stable#': 6, 'fuses#': 10, 'magnesi': 69, 'estimated#': 620, '14th#': 192, 'fraction#': 83, '8.3#': 308, 'metal': 57, 'lic#': 56, 'planet#': 226, 'Ear': 4, 'silicate#': 10, 'silic': 11, 'verall#': 55, '1.4#': 251, 'eighth#': 164, 'gains#': 91, 'atiles#': 3, 'hydrocarbon#': 20, 'affinity#': 65, 'almost#': 1386, 'elemental#': 20, 'Fel': 2, 'spars#': 1, 'alumino': 1, 'Native#': 3397, 'minor#': 470, 'phase#': 287, 'fu': 30, 'acity#': 1, 'interiors#': 34, 'cano': 21, 'reported#': 1038, 'seeps#': 4, 'northeastern#': 84, 'continental#': 205, 'slope#': 108, 'South#': 2218, 'China#': 1028, 'Sea#': 534, 'Chen#': 62, '2011#': 1918, 'origin#': 519, 'reduction#': 167, 'tetra': 10, 'hydrox': 1, 'bacteria#': 94, 'beryl#': 1, 'olite#': 3, 'gar': 39, 'spinel#': 1, 'tur': 47, 'ise#': 13, 'I': 73, 'mpurities#': 2, 'Al': 243, 'romi': 9, 'gem': 11, 'stones#': 11, 'ruby#': 8, 'sap': 5, 'phire#': 12, 'widespread#': 334, 'economic#': 1147, 'Almost#': 133, 'weathering#': 79, 'bed': 28, 'tropical#': 187, 'climatic#': 39, 'Large#': 102, 'Australia#': 1037, 'Brazil#': 268, 'Guinea#': 93, 'Jamaica#': 115, 'primary#': 960, 'mining#': 305, 'India#': 643, 'Indonesia#': 131, 'Russia#': 705, 'Suriname#': 32, 'ay': 42, 'Relevant#': 1, 'equations#': 142, 'intermediate#': 121, 'simpli': 58, 'solu': 41, 'Depending#': 69, 'quality#': 583, 'waste#': 175, 'tailings#': 2, 'Ã©': 44, 'roul': 7, 'inten': 54, 'sive#': 42, 'solution#': 325, 'mol': 18, 'mixture#': 168, 'flu': 44, 'oride#': 14, 'troly': 25, 'give#': 879, 'sin': 15, 'bottom#': 288, 'tapped#': 15, 'blocks#': 209, 'billets#': 6, 'processing#': 250, 'ano': 15, 'consumed#': 93, 'flow#': 366, 'ters#': 83, 'hot#': 421, 'tered#': 11, 'orine#': 3, 'return#': 1185, 'tic#': 97, 'cells#': 595, 'cell#': 451, 'mainly#': 727, 'trochemical#': 8, 'movement#': 1059, 'induced#': 75, 'rebuilt#': 206, 'wear#': 217, 'sumes#': 18, 'lot#': 334, 'worldwide#': 584, 'consumption#': 201, '15': 265, '±': 4, 'kilowatt': 1, 'hours#': 727, 'kilo': 33, 'achieve#': 317, '12.': 2, 'W': 218, '·': 3, '.1#': 71, 'Compare#': 12, 'Minimi': 1, 'older#': 9483, 'technologies#': 141, 'typically#': 876, 'amperes#': 1, 'state-': 37, 'the-': 47, 'art#': 1329, 'operate#': 348, '350#': 80, 'Tri': 73, 'als#': 207, '500#': 433, 'Heroul': 1, 'purity#': 37, 'Further#': 202, 'puri': 26, 'fication#': 96, 'done#': 810, 'opes#': 1, 'te#': 75, 'Electric#': 140, 'represents#': 299, 'cost#': 688, 'electricity#': 121, 'U.S.#': 3404, 'producers#': 310, 'locate#': 66, 'places#': 592, 'plenti': 22, 'ful#': 207, 'inexpen': 1, 've': 2, 'United#': 10991, 'Arab#': 375, 'mirates#': 36, 'supplies#': 245, 'Iceland#': 102, 'Norway#': 411, 'renew': 28, 'located#': 4637, 'People#': 497, 'Republic#': 779, 'provinces#': 319, 'Quebec#': 226, '2005#': 1582, 'top#': 1390, 'producer#': 705, 'fifth#': 415, 'reports#': 461, 'Ge': 22, 'ological#': 76, 'Survey#': 99, 'Over#': 436, 'last#': 2516, 'major#': 2763, 'expor': 24, '2007#': 1910, 'ton': 62, 'nes#': 62, '2013#': 1622, 'Australian#': 533, 'refining#': 18, 'problems#': 752, 'advantage#': 374, 'shallow#': 122, 'easy#': 244, 'mine#': 188, 'tiv': 8, 'pilot#': 295, 'plant#': 849, 'started#': 1399, '1976#': 585, 'offered#': 689, 'advantages#': 88, 'requirements#': 247, 'accessible#': 219, 'feed': 6, 'stock#': 334, 'olinite#': 2, 'Nonetheless#': 78, 'shut#': 126, 'failure#': 403, 'general#': 1734, 'maturity#': 52, 'lea': 6, 'toxic#': 97, 'poly': 80, 'lorin': 1, 'ph': 4, 'yl#': 2, 'co-': 81, 'titani': 30, 'contents#': 91, 'bother': 1, 'eapest#': 20, 'suming#': 35, 'decades#': 472, 'solved#': 12, 'difficulties#': 177, 'operating#': 538, 'Con': 260, 'tinu': 46, 'lowering#': 28, 'the': 90, 'oretically#': 45, 'recy': 35, 'clable#': 2, 'without#': 2058, 'qualities#': 102, 'According#': 5411, 'International#': 1362, 'Resource#': 25, 'anel#': 16, 'Metal#': 86, 'Stocks#': 5, 'Society#': 638, 'report#': 629, 'global#': 381, 'capita#': 3690, 'society#': 902, 'cars#': 439, 'buildings#': 1056, 'electronics#': 95, 'etc#': 369, 'Much#': 263, 'more-': 1, 'countries#': 1378, 'les': 46, 'K': 305, 'nowing#': 19, 'stocks#': 75, 'approximate#': 67, 'fespans#': 6, 'planning#': 322, 'cling#': 50, 'Recovery#': 18, 'Recy': 8, 'profile#': 6, '1960s#': 846, 'growing#': 555, 'beverage#': 24, 'cans#': 27, 'brought#': 1278, 'public#': 2959, 'awareness#': 118, 'scrap#': 24, 'lost#': 1512, 'ross#': 40, 'ash': 1, 'stack#': 40, 'significantly#': 377, 'extract#': 58, 'Europe#': 1794, 'experiences#': 300, 'rates#': 352, 'construction#': 1115, 'vehicles#': 321, 'cled#': 2, 'secondary#': 422, 'maintains#': 196, 'econ': 57, 'dary#': 57, 'wide#': 704, 'formats#': 86, 'employed#': 436, 'alloy#': 97, 'White#': 5290, 'operations#': 761, 'still#': 3012, 'extracted#': 49, 'indu': 25, 'stri': 27, 'ally#': 169, 'complex#': 727, 'difficult#': 698, 'manage#': 134, 'acety': 6, 'lene#': 4, 'ammonia#': 227, 'gnites#': 5, 'contact#': 428, 'amp#': 20, 'release#': 1679, 'copi': 13, 'filler#': 12, 'asphalt#': 18, 'concrete#': 216, 'vast#': 299, 'Al-': 2, 'commercially#': 178, 'feature#': 851, 'coordin': 6, 'tetracoordin': 1, 'III#': 687, 'color': 10, 'tri': 62, 'halides#': 12, 'Unlike#': 304, 'features#': 1254, 'oc': 1, 'ta': 1, 'edral#': 10, 'comp': 4, 'act': 3, 'fit#': 228, 'sublimes#': 1, 'cracking#': 34, 'With#': 1724, 'dimeric#': 3, 'meric#': 3, 'centers#': 284, 'prepared#': 270, 'treating#': 78, 'halo': 40, 'methods#': 544, 'Aci': 1, 'hydroxides#': 11, 'ffor': 12, 'hydrates#': 3, 'mix': 21, 'tures#': 42, 'halide#': 9, 'o#': 74, 'lig': 20, 'ands#': 20, 'readily#': 121, 'mineral#': 106, 'corun': 3, 'dum#': 7, 'Sap': 7, 'impure#': 12, 'contamin': 35, 'oxide-': 1, 'mite#': 1, 'aspore#': 1, 'erite#': 1, 'gi': 47, 'site#': 1767, 'nor': 115, 'strandite#': 1, 'stal': 24, 'mor': 131, 'ores#': 23, 'variety#': 857, 'wet#': 122, 'acid#': 475, 'base#': 912, 'eating#': 126, 'central#': 1126, 'importance#': 456, 'bide#': 3, 'C#': 30, 'heating#': 97, 'ale#': 42, 'yellow#': 279, 'dilute#': 14, 'acids#': 303, 'methane#': 27, 'lide#': 1, 'passing#': 281, 'heated#': 103, 'nitride#': 5, 'air': 64, 'use': 10, 'pho': 30, 'sphide#': 2, 'P#': 49, 'hydroly': 39, 'sphine#': 1, 'empirical#': 66, 'species#': 1634, 'trimethy': 1, 'groups#': 1409, 'triorg': 1, 'monomers#': 8, 'isobuty': 1, 'Such#': 345, 'widely#': 893, 'industrial#': 543, 'despite#': 754, 'fact#': 1076, 'rophoric#': 1, 'Few#': 48, 'gu': 58, 'org': 2, 'anoboron#': 1, 'hydride#': 12, 'Li': 31, 'agent#': 395, 'trich': 2, 'Several#': 611, 'derivatives#': 104, 'bis#': 1, 'methoxy': 1, 'ethoxy#': 1, 'hydri': 1, 'do': 126, 'simplest#': 51, 'alane#': 1, 'curio': 33, 'sity#': 34, 'mer#': 29, 'contrast#': 477, 'great#': 1642, 'sometime#': 68, 'significance#': 178, 'precur': 27, 'I#': 12, 'room#': 634, 'dide#': 3, 'derivative#': 100, 'mono': 1, 'cy': 100, 'clic#': 29, 'adduc': 1, 'ethy': 1, 'amine#': 2, 'fle': 12, 'eting#': 53, 'existence#': 506, 'normal#': 491, 'dispropor': 1, 'starting#': 567, 'Very#': 70, 'invo': 30, 'ked#': 118, 'dants#': 6, 'monoxide#': 10, 'detected#': 123, 'explosion#': 131, 'More#': 453, 'thoroughly#': 63, 'investigated#': 74, 'Al#': 3, 'contain#': 442, 'ligand#': 75, 'alitative#': 16, 'aluminon#': 1, 'rous#': 3, 'Global#': 173, '31.9#': 107, 'exceeded#': 66, 'Forecast#': 5, '2012#': 1660, 'driven#': 224, 'rising#': 210, 'Chinese#': 868, 'markedly#': 40, 'impro': 18, 'ves#': 165, 'especially#': 1387, 'tempered#': 11, 'fo': 42, 'ils#': 47, 'main#': 3031, 'agents#': 216, 'inc#': 56, 'e.g.#': 288, 'duralumin#': 10, 'â\\x80\\x93#': 2980, 'and/or#': 334, 'work': 34, 'hard': 35, 'abrup': 48, 'characteristics#': 249, 'additions#': 85, 'scandi': 2, 'ir': 82, 'coni': 4, 'ha': 4, 'flat#': 278, 'vapor#': 62, 'infrequently#': 12, 'atings#': 7, 'mir': 34, 'rors#': 51, 'toxicity#': 59, 'enjoy#': 118, 'large-scale#': 126, 'oxy': 1, 'domestic#': 433, 'ship': 30, 'ments#': 103, 'States#': 10074, 'bent#': 3, 'removes#': 35, 'hydrocar': 39, 'bons#': 39, 'enables#': 70, 'subsequent#': 504, 'isoned#': 34, 'moisture#': 81, 'ataly': 64, 'sts#': 21, 'laus#': 77, 'fide#': 10, 'refineri': 11, 'amines#': 63, 'Many#': 1516, 'supported#': 706, 'meaning#': 1089, 'st#': 134, 'platinum#': 137, 'disper': 74, 'sed#': 69, 'Being#': 116, 'hard#': 538, 'abrasive#': 11, 'it#': 43, 'lamps#': 96, 'find#': 864, 'fate#': 125, 'annual#': 850, 'billions#': 11, 'grams#': 50, 'treatment#': 545, 'next#': 2095, 'manufacture#': 142, 'paper#': 578, 'dant#': 36, 'fire#': 876, 'extinguishers#': 2, 'additive#': 28, '17': 154, 'fireproofing#': 2, 'leather#': 77, 'moni': 60, 'alum#': 15, 'alums#': 2, 'declining#': 94, 'petrole': 51, 'synthetic#': 77, 'mers#': 19, 'loro': 2, 'hydrate#': 1, 'hardening#': 11, 'spirant#': 2, 'nich': 34, 'acetate#': 19, 'astringent#': 3, 'borate#': 2, 'glass#': 294, 'ceramic': 26, 'sphate#': 22, 'ceramic#': 47, 'pul': 120, 'p#': 104, 'metic': 19, 'nish': 1, 'dental#': 30, 'cement#': 74, 'tacid#': 2, 'water': 19, 'proofing#': 19, 'fabric': 12, 'Lithi': 7, 'Org': 59, 'alumini': 2, 'ums#': 3, 'coc': 2, 'methy': 1, 'aluminox': 1, 'ane#': 1, 'gler': 1, 'atta#': 1, 'ole': 1, 'fin#': 1, 'meri': 12, 'vinyl#': 72, 'ethene#': 1, 'treat#': 111, 'fish#': 443, 'parasites#': 30, 'acty': 1, 'lus#': 1, 'salaris#': 1, 'accines#': 24, 'serve#': 632, 'immune#': 102, 'adju': 2, 'vant#': 2, 'boo': 38, 'ster#': 100, 'protein#': 233, 'vaccine#': 72, 'poten': 13, 'stimulant#': 10, 'engineering#': 388, 'lo': 91, 'systems#': 1214, 'names#': 1247, 'indicating#': 161, 'ents#': 71, 'durability#': 20, 'treatments#': 78, 'manufacturing#': 312, 'knowledge#': 665, 'aspects#': 353, 'improperly#': 15, 'designed#': 1240, 'gained#': 585, 'bad#': 296, 'reputation#': 388, 'limitation#': 24, 'fati': 46, 'gue#': 76, 'limit#': 292, 'eventually#': 1356, 'adings#': 1, 'implies#': 123, 'engineers#': 152, 'assess#': 43, 'ads#': 52, 'design#': 1515, 'fixed#': 332, 'infinite#': 88, 'sen': 107, 'sitivity#': 43, 'Wor': 87, 'shop#': 241, 'procedures#': 114, 'involving#': 314, 'complicated#': 146, 'unlike#': 234, 'glowing#': 16, 'red#': 842, 'For': 108, 'ming#': 75, 'blow#': 90, 'tor': 44, 'ch#': 158, 'exper': 42, 'tise#': 42, 'visual#': 332, 'signs#': 247, 'reveal#': 114, 'stres': 58, 'wel': 8, 'casting#': 235, 'problem#': 628, 'regard#': 202, 'scep': 51, 'distor': 11, 'ther': 9, 'stress#': 189, 'relief#': 212, 'trol': 4, 'eat': 1, 'ven#': 49, 'gradual#': 64, 'cooling': 1, 'nealing#': 3, 'preclu': 9, 'roc': 4, 'ketry#': 4, 'construc': 91, 'combu': 47, 'stion#': 80, 'cham': 62, 'bers#': 138, 'reach#': 535, '35': 2, 'upper#': 453, 'stage#': 1215, 'engine#': 540, 'generatively#': 1, 'le#': 93, 'th': 107, 'at#': 48, 'bronze#': 205, 'Ancient#': 199, 'Greeks#': 130, 'Romans#': 282, 'dy': 64, 'eing#': 43, 'astringents#': 1, 'ressing#': 89, 'wounds#': 79, 'sty': 6, 'Gu': 13, 'ton#': 3, 'Mor': 6, 'veau': 1, 'calling#': 327, 'alumine#': 1, 'umph': 6, 'ry#': 86, 'av': 56, 'identified#': 500, 'termed#': 155, 'alumi': 4, 'ety': 63, 'molo': 49, 'gy#': 218, 'section#': 701, '1825#': 87, 'Danish#': 240, 'Christian#': 1017, 'sted#': 51, 'reacted#': 32, 'hydrous#': 6, 'amal': 6, 'am#': 6, 'yiel': 103, 'lump#': 22, 'looking#': 304, 'Friedrich#': 156, 'ler#': 84, 'aware#': 240, 'redo': 2, 'concluded#': 388, 'conducted#': 496, 'mixing#': 103, 'credited#': 362, 'isol': 11, 'alumen#': 2, 'Pierre#': 203, 'Ber': 70, 'thi': 7, 'ore.#': 4, 'Henri#': 96, 'ne#': 252, 'Sainte-': 1, 'aire#': 23, 'Deville#': 1, '1846#': 68, '1859#': 104, 'book#': 2267, 'convenient#': 70, 'mid-': 28, '188': 5, '0s#': 4, 'ce': 147, 'edingly#': 14, 'valuable#': 177, 'celebrated#': 356, 'bars#': 197, 'exhibited#': 134, 'Ex': 77, 'Univer': 16, 'sel': 13, '1855#': 140, 'Napoleon#': 227, 'France#': 1687, 'reputed#': 46, 'ban': 74, 'et#': 21, 'honored#': 133, 'guests#': 144, 'uten': 14, 'sils#': 14, 'selected#': 661, 'cap': 55, 'Washington#': 964, 'Monument#': 75, '1884#': 169, 'oun': 32, 'ce#': 58, 'daily#': 458, 'wage#': 69, 'worker#': 103, 'project#': 1095, 'labor#': 273, 'working#': 1199, 'earn#': 121, 'hour#': 318, '300#': 301, 'day#': 2142, 'place#': 2918, 'December#': 2123, 'elaborate#': 151, 'dedic': 36, 'ceremony#': 356, 'piece#': 498, 'Cow': 7, 'les#': 138, 'companies#': 845, 'supplied#': 155, 'England#': 1944, 'fur': 106, 'ace#': 24, 'Carl#': 325, 'Wilhelm#': 122, 'emens#': 50, '1886#': 114, 'Charles#': 1714, 'Martin#': 689, 'Hall#': 1358, 'Ohio#': 365, 'Paul#': 1385, 'independently#': 135, 'facilitated#': 44, '1888#': 163, 'financial#': 789, 'backing#': 146, 'Alfred#': 249, 'Hunt#': 125, 'Pittsburgh#': 123, 'Reduction#': 6, 'Company#': 997, '1889#': 159, 'Switzerland#': 299, 'Indu': 2, 'Lu': 54, 'Group#': 670, '1896#': 219, 'Scotland#': 392, '1895#': 165, 'away#': 1173, 'Sydney#': 200, 'dome#': 117, 'Chief#': 384, 'Secretary#': 313, 'Building#': 311, 'explosive#': 87, 'expansion#': 579, 'plane#': 447, 'War#': 3017, '1914': 2, '1917#': 217, 'governments#': 278, 'demanded#': 167, 'factories#': 99, 'necessary#': 590, 'supply#': 455, 'avi': 13, 'vessels#': 166, '1975#': 526, 'aboard#': 102, 'US': 66, 'Bel': 12, 'gut': 12, 'observation#': 142, 'battle#': 917, 'damage#': 441, 'ships#': 536, 'switching#': 75, 'wire#': 90, 'wiring#': 7, 'feeders#': 14, 'branch#': 395, 'circuits#': 64, 'cre': 7, 'ep#': 7, 'failures#': 81, 'fires#': 84, 'resulted#': 607, 'services#': 1346, 'special#': 1276, 'terminations#': 2, 'derive#': 82, 'status#': 765, 'borrowed#': 111, 'Old#': 797, 'literally#': 177, 'bitter#': 101, 'Two#': 881, 'variants#': 106, 'besides#': 1, 'obsolete#': 65, 'Union#': 1088, 'Pure#': 55, 'Ap': 110, 'plied#': 70, 'Chemistry#': 66, 'adopted#': 714, 'international#': 1330, '1990#': 787, 'acceptable#': 90, 'variant#': 147, 'publications#': 176, 'spelling#': 176, 'nearly#': 861, 'ending#': 421, 'predomin': 21, 'Canadian#': 543, 'Oxford#': 360, 'Dictionary#': 84, 'prefers#': 38, 'whereas#': 329, 'Macquari': 23, 'officially#': 641, 'decided#': 1107, 'dic': 112, 'ari': 30, 'label#': 650, 'chiefly#': 72, 'earliest#': 460, 'citation#': 29, 'inventor#': 97, 'trying#': 363, 'isolate#': 24, 'tically#': 2, 'journal#': 184, 'hilosophical#': 14, 'sactions#': 2, 'Royal#': 1116, 'London#': 2130, 'ad#': 117, 'for': 108, 'obtained#': 400, 'evidences#': 7, 'procured#': 14, 'substances#': 112, 'search#': 306, 'should#': 1630, 'silici': 1, 'gluci': 1, 'settled#': 556, 'published#': 2397, '1812#': 93, 'Philosophy#': 71, 'peculi': 41, 'Aluminum#': 7, 'perfectly#': 88, 'sufficiently#': 92, 'But#': 856, 'anonymous#': 83, 'contributor#': 70, 'ly#': 27, 'Review#': 154, 'political-': 1, 'literary#': 458, 'review#': 416, 'objected#': 86, 'shall#': 239, 'take#': 1801, 'liberty#': 112, 'writing#': 1124, 'preference#': 96, 'classical#': 606, 'sound#': 1085, 'ffi': 53, 'x#': 72, 'conformed#': 4, 'precedent#': 68, 'newly#': 424, 'stron': 2, 'isolated#': 199, 'himself#': 1825, 'Nevertheless#': 256, 'spel': 15, 'lings#': 20, 'Europeans#': 145, '16th#': 246, 'moly': 9, 'denum#': 9, 'talum#': 1, 'consistent#': 210, 'universal#': 206, 'opposed#': 519, 'aluminia#': 1, 'than': 1, 'thanum#': 1, 'ceri': 3, 'thori': 3, 'Web': 72, '182': 100, 'advertising#': 204, 'hand': 80, 'bill#': 1, '1892#': 173, 'patents#': 64, 'filed#': 246, '1903#': 195, 'domination#': 52, 'ensured#': 66, 'North#': 3041, 'America#': 2078, 'occurrence#': 71, 'biology#': 99, 'remark': 44, 'ably#': 73, 'oral#': 182, 'mouse#': 85, 'person#': 1130, 'acute#': 95, 'twith': 15, 'health#': 824, 'commerce#': 99, 'traced#': 104, 'bone#': 168, 'nervous#': 129, 'patients#': 206, 'renal#': 17, 'competes#': 24, 'dietary#': 70, 'contribute#': 154, 'skeletal#': 43, 'minerali': 3, 'openia#': 1, 'preterm#': 10, 'infants#': 96, 'growth#': 927, 'retar': 8, 'altered#': 144, 'bloo': 6, 'brain#': 305, 'percentage#': 232, 'people#': 12441, 'ler': 26, 'gic#': 61, 'experience#': 782, 'der': 15, 'matitis#': 13, 'gestive#': 28, 'disorders#': 93, 'vomiting#': 14, 'symptoms#': 217, 'upon#': 1377, 'ingestion#': 22, 'spirants#': 4, 'tacids#': 4, '40Â#': 39, 'body#': 1377, 'coo': 3, 'ware#': 3, 'exposure#': 223, 'Studies#': 156, 'foods#': 188, 'tol#': 1, 'accumulation#': 44, 'tissue#': 202, 'Furthermore#': 213, 'estro': 3, 'gene#': 120, 'expression#': 327, 'breast#': 88, 'cancer#': 686, 'cul': 13, 'tured#': 41, 'classification#': 186, 'metallo': 1, 'examined#': 97, 'course#': 703, 'skin#': 257, 'irritation#': 20, 'lake#': 608, 'additives#': 20, 'concern#': 224, 'presents#': 141, 'risk#': 505, 'healthy#': 128, 'adults#': 231, 'risks#': 63, 'cino': 1, 'Department#': 819, 'Health#': 301, 'Human#': 212, 'Services#': 212, 'suspected#': 154, 'sudden#': 124, 'intake#': 44, 'deferox': 1, 'mesylate#': 1, 'help#': 1050, 'eliminate#': 128, 'chelation#': 1, 'posure#': 24, 'fumes#': 18, 'monary#': 28, 'bro': 17, 'Oc': 41, 'cupational#': 11, 'Safety#': 106, 'Administration#': 181, 'A#': 46, 'missi': 24, 'respiratory#': 66, 'National#': 2529, 'Institute#': 721, 'recommended#': 222, 'powder#': 80, 'Fine#': 109, 'posing#': 16, 'another#': 2557, 'haz': 17, 'ard#': 74, 'controver': 56, 'implicated#': 32, 'factor#': 302, 'eimer#': 25, 'disease#': 483, 'medical#': 718, 'opinion#': 371, 'vincingly#': 19, 'demonstrated#': 216, 'sal#': 54, 'relationship#': 884, 'Q': 1, 'hor': 48, 'cite#': 40, 'plaques#': 12, 'Research#': 395, 'inconclu': 18, 'soils#': 111, 'harm': 70, 'distur': 4, 'root#': 235, 'saturated#': 34, 'dity#': 87, 'soil#': 425, 'rected#': 80, 'lime#': 55, 'define#': 176, 'degree#': 698, 'saturation#': 20, 'testing#': 207, 'aboratori': 52, 'requirement#': 130, 'Wheat#': 18, 'adaptation#': 354, 'tolerance#': 49, 'induces#': 18, 'Sorghum#': 1, 'wheat#': 129, 'sorghum#': 6, 'controlled#': 326, 'Spanish#': 1225, '2001#': 1143, 'claimed#': 897, 'fungus#': 28, 'trichum#': 1, 'candi': 4, 'compact#': 131, 'discs#': 67, 'supporting#': 377, 'Better#': 56, 'documented#': 168, 'bacteri': 25, 'domon': 3, 'eru': 1, 'gino': 1, 'ado': 2, 'spori': 1, 'resin': 1, 'commonly#': 865, 'aircraft#': 874, 'fuel#': 286, 'tanks#': 102, 'kero': 1, 'sene-': 1, 'grade#': 10, 'cultures#': 273, 'fungi#': 42, 'attacking#': 130, 'microbes#': 23, 'Advanced#': 101, 'hip#': 505, 'hop#': 489, 'eidel': 36, 'scenic#': 54, 'city#': 18849, 'aden': 18, '¼': 51, 'tem': 18, 'Germany#': 1431, '1987#': 593, 'Toni#': 23, 'Linguist#': 2, 'e-': 25, 'Mike#': 500, 'Di': 88, 'pon#': 1, 'Tor': 27, 'holds#': 477, 'citizenship#': 121, 'Italian#': 735, 'han': 3, 'ai': 30, 'aiti': 26, 'back': 129, 'grounds#': 359, 'In': 148, 'enced#': 17, 'socially#': 79, 'conscious#': 134, 'rap#': 245, 'tongu': 14, 'regarded#': 566, 'pioneers#': 74, 'songs#': 1516, 'tack': 14, 'controversial#': 328, 'social#': 1480, 'political#': 1831, 'issues#': 702, 'distinguishing#': 59, 'Die#': 127, 'Fan': 32, 'tastischen#': 9, 'Vi': 54, 'tastic#': 23, 'Four#': 320, 'ear': 24, 'play': 23, 'party#': 1460, 'image#': 573, 'rivalry#': 203, 'served#': 1695, 'high': 118, 'dicho': 11, 'tomy#': 11, 'routes#': 659, 'becoming#': 758, 'soun': 2, 'scape#': 2, 'primarily#': 790, 'aesthetic#': 88, 'understand#': 257, 'inextric': 4, 'linked#': 272, 'circumstances#': 238, 'vehicle#': 252, 'eman': 35, 'ci': 105, 'pation#': 52, 'taking#': 825, 'introduced#': 1236, 'fro': 4, 'context#': 299, 'theme#': 470, 'race#': 3976, 'music#': 3792, 'Frem': 7, 'ei': 14, 'genen#': 5, 'and': 16, 'beyond#': 433, 'simply#': 685, 'imitating#': 22, 'addressed#': 169, 'transl': 52, 'foreign#': 665, 'own#': 3163, 'coun': 2, 'try': 2, 'dealt#': 127, 'racism#': 92, 'citizens#': 514, 'faced#': 417, 'imitation#': 37, 'commentary#': 167, 'start#': 776, 'identification#': 124, 'influenced#': 630, 'wall#': 1, 'noise#': 89, 'Public#': 738, 'Enemy#': 45, 'Bom': 43, 'uni': 103, 'immigrant#': 118, 'sentiment#': 53, 'emerged#': 316, 'attacks#': 543, 'homes#': 368, 'refugees#': 93, 'came#': 2146, 'prominence#': 126, 'wake#': 108, 'actions#': 389, 'multicultural#': 1, 'stance#': 64, 'attitudes#': 113, 'revol': 14, 've#': 121, 'attempts#': 449, 'What#': 445, 'Americans#': 548, \"n't#\": 1797, 'live#': 1525, 'seems#': 372, 'interesting#': 159, 'newer#': 143, 'citing#': 55, 'fellow#': 424, 'Germans#': 299, 'contexts#': 90, '...#': 2008, 'kids#': 65, 'try#': 317, 'know#': 554, 'message#': 305, 'sent#': 1154, 'language#': 1917, 'claims#': 543, 'authenticity#': 51, 'true#': 723, 'heritage#': 230, 'bolstering#': 1, 'immigration#': 112, 'style#': 1536, 'problematic#': 72, 'real#': 942, 'ethnic#': 401, 'roots#': 329, 'Turkish#': 261, 'minority#': 225, 'Fran': 56, 'appeal#': 230, 'symbolic#': 121, 'betrayal#': 28, 'minorities#': 79, 'cultural#': 666, 'discourse#': 72, 'attempt#': 803, 'negotiate#': 66, 'assimilation#': 29, 'enophobic#': 2, 'culture#': 982, 'maintenance#': 189, 'traditions#': 333, 'feelings#': 138, 'alienation#': 17, 'pure-': 3, 'demo': 52, 'graphic#': 52, 'drive#': 317, 'attack#': 986, 'ation': 19, 'alistic#': 17, 'ide': 90, 'olo': 50, 'asser': 138, 'seen#': 1521, 'Andy#': 182, 'Bennett#': 93, 'actively#': 149, 'seek#': 227, 'rediscover#': 1, 'reconstruct#': 19, 'identity#': 418, 'tied#': 229, 'Ori': 47, 'ental#': 47, 'members#': 2784, 'confused#': 157, 'elicitation#': 1, 'politics#': 387, 'technically#': 98, 'binary#': 207, 'illu': 28, 'strates#': 28, 'already#': 915, 'population#': 21242, 'disunity#': 5, 'disagreement#': 67, 'defi': 21, 'enthu': 27, 'ast#': 27, 'home#': 3493, 'hip-hop#': 154, 'took#': 2835, 'clear#': 596, 'mar': 84, 'gin': 6, 'immigrants#': 275, 'who#': 20874, 'speaks#': 90, 'hope#': 186, 'actually#': 750, 'forei': 40, 'gners#': 39, 'confron': 71, 'English-speaking#': 66, 'recorded#': 1731, 'establish#': 346, 'musical#': 1064, 'genres#': 152, 'congru': 16, 'divisions#': 207, 'pop#': 516, 'worlds#': 102, 'ways#': 546, 'First#': 989, 'spent#': 698, 'markets#': 288, 'nonetheless#': 64, 'economically#': 86, 'western#': 913, 'sales#': 514, '3.': 7, 'biggest#': 352, 'frequently#': 696, 'rapped#': 12, 'children#': 6690, 'exposing#': 37, 'experienced#': 366, 'fru': 83, 'stration#': 30, 'resentment#': 36, 'denied#': 263, 'song#': 1800, 'genem#': 2, 'Foreign#': 217, 'your#': 443, 'nation#': 587, 'November#': 2038, '1992#': 808, 'staple#': 73, 'scene#': 914, 'statement#': 399, 'national#': 1632, 'racial#': 4672, 'video#': 1160, 'brandishing#': 5, 'passports#': 31, 'demonstration#': 89, 'skep': 66, 'tical#': 39, 'accep': 1, 'artists#': 916, 'so-called#': 269, 'astar': 4, 'beiter#': 4, 'guest#': 389, 'workers#': 407, 'saw#': 1184, 'brea': 46, 'dance#': 27, 'gra': 17, 'ffiti#': 17, 'expressing#': 79, 'rappers#': 83, 'tried#': 537, 'themes#': 301, 'youth#': 375, 'ap': 211, 'pealing#': 58, 'desire#': 256, 'sought#': 445, 'revi': 97, 'recreate#': 19, 'concepts#': 195, 'connection#': 402, 'traditional#': 1151, 'origins#': 229, 'helped#': 697, 'chapter#': 197, 'ulu': 9, 'roo': 68, 'realities#': 25, 'drew#': 252, 'inspiration#': 248, 'African-American#': 176, 'be#': 34, 'Cal': 77, 'Quest#': 87, 'soul': 5, 'consciousness#': 93, 'explicitly#': 163, 'listed#': 596, 'references#': 242, 'solo#': 576, 'Als#': 6, 'School#': 3269, 'favorite#': 186, 'poetry#': 353, 'load#': 74, 'Po': 147, 'ets#': 81, 'kens#': 15, 'intellec': 84, 'policy#': 730, 'Chuck#': 121, \"'ll#\": 161, 'forget#': 41, 'lyrics#': 410, 'list#': 1306, 'Bi': 7, 'addy#': 30, 'Kane#': 118, 'Dr.#': 589, 're#': 79, 'influences#': 288, 'atima#': 4, 'f#': 134, 'You#': 944, 'Can#': 98, 'Pronoun': 1, 'ame#': 48, 'Just#': 222, 'Call#': 70, 'Pride.': 1, 'Ac': 43, 'tivis': 1, 'Gen': 9, 'der#': 204, 'Hi': 42, 'op#': 46, 'History#': 365, '2003#': 1153, 'bert#': 24, 'Oliver#': 179, 'von#': 442, 'Un': 1, 'bestech': 1, 'lich': 1, 'Spex#': 1, 'March#': 2269, '1993#': 745, 'We': 23, 'Alexander#': 526, 'hono': 1, 'graphi': 44, 'Sonic#': 20, 'nity#': 1, 'Duke#': 741, 'University#': 3121, 'Press#': 283, 'Anglican#': 315, 'Communion#': 106, 'association#': 324, 'churches#': 514, 'consisting#': 392, 'Church#': 1499, 'regional#': 593, 'com': 359, 'munion#': 55, 'ideally#': 20, 'agreement#': 548, 'essential#': 275, 'doctrines#': 80, 'participation#': 168, 'sacramental#': 8, 'church#': 1191, 'communicant#': 2, 'Anglicans#': 73, 'Archbishop#': 113, 'Canterbury#': 126, 'Primate#': 12, 'honour#': 211, 'bishops#': 95, 'primus#': 3, 'inter#': 14, 'pares#': 2, 'equ': 99, 'bishop#': 217, 'exercise#': 161, 'authority#': 583, 'focus#': 490, 'unity#': 123, 'considers#': 133, 'Holy#': 464, 'Catholic#': 889, 'Apostolic#': 24, 'Reformed#': 73, 'herents#': 46, 'Anglicanis': 61, 'apal#': 1, 'Catholicism#': 69, 'testantis': 31, 'gui': 27, 'Luther#': 86, 'nox#': 30, 'Calvin#': 77, 'wingli#': 22, 'Wesley#': 105, 'combination#': 406, 'encompasses#': 89, 'practice#': 857, 'evangelical#': 45, 'liberal#': 249, 'membership#': 233, 'currently#': 780, 'Roman#': 1494, 'Eastern#': 762, 'Orthodox#': 283, 'historical#': 768, 'link#': 220, 'clesi': 64, 'Anglican': 4, 'Ireland#': 715, 'Scottish#': 345, 'Episcopal#': 89, 'doctrine#': 159, 'litur': 92, 'legislative#': 168, 'episcopal#': 45, 'polity#': 11, 'leadership#': 397, 'primate#': 17, 'official#': 1295, 'legal#': 777, 'governing#': 145, 'Office#': 451, 'gis#': 9, 'organisational#': 8, 'ec': 85, 'etho': 19, 'consul': 206, 'tative#': 24, 'Three#': 537, 'holding#': 401, 'clesial#': 3, 'mani': 107, 'fested#': 20, 'maintained#': 386, 'apostolic#': 23, 'succession#': 148, 'syno': 2, 'dical#': 42, 'government#': 3359, 'second#': 3925, 'worship#': 165, 'investing#': 36, 'approved#': 354, 'prayer#': 118, 'books#': 1214, 'rubric': 2, 'documents#': 309, 'writings#': 291, 'divines#': 11, 'Originally#': 227, 'relied#': 95, 'established#': 2225, 'maintaining#': 146, 'veying#': 24, 'episcop': 14, 'festing#': 8, 'atholicity#': 1, 'ecumenis': 1, 'Early#': 401, 'vern': 47, 'acular#': 47, 'Book#': 481, 'Common#': 201, 'Prayer#': 82, 'governed#': 160, 'magisteri': 4, 'founding#': 308, 'theolo': 85, 'gian#': 45, 'extra': 1, 'credal#': 1, 'summary#': 64, 'Westminster#': 126, 'fession#': 26, 'Presbyterian#': 66, 'appealed#': 95, 'off': 4, 'shoo': 4, 'guide#': 172, 'theology#': 177, 'incul': 3, 'Lex#': 31, 'orandi#': 2, 'lex#': 6, 'creden': 2, 'di#': 9, 'loosely#': 80, 'translated#': 324, 'raying#': 19, 'believing#': 117, 'foundation#': 386, 'confession#': 55, 'tracted#': 2, 'conflict#': 507, 'seventeenth#': 36, 'radical#': 188, 'testants#': 61, 'hand#': 906, 'Catholics#': 94, 'recognised#': 193, 'primacy#': 14, 'Pope#': 435, 'ague#': 44, 'doc': 70, 'trinal#': 22, 'principles#': 270, 'bold#': 71, 'developing#': 452, 'parameters#': 111, 'clearly#': 259, 'articul': 42, 'successive#': 93, 'Thir': 5, 'ty': 35, 'Nine#': 5, 'Ar': 128, 'ticles#': 39, 'Religion#': 66, 'historically#': 270, 'continue#': 652, 'direct#': 753, 'reinforced#': 83, 'interpretation#': 236, 'influential#': 414, 'ans#': 157, 'Richard#': 1065, 'ker#': 49, 'celot#': 26, 'rewes#': 3, 'sin#': 1, 'Empire#': 785, 'hence#': 229, 'Great#': 1152, 'beth#': 49, 'ferences#': 7, 'vened#': 37, 'Longley#': 4, '1869#': 162, 'From#': 1333, 'intended#': 692, 'autonomy#': 66, 'emerging#': 106, 'discuss#': 123, 'matters#': 208, 'pronoun': 25, 'em#': 11, 'pedi': 11, 'resolutions#': 51, 'safe#': 180, 'guides#': 57, 'future#': 1092, 'action#': 862, 'duringly#': 3, 'conference#': 352, 'Chic': 4, 'ago': 55, 'adril': 5, 'Its#': 959, 'intent#': 143, 'discussions#': 91, 'reunion#': 102, 'Churches#': 57, 'cillary#': 9, 'establishing#': 194, 'establish': 51, 'mentioned#': 523, 'juri': 8, 'organisation#': 169, 'coll': 38, 'aborative#': 38, 'autonomous#': 115, 'ken#': 10, 'instruments#': 295, 'participate#': 218, 'antiquity#': 84, 'persu': 16, 'asion#': 16, 'recent#': 880, 'pped#': 16, 'debates#': 67, 'confor': 12, 'mity#': 12, 'discipline#': 116, 'ethics#': 97, 'notable#': 698, 'objection#': 30, 'Africa#': 709, 'Asia#': 471, 'changing#': 283, 'homo': 124, 'sexu': 9, 'blessing#': 62, 'same-sex#': 144, 'unions#': 173, 'aining#': 1, 'consecrating#': 2, 'ays#': 10, 'relationships#': 253, 'undertaken#': 106, 'See#': 320, 'realign': 10, 'condemned#': 115, 'scrip': 66, 'unil': 16, 'prior#': 698, 'steps#': 223, 'answered#': 63, 'lengthy#': 103, 'reflection#': 89, 'legally#': 166, 'accordance#': 113, 'canons#': 43, 'constitutions#': 24, 'extensive#': 452, 'Primates#': 3, 'Me': 42, 'voted#': 430, 'request#': 302, 'withdraw#': 84, 'delegates#': 81, 'meeting#': 638, 'Council#': 1562, 'attend#': 342, 'exer': 28, 'cising#': 28, 'vote#': 562, 'expelled#': 131, 'suspended#': 172, 'voluntary#': 98, 'spend#': 14, 'expel#': 20, 'province#': 653, 'pulsion#': 48, 'refusal#': 84, 'jurisdiction#': 202, 'suggestion#': 108, 'Windsor#': 83, 'Report#': 167, 'Rowan#': 23, 'Williams#': 941, 'examine#': 53, 'feasi': 26, 'bility#': 78, 'ven': 24, 'ant#': 58, 'articulate#': 13, 'anda#': 42, 'Japan#': 936, 'nations#': 356, 'West#': 2045, 'Indies#': 85, 'Central#': 994, 'Southeast#': 162, 'phabetical#': 15, 'extraprovincial#': 1, 'metropolitical#': 1, 'trech': 52, 'Scandinavian#': 80, 'Lutheran#': 196, 'Por': 2, 'vo': 62, 'Indi': 1, 'Malan': 1, 'ara#': 3, 'Mar#': 27, 'Thoma#': 2, 'Sy': 74, 'ri': 187, 'Malabar#': 7, 'Independent#': 294, 'Philippine#': 115, 'gli': 1, 'pay': 10, 'mission#': 514, 'organisations#': 112, 'Promo': 5, 'now': 85, 'ledge#': 50, 'Prop': 7, 'agation#': 54, 'Gospel#': 86, 'Parts#': 41, 'Missi': 20, 'onary#': 20, '179': 108, '20th#': 899, 'Wales#': 546, 'initially#': 703, 'reign#': 374, 'King#': 2210, 'VIII#': 261, 'reunited#': 142, 'Queen#': 678, 'Mary#': 721, 'again#': 2019, 'Elizabeth#': 430, 'communicated#': 44, 'Act#': 1035, 'Supremacy#': 7, 'reformed#': 67, 'continuation#': 67, 'reasser': 2, 'rights#': 1143, 'distinc': 36, 'Reformation#': 95, '60#': 77, 'began#': 3623, 'disagre': 45, 'ements#': 45, 'ol': 40, 'dest': 1, 'surviving#': 324, 'Isles#': 45, 'Peter#': 1117, 'St.#': 1763, 'da#': 101, 'oldest#': 579, 'remained#': 1241, '1978#': 563, 'trans': 145, 'Oceanic#': 16, 'colonies#': 217, 'existing#': 405, '18th#': 398, 'sister#': 519, '17th#': 276, 'centuries#': 552, 'partially#': 230, 'underground#': 222, 'acobite#': 17, 'symp': 45, 'athi': 20, 'enormous#': 161, 'colonial#': 325, 'Bishop#': 223, 'Revolution#': 398, 'parishes#': 65, 'break#': 459, 'supreme#': 74, 'governor#': 380, 'monarch#': 171, 'oceses#': 18, 'amic': 67, 'crown#': 229, 'appoint#': 61, 'Nova#': 96, 'Scotia#': 76, 'appointed#': 895, 'colleagues#': 155, 'cities#': 1228, 'present-day#': 241, '1814#': 83, 'cut': 39, 'ta#': 53, '1836#': 101, '1840#': 103, '1841#': 70, 'Colonial#': 53, 'Bishopric': 1, 'soon#': 952, 'metropolitan#': 261, '1861#': 123, 'ruled#': 389, 'specifically#': 445, 'diocese#': 78, 'thing#': 318, 'counter': 59, 'locally#': 184, 'synods#': 5, 'astical#': 57, 'legislation#': 256, 'crucial#': 139, 'step#': 295, 'discussed#': 248, 'conferences#': 71, 'disparate#': 27, 'fest#': 36, 'collegi': 2, 'ality#': 18, 'absence#': 273, 'reluctant#': 82, 'fearing#': 32, 'declare#': 70, 'council#': 874, 'legislate#': 7, 'agreed#': 647, 'advisory#': 46, '1878#': 170, 'coming': 1, 'Conference#': 812, '1998#': 939, 'Philip#': 396, 'Jenkins#': 72, 'watershed#': 74, 'Christianity#': 230, 'considered#': 2292, 'issue#': 669, 'relation#': 223, 'sexuality#': 120, 'Christians#': 199, 'ailed#': 51, 'prosperous#': 69, 'USA#': 368, 'redefinition#': 3, 'een#': 15, 'date#': 773, 'marked#': 571, 'shift#': 200, 'West': 1, 'dominated#': 328, 'wherein#': 80, 'two-': 66, 'thir': 118, 'predominant#': 64, 'gay#': 142, 'controversy#': 329, 'Western#': 1257, 'dominance#': 87, 'ordination#': 23, 'historic#': 513, 'clerical#': 29, 'ordinations#': 4, 'recognise#': 46, 'orders#': 362, 'Apostolic': 2, 'cura': 2, 'issued#': 588, 'statements#': 215, 'ained#': 2, 'former#': 2838, 'clergy#': 98, 'rejected#': 408, 'altogether#': 89, 'listo': 3, 'Ware#': 15, 'explains#': 199, 'discrepan': 41, 'follows#': 575, 'hold#': 631, 'thodoxy#': 15, 'faith#': 299, 'added#': 1151, 'ders#': 26, 'arise#': 74, 'diver': 19, 'gent#': 50, 'practices#': 282, 'Disputes#': 2, 'confined#': 91, 'legisl': 2, 'realm#': 106, 'gical#': 66, 'note#': 329, 'influence#': 1043, 'Revival#': 64, 'tractari': 1, 'ritu': 2, 'alis': 11, 'nineteenth#': 120, 'twentieth#': 130, 'Free#': 276, 'rapid#': 263, 'dissi': 17, 'gemon': 56, 'contributed#': 420, 'disputes#': 124, 'women#': 1386, 'marriage#': 682, 'divorce#': 161, 'contraception#': 10, 'abor': 47, '1970s#': 830, 'opposition#': 469, 'standings#': 9, 'concerning#': 186, 'strained#': 81, 'denominations#': 64, 'leading#': 1244, 'round#': 1228, 'with': 18, 'drawals#': 5, '21st#': 186, 'openly#': 126, 'sexual#': 482, 'belonging#': 123, 'thodox#': 46, 'stronger#': 156, 'missionary#': 88, 'jurisdictions#': 131, 'geri': 37, 'Kenya#': 178, 'wanda#': 13, 'occurred#': 588, 'revision#': 58, 'achieving#': 94, 'j': 136, 'ser#': 34, 'born#': 1983, '1950#': 375, 'professor#': 303, 'Technology#': 283, 'Stockholm#': 150, 'head#': 1547, 'university#': 966, 'department#': 423, 'Swedish#': 639, 'Stadens#': 1, 'jus#': 1, 'tableringen#': 1, 'sta#': 1, 'sk': 85, '¤': 3, 'rens#': 1, '¥': 1, 'Den#': 49, 'infrastru': 1, 'turens#': 1, 'historisk': 1, 'ut': 24, 'vec': 1, 'ling#': 101, 'och#': 4, 'fram': 1, 'maningar#': 1, 'edited#': 174, 'tholo': 24, 'Academy#': 1006, 'Engineering#': 185, 'Sciences#': 225, 'editorial#': 88, 'board#': 578, 'journals#': 77, 'Journal#': 179, 'Urban#': 149, 'Centaurus#': 5, 'ately#': 31, 'occupied#': 443, 'Technical#': 122, 'Systems#': 168, 'Archipel': 48, 'archipel': 64, 'chain#': 312, 'cluster#': 91, 'islands#': 451, 'á': 13, '\\x84': 4, 'Ï': 14, '\\x81': 5, '\\x87': 3, 'Î': 26, '¹': 3, '\\x80': 7, '\\xad': 25, '³': 17, '¿': 2, '\\x82': 2, 'pel': 3, 'tradition#': 671, 'Arci': 1, 'medieval#': 380, '*': 3, 'agus#': 1, 'gean#': 23, 'shifted#': 120, 'Islands#': 304, '700#': 119, 'mainland#': 241, 'constitute#': 85, 'volcanic#': 87, 'duction#': 13, 'ho': 173, 'spots#': 5, 'elevation#': 188, 'geological#': 61, 'oceanic#': 51, 'Continental#': 80, 'tec': 18, 'tonic#': 21, 'sets#': 355, 'coast#': 697, 'continent#': 155, 'shel': 23, 'Philippines#': 224, 'Zealand#': 551, 'hamas#': 18, 'Greece#': 258, 'Hawaii#': 75, 'York#': 2935, 'City#': 3213, 'agic#': 1, 'East#': 1591, 'Coast#': 452, 'connects#': 172, 'Finland#': 159, 'Author#': 48, 'author#': 724, 'broadly#': 88, 'originated#': 278, 'gave#': 1443, 'anything#': 327, 'author': 37, 'ship#': 114, 'responsibility#': 270, 'row': 2, 'origin': 78, 'ator#': 82, 'written#': 1934, 'writer#': 757, 'copyright#': 130, 'necessity#': 96, 'flexi': 48, 'constitutes#': 60, 'Cop': 17, 'yright#': 17, 'defines#': 132, 'laws#': 531, 'title#': 1736, 'Code#': 167, 'authors#': 343, 'works#': 1812, 'Hol': 21, 'dramatic#': 259, 'artistic#': 216, 'intellectual#': 198, 'owner#': 454, 'exclusive#': 170, 'authorize#': 21, 'distribution#': 808, 'Any#': 110, 'entity#': 255, 'wishing#': 41, 'receive#': 520, 'permission#': 190, 'holder#': 64, 'asked#': 706, 'pay#': 471, 'cop': 9, 'pires#': 9, 'enters#': 149, 'domain#': 144, 'amended#': 67, 'inception#': 70, 'extend#': 140, 'length#': 610, 'period#': 2350, 'exclusively#': 226, 'merely#': 204, 'reassurance#': 6, 'owns#': 129, 'his': 31, 'nically#': 14, 'someone#': 4681, 'aspect#': 179, 'emer': 41, 'ges#': 51, 'death#': 2553, 'inherits#': 12, 'enjo': 84, 'ys#': 57, 'benefits#': 243, 'Questions#': 10, 'How#': 181, 'apply#': 236, 'fan#': 249, 'fiction#': 503, 'media#': 788, 'agency#': 251, 'authorized#': 101, 'fans#': 535, 'constraints#': 64, 'actors#': 400, 'come#': 1003, 'play#': 2142, 'fan': 7, 'stories#': 683, 'powers#': 429, 'publishers#': 91, 'gul': 39, 'stopping#': 72, 'critics#': 638, 'complications#': 81, 'setting#': 455, 'post': 70, 'literature#': 628, 'Roland#': 35, 'Bar': 104, 'thes#': 11, 'Michel#': 44, 'ouc': 37, 'ault#': 37, 'relevance#': 39, 'text#': 489, 'challenges#': 129, 'attributed#': 288, 'writes#': 272, 'essay#': 145, 'Death#': 241, '1968#': 545, 'expose#': 44, 'sessing#': 40, 'mere#': 115, 'multitude#': 39, 'puts#': 79, 'numerable#': 11, 'centres#': 180, 'perspective#': 175, 'removed#': 593, 'limits#': 324, 'formerly#': 567, 'imposed#': 125, 'authorial#': 6, 'voice#': 539, 'destroyed#': 689, 'end#': 2998, 'transparent#': 49, 'legory#': 28, 'psy': 24, 'aticis': 6, 'dis': 111, 'preting#': 25, 'rich#': 344, 'meanings#': 79, 'celebrity#': 84, 'tastes#': 41, 'passions#': 20, 'vices#': 6, 'speak#': 264, 'argues#': 228, '1969#': 566, 'writers#': 478, 'private#': 1140, 'letter#': 624, 'sign': 33, 'atory': 1, 'reader#': 191, 'assign#': 33, 'attribute#': 69, 'standards#': 375, 'conjunction#': 115, 'necessarily#': 201, 'pretive#': 21, 'indicates#': 198, 'anchor#': 154, 'argue#': 213, 'relevant#': 146, 'valid#': 161, 'deavor#': 23, 'panding#': 5, 'suggests#': 335, 'who': 19, 'ever#': 1116, 'pret#': 58, 'pen': 106, 'ned#': 137, 'interested#': 281, 'war': 156, 'ns#': 32, 'mind#': 479, 'Literary#': 52, 'suggest#': 229, 'readers#': 207, 'rely#': 136, 'notion#': 177, 'overarching#': 10, 'inherent#': 81, 'angers#': 56, 'interpretations#': 85, 'suffer#': 98, 'associ': 13, 'inherently#': 48, 'meaning': 54, 'personality#': 196, 'interpreted#': 176, 'wholesale#': 24, 'price#': 331, 'sold#': 1382, 'Publishers#': 29, 'arrangement#': 196, 'agre': 37, 'copies#': 532, '1890s#': 70, 'mon': 33, '1920s#': 281, 'stablished#': 34, 'successful#': 1139, 'advance#': 324, 'payments#': 80, 'recei': 26, 'publisher#': 201, 'towards#': 791, 'expense#': 132, 'publication#': 391, 'costs#': 339, 'carried#': 604, 'greatest#': 621, 'Compen': 8, 'commissioned#': 326, 'publishing#': 246, 'covers#': 384, 'paying#': 127, 'vanity#': 19, 'looked#': 226, 'mainstream#': 307, 'fee#': 134, 'offers#': 526, 'platform#': 264, 'selling#': 342, 'sale#': 301, 'copy#': 217, 'receives#': 207, 'money#': 939, 'd-': 78, 'print': 1, 'demand#': 312, 'creates#': 147, 'outlets#': 69, 'distri': 107, 'butors#': 47, 'shops#': 1, 'reate': 2, 'Amazon#': 73, 'editor#': 344, 'aison#': 27, 'company#': 2069, 'characterized#': 322, 'tension#': 133, 'audience#': 596, 'attract#': 166, 'attention#': 628, 'sole#': 204, 'engage#': 134, 'act#': 771, 'principal#': 418, 'covered#': 596, 'editors#': 64, 'Proofing#': 2, 'chec': 29, 'ram': 45, 'mar#': 45, 'ping#': 164, 'errors#': 153, 'Story#': 286, 'deep#': 447, 'final#': 1591, 'proof#': 185, 'ready#': 205, 'layout#': 111, 'ensure#': 291, 'alter#': 79, 'Bour': 3, 'Field#': 305, 'Cultural#': 92, 'Production#': 96, 'depicts#': 114, 'position': 3, 'takings#': 3, 'struggles#': 89, 'positions#': 380, 'heren': 1, 'ce-': 1, 'seeking#': 205, 'intention#': 195, 'objective#': 161, 'consensus#': 100, 'harmony#': 79, 'neutrality#': 30, 'stake#': 116, 'personally#': 161, 'negoti': 28, 'impose#': 49, 'delimit#': 2, 'entitled#': 524, 'struggle#': 215, 'investors#': 135, 'investment#': 368, 'capital#': 994, 'ur': 111, 'ran#': 519, 'write#': 547, 'expectations#': 92, 'reader': 20, 'putting#': 155, 'strain#': 66, 'Even#': 450, 'reception#': 154, 'contract#': 732, 'provision#': 108, 'payment#': 112, 'paid#': 606, 'earned#': 511, 'sums#': 43, 'signing#': 216, 'delivery#': 112, 'completed#': 1024, 'manuscript#': 137, 'speci': 96, 'fy#': 95, 'retail#': 205, 'contracts#': 144, '10,000#': 225, 'rate#': 936, 'thresholds#': 7, 'modest#': 100, '2000#': 6581, 'yalty#': 58, 'priced#': 15, 'need#': 870, 'sell#': 341, '1000#': 153, 'returns#': 213, 'income#': 14925, 'scheme#': 285, 'Educ': 41, 'ational#': 100, 'Lending#': 2, 'Right#': 138, 'schemes#': 90, 'educational#': 263, 'libraries#': 145, 'days#': 1639, 'supplement#': 63, 'eng': 41, 'agements#': 41, 'school#': 3172, 'visits#': 137, 'residen': 4, 'grants#': 108, 'teaching#': 341, 'stwriters#': 1, 'technical#': 347, 'text': 42, 'rey#': 14, 'rei#': 24, 'rey': 6, 'evich#': 8, 'spelled#': 101, 'June#': 2332, '1856#': 148, '.S': 1, 'July#': 2284, 'Russian#': 1002, 'mathematician#': 87, 'best#': 1815, 'stochastic#': 9, 'chains#': 87, 'younger#': 414, 'brother#': 910, 'Vladimir#': 86, '187': 1, '189': 1, 'brothers#': 400, 'inequality#': 77, 'His#': 3112, 'son#': 1939, '190': 3, '1979#': 584, 'mathematics#': 312, 'recur': 11, 'az': 10, 'secretary#': 173, 'forest#': 280, 'management#': 586, 'gorevich#': 2, 'wife#': 2130, 'ade': 4, 'Petro': 4, '1860s#': 69, 'Petersburg#': 171, 'asset#': 77, 'manager#': 590, 'aterin': 2, 'Ale': 17, 'sand': 32, 'aty': 1, '1866#': 127, 'entrance#': 255, 'grammar#': 107, 'sely#': 28, 'engaged#': 272, 'year': 58, 'old#': 1781, 'informed#': 165, 'Bun': 2, 'sky#': 2, 'kin#': 5, 'Y': 36, 'gor#': 4, 'vanovich#': 3, 'tarev': 3, 'apparently#': 252, 'solve#': 88, 'linear#': 190, 'differential#': 104, 'invited#': 332, 'Satur': 21, 'students#': 1584, 'met#': 1125, 'finished#': 783, 'physico-': 1, 'Among#': 531, 'teachers#': 156, 'uli': 1, 'calculus#': 53, 'algebra#': 76, 'stantin#': 17, 'se#': 115, 'geometry#': 103, 'integral#': 183, 'uty#': 1, 'partial#': 246, 'Mi': 46, 'hail#': 46, 'ato': 1, 'Somo': 1, 'mechanics#': 127, 'ai#': 38, 'descrip': 44, '1877#': 158, 'awarded#': 760, 'medal#': 158, 'outstanding#': 142, 'te': 29, 'gration#': 9, 'fferential#': 1, 'ractions#': 3, 'plication#': 19, 'formula_1#': 65, 'During#': 2763, 'examinations#': 42, 'prepare#': 144, 'lec': 83, 'turer#': 38, 'April#': 2239, '1880#': 238, 'defended#': 165, 'master#': 368, 'Bin': 11, 'ary#': 82, 'adratic#': 1, 'sitive#': 16, 'Determin': 1, 'encouraged#': 280, 'Five#': 365, 'January#': 2180, '1885#': 128, 'toral#': 48, 'plic': 18, 'ge': 8, 'braic#': 8, 'ped': 8, 'defense#': 418, 'autumn#': 130, 'priv': 1, 'at': 1, 'altern': 126, 'introduction#': 373, 'suc': 62, 'eding#': 62, '1882#': 183, 'extraordinary#': 98, 'elected#': 1123, 'adjunc': 10, '1890#': 189, 'academy#': 68, 'promotion#': 154, 'fall#': 745, '1894#': 148, 'successor#': 320, 'merited#': 2, 'granted#': 553, 'retire#': 64, 'did#': 3864, 'immediately#': 610, '1910#': 296, 'continued#': 1794, 'lecture#': 83, 'riots#': 65, '1908#': 184, 'profes': 48, 'turers#': 16, 'ordered#': 457, 'monitor#': 79, 'refused#': 609, 'accept#': 316, 'decree#': 96, 'wrote#': 2419, 'declined#': 353, 'governance#': 88, 'duties#': 268, 'atheist#': 31, '1912#': 247, 'protested#': 55, 'Leo#': 113, 'Tolsto': 31, 'communication#': 297, 'requ': 45, 'esting#': 45, 'complied#': 15, 'nine#': 563, 'honorary#': 178, 'election#': 1073, 'affir': 63, 'med#': 89, 'minister#': 346, 'education#': 994, 'mation#': 10, 'February#': 1844, 'resumed#': 136, 'activities#': 714, 'Ang': 8, 'fear#': 232, 'anxiety#': 182, 'anguish#': 19, 'atin': 1, 'anxi': 37, 'Norwegian#': 399, 'Dutch#': 726, 'attested#': 41, 'translations#': 107, 'Fre': 42, 'feeling#': 188, 'pre': 32, 'inner#': 267, 'moil#': 44, 'terminology#': 68, 'psychology#': 173, 'philosophy#': 515, 'distinguish': 55, 'Fur': 3, 'anticipation#': 55, 'regarding#': 386, 'threat#': 270, 'tional#': 15, 'motivated#': 87, 'emotion#': 88, 'elevated#': 108, 'synon': 45, 'languages#': 704, 'avor#': 1, 'pe': 5, 'ur#': 5, 'existed#': 299, '8th#': 199, 'European#': 1619, 'anghu': 1, 'restraint#': 20, 'High#': 1372, 'angu': 2, 'pre-': 60, 'gn': 33, 'ten': 97, 'angor#': 1, 'choking#': 8, 'clo': 5, 'compare#': 68, '\\x89': 17, 'ho#': 2, 'strangle#': 4, 'Existenti': 2, 'alist#': 11, 'carries#': 132, 'conceptual#': 83, 'philosopher#': 147, '¸': 6, 'ren#': 5, 'cept#': 20, 'xi': 33, 'ety#': 22, 'read#': 699, 'translation#': 317, 'Angest#': 1, 'profound#': 65, 'seated#': 4, 'guided#': 69, 'solely#': 135, 'stinc': 15, 'beings#': 118, 'freedom#': 406, 'choice#': 385, 'reappeared#': 11, 'existenti': 12, 'et': 73, 'sch': 81, 'Jean': 22, 'Sar': 31, 'tre#': 31, 'eide': 28, 'gger#': 29, 'whom#': 1102, 'bigu': 54, 'moral#': 237, 'religious#': 944, 'personal#': 975, 'alists#': 3, 'conflicts#': 165, 'existential#': 23, 'despair#': 29, 'Existential#': 3, 'developments#': 154, 'Notable#': 134, 'composers#': 186, 'Gustav#': 146, 'Strau': 62, 'operas#': 61, 'le': 51, 'Salome#': 7, 'de-': 11, 'Achille#': 1, 'De': 59, 'bu': 95, 'sy#': 35, 'opera#': 283, 'Pel': 1, 'leas#': 1, 'Melisande#': 9, 'ballet#': 81, 'Je': 11, 'beli': 14, 'Fourth#': 132, 'Symphony#': 242, 'Arnold#': 116, 'Scho': 12, 'Sur': 43, 'vi': 150, 'vor#': 43, 'Warsaw#': 85, 'ban#': 20, 'Poulen': 11, 'alo': 18, 'melites#': 2, 'mitri#': 15, 'Sho': 16, 'stak': 16, 'vich#': 16, 'Lady#': 310, 'Mac': 26, 'sk#': 12, 'District#': 1200, 'symphoni': 18, 'chamber#': 144, 'lu': 2, 'beard#': 2, 'Castle#': 355, 'zy': 24, 'tof#': 14, 'Pen': 10, 'derec': 10, 'Th': 2, 'reno': 2, 'Vic': 17, 'tims#': 17, 'Hiro': 27, 'shima#': 27, 'reference#': 513, 'popular#': 2109, 'amid#': 60, 'concerns#': 243, 'tensions#': 102, 'proli': 47, 'feration#': 47, 'Jeff#': 197, 'tall#': 180, 'Culture#': 94, 'folk#': 318, 'Bob#': 462, 'Dylan#': 98, 'Masters#': 58, '1963#': 427, 'Hard#': 67, 'ain#': 93, 'Gon#': 41, 'Fall#': 120, 'punk#': 272, 'grunge#': 22, 'emo#': 9, 'expressions#': 92, 'melan': 21, 'choly#': 21, 'hilis': 11, 'pleasant#': 35, 'accompanied#': 346, 'acing#': 29, 'somatic#': 39, 'complaints#': 69, 'rumination#': 4, 'anticipated#': 88, 'events#': 1498, 'imminent#': 49, 'perceived#': 215, 'immediate#': 274, 'uneasiness#': 4, 'wor': 164, 'generalized#': 60, 'focused#': 354, 'situation#': 454, 'men': 75, 'scular#': 32, 'rest': 9, 'appropriate#': 261, 'disorder#': 120, 'facing#': 190, 'situations#': 193, 'faces#': 128, 'crisis#': 292, 'hilistic#': 4, 'face#': 602, 'fright#': 10, 'Social#': 218, 'stranger#': 24, 'strangers#': 31, 'IB': 4, 'eigh': 22, 'mental#': 230, 'ill': 40, 'nes': 39, 'panic#': 75, 'trait#': 44, 'Whereas#': 43, 'neuro': 43, 'ticis': 31, 'partly#': 282, 'genetic#': 266, 'drug#': 346, 'alcohol#': 223, 'ffeine#': 10, 'ben': 20, 'epines#': 3, 'prescri': 51, 'withdrawal#': 100, 'drugs#': 248, 'abuse#': 159, 'polar#': 127, 'depressive#': 10, 'options#': 132, 'lifestyle#': 137, 'medic': 68, 'therapy#': 147, 'distinguished#': 259, 'cognitive#': 186, 'emotional#': 201, 'behavi': 110, 'ors#': 57, 'figh': 5, 'responses#': 92, 'defensive#': 156, 'control': 11, 'avoi': 39, 'realistically#': 14, 'David#': 1362, 'future-': 1, 'mood#': 104, 'cope#': 61, 'upcoming#': 99, 'divides#': 49, 'description#': 233, 'agon': 15, 'terror#': 54, 'challenge#': 259, 'insufficient#': 74, 'coping#': 21, 'skills#': 242, 'Fear#': 55, 'domains#': 64, 'duration#': 137, 'temporal#': 48, 'ficity#': 3, 'lived#': 839, 'geared#': 19, 'facilitating#': 16, 'acting#': 522, 'promoting#': 157, 'aution#': 34, 'appro': 52, 'aching#': 52, 'feres#': 4, 'chronic#': 83, 'spur': 1, 'sporadic#': 36, 'mp': 12, 'toms#': 12, 'everyone#': 199, 'long-term#': 190, 'sleeping#': 74, 'habits#': 51, 'motor#': 200, 'foot#': 306, 'tap': 16, 'trouble#': 135, 'concentrating#': 31, 'jump': 1, 'anticipating#': 20, 'worst#': 221, 'irritability#': 4, 'watching#': 100, 'waiting#': 125, 'occur': 23, 'rences#': 23, 'danger#': 160, 'gone#': 243, 'blank#': 40, 'mares': 1, 'reams#': 59, 'ob': 126, 'sessions#': 2, 'sations#': 15, 'trapped#': 116, 'everything#': 274, 'scary#': 13, 'thoughts#': 101, 'dying#': 146, 'may': 1, 'chest#': 98, 'ains#': 77, 'deadly#': 49, 'heart#': 527, 'shooting#': 333, 'tumor#': 61, 'aneury': 6, 'feel#': 307, 'you#': 1423, 'think#': 465, '1844#': 80, 'iness#': 4, 'possibility#': 250, 'choosing#': 98, 'Art#': 623, 'Artist#': 85, 'psychologist#': 63, 'ank#': 45, 'psychological#': 161, 'trauma#': 57, 'eminent#': 5, 'symbol#': 346, 'creative#': 171, 'simul': 49, 'individu': 6, 'illich#': 3, 'categories#': 241, 'guil': 43, 'condem': 37, 'spiritual#': 242, 'tiness#': 10, 'meaningles': 3, 'earlier#': 1021, 'periods#': 306, 'resisted#': 62, 'consequences#': 131, 'athological#': 14, 'toward#': 466, 'creation#': 563, 'cer': 2, 'titude#': 2, 'doub': 9, 'built#': 2680, 'Man#': 692, 'earch#': 46, 'Meaning#': 5, 'tal#': 29, 'basic#': 503, 'wishes#': 107, 'combat#': 278, 'kes': 1, 'dson#': 1, 'timal#': 38, 'arousal#': 15, 'task#': 231, 'exam#': 39, 'performance#': 1187, 'competitive#': 151, 'event#': 936, 'eds#': 77, 'timum#': 17, 'decline#': 352, 'Test#': 159, 'ner': 45, 'vousness#': 5, 'felt#': 654, 'failing#': 114, 'Students#': 136, 'grades#': 256, 'worth#': 249, 'em': 67, 'rass': 25, 'teacher#': 290, 'parents#': 600, 'friends#': 706, 'pres': 62, 'sures#': 62, 'control#': 1666, 'Sweating#': 1, 'head': 19, 'aches#': 19, 'racing#': 259, 'beats#': 1, 'ausea#': 17, 'geting#': 2, 'crying#': 19, 'ghing#': 31, 'drum': 40, 'desk#': 47, 'hinges#': 9, 'evaluation#': 68, 'debate#': 317, 'unique#': 564, 'phobia#': 9, 'classi': 48, 'career#': 1411, 'profession#': 92, 'evalu': 116, 'adult#': 311, 'Management#': 156, 'focuses#': 135, 'rel': 63, 'ax': 123, 'mechanisms#': 101, 'umans#': 17, 'acceptance#': 168, 'disapproval#': 19, 'judged#': 88, 'young#': 1346, 'sist#': 18, 'adul': 28, 'thood#': 28, 'Stranger#': 44, 'develop': 4, 'mentally#': 4, 'utting#': 7, 'phobic': 1, 'crowd#': 175, 'severity#': 45, 'experiencing#': 76, 'discom': 19, 'bracing#': 21, 'sha': 58, 'hands#': 436, 'famili': 33, 'suffering#': 215, 'restrict#': 36, 'festy': 21, 'accommodate#': 156, 'minimi': 22, 'whenever#': 75, 'fear': 22, 'encounters#': 93, 'member': 7, 'ethnicity#': 90, 'class#': 900, 'gender#': 955, 'etc.#': 125, 'tecedent#': 13, 'relations#': 360, 'gnitions#': 11, 'situ': 10, 'affec': 11, 'ematic#': 4, 'information#': 1404, 'attentional#': 3, 'implicit#': 39, 'memory#': 535, 'Additionally#': 301, 'automatic#': 138, 'judiced#': 10, 'ampli': 32, 'ative#': 64, 'illustrated#': 126, 'tagonistic#': 17, 'stility#': 53, 'effort#': 508, 'impression#': 109, 'presentation#': 132, 'intragroup#': 1, 'depletion#': 16, 'resources#': 403, 'acer': 61, 'rait#': 1, 'reflects#': 109, 'tendency#': 129, 'respond#': 114, 'threatening#': 68, 'choose#': 254, 'increasingly#': 425, 'individuals#': 5085, 'organizations#': 442, '2004#': 1256, 'Cap': 2, 'gemini#': 2, 'Today#': 501, \"'re#\": 295, 'competition#': 495, 'advice#': 219, 'decision#': 786, 'predic': 4, 'tability#': 4, 'trigger#': 64, 'systematically#': 45, 'decisi': 34, 'outcomes#': 90, 'calcul': 46, 'prob': 53, 'abilities#': 19, 'biguity#': 47, 'kiness#': 1, 'phobic#': 5, 'soci': 25, 'emotions#': 107, 'bouts#': 42, 'psychi': 80, 'atric#': 40, 'mimic#': 36, 'thy': 1, 'Medic': 1, 'effective#': 411, 'females#': 10931, 'males#': 7360, 'begin#': 386, 'childhood#': 295, 'ural#': 5, 'circu': 13, 'itry#': 13, 'amy': 14, 'ala#': 14, 'xis#': 42, 'sympathetic#': 68, 'hip': 8, 'pocampus#': 4, 'lie#': 10, 'stimuli#': 51, 'potenti': 22, 'lim': 1, 'accum': 9, 'bens#': 9, 'giving#': 579, 'proven#': 120, 'adolescents#': 22, 'gilant#': 8, 'finds#': 266, 'sensitive#': 131, 'deciding#': 71, 'reward#': 87, 'researchers#': 217, 'self#': 101, 'abilistic#': 10, 'drives#': 105, 'neural#': 49, 'underlying#': 142, 'petitive#': 1, 'motivation#': 69, 'temperamentally#': 3, 'bited#': 14, 'noninhi': 1, 'Genetic': 11, 'parental#': 49, 'predispose#': 4, 'onset#': 70, 'variance#': 78, 'genes#': 84, 'neither#': 270, 'phis': 16, 'relate#': 16, 'X': 14, 'mitters#': 11, 'sero': 8, 'tonin#': 8, 'norepineph': 15, 'rine#': 15, 'mones#': 27, 'tisol#': 5, 'epi': 14, 'signature#': 139, 'tom#': 25, 'asth': 29, 'struc': 18, 'mi': 3, 'sleep#': 78, 'nea#': 6, 'pain#': 224, 'par': 17, 'kin': 12, 'sclero': 11, 'abetes#': 31, 'stroke#': 137, 'physician#': 146, 'agno': 44, 'sing#': 9, 'illness#': 193, 'ups#': 1, 'heal': 56, 'care#': 727, 'professionals#': 89, 'recognize#': 185, 'festations#': 29, 'indic': 54, 'serious#': 438, 'ascular#': 24, 'astro': 24, 'intestinal#': 24, 'neurological#': 35, 'unlikely#': 109, 'stro': 38, 'kes#': 51, 'atastrophi': 2, 'intoxic': 15, 'tobacco#': 222, 'cannabis#': 172, 'sed': 3, 'atives#': 3, 'prescription#': 22, 'opi': 3, 'killers#': 15, 'illicit#': 16, 'hero': 86, 'stimulants#': 7, 'cocaine#': 93, 'amph': 9, 'etamines#': 9, 'lucino': 5, 'gens#': 5, 'inhalants#': 1, 'improvements#': 150, 'sening#': 12, 'ag': 167, 'gerated#': 50, 'uphori': 13, 'tear': 5, 'agitated#': 4, 'Acute#': 11, 'ene#': 17, 'lasting#': 139, 'weeks#': 726, 'Poor#': 70, 'dity': 1, 'inflexi': 1, 'sol': 54, 'ving#': 54, 'denial#': 52, 'impulsi': 4, 'vity#': 4, 'instability#': 63, 'inability#': 72, 'petu': 7, 'pessimistic#': 10, 'feedback#': 67, 'ativity#': 4, 'emperament#': 1, 'pessimis': 10, 'gnitive#': 21, 'generali': 1, 'reading#': 419, 'binocular#': 7, 'trick#': 81, 'something#': 628, 'happens#': 121, 'fears#': 69, 'minimally#': 11, 'risky#': 30, 'avoid#': 436, 'beni': 25, 'gn#': 25, 'anticip': 1, 'atory#': 25, 'targets#': 157, 'sy': 2, 'cho': 4, 'dynamic#': 119, 'posits#': 18, 'opposing#': 130, 'maladap': 4, 'sup': 38, 'pression#': 38, 'repression#': 32, 'gression#': 66, 'somati': 3, 'passive#': 89, 'adapt#': 57, 'objects#': 506, 'caregivers#': 8, 'athic#': 2, 'persistent#': 68, 'discouragement#': 7, 'anger#': 87, 'repressi': 1, 'angry#': 72, 'fests#': 14, 'distress#': 54, 'purpose#': 457, 'gilance#': 4, 'threats#': 114, 'active#': 884, 'false#': 217, 'die#': 271, 'accidents#': 57, 'confronted#': 64, 'foul#': 62, 'dors#': 8, 'scans#': 1, 'participants#': 163, 'moderate#': 135, 'prevent#': 466, 'organis': 57, 'engaging#': 68, 'assault#': 320, 'parenting#': 7, 'rejection#': 79, 'harsh#': 104, 'maternal#': 133, 'child': 1, 'del': 26, 'func': 35, 'dru': 4, 'abusing#': 1, 'behaviour#': 151, 'poor#': 589, 'attachment#': 74, 'child#': 937, 'neglec': 36, 'sto': 6, 'ic#': 6, 'families': 1, 'secuted#': 32, 'disabled#': 71, 'economic': 1, 'uneducated#': 12, 'unemployed#': 35, 'impoverished#': 45, 'textual#': 1, 'learning#': 332, 'mastery#': 26, 'percei': 42, 'strumentality#': 1, 'traits#': 98, 'confidence#': 8, 'independence#': 358, 'competitiveness#': 19, 'men#': 1679, 'facial#': 100, 'photographic#': 70, 'differs#': 92, 'online#': 385, 'photographs#': 132, 'politicians#': 135, 'prominent#': 625, 'Interestingly#': 21, 'tended#': 121, 'institutional#': 43, 'equality#': 98, 'Alan#': 380, '1956#': 396, 'ted': 6, 'bear#': 228, 'Winni': 19, 'h#': 54, 'poems#': 274, 'noted#': 900, 'playwright#': 108, 'huge#': 315, 'success#': 1513, 'shadowed#': 27, 'Wars#': 354, 'joining#': 173, 'Army#': 1156, 'captain#': 281, 'Home#': 358, 'Guard#': 159, 'il': 10, 'bur': 71, 'Vince#': 45, 'Sarah#': 199, 'Marie#': 149, 'nÃ©e#': 150, 'botham#': 1, 'grew#': 628, 'Hen': 8, 'ley#': 38, 'House#': 1589, 'Mortimer#': 64, 'Road#': 1128, 'rescent#': 46, 'run#': 1210, 'father#': 1843, 'Wells#': 197, 'taught#': 352, 'attended#': 595, 'Trinity#': 129, 'College#': 1291, 'Cambridge#': 295, 'studied#': 506, 'scholarship#': 134, 'graduating#': 92, 'Mathematic': 46, 'magazine#': 788, 'collaborated#': 148, 'Kenneth#': 126, 'articles#': 259, 'initi': 141, 'humour#': 51, 'Pun': 18, 'assistant#': 359, 'played#': 2710, 'amateur#': 171, 'cricket#': 85, 'team#': 4016, 'alongside#': 412, 'Barri': 57, 'Arthur#': 378, 'officer#': 437, 'War': 20, 'shire#': 20, 'Regiment#': 138, 'debilitating#': 7, 'Corps#': 234, '4th#': 261, 'Battalion#': 165, '1915#': 222, 'lieutenant#': 96, 'commission#': 225, 'confirmed#': 356, 'injured#': 208, 'serving#': 503, 'Battle#': 672, 'Som': 10, 'me#': 10, 'inv': 72, 'alided#': 1, 'Having#': 177, 'recuperated#': 5, 'recruited#': 177, 'Military#': 206, 'Intelligence#': 88, 'propaganda#': 116, '1918#': 262, 'discharged#': 38, 'Mallor': 4, 'Street#': 1055, 'Chelsea#': 84, 'relin': 24, 'ished#': 24, 'retaining#': 95, 'rank#': 249, 'war#': 2130, 'titled#': 505, 'Peace#': 179, 'onour#': 22, '1934#': 235, 'retracted#': 14, '1940#': 396, 'Wo': 14, 'captured#': 486, 'Nazis#': 112, 'imprisoned#': 139, 'radio#': 1107, 'broadcasts#': 134, 'intern': 23, 'broadcast#': 575, 'Berlin#': 367, 'fun#': 97, 'accused#': 311, 'mitting#': 52, 'treason#': 67, 'cooperating#': 13, 'enemy#': 392, 'got#': 620, 'revenge#': 67, 'friend#': 864, 'Mating#': 3, 'Season#': 142, 'creating#': 480, 'fatu': 4, 'paro': 68, 'dies#': 29, 'Christopher#': 240, 'Robin#': 160, 'claiming#': 240, 'probably#': 705, 'ealous#': 29, 'loved#': 152, 'stu': 76, 'ff#': 64, 'married#': 5660, 'Dorothy#': 84, 'aph': 13, 'lincourt#': 1, '1925#': 234, 'bought#': 417, 'ford#': 2, 'Farm#': 143, 'Har': 68, 'Sussex#': 84, 'Captain#': 310, 'Forest#': 347, 'Row#': 75, 'sisting#': 28, 'plain#': 162, 'Mr.#': 376, 'plato': 12, 'retired#': 344, 'farm#': 323, 'surgery#': 178, '1952#': 362, 'him#': 6648, 'invalid#': 37, 'August#': 1978, '1953#': 346, 'seemed#': 234, 'disen': 11, 'chan': 31, 'died#': 1993, 'aged#': 257, 'humorous#': 67, 'verse#': 160, 'whim': 20, 'sical#': 21, 'essays#': 97, 'staff#': 542, 'plays#': 638, 'novels#': 484, 'murder#': 401, 'mystery#': 126, 'Red#': 853, 'Mystery#': 73, 'Were#': 43, 'Young#': 427, 'carto': 25, 'onist#': 25, 'Shepard#': 88, 'Gallery#': 185, 'Children#': 325, 'screenwriter#': 79, 'ascent#': 23, 'filmed#': 332, 'Miner': 25, 'Films#': 99, 'actor#': 689, 'Leslie#': 53, 'Howard#': 309, 'story#': 1637, 'Adrian#': 105, 'runel#': 8, 'Bump#': 4, 'starring#': 382, 'Au': 64, 'brey#': 23, 'Smith#': 849, 'wice#': 14, 'Poun': 32, 'Reward#': 5, 'films#': 1401, 'survive#': 243, 'archives#': 67, 'Film#': 671, 'starred#': 472, 'Pim#': 3, 'asses#': 3, 'Lo': 59, 'oking#': 42, 'told#': 809, 'detective#': 108, 'wanted#': 782, 'humorist#': 10, 'sery#': 38, 'mes#': 48, 'convinced#': 177, 'taste#': 132, 'cuse#': 27, 'want#': 401, 'prou': 59, 'delivered#': 247, 'elephone#': 47, 'Direc': 9, 'con#': 24, 'amore#': 2, 'ashamed#': 17, 'lank#': 10, 'Ver': 12, 'ragedy#': 17, 'famous#': 1119, 'boy#': 310, 'characters#': 1247, 'inspired#': 603, 'ffed#': 16, 'notably#': 501, 'Edward#': 681, 'renamed#': 497, 'black#': 1099, 'Winnipeg#': 77, 'military#': 1812, 'mascot#': 175, 'wan#': 12, 'magnificent#': 42, 'toys#': 74, 'Pi': 26, 'glet#': 2, 'ey': 2, 'Ro': 49, 'incorporated#': 1165, 'character': 1, 'Rabbit#': 85, 'imagination#': 85, '0,000#': 68, 'visit#': 491, 'fictional#': 277, 'Hun': 32, 'Acre#': 22, 'Wood#': 249, 'derives#': 140, 'Ash': 9, 'northern#': 945, 'edge#': 316, 'walking#': 198, 'scapes#': 52, 'illustrations#': 83, 'commented#': 224, 'Popular#': 97, 'tourist#': 237, 'locations#': 386, 'Gal': 6, 'En': 67, 'Place#': 213, 'ffalump#': 1, 'Lone#': 29, 'Pine#': 298, 'ore': 1, 'Sad#': 21, 'loomy#': 1, 'wooden#': 306, 'Bridge#': 298, 'invented#': 334, 'stic': 51, 'Not#': 321, 'poem#': 383, 'ed': 34, 'Bear#': 119, 'Evening#': 73, 'News#': 376, 'Christmas#': 440, 'Eve#': 110, 'rong#': 26, 'Sor': 8, 'Corner#': 47, '1928#': 243, 'Now#': 260, 'Are#': 117, 'Six#': 168, '1927#': 238, 'stepped#': 87, 'forward#': 592, 'quarter#': 287, 'dramatising#': 1, 'sel#': 2, 'Distress#': 9, 'won#': 2452, 'Carroll#': 97, 'Shel': 6, 'Award#': 1229, '1958#': 354, 'considerable#': 387, 'avowed#': 1, 'aim#': 181, 'whatever#': 115, 'pleased#': 44, 'freed#': 84, 'pon': 6, 'derous#': 6, 'faceti': 1, 'ousness#': 1, 'dol#': 40, 'sides#': 481, 'Atlantic#': 604, 'wit': 22, 'ty#': 35, 'severely#': 154, 'criticised#': 124, 'Raymond#': 177, 'Chandler#': 97, 'implau': 4, 'plot#': 358, 'go': 18, 'reworkings#': 6, 'verses#': 100, 'Methu': 3, 'en#': 14, 'publish#': 107, 'Norman#': 329, 'assembly#': 279, 'Year#': 739, 'Out#': 232, 'likened#': 31, 'benefit#': 275, 'night#': 811, '1930#': 280, 'adapted#': 423, 'ra': 16, 'hame#': 6, 'novel#': 1281, 'Wind#': 113, 'Willows#': 9, 'To': 30, 'admission#': 100, 'chapters#': 67, 'Chapter#': 101, 'Gates#': 94, 'Dawn#': 70, 'theatre#': 449, 'editions#': 184, 'bene': 12, 'fici': 12, 'Fund#': 129, 'Garrick#': 71, 'Club#': 584, 'week#': 602, 'birthday#': 280, 'widow#': 118, 'Stephen#': 341, 'lesinger#': 2, 'Walt#': 218, 'Disney#': 541, 'cartoon#': 131, 'movies#': 349, 'Channel#': 263, 'television#': 1924, 'merchandise#': 65, 'estate#': 356, 'Corporation#': 400, 'twice-': 5, 'yearly#': 2, 'deal#': 781, 'featuring#': 667, 'animal#': 395, '£': 2, 'auction#': 92, 'by#': 99, 'Forbes#': 106, 'ranked#': 601, 'character#': 1973, '2002#': 1102, 'mer': 25, 'chandising#': 15, 'alone#': 4817, '5.9#': 283, 'surpassed#': 76, 'Mickey#': 225, 'Mouse#': 127, 'memorial#': 183, 'plaque#': 75, 'unveiled#': 163, 'memorates#': 32, 'playing#': 1116, 'BBC#': 621, 'survey#': 187, 'Read#': 23, '2006#': 1710, 'Hollywood#': 540, 'Walk#': 162, 'Fame#': 468, 'marking#': 122, 'poll#': 133, 'icons#': 39, 'composer#': 354, 'Harold#': 138, 'raser': 1, 'Sim': 1, 'Rather#': 114, 'lder#': 25, 'rea': 18, 'fast#': 18, 'religion#': 412, 'fist#': 21, 'fighting#': 390, 'Hitler#': 329, 'Devil#': 113, 'Anti': 1, 'Christ#': 1, 'cru': 71, 'sader#': 38, 'God#': 1013, 'comment#': 117, 'recalled#': 184, 'plained#': 3, 'Ann#': 166, 'Said#': 40, 'Please#': 45, 'tell#': 244, 'Some': 27, 'Him#': 27, 'Who#': 282, 'cos#': 24, 'Asoci': 2, 'Alum': 34, 'ni#': 34, 'rugby#': 80, 'union#': 278, 'club#': 555, 'tu': 47, 'guitas#': 1, 'Greater#': 209, 'eno': 58, 'Aires#': 58, 'Argentina#': 134, 'senior#': 292, 'squad#': 93, 'rupo#': 4, 'division#': 563, 'Uni': 2, 'Rugby#': 81, 'league#': 627, 'football#': 431, '1898#': 229, 'director#': 935, 'Watson#': 109, 'Hutton#': 98, 'obliged#': 61, 'Association#': 807, 'proposal#': 216, 'Carlos#': 148, 'Bowers#': 7, 'Argentine#': 44, 'winning#': 757, 'championships#': 138, 'contested#': 115, 'organised#': 161, 'encourage#': 125, 'ractise#': 12, 'sports#': 593, 'Lomas#': 3, 'grano#': 6, 'game#': 3373, '1911#': 210, 'definitely#': 69, 'dissolved#': 143, '1951#': 254, 'alumni#': 90, 're-': 17, 'presided#': 56, '1960#': 485, 'presented#': 658, 'reaching#': 296, 'Argentini': 13, 'Athletic#': 79, 'cest#': 6, 'clim': 76, 'titles#': 470, 'consecutive#': 300, '1989#': 694, 'Clu': 1, 'bes#': 20, 'defeating#': 188, 'Joc': 3, 'key#': 762, 'sario#': 11, '21#': 1, 'om#': 8, 'axiom#': 105, 'postulate#': 26, 'classic#': 388, 'evident#': 102, 'question#': 444, 'premise#': 53, 'arguments#': 156, 'logic#': 343, 'Å': 2, '\\x8d': 2, 'thy#': 89, 'mends#': 1, 'Wh': 52, 'ether#': 52, 'mathematici': 44, 'opinions#': 116, 'distinguishable#': 20, 'logical#': 174, 'axioms#': 124, 'substantive#': 27, 'arith': 61, 'metic#': 67, 'assumption#': 103, 'changeably#': 24, 'truth#': 225, 'formal#': 448, 'deduction#': 23, 'build#': 588, 'mits#': 46, 'equally#': 170, 'axi': 35, 'omati': 12, 'sentences#': 71, 'gically#': 40, 'unless#': 246, 'redun': 26, 'demon': 53, 'strable#': 3, 'proof': 29, 'points#': 1165, 'nothing#': 463, 'follow#': 422, 'orems#': 30, 'theorem#': 212, 'oma#': 1, 'bal#': 74, 'noun#': 72, 'verb#': 77, 'ein#': 1, 'claim#': 579, 'uclid#': 26, 'demands#': 166, 'agree#': 172, 'things#': 592, 'geometers#': 1, 'menting#': 44, 'Proclus#': 7, 'remarks#': 63, 'Geminus#': 1, 'stulate#': 1, 'classed#': 30, 'stul': 1, 'ethi': 3, 'petiti': 1, 'tiones#': 1, 'munes#': 39, 'manuscripts#': 103, 'kept#': 547, 'gico-': 2, 'deduc': 16, 'whereby#': 96, 'conclusions#': 80, 'premises#': 68, 'syl': 16, 'gis': 2, 'rules#': 536, 'inference#': 36, 'autolo': 1, 'excluded#': 98, 'deduced#': 22, 'oms#': 3, 'assumptions#': 84, 'talking#': 120, 'aid#': 350, 'changed#': 1121, 'consequently#': 81, 'Aristotle#': 132, 'sciences#': 198, 'par#': 27, 'facts#': 114, 'avoiding#': 80, 'error#': 238, 'turing#': 11, 'communic': 20, 'posterior#': 25, 'tic': 5, 'definitive#': 70, 'exposition#': 27, 'branches#': 255, 'lay#': 217, 'potheses#': 21, 'hypothesis#': 118, 'Their#': 854, 'real-': 24, 'content#': 469, 'lear': 9, 'doubt#': 136, 'approach#': 567, 'geometric#': 74, 'learned#': 340, '150#': 183, 'propositions#': 22, 'definitions#': 104, 'concede#': 13, 'primitive#': 105, 'ab': 38, 'straction#': 29, 'mali': 29, 'Ales': 15, 'ro#': 15, 'Mario#': 84, 'Pieri#': 1, 'usep': 32, 'pe#': 32, 'Peano#': 9, 'turalist#': 2, 'develops#': 74, 'topolo': 47, 'vector#': 85, 'spaces#': 225, 'disappears#': 26, 'profitably#': 5, 'saying#': 651, 'wealth#': 265, 'rests#': 37, 'throwing#': 82, 'wider#': 186, 'bolic#': 20, 'labels#': 154, 'purely#': 107, 'employ#': 135, 'intentions#': 59, 'abstract#': 153, 'gives#': 494, 'correct#': 234, 'say#': 561, 'multiplication#': 66, 'satis': 35, 'stantly#': 51, 'extra#': 232, 'Modern#': 319, 'zes#': 88, 'foundations#': 122, 'Russell#': 333, 'incar': 25, 'Hil': 25, 'del#': 24, 'figures#': 527, 'understanding#': 353, 'stated#': 1200, 'contradic': 84, 'gici': 7, 'malist#': 5, 'program#': 1249, 'uclidean#': 36, 'consisten': 54, 'Can': 11, 'Here#': 264, 'emergence#': 103, 'paradox#': 45, 'antinomi': 1, '¯': 19, 'raised#': 624, 'inconsistent#': 53, 'suffered#': 591, 'decisive#': 90, 'set': 27, '1931#': 249, 'construct#': 132, 'corol': 39, 'lary#': 16, 'reasonable#': 107, 'satisfied#': 64, 'intu': 10, 'itively#': 10, 'strating#': 50, 'melo': 10, 'kel#': 12, 'forcing#': 144, 'Cohen#': 92, 'continu': 35, 'monumental#': 60, 'Isaac#': 182, 'essentially#': 255, 'mented#': 47, 'acetime#': 5, 'relativity#': 26, 'coworkers#': 8, '1935#': 298, 'deterministic#': 16, 'No': 38, 'tably#': 36, 'hidden#': 201, 'variables#': 187, 'enforce#': 74, 'determinis': 46, 'thirty#': 156, '1964#': 516, 'Bell#': 384, 'inequalities#': 20, 'measurably#': 2, 'And#': 574, 'twenty#': 264, 'Aspec': 11, 'favour#': 200, 'Copenhagen#': 84, 'subtle#': 77, 'locality#': 30, 'Re': 34, 'abo': 19, 've-': 19, 'dispro': 1, 'comparison#': 232, 'falsi': 8, 'needs#': 425, 'modification#': 81, 'formulas#': 85, 'universally#': 69, 'assignment#': 82, 'Usually#': 68, 'minimal#': 122, 'tautolo': 9, 'proving#': 56, 'predicate#': 10, 'prove#': 184, 'truths#': 40, 'strict#': 138, 'propositional#': 30, 'formula': 35, 'formula_2#': 51, 'formula_': 448, 'connec': 15, 'tives#': 77, 'proposition#': 34, 'implication#': 46, 'sequ': 47, 'ema#': 15, 'generating#': 80, '13#': 36, 'instances#': 106, 'emata#': 4, 'dus#': 8, 'ponens#': 4, 'emas#': 3, 'constructed#': 678, 'variable#': 257, '15#': 32, 'agu': 4, 'eness#': 4, 'never': 7, 'mean#': 455, 'tactical#': 2, '17#': 39, 'forced#': 865, 'string#': 231, 'symbols#': 154, 'indeed#': 217, 'provides#': 791, 'Universal#': 331, 'stanti': 1, '18#': 21, 'stands#': 309, '19#': 22, 'formula_20#': 15, 'stituted#': 39, 'formula_21#': 27, 'Su': 3, 'stitution#': 3, 'informal#': 102, 'formula_2': 68, 'formula_25#': 19, 'Again#': 146, 'properly#': 152, 'metaproof#': 1, 'tually#': 18, 'metathe': 1, 'dealing#': 121, 'Aside#': 75, 'Generali': 1, 'Non': 3, 'ory': 1, 'Reasoning#': 3, 'integers#': 74, 'starts#': 141, 'malized#': 28, 'operation#': 907, 'mutative#': 7, 'asserted#': 92, 'entirely#': 479, 'gorous#': 38, 'topics#': 116, 'specification#': 73, 'asic#': 35, 'omatically#': 1, 'implicitly#': 29, 'abbreviated#': 156, 'omatic#': 19, 'uman': 2, 'conservative#': 248, 'extension#': 296, 'Sometimes#': 155, 'se-': 2, 'Kel': 1, 'cardinal#': 64, 'allowing#': 493, 'then': 3, 'weaker#': 71, 'secon': 18, 'algebraic#': 88, 'parapher': 12, 'homolo': 4, 'top': 7, 'rings#': 133, 'Galo': 10, 'expanded#': 476, 'representation#': 238, 'Com': 8, 'atoric': 1, 'fir': 26, 'st': 39, 'incompleteness#': 12, 'formula_29#': 19, '35#': 17, 'Prob': 25, 'millen': 30, 'nia#': 31, 'deriv': 3, 'timately#': 60, 'assume#': 115, 'infinitely#': 32, 'interior#': 319, 'triangle#': 87, '180#': 94, 'degrees#': 340, 'geometries#': 8, 'extended#': 652, 'arises#': 58, 'objec': 62, 'ely#': 48, 'picked#': 160, 'isomor': 12, 'Dede': 7, 'nonempty#': 6, 'wen': 2, 'eim': 2, 'olem#': 2, 'our': 37, 'selves#': 37, 'reals#': 9, 'consists#': 728, 'desirable#': 79, 'here#': 640, 'completeness#': 19, 'Note#': 240, 'The': 75, 'ory#': 56, 'Arith': 6, 'trou': 62, 'bling#': 5, 'developers#': 121, 'olean#': 29, 'timely#': 12, 'asted#': 26, 'paral': 44, 'lels#': 44, 'Alpha#': 79, 'up': 18, 'percase#': 11, 'lower': 19, 'pha#': 1, 'alphabet#': 110, 'numerals#': 30, 'enici': 43, 'aleph#': 3, 'Letters#': 73, 'arose#': 162, 'rillic#': 19, 'reflecting#': 91, 'pronounced#': 175, 'phonemically#': 1, 'macron#': 1, 'breve#': 1, '¾': 5, '°': 1, 'vowel#': 112, 'tho': 36, 'graphy#': 27, 'letters#': 511, 'ac': 47, 'ritic#': 6, 'marks#': 180, 'accent#': 89, 'breathing#': 32, 'combinations#': 97, 'script#': 449, 'At': 76, 'dialect#': 184, 'fron': 23, 'eta#': 3, 'silon#': 1, 'oric#': 38, 'olic#': 2, 'preserved#': 246, 'Priv': 49, 'prefix#': 76, 'abic#': 14, 'asal#': 80, 'Copul': 1, 'Fine-': 1, 'fficient#': 46, 'representing#': 270, 'denote#': 70, 'neath#': 56, 'curve#': 116, 'ul': 34, 'wol': 51, 'dog#': 205, 'pack#': 82, 'tionality#': 11, 'operator#': 157, '\\x9d#': 1, 'Unico': 47, '+': 5, '21': 10, 'mistaken#': 66, 'rendered#': 123, 'identically#': 10, 'honetic#': 6, 'phabet#': 10, 'open#': 1198, 'roun': 4, 'Plutarch#': 30, 'Morali': 1, 'discussion#': 170, 'Am': 13, 'asks#': 150, 'mus#': 5, 'reputedly#': 24, 'placing#': 156, 'ox': 1, 'od#': 69, 'necessities#': 18, 'Nothing#': 87, 'replied#': 113, 'assisted#': 128, 'ampri': 2, 'grandfather#': 183, 'sus#': 30, 'simple': 1, 'coming#': 480, 'mouth#': 294, 'attri': 13, 'bution#': 13, 'vowels#': 56, 'planets#': 79, 'Testament#': 90, 'declaring#': 83, 'me': 12, 'Revelation#': 34, 'hierarchy#': 89, 'leaders#': 540, 'accented#': 6, 'acritics#': 1, 'Computer#': 162, 'Toffler#': 26, 'October#': 2267, 'futurist#': 5, 'discussing#': 75, 'digital#': 370, 'revolution#': 235, 'technological#': 126, 'singularity#': 14, 'associate#': 134, 'tune#': 58, 'impact#': 438, 'overload#': 14, 'examining#': 38, 'increasing#': 477, 'hardware#': 197, 'capitalism#': 86, 'Associ': 62, 'visiting#': 223, 'scholar#': 217, 'Sage#': 15, 'Foundation#': 429, 'Cornell#': 78, 'faculty#': 198, 'correspon': 45, 'dent#': 50, 'business#': 1284, 'tant#': 59, 'Bel#': 11, 'Air#': 982, 'Los#': 1115, 'Angeles#': 1012, 'California#': 1106, 'north#': 1901, 'Sun': 44, 'Boulevard#': 124, 'couple': 1, 'Karen#': 42, '195': 1, 'decade#': 428, 'ain': 1, 'syndrome#': 159, 'Rose#': 408, 'aum#': 1, 'Sam#': 237, 'Jewish#': 966, 'Adelaide#': 276, 'Far': 37, 'rell#': 24, 'she#': 4372, 'graduate#': 205, 'linguistic': 54, 'Mid': 74, 'spending#': 187, 'blu': 10, 'collar#': 10, 'studying#': 203, 'steward#': 11, 'foun': 27, 'dry#': 353, 'mill': 2, 'wright#': 2, 'welder#': 2, 'backed#': 1, 'newspaper#': 616, 'bureau': 23, 'respon': 5, 'covering#': 247, 'Congress#': 505, 'Pennsylvania#': 291, 'Meanwhile#': 234, 'specialized#': 160, 'library#': 551, 'returned#': 1388, 'colum': 32, 'nist#': 32, 'leaving#': 628, 'hired#': 461, 'IBM#': 250, 'organiz': 73, 'computers#': 246, 'computer#': 787, 'gurus#': 3, 'artificial#': 259, 'intelligence#': 349, 'proponents#': 35, 'erox#': 12, 'strategic#': 282, 'telecommunic': 53, 'advised#': 111, 'Tofflers#': 3, 'Future#': 90, 'Shoc': 24, 'Tom#': 772, 'Johnson#': 825, 'firm#': 340, 'implement#': 123, 'businesses#': 353, 'Korea#': 168, 'Mexico#': 734, 'Singapore#': 103, 'elderly#': 94, 'compassi': 10, 'honest#': 44, 'hospitals#': 143, 'kinds#': 175, 'they': 18, 'can': 16, 'stating#': 353, 'Tomor': 44, 'row#': 248, 'illiterate#': 26, 'man#': 1526, 'learn#': 2, 'Herbert#': 141, 'ju': 5, 'cites#': 79, 'teach#': 135, 'reclassi': 3, 'veracity#': 14, 'Third#': 271, 'ave#': 37, 'describes#': 405, 'societies#': 209, 'aside#': 127, 'diversity#': 154, 'Ad': 12, 'hocracies#': 1, 'fluid#': 153, 'Information#': 273, 'substitute#': 68, 'sat': 3, 'gnitari': 1, 'proletari': 2, 'affiliated#': 108, 'Mass#': 98, 'stomi': 10, 'cheap#': 76, 'person': 70, 'alized#': 14, 'catering#': 23, 'niches#': 21, 'gap#': 109, 'consumer#': 157, 'ged#': 45, 'configuration#': 82, 'sumers#': 1, 'fill#': 146, 'kit#': 36, 'freelance#': 28, 'enabling#': 78, 'sumer#': 28, 'entails#': 19, 'job#': 421, 'corporation#': 102, 'banking#': 203, 'tel': 38, 'bank#': 518, 'postal#': 59, 'packages#': 66, 'Internet#': 324, 'relying#': 52, 'clerk#': 87, 'confines#': 15, 'no#': 29, 'pioneer#': 257, 'Juan#': 205, 'kins#': 53, 'phrase#': 260, 'tech': 22, 'rebels#': 87, 'spiring#': 39, 'Toffler': 1, 'riticis': 56, 'argumentation#': 6, 'futurolo': 5, 'foreseeing#': 2, 'gh#': 4, '1990s#': 747, 'publicly#': 282, 'New': 10, 'ingrich#': 7, 'believes#': 156, 'era': 1, 'turning#': 239, 'Wealth#': 9, 'every': 53, 'globalisation#': 3, 'nowhere#': 39, 'positioning#': 34, 'satellites#': 163, 'ronising#': 4, 'precision#': 108, 'streams#': 89, 'cel': 5, 'phone#': 3, 'calls#': 356, 'productivity#': 81, 'tracking#': 103, 'traffic#': 554, 'weather#': 416, 'accurate#': 196, 'forec': 52, 'asts#': 52, 'centure#': 7, 'dubbed#': 165, 'Bill#': 522, 'ruc': 5, 'Top#': 484, 'Financial#': 102, 'Times#': 629, 'interview#': 496, 'world': 23, 'gist#': 2, 'Daily#': 180, 'Mark#': 597, 'Satin#': 4, 'characteri': 47, 'centrist#': 3, 'recipient#': 100, 'prestigious#': 114, 'pri': 49, 'Mc': 66, 'sey#': 2, 'butions#': 9, 'Literature#': 91, 'ffici': 5, 'Arts#': 499, 'Let': 12, 'tres#': 12, 'appo': 41, 'Fellow#': 77, 'Advan': 17, 'Science#': 415, 'Strate': 44, 'recipi': 38, 'sity': 9, 'co-wrote#': 67, 'Amazing#': 108, 'Spider-Man#': 116, 'comic#': 363, 'Marvel#': 81, 'Comics#': 137, 'adventures#': 97, 'hero#': 234, 'continuity#': 75, 'franchise#': 753, 'monthly#': 127, 'brief#': 349, 'interruption#': 18, '1995#': 857, 'relaun': 14, 'numbering#': 76, '1999#': 969, 'rever': 55, 'volume#': 416, 'occasionally#': 371, 'we': 37, 'kly#': 17, 'month#': 618, '2010#': 5034, 'Action#': 72, 'Detec': 44, 'est': 1, 'circulation#': 131, 'cancelled#': 134, 'ended#': 872, 'Superior#': 99, 'relaunched#': 22, '2014#': 1508, 'Goblin#': 12, 'Nation#': 134, 'arc#': 74, 'eam': 3, 'Up#': 3, '2015#': 1371, 'Secret#': 124, 'riter': 2, 'Stan#': 78, 'Lee#': 764, 'artist#': 679, 'tter#': 2, 'Steve#': 398, 'Dit': 18, '1966#': 483, 'ronicling#': 9, 'fl': 90, 'fifty#': 128, 'Parker#': 180, 'tacular#': 19, '1972#': 622, 'debut#': 685, 'vill': 47, 'saga#': 40, 'exceptions#': 122, 'Nov': 23, 'vol#': 17, 'Jan': 37, '40': 103, 'anniversary#': 349, 'Dec': 13, 'Fe': 15, 'Fantasy#': 911, 'ongoing#': 172, 'initial#': 560, 'ronicled#': 28, 'civilian#': 223, 'hard-': 1, 'luc': 1, 'petually#': 20, 'humored#': 3, 'teen': 122, 'ager#': 57, 'balanced#': 69, 'photographer#': 74, 'gle#': 8, 'astic#': 10, 'editor': 15, 'Jon': 11, 'ameson#': 18, 'support#': 1917, 'frail#': 13, 'Aun': 41, 'May#': 2502, 'tagonis': 10, 'class': 17, 'mates#': 16, 'Flash#': 71, 'Thompson#': 198, 'Allan#': 83, 'town#': 5970, 'tentative#': 19, 'ill-': 34, 'fated#': 34, 'romance#': 102, 'Betty#': 68, 'Brant#': 2, 'focusing#': 123, 'everyday#': 109, 'ground': 70, 'kingly#': 1, 'awed#': 31, 'protagonist#': 118, 'side': 15, 'ic': 16, 'clean': 6, 'Jack#': 508, 'humor#': 90, 'my': 9, 'Is': 35, 'sue#': 20, 'featured#': 1376, 'appearances#': 351, 'astron': 21, 'aut#': 21, 'Chamele': 2, 'encounter#': 115, 'ture#': 7, 'photography#': 140, 'Le': 59, 'era#': 768, 'sher#': 17, 'Doctor#': 138, 'topus#': 8, 'Sand': 6, 'Sept': 21, 'Living#': 96, 'rain#': 55, 'tro#': 5, 'My': 28, 'sterio#': 1, 'Green#': 678, 'raven#': 3, 'Hunter#': 201, 'g.#': 6, 'reporter#': 108, 'Leeds#': 158, 'pi': 14, '1965#': 502, 'Mol': 4, 'graduation#': 83, 'attending#': 152, 'State#': 2394, 'wen#': 20, 'Stacy#': 20, 'Harry#': 458, 'revealed#': 491, 'Destiny#': 109, 'escaping#': 50, 'pin': 22, 'machinery#': 61, 'historian#': 317, 'Les#': 223, 'Dani': 46, 'squ': 93, 'predicament#': 7, 'visions#': 31, 'uncle#': 187, 'failed#': 757, 'aun': 56, 'save#': 281, 'page#': 228, 'best': 19, 'Sa': 1, 'ffel#': 1, 'Matthew#': 121, 'Man': 32, 'pages#': 177, 'iconic#': 136, 'scenes#': 475, 'Greatest#': 204, 'vels#': 4, 'Time#': 596, 'Editor#': 26, 'modern-day#': 87, 'Shakespeare#': 188, 'solilo': 4, 'story': 52, 'delivers#': 26, 'sequences#': 129, 'comics#': 151, 'draw#': 239, 'dialogue#': 225, 'ft#': 97, 'exact#': 204, 'Romita#': 20, 'Sr.#': 83, 'disagreed#': 58, 'ciler#': 5, 'nemesis#': 18, 'discovers#': 101, 'secret#': 398, 'polished#': 46, 'managing#': 95, 'Rob': 24, 'Rober': 123, '1967#': 553, 'girlfriend#': 76, 'Jane#': 211, 'scured#': 19, 'arrival#': 318, 'behind#': 841, 'pot': 4, 'blocked#': 91, 'panel#': 111, 'designing#': 68, 'gret#': 6, 'movie#': 919, 'Bir': 3, 'coloring#': 16, 'fitting#': 3, 'toned#': 5, 'prevalent#': 166, 'improving#': 92, 'college#': 647, 'topical#': 25, 'add': 57, 'civil#': 659, 'prisoners#': 212, 'Vietnam#': 196, 'elections#': 460, 'criminal#': 279, 'mastermind#': 4, 'King': 5, 'pin#': 5, 'aredevil#': 30, 'hino#': 25, 'Prow': 3, 'Fisk#': 8, '1970#': 636, 'spin-off#': 83, 'debuted#': 229, '1974#': 606, 'Spidey#': 1, 'Super#': 232, 'Stories#': 78, 'aimed#': 185, 'ages#': 973, '1982#': 599, 'grim#': 19, 'ciled#': 13, 'Gil#': 27, 'alternate#': 374, 'drawing#': 221, 'and-': 5, 'landmark#': 132, 'May': 7, '1971#': 505, 'defied#': 12, 'Authority#': 259, 'spitalized#': 31, 'pills#': 11, 'Education#': 330, 'Wel': 17, 'fare#': 16, 'Citing#': 12, 'tum#': 10, 'depicting#': 107, 'put#': 985, 'seal#': 109, 'approval#': 177, 'Goo': 72, 'praise#': 135, 'loo': 5, 'sened#': 5, 'permit#': 121, 'depic': 62, 'freedoms#': 23, 'Arms#': 63, 'Saga#': 39, 'ampire#': 23, 'install': 76, 'creator#': 9, 'Roy#': 211, 'Thomas#': 1131, 'months#': 1314, '19': 18, 'Ham': 2, '113#': 88, 'succeeded#': 382, '121': 1, 'June': 6, '1973#': 567, 'ane-': 1, 'Night#': 425, '121#': 95, 'Her#': 689, 'demise#': 56, 'defining#': 96, 'aftermath#': 99, 'epened#': 11, 'Ross#': 135, 'lasted#': 250, '125#': 107, '185#': 61, 'Punisher#': 6, 'Wolf#': 135, 'near': 1, '131#': 70, 'step': 39, '135': 1, 'lone#': 7, 'clone#': 33, 'Archie#': 68, 'dwin#': 24, 'Len#': 16, 'Wein#': 4, 'tenure#': 140, 'Allen#': 376, 'dated#': 258, 'eventual#': 180, 'Madison#': 234, 'five-': 10, 'bor': 43, 'atrist#': 40, 'Bart#': 46, 'Hamilton#': 229, 'Wol': 27, '182#': 43, 'propose#': 35, 'Keith#': 141, 'Pol': 28, 'lard#': 20, 'shortly#': 389, 'afterward#': 70, 'lik': 5, 'Black#': 1620, 'Cat#': 78, 'Felici': 2, '194#': 55, 'love#': 668, 'occasional#': 163, 'lover#': 84, '2010s#': 24, '1980#': 633, 'glar#': 19, 'killed#': 1028, 'Uncle#': 170, 'Ben#': 315, 'riter#': 26, 'Dennis#': 182, 'Neil#': 117, 'rival#': 242, '..#': 6, 'Annual#': 123, 'Frank#': 547, 'Miller#': 479, 'team': 4, 'up#': 84, 'Strange#': 40, '1981#': 503, 'show': 37, 'ased#': 37, 'Roger#': 328, 'Jr.#': 388, 'mysterious#': 81, 'goblin#': 8, '1983#': 570, 'Fans#': 19, '1984#': 631, 'reintroduction#': 4, 'mature#': 88, 'woman#': 676, 'knows#': 120, 'Kid#': 131, 'Col': 1, 'ranks#': 206, 'alco#': 5, 'Ron#': 140, 'Fren': 4, 'ciling#': 4, 'laying#': 65, 'wedding#': 153, 'tells#': 311, 'bled#': 56, 'alco-': 1, 'costume#': 78, 'revelation#': 78, 'living#': 15063, 'bio': 72, 'female#': 5721, 'mercenary#': 67, 'Silver#': 219, 'Sable#': 31, '65#': 32, '1985#': 615, '1986#': 639, 'sley#': 12, 'rimoni': 11, 'Alex#': 119, 'Savi': 1, '1988#': 695, 'Former#': 102, 'retcon': 6, 'Michelini': 3, '29': 129, 'July': 6, 'Last#': 328, 'storyline#': 69, 'Matteis#': 2, 'crossed#': 182, 'lane#': 15, 'regular#': 924, 'revolutioni': 25, 'depiction#': 100, 'large-': 1, 'eyed#': 1, 'wiry#': 5, 'contor': 4, 'limbs#': 64, 'mes': 4, 'voluted#': 8, 'virtually#': 181, 'canon#': 128, 'wil': 21, 'dly#': 57, 'tagonists#': 22, 'enom#': 6, 'ast': 1, 'cameo#': 107, 'red-': 1, 'blue#': 1, 'vs.#': 138, 'cover#': 758, 'bid#': 178, 'Erik#': 75, 'Lar': 12, 'sen#': 33, '1991#': 770, 'agley#': 14, 'ry': 7, 'assigned#': 343, 'jobs#': 283, 'Warriors#': 225, 'April': 13, 'th-': 72, '365#': 63, 'double-': 3, 'holo': 1, 'gram': 1, 'cli': 9, 'hanger#': 9, 'dead#': 432, 'reappearing#': 1, 'alive#': 179, 'impostors#': 3, '1994#': 843, '198': 3, 'stint#': 46, 'longest#': 244, 'affecting#': 85, 'missing#': 212, 'credits#': 178, '199': 5, 'stopped#': 235, 'running#': 554, '400#': 234, 'fa': 66, 'culminated#': 68, 'twist#': 27, 'massively#': 13, 'unpopular#': 74, 'reversed#': 101, 'Revel': 3, 'let#': 25, 'Spider#': 10, 'Reilly#': 14, 'returning#': 365, 'September#': 2198, 'Gar': 1, 'ney#': 20, 'roce#': 1, 'Joe#': 496, 'el#': 54, 'anew#': 8, 'Mack': 3, 'gressed#': 7, 'ultimately#': 404, 'Spider-': 7, 'Woman#': 1, 'spun#': 49, 'launched#': 511, 'uniting#': 19, 'Michael#': 1219, 'Strac': 6, 'oversaw#': 63, 'tem#': 2, 'magic': 2, 'spider#': 35, 'bite#': 43, 'resur': 33, 'discovering#': 67, 'couple#': 477, 'placed#': 863, 'volume-': 1, 'longtime#': 123, 'likewise#': 97, 'ato#': 4, 'company': 1, 'cro': 52, 'sover#': 48, 'Civil#': 577, 'community#': 2598, 'conform#': 36, 'Super': 1, 'Registration#': 12, 'erased#': 32, 'four': 9, 'Quesada#': 2, 'Frien': 22, 'borhood#': 14, 'Sen': 4, 'sational#': 4, 'demon#': 39, 'Mephisto#': 2, 'gain#': 358, 'offering#': 223, 'rewriting#': 12, 'pasts#': 3, 'Following#': 773, 'gurating#': 6, 'asics#': 14, 'domino#': 6, 'revisions#': 45, 'recall#': 67, 'vengers#': 16, 'Dan#': 261, 'Gale#': 22, 'Marc#': 107, 'Guggenheim#': 218, 'Fred#': 152, 'Lente#': 1, 'rotation#': 168, 'Chris#': 358, 'achalo#': 1, 'Phil#': 158, 'imene': 3, 'Kelly#': 156, 'Barry#': 245, 'it': 43, 'roster#': 135, 'Colbert#': 64, '2009#': 1899, 'meets#': 177, 'President#': 1385, 'Barack#': 66, 'Obama#': 104, 'opening#': 734, 'Eight#': 69, 'format#': 333, 'Dying#': 15, 'ish#': 23, 'apped#': 12, 'Luc': 37, 'Alive#': 31, 'Original#': 147, 'Sin#': 68, 'Sil': 26, 'ine#': 30, 'bit': 10, 's.#': 18, 'Edge#': 108, 'hunted#': 82, 'lun#': 1, 'stop#': 472, '16#': 1, 'command#': 483, 'Men#': 1, 'Alliance#': 175, 'unrelated#': 76, 'fferent#': 1, 'Industries#': 75, 'businessman#': 107, 'Antigua#': 102, 'twin': 63, 'Americas#': 147, 'lying#': 142, 'Caribbean#': 203, 'Ocean#': 217, 'inhabited#': 172, 'Bird#': 129, 'Long#': 400, 'Maiden#': 34, 'south#': 1764, 'Redon': 2, 'permanent#': 458, '00#': 1, 'Census#': 4106, 'port#': 679, 'Separated#': 4, 'autical#': 21, 'miles#': 2583, 'middle#': 654, 'eward#': 7, 'Les': 30, 'Antilles#': 20, 'Columbus#': 203, 'honor#': 459, 'Virgin#': 148, 'eville#': 26, 'Cathedral#': 317, 'nicknamed#': 137, 'eaches#': 7, 'beaches#': 118, 'bearded#': 22, \"'l\": 1, 'li#': 2, 'Araw': 10, 'locals#': 98, 'Caribs#': 5, 'omoni#': 1, 'sailing#': 103, 'Santa#': 319, 'Maria#': 240, 'icon#': 64, 'chaic#': 43, 'hun': 7, 'atherer#': 7, 'Amerindi': 13, 'boney#': 3, 'Ci': 2, 'bon#': 41, 'settlements#': 308, 'Colum': 22, '-speaking#': 1, 'Salado': 1, 'migrated#': 71, 'Orinoco#': 6, 'River#': 3269, 'raising#': 167, 'pineapple#': 14, 'Moris#': 1, 'como': 1, 'corn#': 103, 'sweet#': 128, 'potatoes#': 72, 'flesh#': 58, 'bright#': 144, 'orange#': 180, 'potato#': 56, 'chiles#': 1, 'cotton#': 154, 'indigenous#': 303, 'Indians#': 243, 'seagoing#': 8, 'sail#': 85, 'colonise#': 6, 'descendants#': 197, 'Venezuela#': 66, 'Colombia#': 93, 'raided#': 38, 'clopedi': 50, 'superior#': 170, 'weapons#': 415, 'sea': 7, 'faring#': 7, 'prowess#': 21, 'defeat#': 422, 'Indian#': 867, 'ak#': 5, 'sl': 47, 'aving#': 6, 'canni': 1, 'balising#': 1, 'aders#': 28, 'difficulty#': 190, 'peoples#': 284, 'encountered#': 158, 'eth': 1, 'nic': 1, 'tribal#': 135, 'numerous#': 906, 'African#': 2980, 'diseases#': 176, 'utrition#': 28, 'slavery#': 194, 'pox#': 3, 'killer#': 72, 'historians#': 265, 'deaths#': 279, 'amongst#': 220, 'aved#': 41, 'natives#': 117, 'Others#': 189, 'reportedly#': 232, 'chy#': 6, 'diet#': 113, 'severe#': 347, 'fortified#': 76, 'Spaniards#': 98, 'lacked#': 117, 'aggressive#': 148, 'Sir#': 650, 'dring': 1, 'avery#': 16, 'sugar#': 123, 'abolished#': 136, '1834#': 71, 'lude#': 8, 'Commonwealth#': 188, 'Nations#': 305, 'onourable#': 12, 'Vere#': 8, 'Cornwall#': 99, 'Prime#': 515, 'Minister#': 768, 'terrain#': 111, 'limestone#': 106, 'formations#': 64, 'Mount#': 313, 'Peak#': 69, 'rem': 35, 'crater#': 38, 'metres#': 127, 'shorelines#': 7, 'dented#': 6, 'har': 18, 'bour': 18, 'rim': 4, 'sho': 7, 'rainfall#': 114, 'slight#': 96, 'Both#': 731, 'adequate#': 77, 'ainfall#': 12, 'averages#': 90, 'season#': 4121, 'humidity#': 120, 'recurrent#': 22, 'ghts#': 13, 'ricanes#': 26, 'strike#': 195, 'emperatures#': 36, 'winter#': 643, 'summer#': 1199, 'coolest#': 10, 'temperate#': 91, 'climates#': 81, 'sandy#': 52, 'scrub#': 24, 'tile': 1, 'plain': 1, 'ash#': 62, 'cedar#': 32, 'helping#': 177, 'conserve#': 16, 'framework#': 142, 'unitary#': 72, 'parliamentary#': 173, 'representative#': 239, 'democratic#': 144, 'monarchy#': 123, 'Head#': 268, 'Mon': 21, 'arch#': 268, 'appoints#': 43, 'Governor#': 365, 'General#': 1226, 'vice-': 2, 'al#': 2, 'Kingdom#': 794, 'represented#': 1108, 'dney#': 34, 'Ministers#': 48, 'aston#': 31, '2014': 1, 'Government#': 650, 'Executive#': 189, 'exercised#': 64, 'vested#': 38, 'Cham': 58, 'Parliament#': 501, 'bicameral#': 12, 'Senate#': 509, 'Governor-General#': 84, 'Representatives#': 150, 'post#': 1094, 'five-year#': 88, 'Leader#': 98, 'esty#': 59, 'yal#': 8, 'gressive#': 46, 'Party#': 973, 'Member#': 101, 'Baldwin#': 85, 'Spencer#': 104, 'defeated#': 701, 'predecessor#': 147, 'Lester#': 57, 'Bryant#': 102, 'nial#': 56, 'convention#': 223, 'elect#': 88, 'leader#': 808, 'officers#': 411, 'Labour#': 299, 'isle#': 3, 'seats#': 456, '1949#': 354, 'populist#': 29, 'longest': 16, 'Deputy#': 96, 'wood#': 7, 'office#': 1822, 'elder#': 121, '197': 1, 'Movement#': 165, 'Judicial#': 24, 'Branch#': 184, 'Supreme#': 504, 'Court#': 1207, 'Saint#': 856, 'Luci': 15, 'judge#': 255, 'resident#': 195, 'presides#': 14, 'Justice#': 425, 'peal#': 31, 'Committee#': 383, 'Community#': 396, 'abolish#': 23, 'Boli': 2, 'vari': 2, 'Organization#': 187, 'Trade#': 170, 'Regional#': 224, 'Security#': 192, 'Criminal#': 74, 'Bil': 2, 'munity#': 4, 'Agreement#': 66, 'Protection#': 136, 'Article#': 126, 'reparations#': 22, 'apolo': 5, 'prime#': 343, 'match#': 503, 'Defence#': 95, 'Force#': 553, 'infantry#': 128, 'regiment#': 75, 'service#': 1829, 'guard#': 394, 'adet#': 9, 'agers#': 59, 'divided#': 784, 'administrative#': 338, 'Touris': 47, 'economy#': 777, 'accoun': 59, 'omestic#': 36, 'GDP#': 109, 'luxury#': 94, 'resorts#': 73, 'Weak#': 5, 'slowed#': 60, 'tight#': 60, 'fiscal#': 72, 'corner#': 325, 'vestment#': 35, 'Major#': 382, 'banks#': 502, 'offices#': 370, 'BC#': 3, 'Scoti': 1, 'abank#': 1, 'Fin': 1, 'al-': 2, 'corporations#': 120, 'Price': 1, 'Water': 1, 'house': 1, 'opers#': 1, 'ecurities#': 26, 'Exchange#': 104, 'Commission#': 458, 'Antigu': 20, 'Stanford#': 173, 'owned#': 869, 'Texas#': 456, 'billi': 22, 'estrating#': 6, 'fraud#': 67, 'bil': 6, 'check#': 109, '20100': 1, 'labour#': 136, 'shortage#': 47, 'stem': 31, 'lure#': 25, 'wages#': 68, 'tourism#': 231, 'Manufacturing#': 81, 'clave-': 1, 'export#': 127, 'bedding#': 18, 'handicra': 8, 'electronic#': 286, 'alised#': 55, 'tourists#': 191, 'Medicine#': 256, 'investor#': 56, 'attorney#': 145, 'Simon#': 240, 'revenue#': 211, 'employs#': 92, 'sume#': 46, 'goods#': 329, 'Madeiran#': 2, 'descent#': 203, '4.4#': 228, 'mixed#': 459, '1.7#': 211, '2.9#': 260, 'Asian#': 2718, 'Whites#': 7, 'Irish#': 712, 'Levantine#': 6, 'Arabs#': 64, 'Asi': 18, 'Sephardic#': 7, 'Jews#': 695, 'abroad#': 163, 'Britons#': 26, 'residents#': 1786, 'ominic': 10, 'Dominican#': 95, 'Vincent#': 168, 'Gren': 5, 'adines#': 5, 'populations#': 253, 'ole#': 62, 'spoken#': 272, 'afterwards#': 236, 'respec': 27, 'Generally#': 71, 'classes#': 412, 'shun#': 3, 'dissu': 1, 'instruction#': 149, 'phrases#': 65, 'dialec': 3, 'prover': 6, 'eventy': 1, 'denomination#': 105, 'tists#': 33, 'Presbyteri': 6, 'religions#': 115, 'ractised#': 30, 'asta': 1, 'fari#': 1, 'Islam#': 171, 'Judaism#': 212, '¡': 12, 'Faith#': 67, 'literacy#': 46, 'mandate#': 49, 'provider#': 82, 'technolo': 17, 'advanced#': 424, 'hospital#': 424, 'Medical#': 274, 'Centre#': 394, 'profit#': 15, 'offshore#': 85, 'schools#': 1322, 'cater#': 29, 'tremen': 67, 'dously#': 11, 'II': 1, 'spitality#': 4, 'Training#': 105, 'primary': 1, 'Ontario#': 235, 'ploma#': 6, 'Island#': 1225, 'accalaureate#': 11, 'institutions#': 414, 'curriculum#': 67, 'inexperienced#': 31, 'gree#': 16, 'consistently#': 137, 'plomas#': 8, 'constantly#': 124, 'partner#': 282, 'predominantly#': 170, 'ricket#': 59, 'sport#': 281, 'players#': 1017, 'Richards#': 131, 'Anderson#': 302, 'Richie#': 125, 'Richardson#': 319, 'boat#': 350, 'fing#': 22, 'Sailing#': 18, 'Week#': 73, 'attracts#': 73, 'visitors#': 305, 'networks#': 217, 'prefer#': 95, 'shopping#': 195, 'trips#': 100, 'San#': 1392, 'Puerto#': 159, 'Rico#': 94, 'Family#': 348, 'Sunday#': 291, 'eventh-day#': 24, 'ventists#': 11, 'Sab': 30, 'ath#': 30, 'Saturday#': 213, 'val#': 41, 'abolition#': 51, 'celebrate#': 156, 'Lent#': 32, 'festive#': 12, 'ageants#': 7, 'contests#': 66, 'Caly': 6, 'so#': 6, 'soc': 3, 'originating#': 74, 'Trini': 29, 'Corn#': 27, 'cuisine#': 95, 'dish#': 67, 'Du': 1, 'steamed#': 30, 'dumpling#': 2, 'grated#': 4, 'flour#': 85, 'spices#': 27, 'cooked#': 89, 'paste#': 20, 'meal#': 3, 'Ob': 29, 'server#': 29, 'Besides#': 141, 'channel#': 263, 'station#': 1150, 'programs#': 715, 'stations#': 629, '20#': 31, 'Like#': 491, 'Games#': 465, 'ric': 3, 'keters#': 3, 'matches#': 189, 'internationally#': 165, 'Cup#': 568, 'hosted#': 399, 'eight#': 837, 'Stadium#': 215, '20,000#': 202, 'version#': 1860, 'scored#': 307, 'fastest#': 91, 'Century#': 229, 'Brian#': 266, 'Lara#': 24, 'Record#': 109, 'Recreation#': 75, 'soccer#': 130, 'entered#': 609, 'tournament#': 339, 'onwards#': 131, 'professional#': 696, 'racu': 6, 'Pro#': 60, 'achievement#': 109, 'getting#': 261, 'prelimin': 62, 'victory#': 576, 'aiti#': 35, 'Tampa#': 81, 'comprising#': 139, 'leagues#': 77, 'goal#': 469, 'authored#': 50, 'ers#': 34, 'Ath': 39, 'letic': 39, 'alented#': 5, 'athletes#': 76, 'trained#': 261, 'fairly#': 163, 'adept#': 18, 'Janill#': 1, 'ath': 38, 'lete#': 38, 'promise#': 106, 'Gray#': 128, 'Sonia#': 30, 'eather#': 31, 'Samuel#': 298, 'Olympic#': 453, 'ren': 26, 'Daniel#': 272, 'Bailey#': 67, 'ray': 1, 'incourt#': 8, 'gincourt#': 10, 'commune#': 85, 'Calais#': 9, 'Situ': 14, 'west#': 57, 'Saint': 1, 'Pol-': 1, 'road#': 958, 'es': 7, 'din#': 1, 'ru': 35, 'isincur': 1, 'Germanic#': 108, 'masculine#': 33, 'ino#': 1, 'Northern#': 593, 'cour': 63, 'tyard#': 53, 'Late#': 182, 'mological#': 14, 'male#': 2122, 'Ingin': 1, 'fought#': 355, 'army#': 1163, 'bret#': 7, 'behalf#': 175, 'knights#': 84, 'cum': 2, 'bered#': 2, 'mour#': 29, 'exhau': 80, 'Life#': 504, 'emulate#': 27, 'launching#': 64, 'campaign#': 789, 'evill#': 4, 'castle#': 341, 'disappeared#': 170, 'settlement#': 761, 'battlefield#': 66, 'museum#': 542, 'village#': 1506, 'Histori': 39, 'que#': 2, 'Medi': 54, 'eval#': 54, 'centre#': 750, 'exhibition#': 330, 'incorporating#': 99, 'laser#': 104, 'slide#': 54, 'audio#': 220, 'mentari': 42, 'interactive#': 53, 'bow#': 1, 'chers#': 12, 'festival#': 389, 'memorating#': 45, 'arts#': 447, 'cra': 77, 'Prior#': 355, 'inclement#': 4, 'clay#': 104, 'planned#': 539, 'Speer#': 245, 'thold#': 5, 'rad#': 21, 'Hermann#': 82, 'Septem': 7, 'architect#': 351, 'maments#': 26, 'Nazi#': 337, 'Adolf#': 150, 'assuming#': 82, 'ministerial#': 26, 'Nuremberg#': 67, 'trials#': 142, 'memoirs#': 91, 'complicity#': 9, 'crimes#': 180, 'regime#': 193, 'gnorant#': 19, 'Holocaust#': 97, 'governmental#': 98, 'fourteen#': 98, 'architectural#': 290, 'circle#': 247, 'instructed#': 69, 'Reich#': 111, 'Chancel': 11, 'lery#': 11, 'pelinfeld#': 3, 'stadium#': 130, 'ral': 23, 'lies#': 26, 'plans#': 575, 'grand#': 201, 'boulev': 39, 'organized#': 47, '1942#': 367, 'ª': 1, 'performing#': 484, 'miracle#': 36, 'dramatically#': 124, 'halt#': 51, '1943#': 318, 'sustained#': 95, 'Allied#': 186, 'bombing#': 268, 'sentenced#': 153, 'prison#': 382, 'princi': 62, 'repeated#': 245, 'sentence#': 160, 'pandau': 44, 'Prison#': 55, 'autobio': 52, 'graphical#': 52, 'Inside#': 94, 'detailing#': 56, 'workings#': 20, 'tration#': 2, 'heim#': 12, 'mid': 64, 'le-': 5, 'thil': 1, 'Wilhel': 2, 'om': 1, 'mel#': 1, 'permanently#': 141, 'Villa#': 64, 'los': 1, 'brun': 1, 'nen': 1, 'deputy#': 143, 'secutor#': 29, 'Love#': 622, 'taine': 12, 'ering#': 13, 'participant#': 50, 'chose#': 382, 'occupation#': 217, 'foot': 20, 'architecture#': 636, 'Karlsruhe#': 83, 'acclaimed#': 144, 'institution#': 276, 'perinflation#': 8, '1923#': 223, 'reputable#': 9, 'Munich#': 110, 'Heinrich#': 102, 'senow#': 6, 'admired#': 103, 'exams#': 43, 'friendship#': 165, 'span': 57, 'Ru': 52, 'dol': 52, 'garete#': 7, 'Weber#': 59, 'sman#': 15, 'frowned#': 7, 'mother#': 1244, 'Webers#': 1, 'inferior#': 73, 'seven#': 1008, 'stay#': 370, 'apolitical#': 9, 'rally#': 80, 'Decem': 5, 'urging#': 63, 'surrendered#': 97, 'Spe': 1, 'visited#': 488, 'Reich': 18, 'stag#': 18, 'Karl#': 275, 'ke#': 39, 'Go': 17, 'bels#': 21, 'renov': 57, 'headquarters#': 488, 'ary': 13, '1933#': 325, 'submit#': 71, 'designs#': 377, 'ess#': 28, 'willing#': 133, 'decide#': 168, 'approve#': 39, 'apartment#': 228, 'Commissioner#': 126, 'tistic#': 27, 'Presentation#': 7, 'Demon': 4, 'strations#': 4, 'trades#': 109, 'renovation#': 79, 'Chancellor#': 185, 'residence#': 292, 'fed#': 8, 'visor#': 33, 'progress#': 227, 'fings#': 3, 'lun': 63, 'citement#': 35, 'evinced#': 2, 'carrying#': 209, 'call#': 520, 'morning#': 281, 'walk#': 134, 'chat#': 28, 'dinner#': 121, 'spoke#': 315, 'spirit#': 248, 'mest#': 36, 'ambitious#': 106, 'rise#': 495, 'proximity#': 149, 'guaranteed#': 84, 'flood#': 133, 'commissions#': 114, 'testi': 54, 'belonged#': 140, 'consisted#': 403, 'certainly#': 135, 'Construction#': 125, 'nomin': 40, 'stadi': 1, 'parade#': 162, 'Leni#': 3, 'fen': 7, 'sta': 4, 'master': 58, 'umph#': 16, 'Will#': 169, '40,000#': 5, 'insisted#': 187, 'lighting#': 139, 'hide#': 74, 'surrounded#': 300, '130#': 118, 'sear': 8, 'lights#': 8, 'beautiful#': 231, 'stood#': 248, 'accommo': 22, '400,000#': 51, 'spectators#': 86, 'conceived#': 152, 'leave#': 571, 'aesthetically#': 63, 'pleasing#': 14, 'ruins#': 103, 'testament#': 21, 'great': 27, 'civili': 37, 'deprecated#': 7, '1936#': 338, 'Summer#': 351, 'Olympics#': 292, 'adding#': 285, 'exterior#': 125, 'avilion#': 77, '1937#': 315, 'Paris#': 1110, 'Soviet#': 808, 'clandestine#': 19, 'colos': 11, 'seemingly#': 113, 'eagle#': 45, 'Youth#': 138, 'prisoner#': 98, 'Bal': 3, 'dur#': 3, 'chirach#': 2, 'Golden#': 609, 'Honor#': 72, 'adge#': 17, 'oak#': 86, 'leaves#': 453, 'swerable#': 6, 'mile#': 3, 'rach': 2, 'strasse#': 2, 'Magnificence#': 2, 'shal': 1, 'hall#': 338, 'floor#': 396, '180,000#': 8, 'southern#': 915, 'aven': 16, 'ue#': 16, 'umphal#': 25, 'Arc#': 21, 'Triomph': 7, 'outbreak#': 150, '1939#': 352, 'ponement#': 7, 'abandon': 46, 'Part#': 188, 'soli': 31, 'railway#': 570, \"'ve#\": 277, 'sane#': 52, 'plomats#': 25, 'assistants#': 54, 'cleared#': 97, 'impressive#': 113, '146#': 63, 'Mir': 17, 'Palace#': 282, 'Versailles#': 113, 'overwhel': 32, 'nished#': 30, 'appreciation#': 71, 'impressed#': 163, 'suggesting#': 163, 'damaged#': 258, '1945#': 475, 'Soviets#': 69, 'grom#': 9, 'ristal': 9, 'ach': 10, 'mention#': 176, 'draft#': 747, 'seeing#': 261, 'car#': 750, 'remember#': 103, 'invasion#': 308, 'Poland#': 331, 'grapher': 1, 'Seren': 5, 'gro': 34, 'tesque#': 21, 'sat#': 94, 'globe#': 61, 'disposal#': 44, 'mach': 22, 'remon': 3, 'strated#': 45, 'ignored#': 110, 'innovations#': 73, 'quic': 1, 'roads#': 320, 'debris#': 59, 'bomb#': 171, 'progressed#': 77, 'tw': 38, 'ffe#': 38, 'Joseph#': 569, 'Stalin#': 53, 'Moscow#': 268, 'wished#': 117, 'Architec': 23, 'amusement#': 28, 'rat#': 24, 'hole#': 127, 'invaded#': 114, '1941#': 349, 'reassuran': 4, 'ces#': 4, 'projects#': 540, 'Fritz#': 80, 'crash#': 197, 'eastern#': 653, 'asten': 3, 'burg#': 3, 'arrived#': 577, 'evening#': 223, 'fly#': 220, 'canceled#': 88, 'take': 24, 'cancel': 58, 'ate-': 16, 'posts#': 97, 'recounts#': 51, 'reluc': 34, 'commanded#': 126, 'raced#': 30, 'hearing#': 193, 'hoping#': 75, 'fait#': 2, 'accompli#': 1, 'appointment#': 178, 'accession#': 61, 'peacetime#': 25, 'Authorities#': 19, 'mament#': 33, 'produc': 1, 'Ministry#': 223, 'Economic#': 138, 'Affairs#': 164, 'declared#': 537, 'went#': 1861, 'factory#': 306, 'centrali': 3, 'actori': 1, 'acked#': 3, 'tator#': 59, 'sign#': 491, 'weapon#': 187, 'experts#': 104, 'servants#': 93, 'any': 1, 'routine#': 103, 'departments#': 193, 'committee#': 312, 'headed#': 266, 'Command#': 173, 'counts#': 96, 'adays#': 35, 'fere#': 51, 'rides#': 3, 'depart': 1, 'ment': 1, 'attitude#': 148, 'diary#': 83, 'tops#': 24, 'rer#': 6, 'genius#': 75, 'organization#': 711, 'elite#': 135, 'dous#': 56, 'subordin': 48, 'officials#': 429, 'auleiters#': 2, 'district#': 1058, 'emption#': 30, 'pet#': 69, 'Bor': 7, 'mann#': 7, 'Sauc': 2, 'organize#': 81, 'favored#': 124, 'advocated#': 114, 'obtaining#': 80, 'brutal#': 52, 'Mit': 1, 'wer': 2, 'rocket#': 136, 'camp#': 695, 'shocked#': 71, '5.7#': 271, 'Allies#': 91, 'superiority#': 41, 'bings#': 38, 'concentrate#': 88, 'improvisational#': 16, 'skill#': 137, 'losses#': 231, 'spite#': 92, 'doubled#': 89, 'planes#': 97, 'submarines#': 101, 'equipment#': 490, 'produced': 1, 'fell#': 561, 'ill#': 141, 'infl': 10, 'amed#': 10, 'knee#': 130, 'rivals#': 109, 'attempted#': 473, 'Him': 45, 'physically#': 116, 'improve#': 324, 'managed#': 480, 'Brand': 9, 'slowly#': 205, 'recovered#': 169, 'deprived#': 91, 'promp': 54, 'resignation#': 105, 'Jud': 6, 'indispen': 17, 'shal#': 51, 'persuaded#': 123, 'reconsider#': 25, 'dispute#': 216, 'iss#': 31, 'ass#': 15, 'argument#': 269, 'restored#': 317, 'spirators#': 21, 'assassination#': 117, 'kill#': 268, 'mark#': 251, 'saved#': 152, 'pur': 9, 'Silesi': 37, 'drafted#': 235, 'memo#': 35, 'noting#': 124, 'coal#': 345, 'mines#': 149, 'Without#': 138, 'fourth#': 757, 'uncertain#': 106, 'Febru': 5, 'ahead#': 201, 'ero#': 33, 'Decree#': 27, 'dering#': 55, 'scor': 38, 'ched#': 64, 'earth#': 364, 'territories#': 263, 'reiterating#': 4, 'stand#': 280, 'ditionally#': 9, 'signed#': 1115, 'Using#': 160, 'persuade#': 63, 'generals#': 65, 'vent#': 11, 'sacrifice#': 109, 'personnel#': 257, 'destruction#': 290, 'Hamburg#': 79, 'finally#': 731, 'duty#': 174, 'coward#': 17, 'rer': 4, 'bun': 34, 'cal': 48, 'distracted#': 15, 'jo': 8, 'inted#': 8, 'conversation#': 125, 'commit#': 96, 'suicide#': 230, 'burned#': 224, 'edition#': 544, 'relates#': 66, 'confessed#': 50, 'assured#': 57, 'loyalty#': 81, 'tears#': 46, 'eyes#': 222, 'biographer#': 121, 'argued#': 570, 'cholo': 1, 'remembered#': 164, 'occasion#': 194, 'liked#': 124, 'none#': 1287, 'happened#': 230, 'witness#': 95, 'notes#': 551, 'lacks#': 78, 'explicit#': 125, 'alleged#': 232, 'ade#': 6, 'farewell#': 37, 'toured#': 264, 'tated#': 30, 'dropped#': 426, 'Kar': 1, 'Saur#': 2, 'Flen': 11, 'sburg#': 11, 'nit': 1, 'broad#': 220, 'subjects#': 312, 'surrender#': 118, 'troops#': 693, 'arrested#': 288, 'gated#': 28, 'cerated#': 16, 'participating#': 75, 'plan#': 688, 'conspiracy#': 87, 'accomplish': 22, 'crime#': 422, 'peace#': 430, 'aging#': 10, 'wars#': 200, 'astly#': 12, 'humanity#': 149, 'Jackson#': 868, 'ecuting#': 33, 'drago': 5, 'industries#': 274, 'axed#': 51, 'waned#': 19, 'Fl': 1, 'thrust#': 77, 'promised#': 163, 'testimony#': 79, 'trial#': 478, 'journalist#': 196, 'Shirer#': 2, 'defen': 1, 'strai': 52, 'honestly#': 13, 'shir': 30, 'introducing#': 115, 'tabun#': 2, 'ison#': 46, 'ventilation#': 23, 'ractic': 1, 'access#': 850, 'replacement#': 253, 'nerve#': 101, 'unexpected#': 66, 'chim': 19, 'motive#': 29, 'realising#': 10, 'esler#': 1, 'adder#': 32, 'guilty#': 177, 'acqu': 34, 'extermination#': 25, 'hanging#': 65, 'correspondence#': 107, 'disclosed#': 39, '1946#': 361, 'imprisonment#': 118, 'judges#': 114, 'penalty#': 68, 'compromise#': 104, 'reached#': 1121, 'trading#': 1, 'court#': 1096, 'judgment#': 126, '1947#': 366, 'flown#': 73, 'designated#': 373, 'Number#': 94, 'Initially#': 171, 'solitary#': 24, 'confinement#': 31, 'permitted#': 237, 'address#': 350, 'guards#': 143, 'regimen#': 6, 'deliberate#': 61, 'sessed#': 33, 'forbidden#': 98, 'mail#': 92, 'cen': 32, 'sored#': 32, 'derly#': 16, '1954#': 365, 'transcri': 24, 'pewritten#': 6, 'send#': 240, 'instructions#': 148, 'secretly#': 96, 'transmitted#': 117, 'memoir#': 53, 'clandestinely#': 5, 'circles#': 111, 'yard#': 70, 'Measuring#': 9, 'path#': 237, 'carefully#': 111, 'journey#': 231, 'guidebooks#': 7, 'imagined#': 47, 'visage#': 2, 'picture#': 442, 'Meticulously#': 1, 'meter#': 114, 'traveled#': 251, 'map': 48, 'geography#': 135, 'route#': 794, 'entering#': 200, 'beri': 42, 'Bering#': 94, 'Strait#': 267, 'south': 15, 'wards#': 15, 'Guadalajara#': 179, 'devoted#': 214, 'municipal#': 403, 'Wil': 1, 'dor': 1, 'voraci': 7, 'travelo': 4, 'Egypt#': 296, 'Lucas#': 251, 'dou': 18, 'Manet#': 20, 'Genghis#': 6, 'Khan#': 223, 'garden#': 210, 'fflic': 24, 'block#': 399, 'wilderness#': 68, 'commander#': 237, 'Garden#': 324, 'Eden#': 96, 'supporters#': 190, 'continual#': 30, 'pled': 36, 'muted#': 9, 'aul': 44, 'plomat#': 52, 'Ball#': 74, 'Shaw': 1, 'cross#': 1, 'Willy#': 29, 'advocate#': 133, 'sending#': 151, 'flowers#': 305, 'Naz': 1, 'proceedings#': 73, 'confiscated#': 40, 'consent#': 125, 'aman': 9, 'tober': 6, 'repor': 58, 'photographers#': 26, 'crow': 39, 'street#': 457, 'lob': 56, 'hotel#': 326, 'reserving#': 2, 'comments#': 156, 'Der#': 73, 'Spi': 10, 'gel#': 10, 'Novem': 4, 'bandoning#': 2, 'partners#': 147, 'revised#': 177, 'resear': 26, 'Erin': 1, 'nerungen#': 1, 'Reminiscences#': 3, 'alities#': 56, 'valued#': 92, 'aided#': 90, 'shaping#': 41, 'Jo': 29, 'achim#': 23, 'Fest#': 26, 'Job': 1, 'lstein#': 1, 'unable#': 380, 'donated#': 192, 'charities#': 57, 'donations#': 69, 'poc': 4, 'rite#': 4, 'referring#': 234, 'predicted#': 121, 'sculptor#': 84, 'distan': 19, 'ced#': 19, 'aur#': 1, 'won': 14, 'buting#': 43, 'fortune#': 105, 'victims#': 249, 'Soci': 9, 'swear#': 1, 'vanities#': 1, 'pleasures#': 21, 'locu': 2, 'wild#': 318, 'honey#': 45, 'irers#': 2, 'dep': 22, 'Play': 25, 'trip#': 273, 'flying#': 271, 'interviewed#': 96, 'programme#': 236, 'vic#': 5, 'Kennedy#': 247, 'Upon#': 312, 'detained#': 38, 'eath': 12, 'Airport#': 858, 'authorities#': 484, 'Carr#': 66, 'English': 4, 'decisions#': 234, 'atrocities#': 43, 'questions#': 252, 'challenged#': 156, 'Adam#': 185, 'Destruc': 22, 'commitment#': 132, 'contends#': 24, 'mythology#': 131, 'tendenti': 1, 'credit#': 307, 'consideration#': 128, 'Little#': 576, 'extant#': 94, 'bel': 27, 'astung': 1, 'bearing#': 152, 'cylinder#': 108, 'sidence#': 6, 'thaup': 1, 'stad': 1, 'mania#': 31, 'postwar#': 58, 'renewal#': 48, 'protected#': 320, 'Along#': 223, 'Strasse#': 3, 'Juni#': 1, 'double#': 506, 'amp': 1, 'bune#': 17, 'demolished#': 155, 'redesigned#': 53, 'assy#': 25, 'Carlton#': 105, 'stripped#': 69, 'pets#': 10, 'survives#': 70, 'legacy#': 130, 'beit': 3, 'stab#': 13, 'ederau': 1, 'St': 1, 'Reconstruction#': 39, 'automobile#': 125, 'eaded#': 10, 'calculations#': 67, 'recom': 59, 'dations#': 59, 'redevelopment#': 35, 'rebuilding#': 103, 'Resettlement#': 4, 'ward#': 83, 'Laws#': 68, 'evic': 9, 'ants#': 42, 'lor': 18, 'displaced#': 67, 'Eventually#': 204, ',000#': 25, 'ired#': 14, 'iring#': 6, 'Chronicle#': 93, 'Federal#': 474, 'Archi': 62, 'responded#': 223, 'cease#': 58, 'destroy#': 185, 'deteriorated#': 45, 'doctorate#': 71, 'End#': 185, 'auleiter#': 4, 'Lower#': 207, 'invitation#': 71, 'neighbouring#': 120, 'Upper#': 195, 'more': 24, 'witz#': 33, 'blamed#': 74, 'speech#': 511, 'grave#': 141, 'vanish#': 7, 'mentions#': 137, 'Erich#': 36, 'Gol': 6, 'hagen#': 6, 'arguing#': 131, 'biography#': 162, 'accu': 30, 'vincing#': 55, 'inc': 11, 'rimin': 11, 'linking#': 85, 'oblen': 5, 'noon#': 68, 'drun': 54, 'boarding#': 100, 'train#': 487, 'graphers#': 26, 'van#': 248, 'heard#': 407, 'reporting#': 115, 'incident#': 324, 'hap': 42, 'pening#': 42, 'Guardian#': 111, '¨': 6, 'Belgian#': 142, 'fighter#': 152, 'announced#': 1463, 'elegraph#': 49, 'allocation#': 52, 'facility#': 512, 'thousand#': 229, 'supposedly#': 108, 'bore#': 106, 'involved#': 1038, 'relo': 1, 'remarked#': 103, 'Believe#': 1, 'ined#': 6, 'Director#': 266, 'anisation#': 58, 'wore#': 187, 'signi': 1, 'brown#': 106, 'acket#': 41, 'Org#': 1, 'Citations#': 12, 'Asteracea': 22, 'Composita': 7, 'aster#': 4, 'aisy#': 6, 'sun': 17, 'flower#': 210, 'flowering#': 69, 'Angi': 7, 'sper': 37, 'genera#': 111, 'families#': 8586, 'rivaled#': 6, 'chi': 2, 'acea': 13, 'Which#': 35, 'unclear#': 145, 'heads#': 237, 'capitul': 1, 'involucral#': 3, 'bracts#': 8, 'capitulum#': 7, 'genus#': 300, 'Aster#': 2, '\\x83': 1, '®': 1, 'inflorescence#': 16, 'angi': 3, 'her': 84, 'ace': 26, 'rubs#': 44, 'vines#': 16, 'tropic': 28, 'coloni': 10, 'habitats#': 66, 'arid#': 47, 'semi': 7, 'subtropical#': 138, 'atitu': 41, 'autoch': 5, 'thonous#': 5, 'flora#': 52, 'cooking#': 310, 'let': 7, 'tuce#': 7, 'seeds#': 154, 'articho': 5, 'swe': 3, 'etening#': 3, 'stitutes#': 16, 'teas#': 10, 'ticultural#': 12, 'pot#': 58, 'mari': 10, 'Calen': 20, 'officin': 11, 'alis#': 9, 'chin': 3, 'acea#': 3, 'cone#': 52, 'aisi': 1, 'fleabane#': 1, 'san': 5, 'themums#': 2, 'heleni': 1, 'medicine#': 321, 'rin': 1, 'deli': 1, 'arrow#': 54, 'asive#': 43, 'andeli': 7, 'settlers#': 517, 'salad#': 9, 'green#': 502, 'therolo': 1, '¦': 2, 'gesege#': 1, 'eage#': 1, 'eye#': 237, 'petals#': 60, 'lis#': 1, 'peren': 46, 'nis#': 1, 'awn#': 40, 'Composite#': 20, 'mopolitan#': 17, 'Antarctica#': 83, 'Arctic#': 170, 'Mediterranean#': 183, 'Levant#': 28, 'Middle#': 715, 'southwestern#': 95, 'etrich#': 29, 'ise': 1, 'Traditionally#': 75, 'Astero': 3, 'idea': 10, 'buli': 1, 'flora': 2, 'Cichorio': 4, 'guli': 1, 'extensively#': 226, 'paraphy': 9, 'letic#': 12, 'phy': 20, 'tree#': 350, 'anero#': 1, 'Fun': 36, 'denotes#': 95, 'poorly#': 113, 'strap#': 15, 'tewor': 46, 'utisi': 1, 'phological#': 30, 'generic#': 165, 'tax': 35, 'onomists#': 8, 'Asteraceans#': 6, 'distinguish#': 148, 'eraci': 1, 'toriously#': 16, 'taproots#': 1, 'brous#': 11, 'Stems#': 1, 'erect#': 27, 'strate#': 4, 'ascending#': 33, 'stems#': 96, 'audices#': 1, 'omes#': 17, 'fleshy#': 17, 'secretory#': 2, 'resin#': 57, 'atex#': 9, 'whor': 5, 'deeply#': 155, 'lobed#': 7, 'incised#': 8, 'duplicate#': 1, 'revolute#': 1, 'gins#': 36, 'entire#': 927, 'thed#': 11, 'functions#': 567, 'attracting#': 69, 'pollin': 90, 'ators#': 57, 'strap': 5, 'sun#': 235, 'disk#': 154, 'disc#': 168, 'mart#': 29, 'maximi': 1, 'ps#': 78, 'lobes#': 25, 'teeth#': 160, 'tongue#': 72, 'evolution#': 218, 'ligulate#': 4, 'ligule#': 5, 'metric#': 62, 'ringed#': 7, 'radial#': 64, 'wea': 12, 'aterally#': 5, 'pincu': 1, 'shions#': 1, 'Cha': 1, 'actis#': 2, 'fremon': 1, 'dle#': 20, 'sep': 9, 'lari': 3, 'involucre#': 2, 'protec': 38, 'dome-': 1, 'recep': 9, 'tacle#': 8, 'youngest#': 161, 'rarely#': 303, 'thread': 1, 'hairy#': 14, 'bristly#': 1, 'pus#': 37, 'surround#': 50, 'fruit#': 229, 'stick#': 102, 'lifted#': 66, 'seed#': 285, 'whitish#': 6, 'ffy#': 8, 'blown#': 41, 'ends#': 303, 'parachute#': 22, 'sterile#': 15, 'disco': 1, 'Disci': 1, 'Pistillate#': 1, 'Stamin': 1, 'flowered#': 5, 'pistillate#': 2, 'stamin': 2, 'calathi': 1, 'contracted#': 110, 'raceme#': 1, 'sessile#': 3, 'florets#': 13, 'simulate#': 36, 'coloured#': 55, 'elich': 1, 'scarious#': 1, 'mem': 2, 'branous#': 2, 'texture#': 71, 'tiles#': 67, 'roof#': 252, 'bricate#': 2, 'variation#': 199, 'tribes#': 236, 'floret#': 4, 'bract#': 4, 'alea#': 1, 'cha': 4, 'stic#': 36, 'tube#': 159, 'actinomor': 4, 'phic#': 8, 'gomor': 4, 'Disc#': 30, 'petal#': 5, 'rim#': 44, 'Ray#': 265, 'characterised#': 72, 'ference#': 34, 'incon': 1, 'spicu': 1, 'adesi': 1, 'ginal#': 43, 'fili': 3, 'caly': 8, 'absent#': 107, 'brist': 3, 'stamens#': 20, 'aments#': 15, 'thers#': 8, 'syngenesi': 1, 'sort#': 203, 'thec': 1, 'apical#': 7, 'len#': 4, 'collected#': 290, 'elong': 13, 'pushed#': 126, 'delsprit': 1, 'pistil#': 6, 'pels#': 9, 'Sti': 1, 'matic#': 1, 'ule#': 5, 'placentation#': 1, 'ene-': 1, 'plural#': 85, 'locule#': 1, 'winged#': 32, 'falls#': 230, 'pholo': 52, 'store#': 527, 'ulin#': 7, 'sesqu': 5, 'iter': 5, 'pene#': 9, 'actones#': 3, 'pentacy': 1, 'triter': 4, 'alcohols#': 74, 'lenes#': 1, 'aromatic#': 61, 'nins#': 14, 'peno': 2, 'iri': 1, 'fossils#': 107, 'pollen#': 72, 'retace': 35, 'Mya#': 9, 'Campani': 19, 'astrich': 2, 'asy': 1, 'lum#': 1, 'reda#': 1, 'evolved#': 269, 'San': 1, 'stem#': 157, 'Coni': 2, 'fruc': 1, 'tans#': 1, 'insects#': 114, 'anemophy': 1, 'temisi': 5, 'apomic': 4, 'ordin': 10, 'arily#': 10, 'intact#': 108, 'iting#': 11, 'anemochory#': 1, 'ochory#': 1, 'Bidens#': 1, 'Arc': 1, 'spines#': 11, 'plumage#': 7, 'clothes#': 132, 'photo#': 83, 'cially#': 7, 'actuc': 2, 'sativ': 8, 'Cichori': 5, 'chicory#': 32, 'scoly': 1, 'son': 1, 'foli': 2, 'thamus#': 2, 'tinc': 2, 'tori': 2, 'sa': 4, 'fflower#': 4, 'bero': 2, 'Jerusalem#': 275, 'grown#': 363, 'amental#': 36, 'themum#': 4, 'bera#': 1, 'Den': 1, 'dran': 1, 'thema#': 1, 'agetes#': 6, 'beverages#': 36, 'Chamomile#': 1, 'Matricari': 1, 'recutita#': 1, 'chamomile#': 2, 'Chama': 1, 'emelum#': 1, 'nobile#': 3, 'pour': 2, 'ri#': 2, 'purea#': 1, 'medicinal#': 30, 'tea#': 119, 'Winter#': 224, 'tar': 4, 'ragon#': 4, 'Mexican#': 341, 'mint#': 21, 'luci': 1, 'sinthe#': 1, 'sinthi': 2, 'dracun': 1, 'culus#': 1, 'purposes#': 395, 'commercial#': 1148, 'poul': 33, 'feed#': 191, 'atul': 1, 'Mari': 5, 'oil#': 630, 'minuta#': 1, 'col': 5, 'garet': 59, 'Plants#': 27, 'medically#': 10, 'tochemical#': 1, 'actone#': 1, 'florists#': 2, 'rag': 2, 'fever#': 100, 'nec': 43, 'tar#': 43, 'bloom#': 29, 'Centaurea#': 2, 'Soli': 2, 'gol': 1, 'rod#': 1, 'epers#': 4, 'helps#': 148, 'Seneci': 2, 'acob': 1, 'ea#': 1, 'garis#': 7, 'arax': 1, 'acum#': 2, 'Pulicari': 1, 'acetum#': 2, 'insec': 4, 'tici': 4, 'Par': 2, 'theni': 2, 'gentatum#': 1, 'Api': 15, 'fera': 2, 'celery#': 9, 'hollow#': 65, 'angelic': 2, 'anise#': 2, 'rac': 3, 'acha#': 2, 'asa': 3, 'eti': 5, 'caraway#': 3, 'Centel': 1, 'atic': 3, 'cher': 3, 'vil#': 3, 'cicely#': 2, 'cori': 7, 'ander#': 7, 'cilan': 2, 'culan': 2, 'cumin#': 9, 'dill#': 2, 'nel#': 3, 'loc': 8, 'cow#': 32, 'hol': 8, 'giant#': 176, 'phi': 1, 'extinct#': 139, 'leathery#': 3, 'rigid#': 70, 'stomata#': 4, 'peti': 1, 'olate#': 1, 'eathing#': 4, 'blade#': 76, 'sec': 13, 'ati': 1, 'fid#': 1, 'shing#': 33, 'emits#': 16, 'mell#': 52, 'etid#': 2, 'terminal#': 336, 'bel#': 3, 'Flowers#': 33, 'perfect#': 209, 'maph': 5, 'ditic#': 5, 'romono': 1, 'eci': 10, 'amomono': 1, 'Acronema#': 1, 'pink#': 77, 'purple#': 138, 'pentamerous#': 1, 'functionality#': 64, 'tionally#': 22, 'ules#': 3, 'viable#': 67, 'lination#': 4, 'geitono': 1, 'amy#': 1, 'bicar': 1, 'mericar': 2, 'Sty': 1, 'lopo': 1, 'secrete#': 15, 'flies#': 65, 'ito': 4, 'ats#': 1, 'moths#': 109, 'fruits#': 114, 'schi': 2, 'ocar': 2, 'segments#': 120, 'aucus#': 3, 'ily#': 6, 'fatty#': 102, 'petro': 1, 'selinic#': 1, 'Lin': 6, 'Plin': 51, 'Elder#': 81, 'circa#': 68, 'celery': 1, 'Jacques#': 156, 'aleschamps#': 1, 'generalis#': 1, 'tarum#': 7, 'Morison': 1, 'belilli': 1, 'ferarum#': 1, 'systematic#': 97, 'ales#': 1, 'Arali': 1, 'boundaries#': 229, 'delimited#': 8, 'familial#': 1, 'flux#': 39, 'sly#': 13, 'wallow': 8, 'tail#': 8, 'but': 57, 'apili': 4, 'enes#': 1, 'host#': 496, 'tap#': 36, 'astin': 1, 'caro': 2, 'selinum#': 2, 'rispum#': 2, 'concentrations#': 87, 'avour': 1, 'Cori': 2, 'andrum#': 2, 'Anethum#': 1, 'grave': 2, 'olens#': 2, 'eniculum#': 1, 'gare#': 2, 'uminum#': 1, 'minum#': 1, 'Carum#': 1, 'vi#': 1, 'riscus#': 1, 'cerefoli': 1, 'Angelic': 6, 'thor': 1, 'macul': 1, 'atum#': 1, 'Ery': 1, 'ngi': 1, 'Ferul': 4, 'banum#': 1, 'gum': 1, 'dorata#': 2, 'Pimpinel': 1, 'anisum#': 1, 'Levisticum#': 1, 'hacqu': 1, 'cool-': 2, 'warm#': 231, 'companion#': 123, 'reason#': 583, 'suited#': 87, 'ady': 2, 'gs#': 2, 'parasitic#': 24, 'asps#': 19, 'pred': 20, 'drink#': 114, 'reproducing#': 10, 'prey#': 151, 'insect#': 71, 'pests#': 34, 'scents#': 9, 'mask#': 73, 'dour': 3, 'harder#': 73, 'isonous#': 27, 'globally#': 51, 'croc': 1, 'ata#': 1, 'stupe': 1, 'Cicuta#': 2, 'suicides#': 6, 'isons#': 9, 'butter#': 64, 'orema#': 1, 'bani': 1, 'sum': 1, 'bul#': 1, 'incen': 27, 'orel': 1, 'acta#': 1, 'vegetables#': 104, 'coumarins#': 1, 'coumarin#': 8, 'furanocoumarins#': 1, 'axis#': 178, 'slen': 26, 'neuron#': 15, 'impulses#': 18, 'Myelin': 1, 'fibers#': 63, 'neurons#': 43, 'muscles#': 81, 'glands#': 50, 'sensory#': 68, 'douni': 1, 'touch#': 139, 'impulse#': 29, 'travels#': 171, 'peri': 76, 'phery#': 18, 'spinal#': 41, 'inherited#': 185, 'acquired#': 693, 'pheral#': 58, 'protoplas': 1, 'protru': 4, 'sions#': 4, 'extrude#': 1, 'drites#': 13, 'taper#': 9, 'maintain#': 385, 'restricted#': 219, 'signals#': 263, 'inver': 15, 'brates#': 15, 'eches#': 3, 'profusely#': 3, 'ls': 2, 'muscle#': 124, 'gland#': 25, 'junc': 24, 'membrane#': 115, 'adjo': 9, 'ins#': 9, 'target#': 332, 'partway#': 4, 'exten': 1, 'passant#': 3, 'terminals#': 86, 'generate#': 142, 'millimeter#': 8, 'sci': 3, 'atic#': 3, 'big#': 424, 'diameter#': 180, 'micrometer#': 2, 'µ': 8, 'mam': 18, '20Â#': 51, 'conduct#': 203, 'millimetre#': 6, 'cil#': 24, 'bori': 2, 'bran': 31, 'ching#': 31, 'fiber#': 72, 'cere': 61, 'lar#': 23, 'gran': 2, 'aborate#': 3, 'messages#': 118, 'myelin': 11, 'Myelin#': 1, 'glial#': 3, 'wan': 3, 'oligo': 1, 'rocy': 1, 'tes#': 1, 'aps#': 39, 'myelin#': 7, 'eath#': 6, 'evenly#': 63, 'aced#': 41, 'intervals#': 72, 'myelination#': 2, 'mode#': 267, 'prop': 84, 'tatory#': 2, 'conduction#': 76, 'Demyelination#': 2, 'brate#': 5, 'sliced#': 11, 'sections#': 281, 'color#': 614, 'grey#': 75, 'gets#': 189, 'bral#': 38, 'tex#': 46, 'thick#': 161, 'connect#': 175, 'segment#': 185, 'proteins#': 234, 'tage-': 3, 'channels#': 143, 'adjacent#': 496, 'excep': 6, 'hilloc': 2, 'dically#': 43, 'atten': 7, 'stretches#': 66, 'faster#': 174, 'termin': 22, 'generates#': 45, 'graded#': 20, 'amplitude#': 58, 'presyn': 4, 'activ': 68, 'intracellular#': 14, 'vesicles#': 9, 'containers#': 40, 'enclosed#': 70, 'pid#': 18, 'mitter#': 24, 'empty#': 165, 'extracellular#': 17, 'exocy': 1, 'diffuses#': 6, 'receptors#': 103, 'activated#': 94, 'bit#': 22, 'metabolis': 34, 'thousand': 6, 'fter': 20, 'arrives#': 91, 'integration#': 116, 'tracellular#': 2, 'recordings#': 430, 'freely#': 111, 'cellular#': 63, 'signal#': 395, 'pea': 1, '~': 3, 'ramidal#': 7, 'interneurons#': 3, 'voltage#': 71, 'phasic#': 1, 'tetro': 1, 'recording#': 886, 'rats#': 45, 'tracts#': 55, 'callosum#': 1, 'pocampal#': 4, 'vo#': 10, 'ential#': 30, 'spi': 41, 'codes#': 107, 'evo': 15, '-term#': 55, 'pulses#': 26, 'physiological#': 77, 'agating#': 15, 'sure#': 137, 'secure#': 279, 'threshold#': 66, 'refractory#': 7, 'neurites#': 6, 'destined#': 50, 'precedes#': 14, 'polarity#': 9, 'alteration#': 26, 'incision#': 12, 'neurite#': 8, 'mposing#': 1, 'aling#': 32, 'dyn': 62, 'agate#': 22, 'matrix#': 183, 'trophic#': 3, 'esion#': 11, 'netrin#': 1, 'secreted#': 12, 'receptor#': 91, 'mutated#': 12, 'projected#': 90, 'teriorly#': 1, 'brain': 1, 'trophin#': 1, 'angli': 2, 'side-': 1, 'enzyme#': 90, 'side#': 1, 'ase#': 1, 'neutrites#': 1, 'asym': 2, 'metrically#': 2, 'butes#': 17, 'Dis': 1, 'rup': 1, 'sphati': 5, 'lino': 5, 'sitol#': 5}\n"
          ],
          "name": "stdout"
        },
        {
          "output_type": "display_data",
          "data": {
            "text/markdown": "####50 most frequent tokens:",
            "text/plain": [
              "<IPython.core.display.Markdown object>"
            ]
          },
          "metadata": {
            "tags": []
          }
        },
        {
          "output_type": "stream",
          "text": [
            "[('the#', 537039), ('and#', 254426), ('was#', 124543), ('The#', 103608), ('were#', 72193), ('for#', 70998), ('with#', 63352), ('from#', 52966), ('that#', 49262), ('had#', 36376), ('his#', 33739), ('age#', 32281), ('which#', 32158), ('are#', 28824), ('population#', 21242), ('has#', 21065), ('who#', 20874), ('years#', 20388), ('city#', 18849), ('also#', 17891), ('there#', 17488), ('not#', 17291), ('under#', 16721), ('their#', 16718), ('have#', 15987), ('first#', 15806), ('living#', 15063), ('income#', 14925), ('but#', 14784), ('its#', 14478), ('all#', 14353), ('average#', 14329), ('two#', 14127), ('one#', 13719), ('over#', 13553), ('this#', 13310), ('other#', 13303), ('more#', 12982), ('There#', 12968), ('been#', 12839), ('out#', 12446), ('people#', 12441), ('United#', 10991), ('females#', 10931), ('family#', 10924), ('they#', 10712), ('made#', 10690), ('For#', 10363), ('per#', 10326), ('States#', 10074)]\n"
          ],
          "name": "stdout"
        },
        {
          "output_type": "display_data",
          "data": {
            "text/markdown": "####50 least frequent tokens:",
            "text/plain": [
              "<IPython.core.display.Markdown object>"
            ]
          },
          "metadata": {
            "tags": []
          }
        },
        {
          "output_type": "stream",
          "text": [
            "[('vi#', 1), ('riscus#', 1), ('cerefoli', 1), ('thor', 1), ('macul', 1), ('atum#', 1), ('Ery', 1), ('ngi', 1), ('banum#', 1), ('gum', 1), ('Pimpinel', 1), ('anisum#', 1), ('Levisticum#', 1), ('hacqu', 1), ('croc', 1), ('ata#', 1), ('stupe', 1), ('orema#', 1), ('bani', 1), ('sum', 1), ('bul#', 1), ('orel', 1), ('acta#', 1), ('coumarins#', 1), ('furanocoumarins#', 1), ('Myelin', 1), ('douni', 1), ('protoplas', 1), ('extrude#', 1), ('exten', 1), ('Myelin#', 1), ('oligo', 1), ('rocy', 1), ('tes#', 1), ('exocy', 1), ('pea', 1), ('phasic#', 1), ('tetro', 1), ('callosum#', 1), ('mposing#', 1), ('netrin#', 1), ('teriorly#', 1), ('brain', 1), ('trophin#', 1), ('side-', 1), ('side#', 1), ('ase#', 1), ('neutrites#', 1), ('Dis', 1), ('rup', 1)]\n"
          ],
          "name": "stdout"
        },
        {
          "output_type": "display_data",
          "data": {
            "text/markdown": "###Tokenisation of 10 test words ",
            "text/plain": [
              "<IPython.core.display.Markdown object>"
            ]
          },
          "metadata": {
            "tags": []
          }
        },
        {
          "output_type": "stream",
          "text": [
            "maritime              ['mari', 'ti', 'me']          \n",
            "attenuated            ['atten', 'u', 'at', 'ed']    \n",
            "HÃ¼bner               ['H', 'Ã', '¼', 'b', 'ner']   \n",
            "sections              ['sec', 'tion', 's']          \n",
            "landing               ['land', 'in', 'g']           \n",
            "compute               ['comp', 'ut', 'e']           \n",
            "1-hydroxy-2-propanone  ['1', '-', 'hydrox', 'y', '-', '2', '-', 'prop', 'ano', 'ne']\n",
            "pursuit               ['pur', 'su', 'it']           \n",
            "rematch               ['rem', 'at', 'ch']           \n",
            "accountable           ['accoun', 'ta', 'b', 'le']   \n"
          ],
          "name": "stdout"
        },
        {
          "output_type": "display_data",
          "data": {
            "text/markdown": "###Comparison of tokenisation",
            "text/plain": [
              "<IPython.core.display.Markdown object>"
            ]
          },
          "metadata": {
            "tags": []
          }
        },
        {
          "output_type": "stream",
          "text": [
            "Word                From Polyglot library                             From BPE                                          \n",
            "no                  ['no']                                            ['no']                                            \n",
            "that                ['th', 'at']                                      ['th', 'at']                                      \n",
            "out                 ['out']                                           ['out']                                           \n",
            "are                 ['a', 're']                                       ['ar', 'e']                                       \n",
            "two                 ['two']                                           ['tw', 'o']                                       \n",
            "half-lifeâthat    ['half', '-', 'life', 'â\\x80\\x94that']            ['hal', 'f-', 'li', 'fe', 'â\\x80\\x94', 'th', 'at']\n",
            "1.07Â               ['1.0', '7', 'Â']                                 ['1.', '0', '7', 'Â']                             \n",
            "low-symmetry        ['low', '-', 'sym', 'metry']                      ['low', '-', 'sym', 'me', 'try']                  \n",
            "transuranium        ['trans', 'ur', 'an', 'ium']                      ['transurani', 'um']                              \n",
            "unbind              ['un', 'bind']                                    ['un', 'bin', 'd']                                \n"
          ],
          "name": "stdout"
        }
      ]
    },
    {
      "cell_type": "markdown",
      "metadata": {
        "id": "Ml00TEeLqWYg"
      },
      "source": [
        "## Hindi Corpora"
      ]
    },
    {
      "cell_type": "code",
      "metadata": {
        "id": "voRkRZpFp4_W",
        "outputId": "d625f520-c3a0-46d0-98fa-403b128c43c5",
        "colab": {
          "base_uri": "https://localhost:8080/",
          "height": 716
        }
      },
      "source": [
        "####################################  Task 1.3.5 (Hindi corpora)  ####################################\n",
        "\n",
        "#First build the corpus i.e. take 500 tokens from en_data with len>=3 so that punctations don't come\n",
        "hi_vocab = {}\n",
        "count=0\n",
        "for k, v in hi_unigrams.items():\n",
        "  if len(k)>=3:\n",
        "    hi_vocab[k]=v\n",
        "    count+=1\n",
        "  if count>=vocab_size:\n",
        "    break\n",
        "vocab = build_vocab(hi_vocab)\n",
        "# Hyperparameter defining the number of merges\n",
        "# the more the number of merges more complex tokens will be learnt \n",
        "for i in range(num_merges):\n",
        "  pairs = get_stats(vocab)\n",
        "  sorted_pairs = sorted(pairs.items(), key=lambda x: x[1], reverse=True)\n",
        "  best_pair = list(sorted_pairs)[0]\n",
        "  vocab = merge_vocab(vocab, best_pair[0])\n",
        "\n",
        "display(Markdown(\"###Hindi corpus:\"))\n",
        "display(Markdown(\"####Tokens found after training on vocab using BPE:\"))\n",
        "print(get_tokens(vocab))\n",
        "BPE_hi_tokens = get_tokens(vocab)\n",
        "sorted_BPE_tokens = sorted(BPE_hi_tokens.items(), key=lambda x: x[1], reverse=True)\n",
        "display(Markdown(\"####50 most frequent tokens:\"))\n",
        "print(sorted_BPE_tokens[:50])\n",
        "display(Markdown(\"####50 least frequent tokens:\"))\n",
        "print(sorted_BPE_tokens[-50:])\n",
        "\n",
        "\n",
        "# Getting 10 unknown words for Hindi corpora i.e. words after index 1000 from en_unigrams\n",
        "random_indices = random.sample(range(10001, 20000), 10)\n",
        "unknown_words = [list(hi_unigrams)[i].replace('\\n+', '') for i in random_indices]\n",
        "display(Markdown(\"###Tokenisation of 10 test words \"))\n",
        "get_tokenisation_of_10_words(unknown_words, BPE_hi_tokens)\n",
        "\n",
        "# Comparing tokenisation of 10 words chosen in 1.3.4\n",
        "words = first_random5_hi_tokens + last_random5_hi_tokens\n",
        "display(Markdown(\"###Comparison of tokenisation\"))\n",
        "compare_tokenisation(words, BPE_hi_tokens, \"hi\")"
      ],
      "execution_count": null,
      "outputs": [
        {
          "output_type": "display_data",
          "data": {
            "text/markdown": "###Hindi corpus:",
            "text/plain": [
              "<IPython.core.display.Markdown object>"
            ]
          },
          "metadata": {
            "tags": []
          }
        },
        {
          "output_type": "display_data",
          "data": {
            "text/markdown": "####Tokens found after training on vocab using BPE:",
            "text/plain": [
              "<IPython.core.display.Markdown object>"
            ]
          },
          "metadata": {
            "tags": []
          }
        },
        {
          "output_type": "stream",
          "text": [
            "{'मास्टर#': 115, 'ऑफ़#': 834, 'हे': 171, 'ल्': 201, 'थ#': 236, 'ए': 675, 'ड': 463, 'मिनि': 24, 'स्ट्रे': 53, 'शन#': 233, 'थ': 255, 'के': 284, 'यर#': 94, 'एम': 68, 'एच': 78, 'ए#': 275, 'स्नातकोत्तर#': 192, 'पोस्ट#': 97, 'ग्रे': 76, 'जु': 300, 'पेशेवर#': 204, 'डिग्री#': 538, 'स्वास्थ्य#': 723, 'प्रशासन#': 532, 'क्षेत्र#': 4248, 'में#': 133670, 'जाती#': 4360, 'हैं#': 42933, 'छात्रों#': 334, 'प्रदान#': 1987, 'जिन्होंने#': 668, 'अस्पताल#': 351, 'प्रबंधन#': 599, 'एवं#': 5789, 'अन्य#': 5233, 'सेवा#': 1244, 'संगठनों#': 259, 'जरूरी#': 161, 'ज्ञान#': 1096, 'दक्षता#': 88, 'हासिल#': 670, 'पाठ्य': 6, 'क्रमो': 3, '#': 1208, 'परिस्थितियों#': 293, 'अनुसार#': 2968, 'इनके#': 965, 'सरं': 8, 'चना#': 80, 'अंतर#': 537, 'सकता#': 5814, 'हालांकि#': 2317, 'व्यव': 96, 'सायी#': 36, 'शिक्षक#': 205, 'मॉडल#': 556, 'कार्यक्रम#': 934, 'आमतौर#': 643, 'चिकित्सा#': 810, 'व्यवसायों#': 79, 'संबद्ध#': 219, 'कॉले': 50, 'जों#': 183, 'पाए#': 539, 'जाते#': 3061, 'कक्षा#': 232, 'आधारित#': 1159, 'व्यवसाय#': 471, 'सार्वजनिक#': 674, 'होते#': 4614, '\\n': 19729, 'इस#': 1185, 'पाठ्यक्रम#': 272, 'अध्ययन#': 1716, 'दौरान#': 2667, 'तौर#': 1806, 'विद्यार्थियों#': 101, 'जनसंख्या#': 544, 'देखभाल#': 253, 'अर्थशास्त्र#': 394, 'नीति#': 577, 'संगठ': 38, 'नात्मक#': 77, 'व्यवहार#': 681, 'जुड़े#': 473, 'विपणन#': 158, 'संचार#': 324, 'मानव#': 1013, 'संसाधन#': 247, 'सूचना#': 655, 'प्रणाली#': 1291, 'क्षेत्रों#': 1304, 'व्यावहारिक#': 204, 'अनुभव#': 664, 'आवश्यकता#': 1067, 'होती#': 5656, 'प्रोग्राम#': 221, 'विषय#': 1081, 'स्नातको#': 2, 'मुद्दों#': 150, 'विस्तृत#': 512, 'गहन#': 134, 'समझ#': 366, 'उन्हें#': 4297, 'वरिष्ठ#': 161, 'भूमिकाओं#': 133, 'लिए#': 26027, 'तैयार#': 1089, 'करने#': 14306, 'डिज़ाइन#': 185, 'किया#': 26832, 'गया#': 19197, 'अमेरिकी#': 1053, 'यूरोपीय#': 740, 'ऑस्ट्रेलियाई#': 117, 'भारतीय#': 3351, 'श्री': 115, 'लंकाई#': 22, 'ट#': 928, 'इंस्टीट्यूट#': 112, 'मे': 351, 'डि': 364, 'सिन#': 94, 'को': 174, 'लं': 78, 'बो': 230, 'विश्वविद्यालय#': 1344, 'विश्वविद्यालयों#': 159, 'द्वारा#': 11455, 'जाता#': 14035, 'पारंपरिक#': 521, 'रूप#': 16003, 'स्थानीय#': 905, 'राज्य#': 3709, 'संघीय#': 198, 'स्तर#': 1421, 'साथ#': 14142, 'गैर#': 700, 'लाभ': 52, 'कारी#': 144, 'केंद्रित#': 326, 'होता#': 8778, 'कार्यक्रमों#': 280, 'उद्देश्य#': 870, 'सेवाओं#': 324, 'सिस्टम#': 413, 'प्रबंध': 54, 'कीय#': 25, 'नियोजन#': 42, 'कार्य#': 2850, 'करना#': 3789, 'स्नातकों#': 18, 'विकसित#': 1284, 'सक्षम#': 489, 'सामान्य#': 1276, 'वित्तीय#': 429, 'कों#': 471, 'यो': 111, 'जना': 31, 'कारों#': 146, 'बारे#': 1678, 'जानकार#': 23, 'प्रणालियों#': 179, 'वित्': 54, 'तपोषण#': 34, 'समाज#': 1260, 'कानून#': 830, 'नैतिकता#': 114, 'अधिकांश#': 1046, 'देशों#': 1471, 'आवे': 38, 'द': 539, 'न्यूनतम#': 179, 'चार#': 1638, 'वर्ष#': 3288, 'स्नातक#': 334, 'नीचे#': 931, 'वा': 805, 'ं': 829, 'छ': 299, 'नीय#': 125, 'य': 465, 'पि#': 1, 'विभिन्न#': 2196, 'अपने#': 10145, 'मा': 485, 'पदंड#': 41, 'यद्यपि#': 480, 'संयुक्त#': 1608, 'वाणिज्य#': 93, 'विज्ञान#': 1423, 'लेकिन#': 4580, 'उनमे#': 30, 'केवल#': 2660, 'कुछ#': 7506, '“': 5, 'कमीशन#': 76, 'अक्रे': 1, 'दि': 244, 'सन#': 150, 'मैनेजमेंट#': 66, 'श': 504, 'न': 602, '”': 3, 'सी': 453, 'ई#': 25, 'मान्यता#': 559, 'इन#': 186, 'प्राप्त#': 4085, 'आवेदन#': 125, 'साल#': 1790, 'पूर्व': 34, 'होनी#': 177, 'चाहिये#': 212, 'एसी': 3, 'एसबी#': 3, 'बी': 280, 'ओ': 256, 'एम#': 19, 'दोहरी#': 75, 'करते#': 6760, 'सम': 24, 'वर्ती#': 146, 'क्रमिक#': 64, 'पूरा#': 1036, 'सकते#': 2831, 'नामांकन#': 123, 'पहले#': 4801, 'नहीं#': 13502, 'ऐसे#': 1673, 'पाठ्यक्रमों#': 63, 'जिसमें#': 3196, 'इंटर्': 7, 'शिप#': 28, 'फे': 238, 'लो': 309, 'शामिल#': 4291, 'अधिकां': 74, 'शत#': 26, 'विद्यालयों#': 79, 'संचालित#': 376, 'किये#': 1263, 'आ': 451, 'ष': 96, 'धियों#': 94, 'पाठ': 92, '्': 124, 'शा': 268, 'लाओं#': 1, 'काफी#': 1402, 'ऑस्ट्रेलिया#': 419, 'भागों#': 531, 'विभाजित#': 476, 'पहला#': 1107, 'भाग#': 2734, 'प्': 276, 'मा#': 340, 'इसी#': 2321, 'परिणाम#': 699, 'आधार#': 1812, 'ग्री': 66, 'धारी': 1, 'यों#': 143, 'कोर्स#': 85, 'दुसरे#': 102, 'जारी#': 1291, 'रखने#': 883, 'अनुमति#': 641, 'है': 229, 'परिणत#': 78, 'भारत#': 5778, 'अस्प': 44, 'तालों#': 44, 'आयोजित#': 673, 'कॉर्पोरेट#': 64, 'संस्कृति#': 754, 'अत्या': 102, 'धुनिक#': 36, 'आगमन#': 188, 'चलते#': 387, 'जरु': 94, 'रत#': 110, 'ब': 1097, 'ढ': 119, 'ती#': 198, 'रही#': 2136, 'वर्षीय#': 174, 'समे': 3, 'स्टर#': 38, 'महीने#': 557, 'बि': 232, 'भाजित#': 1, 'आर#': 12, 'संबंधित#': 905, 'समस्याओं#': 339, 'समझने#': 254, 'बीच#': 3477, 'समन्वय#': 117, 'उम्मीदवारों#': 78, 'विशेष#': 2458, 'कौशल#': 202, 'खा': 405, 'या#': 478, 'दा': 222, 'खि': 68, 'ले#': 232, 'एस#': 36, 'डी': 114, 'वी': 163, 'एस': 67, 'सी#': 432, 'नर्': 56, 'सिंग#': 25, 'कोई#': 3518, 'अंक#': 289, 'होने#': 5542, 'चाहिए#': 2227, 'चयन#': 296, 'प्रक्रिया#': 1184, 'प्रवेश#': 976, 'परी': 43, 'क्षाओं#': 97, 'प्रमुख#': 2729, 'जैसे#': 4502, 'एम्स#': 18, 'देवी#': 707, 'अ': 853, 'हि': 170, 'ल्या#': 15, 'इं': 181, 'स्टि': 46, 'ट्यूट#': 32, 'हॉ': 40, 'स्पि': 33, 'टल#': 52, 'अपो': 42, 'लो#': 138, 'संस्थान#': 640, 'हैदराबाद#': 231, 'इत्यादि#': 548, 'असा': 14, 'दु': 302, 'दीन#': 176, 'वै': 280, 'जन्म#': 1747, '1969#': 105, 'राजनीति': 76, 'ज्ञ#': 57, 'इंडिया#': 371, 'मजलिस#': 27, 'इ': 589, 'त्': 299, 'ते': 290, 'हा': 240, 'ल#': 817, 'मुस्लि': 68, 'मीन#': 7, 'राष्ट्रीय#': 1649, 'अध्यक्ष#': 545, 'पहली#': 1669, 'बार#': 2829, '2004#': 351, 'लोकसभा#': 114, 'सांसद#': 91, 'चुने#': 250, 'उसके#': 3881, 'बाद#': 9645, '2009#': 709, '2014#': 327, 'चुनाव#': 620, '2019#': 205, 'अपनी#': 5390, 'पार्टी#': 771, 'फिर#': 2597, 'उम्मीदवार#': 153, 'असदु': 7, 'द्': 135, 'पिता#': 1483, 'सलाहु': 6, 'राजनेता#': 70, 'दशक#': 1040, 'अधिक#': 5846, 'रहे#': 3731, 'सुन्नी#': 65, 'मुस्लिम#': 563, 'परिवार#': 1244, 'सुल्तान#': 229, 'नज': 15, 'मु': 270, 'ने': 163, 'स्': 469, 'सा#': 165, 'बेगम#': 67, 'यहाँ#': 2176, 'हुआ#': 6910, 'राजनीतिक#': 935, 'आता#': 719, 'उनके#': 5683, 'दादा#': 109, 'अब्दुल#': 90, 'घ#': 40, 'म': 527, 'न#': 1129, 'सितंबर#': 412, '1957#': 85, 'दोबारा#': 79, 'शुरू#': 2289, 'जेल#': 316, 'रि': 490, 'हा#': 123, 'का': 362, 'सि': 450, 'म#': 850, 'राज्': 1, 'वी#': 198, 'संभाला#': 74, '1962#': 123, 'आंध्र#': 98, 'प्रदेश#': 1255, 'विधान#': 268, 'सभा#': 475, '1984#': 148, 'निर्वाचन#': 120, 'संसद#': 496, 'जीते#': 149, 'उन्होंने#': 5931, 'पक्ष#': 563, 'छोड़#': 672, 'दिया#': 9441, '2008#': 722, 'उनका#': 2081, 'निधन#': 166, 'निजा': 82, 'कॉलेज#': 643, 'उ': 382, 'मानिया#': 18, 'कला#': 987, 'पढ़ाई#': 206, 'पूरी#': 1230, '1994#': 186, 'वि': 810, 'ज्': 135, 'जी#': 184, 'ट्रॉफी#': 93, 'तेज#': 283, 'गें': 67, 'दबा': 60, 'ज#': 531, 'दक्षिण#': 1851, 'अंडर#': 68, 'क्रिकेट#': 705, 'टीम#': 983, 'प्रतिनिधित्व#': 389, 'चुना#': 382, 'पेशे#': 48, 'बै': 281, 'लंदन#': 409, 'लि': 399, 'ंकन#': 24, 'भाई#': 679, 'अक': 7, 'रु': 255, 'लंगाना#': 41, 'सदस्य#': 1255, 'इसमें#': 1964, 'नेतृत्व#': 715, 'सबसे#': 4922, 'छोटा#': 455, 'बु': 236, 'रहा': 2, 'नु': 139, 'इटै': 1, 'द#': 470, 'संपादक#': 125, 'शादी#': 676, 'फ़': 331, 'रहीन#': 1, 'हुई#': 4258, 'पति#': 288, 'बच्चे#': 665, 'जिनमें#': 1134, 'बेटा#': 130, 'u': 295, 'd': 97, 'in#': 4, '2010#': 610, 'पांच#': 643, 'बे': 492, 'टि': 129, 'यां#': 161, 'शास्त्री': 1, 'पु': 172, 'र': 684, 'ल': 810, 'र्': 581, 'देव': 13, 'प': 496, 'ल्ली#': 1, 'रहते#': 1165, 'उनकी#': 3539, 'बड़ी#': 1526, 'बेटी#': 288, 'कु': 227, 'सिया#': 4, 'मार्च#': 876, '2018#': 217, 'नवाब#': 136, 'शाह#': 388, 'लम#': 105, 'खान#': 551, 'पैतृक#': 76, 'मो': 239, 'इनु': 6, 'सांड': 2, 'ो': 163, 'ज़ाई#': 1, 'तृ': 14, 'क्ष': 81, 'ीय#': 37, 'पो': 239, 'ता#': 927, 'कत#': 10, 'स': 824, 'गाई#': 41, 'टियों#': 52, 'चिकित्सक#': 224, 'मज़': 14, 'हर#': 227, 'अली#': 382, 'बेटे#': 347, 'सिया': 4, 'सत#': 39, 'डेली#': 93, 'ज': 583, 'च': 471, 'चे': 234, 'रे#': 173, 'उर्दू#': 283, 'हिंदी#': 625, 'अंग्रेजी#': 828, 'निपु': 61, 'ण#': 138, 'समर्थकों#': 89, 'ना': 474, 'की': 168, 'ब#': 284, 'मिलत#': 2, 'समुदाय#': 623, 'नेता#': 384, 'स्वागत#': 136, 'कई#': 163, 'टिप्प': 21, 'ण': 244, 'ी': 169, 'जिन्': 118, 'ना#': 645, 'तुलना#': 1103, 'पै': 226, 'ट्रिक#': 57, 'फ्रांसीसी#': 257, 'एकमात्र#': 400, 'प्रवक्ता#': 71, 'बोली#': 362, 'समान#': 1329, 'तरह#': 3893, 'सां': 224, 'प्र': 567, 'दायिक#': 32, 'पहचान#': 730, 'अपील#': 96, 'करता#': 5624, 'राष्ट्र': 40, 'वाद#': 113, 'इस्ला': 2, 'विचार#': 1222, 'देश#': 2400, 'लोकप्रिय#': 842, 'रहा#': 3723, 'तथ्य#': 300, 'उद्धृत#': 138, 'हुए#': 6359, 'कहा#': 4919, 'लड़ाई#': 431, 'संविधान#': 517, 'ढांचे#': 111, 'भीतर#': 785, 'कहना#': 347, 'धर्मनिर': 42, 'पे': 302, 'क्ष#': 70, 'पार्': 49, 'व': 596, 'टों#': 339, 'स्थानांतरित#': 237, 'सदों#': 33, 'मतदा': 63, 'जबकि#': 1580, 'मुसलमानों#': 219, 'खिलाफ#': 1067, 'भेदभाव#': 113, 'दावा#': 454, 'करती#': 2482, 'प्रथा#': 196, 'यहूदी#': 212, 'बस्ती#': 119, 'स्थिति#': 1489, 'देते#': 1277, 'इसलिए#': 1406, 'मों#': 209, 'स्वयं#': 988, 'विकास#': 2656, 'तों#': 349, 'याद': 9, 'वों#': 62, 'मुंबई#': 423, 'हमलों#': 144, 'निर्': 113, 'दोष#': 232, 'लोगों#': 3222, 'हत्या#': 403, 'र#': 485, 'रहमान#': 85, 'लख': 2, 'फि': 243, 'ई': 272, 'कार्रवाई#': 234, 'मांग#': 457, 'दुश्मन#': 103, 'सरकारी#': 605, 'नौ': 105, 'करियों#': 52, 'शिक्षा#': 1906, 'संस्थानों#': 213, 'पिछ': 120, 'ड़े#': 183, 'आरक्षण#': 102, 'समर्थन#': 822, 'कहते#': 2057, 'हिं': 110, 'त्व': 5, 'वादी#': 109, 'विचारधारा#': 164, 'दुओं#': 57, 'सब्': 49, 'डी#': 165, 'उन्मूलन#': 67, 'मक्का#': 274, 'यात्रा#': 863, 'धार्मिक#': 850, 'तीर्थ': 72, 'महिलाओं#': 778, 'पैसे#': 186, 'इस्तेमाल#': 1373, 'तर्क#': 480, 'जुलाई#': 770, '2016#': 276, 'स्वीकार#': 771, 'भाषण#': 174, 'प्रशंसा#': 287, 'इस्लामी#': 235, 'इराक#': 87, 'ले': 202, 'वे': 506, 'ंट#': 183, 'आई': 102, 'समस्या#': 535, 'नर': 82, 'क#': 874, 'कुत्': 78, 'ते#': 724, 'सऊदी#': 105, 'अरब#': 666, 'बारी#': 154, 'मस्जि': 18, 'दों#': 152, 'क्या#': 900, 'कट्': 34, 'टर': 126, 'पं': 221, 'थी#': 44, 'जे': 206, 'क्शन#': 83, 'लगा#': 1253, 'निगरानी#': 191, 'अगस्त#': 745, 'जनगणना#': 226, '२०११#': 120, 'ट्': 100, 'ट्स#': 22, 'श्रृंखला#': 745, 'हमदिया#': 1, 'इस्लाम#': 376, 'संप्रदाय#': 112, 'केंद्र#': 905, 'नाराजगी#': 12, 'व्यक्त#': 405, 'अप्रैल#': 749, '2017#': 271, 'गाय#': 123, 'प्रतिबंध#': 177, 'मुद्दे#': 102, 'उत्तर#': 1648, 'राज्यों#': 584, 'पवित्र#': 520, 'इलाज#': 250, 'दलित#': 80, 'भाजपा#': 69, 'आलोचना#': 433, 'पूर्वोत्तर#': 64, 'गोवा#': 68, 'केरल#': 234, 'पुरुष#': 538, 'पत्नी#': 615, 'तलाक#': 92, 'बिना#': 1078, 'तु': 284, 'न्त#': 78, 'तलेक#': 1, 'माध्यम#': 1481, 'सामाजिक#': 1259, 'बहिष्कार#': 69, 'होना#': 1110, 'अभ्यास#': 311, 'अभी#': 824, 'मौजूद#': 666, 'दिसंबर#': 377, 'पाकिस्तान#': 920, 'प्रधानमंत्री#': 318, 'मरान#': 27, 'ख़ान#': 224, 'समा': 233, 'शी#': 160, 'राजनीति#': 423, 'सीखने#': 162, 'राष्ट्रपति#': 714, 'भारी#': 480, 'जीत#': 756, 'धा': 82, 'ध': 382, 'ली#': 237, 'इसके#': 5745, 'बजाय#': 484, 'हिंदू#': 356, 'दिमा': 3, 'गों#': 53, 'जून#': 766, 'राहुल#': 116, 'गांधी#': 426, 'आबादी#': 611, 'कारण#': 5460, 'यना': 36, 'ड#': 483, 'त्व#': 20, 'वाले#': 5190, 'संगठन#': 817, 'अक्सर#': 1094, 'शिकार#': 337, 'बनाते#': 251, 'परेशान#': 112, 'कोशिश#': 593, 'छोटे#': 1329, 'हमले#': 298, 'चुके#': 529, 'समाचार#': 351, 'मुख्यतः#': 239, 'अल्पसंख्य': 25, '2005#': 504, 'जिला#': 611, 'क': 861, 'लेक्टर#': 30, 'हाथों#': 303, 'निपटने#': 75, 'आरोपों#': 81, 'मामला#': 133, 'दर्ज#': 350, 'जनवरी#': 721, '2013#': 289, 'दिनों#': 742, 'न्यायिक#': 92, 'रा': 297, 'भेज#': 194, 'संगारे': 1, 'ड्': 6, 'जिले#': 982, 'सड़क#': 343, 'चौ': 206, 'ड़ा#': 232, 'वाली#': 2599, 'परियोजना#': 441, 'मस्जिद#': 220, 'विध्वंस#': 21, 'विरोध#': 542, 'जहां#': 1579, 'पुलिस#': 686, 'अपराधों#': 71, 'ंगे#': 148, 'समूहों#': 411, 'दुश्': 70, 'मनी#': 67, 'बढ़ावा#': 327, 'देने#': 1805, 'सहित#': 861, 'तहत#': 866, 'बुक#': 103, 'मुग': 3, 'पुरा#': 1, 'लु': 128, 'गू#': 62, 'देश': 59, 'दे': 186, 'पा#': 137, 'मतदान#': 116, 'एजेंट#': 120, 'सली': 1, 'मुद्': 102, 'पीठ#': 141, 'पी': 189, 'टा': 98, 'ने#': 819, 'आयोग#': 303, 'आदेश#': 480, 'कर्नाटक#': 173, 'दर#': 31, 'लाइसेंस#': 178, 'रैली#': 74, 'आयोजन#': 536, 'बंदू': 77, 'जाने#': 3515, 'लिया#': 3363, 'प्रधान#': 436, 'मंत्री#': 487, 'नरे': 52, 'द्र#': 145, 'मोदी#': 83, 'फ': 279, '2015#': 268, 'दुनिया#': 1369, 'बच्चा#': 166, 'पैदा#': 743, 'माता#': 802, 'उसे#': 3601, 'धर्मों#': 121, 'परिवर्तित#': 342, 'सभी#': 3840, 'वास्तविक#': 540, 'अभि': 301, 'मानी#': 250, 'टिप्पणी#': 184, '7#': 313, 'फरवरी#': 456, 'समक्ष#': 125, 'आत्म': 85, 'समर्': 58, 'पण#': 95, 'भीड़#': 167, 'हमला#': 351, 'मानत#': 26, 'जिसे#': 2424, 'उसने#': 1829, 'कथित#': 148, 'कांग्रेस#': 482, 'विधा': 112, 'निकट#': 456, 'सहयोग#': 550, 'अब्दु': 13, 'ह#': 275, 'शी': 132, 'फ#': 70, 'सो': 195, 'शल#': 61, 'मीडिया#': 410, 'विपक्ष#': 54, 'बीर#': 2, 'महाराष्ट्र#': 274, 'संबोधित#': 93, 'स्वयं': 50, 'से': 319, 'वक#': 111, 'संघ#': 933, 'मोहन#': 157, 'भागवत#': 69, 'जवाब#': 276, 'माँ#': 461, 'कभी#': 2474, 'कहे': 31, 'पीढ़ी#': 229, 'जाना#': 2161, 'यू#': 28, 'राज': 173, 'द्रो': 52, 'विवाद#': 351, 'जिक्र#': 40, 'मां#': 386, 'जय': 11, 'कार#': 234, 'नारे#': 20, 'कि': 185, 'सके#': 920, 'दूसरों#': 242, 'मजबूर#': 214, 'कहीं#': 642, 'कहता#': 273, 'स्पष्ट#': 921, 'पास#': 2295, 'नारा#': 44, 'आर': 54, 'आपत्ति#': 32, 'भक्ति#': 220, 'परीक्षा#': 425, 'नारा': 1, 'कबीर#': 126, 'सम्मान#': 562, 'मध्यप्रदेश#': 65, 'शासन#': 1049, 'विभाग#': 754, 'साहित्य#': 1342, 'सृ': 29, 'जनात्मक#': 16, 'कलाओं#': 83, 'उत्': 176, 'कृष्ट': 39, 'तथा#': 10532, 'श्रेष्ठ#': 191, 'उपलब्धि#': 113, 'सम्मानित#': 437, 'मानद': 68, 'ण्ड#': 75, 'दृष्टि#': 815, 'अखिल#': 132, 'सम्': 219, 'मानों#': 12, 'स्तरीय#': 99, 'स्थापना#': 1472, 'सृजन#': 100, 'सु': 458, 'प्रतिष्ठित#': 237, 'परम्परा#': 184, 'अनुसरण#': 172, 'कविता#': 507, '\\xa0': 37, 'मान': 174, 'की#': 147, 'महान#': 570, 'संत#': 185, 'कवि#': 619, 'सदियों#': 114, 'पुनरा': 46, 'विष्': 1, 'नयी#': 227, 'नि': 409, 'भी': 64, 'कता#': 88, 'अनेक#': 1961, 'भाषाओं#': 520, 'कवियों#': 218, 'साहित्य': 46, 'समी': 58, 'साहित्यिक#': 324, 'संस्थाओं#': 259, 'आदि#': 3004, 'रचनात्मक#': 153, 'शि': 347, 'ष्ट्य#': 18, 'सं': 338, 'सक्ति#': 2, 'लाभ#': 755, 'लेते#': 598, 'उपयुक्त#': 384, 'अनुरोध#': 179, 'संकलित#': 65, 'करके#': 1546, 'विशेषज्ञों#': 101, 'समिति#': 566, 'सामने#': 841, 'अंतिम#': 901, 'निर्णय#': 626, 'रखे#': 214, 'ख्याति#': 116, 'साहित्यकार#': 89, 'विशेषज्ञ#': 203, 'स्वतंत्रता#': 591, 'अगर#': 758, 'नाम#': 5463, 'छूट#': 149, 'तरफ#': 481, 'जोड़#': 222, 'लें#': 120, 'अनु': 169, 'शं': 50, 'बं': 89, 'नकारी#': 1, 'माना#': 2082, 'सदैव#': 99, 'निर': 72, 'इसका#': 2862, 'पालन#': 592, 'असाधारण#': 115, 'दीर्घ#': 71, 'साधना#': 160, 'सर्वोच्च#': 300, 'ण्': 80, 'डों#': 80, 'निक': 26, 'ष#': 94, 'बनाया#': 1504, 'निश्चित#': 674, 'स्तरों#': 146, 'हिस्सेदारी#': 98, 'बात#': 1818, 'ध्यान#': 1172, 'रखा#': 1518, 'जहाँ#': 1065, 'उपलब्': 111, 'व्यापक#': 884, 'संग्रह#': 538, 'संदर्भ#': 451, 'धा#': 49, 'वहीं#': 401, 'भू': 412, 'षित#': 39, 'असंदिग्ध#': 13, 'निष्ठा#': 53, 'विवेक#': 68, 'निष्': 100, 'पक्षता#': 12, 'वस्तु': 12, 'पर': 198, 'निर्भयता#': 5, 'करें#': 630, 'उत्तरदायी#': 69, 'जीवन#': 2321, 'ग': 435, 'म्': 232, 'भीर#': 41, 'कला': 9, 'सौ': 118, 'न्': 476, 'दर्य#': 41, 'बोध#': 133, 'आश्रित#': 56, 'अंतर्गत#': 622, 'तीन#': 2485, 'लाख#': 543, 'रुपये#': 215, 'राशि#': 334, 'पट्': 66, 'टिका#': 34, 'भेंट#': 97, 'दराशि#': 1, 'सुरक्षा#': 814, 'मं': 163, 'त्रों#': 124, 'प्राचीन#': 1342, 'परंपरा#': 491, 'व्यवस्थित#': 194, 'बनाए#': 872, 'महर्': 8, 'षियों#': 8, 'प्रत्येक#': 1412, 'वैदिक#': 309, 'संहिता#': 134, 'विविध#': 307, 'विषयों#': 363, 'क्रम': 50, 'बद्ध#': 78, 'अनुक्रम': 16, 'णी#': 103, 'णिका#': 5, 'बनाई#': 544, 'संस्कृत#': 686, 'ङ': 8, 'मय#': 110, 'सू': 301, 'त्र': 53, 'ंगों#': 37, 'अतिरिक्त#': 1273, 'णियों#': 1, 'समावेश#': 113, 'ऐसी#': 1142, 'अनुक्रमा': 1, 'णि': 7, 'याँ#': 12, 'इनमें#': 873, 'संहि': 30, 'ताओं#': 129, 'सकल#': 84, 'क्त#': 26, 'उनमें#': 611, 'प्रयुक्त#': 459, 'मंत्र#': 104, 'द्र': 54, 'ष्टा#': 83, 'ऋषि#': 224, 'ऋ': 62, 'चा#': 27, 'छंद#': 89, 'देवता#': 324, 'अनुसूचित#': 176, 'इनकी#': 630, 'पृथक्#': 90, 'ज्ञा': 41, 'एँ#': 84, 'उसी#': 1143, 'मंड': 3, 'ला': 580, 'ता': 410, 'नुक्रम#': 2, 'देवा': 5, 'प्रकार#': 5090, 'किसी#': 4771, 'कौन#': 225, 'अथवा#': 1530, 'किस#': 356, 'मंडल#': 206, 'जानने#': 178, 'तत्': 113, 'संबंधी#': 682, 'अवलोकन#': 96, 'सहायक#': 624, 'त#': 517, 'उपरोक्त#': 95, 'कोश#': 74, 'भाँति#': 230, 'विष': 11, 'या': 62, 'संधान#': 1, 'थीं#': 1299, 'अपितु#': 110, 'इनका#': 622, 'लक्ष्य#': 523, 'यथा': 7, 'त्#': 10, 'स्वरूप#': 586, 'पाठ#': 273, 'भ्र': 40, 'ष्ट#': 208, 'अपूर्व#': 51, 'साधन#': 353, 'संबंध#': 1231, 'देख': 4, 'नी#': 442, 'पड़ती#': 279, 'क्योंकि#': 2381, 'त': 500, 'व्य#': 10, 'जगह#': 991, 'उपलब्ध#': 1227, 'कठिनाई#': 117, 'दूर#': 1147, 'महर्षि#': 123, 'त्या': 80, 'यन#': 338, 'रचना#': 956, 'समस्त#': 328, 'ज्ञ': 33, 'े': 126, 'य#': 83, 'वस्तु#': 542, 'एकत्र#': 142, 'जाए#': 868, 'अनुवाद#': 441, 'विवरण#': 350, 'पूर्ण#': 980, 'स्थान#': 2662, 'मिलता#': 871, 'इसे#': 3257, 'उन्होने#': 300, 'सर्वा': 16, 'नुक्रम': 18, 'णि#': 1, 'ीत#': 17, 'संज्ञा#': 121, 'वचन#': 131, 'सर्वज्ञ': 1, 'यार्थ#': 1, 'वर्ण': 19, 'शब्': 5, 'ं#': 55, 'वंति#': 1, 'विपश्चित#': 1, 'ऋग्वेद#': 141, 'कल#': 10, 'ष्': 24, 'दूसरी#': 1006, 'शुक्ल#': 158, 'यजुर्वेद#': 112, 'ि#': 5, 'दार्थ': 1, 'दी': 184, 'पिका#': 10, 'नामक#': 1411, 'सुंदर#': 357, 'व्याख्या#': 357, 'गु': 174, 'शिष्य#': 167, 'रची#': 33, 'अत्यंत#': 448, 'प्रामाणिक#': 82, 'लेकर#': 1460, 'ौ': 139, 'नक#': 8, 'पद्य': 10, 'दोनों#': 3064, 'गद्या': 9, 'त्मक#': 140, 'गद्य#': 171, 'शैली#': 844, 'वही#': 424, 'पाणिनि#': 116, 'ष्टा': 60, 'ध्या': 78, 'यी#': 186, 'वार्': 43, 'तिक#': 63, 'परवर्ती#': 64, 'महा': 60, 'भाष्य': 6, 'तं': 107, 'जलि#': 107, 'पूर्ववर्ती#': 85, 'लिखते#': 178, 'रचना': 78, 'काल#': 1754, 'युग#': 762, 'चरण#': 499, 'पाश्चात्य#': 94, 'इतिहासकारों#': 100, 'ईसापूर्व#': 81, '600#': 78, '200#': 247, 'सूत्र#': 341, 'रचित#': 164, 'बड़ा#': 1410, 'ग्रंथ#': 487, 'मुद्रित#': 67, 'आयाम#': 84, 'लगभग#': 2595, 'पृष्ठ#': 186, 'अध्यायों#': 66, 'प्रा': 102, 'स्ता': 36, 'विक#': 22, 'चर्चा#': 360, 'पद्धति#': 393, 'परि': 185, 'निबंध#': 103, 'ग्रं': 14, 'थारं': 1, 'भ#': 55, 'यथो': 20, 'पदेश#': 2, 'मैं#': 969, 'चाओं#': 6, 'प्रतीक#': 377, 'प्रस्तुत#': 764, 'हूँ#': 417, 'प्रति': 353, 'ज्ञा#': 45, 'संकेत#': 566, 'पूर्व#': 2578, 'नकप्र': 1, 'दो': 118, 'कतिपय#': 73, 'ंश#': 26, 'वृ': 98, 'गं': 20, 'धी#': 31, 'नकीय#': 1, 'आर्': 70, 'ा': 223, 'ृ': 51, 'ह': 887, 'स्वरू': 1, 'तः#': 97, 'गृ': 21, 'हीत#': 31, 'संपादन#': 122, 'आचार्य#': 263, 'मै': 358, 'क्': 258, 'नल#': 85, 'ऑ': 163, 'सफ़': 37, 'र्ड#': 10, 'सन्#': 1028, '188': 242, '6#': 214, 'ईसवी#': 73, 'प्रकाशित#': 1098, 'भाष्य#': 86, 'यन': 8, 'शुक्': 3, 'यजु': 3, 'दीय#': 3, 'पाँच#': 425, 'अध्याय#': 224, 'ऋषियों#': 66, 'देवताओं#': 256, 'नामत#': 2, 'गणना#': 246, 'इसकी#': 1878, 'विशेषता#': 409, 'उत्तर': 46, 'संगृ': 28, 'तप': 22, 'ब्राह्मण#': 329, 'रख': 106, 'नेवाले#': 52, 'संक्षिप्त#': 186, 'प्रकाशन#': 460, 'बर#': 48, 'संपादित#': 130, 'संस्करण#': 799, 'स्वतंत्र#': 683, 'सभाष्य#': 1, 'बनारस#': 72, 'सीरीज़#': 102, '189': 126, '3#': 218, 'सर्वप्रथम#': 261, 'यजु#': 4, 'िका': 1, 'देव#': 33, 'कृत#': 78, 'प्रदत्त#': 67, 'ऐसा#': 1705, 'व्यक्तिगत#': 490, 'समूह#': 1398, 'सदस्यों#': 546, 'कराता#': 79, 'विशेषकर#': 181, 'एक': 74, 'पारिवारिक#': 141, 'साझा#': 158, 'व्यक्ति#': 2153, 'विरासत#': 208, 'मुख्य#': 2410, 'यूरोप#': 659, 'प्रभावित#': 978, 'अमेरिका#': 1760, 'न्यूजीलैंड#': 160, 'बसे#': 115, 'वंशिकता#': 14, 'सामान्यतः#': 220, 'सूचियों#': 31, 'कै': 388, 'ट': 387, 'ॉ': 138, 'ग#': 82, 'प्रथम#': 1471, 'विश्व#': 1900, 'संस्कृतियों#': 123, 'हंगरी#': 91, 'अफ्रीका#': 549, 'एशिया#': 535, 'उदा#': 48, 'चीन#': 605, 'जापान#': 471, 'कोरिया#': 246, 'परंपरागत#': 191, 'आते#': 772, 'पूर्वी#': 698, 'अंश#': 277, 'विशिष्ट#': 906, 'ताकि#': 700, 'अलग#': 2614, 'पश्चिमी#': 838, 'नामकरण#': 132, 'दिए#': 965, 'यदि#': 1646, 'रो': 446, 'ज़#': 274, 'पूरक#': 65, 'महत्व#': 639, 'परे#': 133, 'उपनाम#': 146, 'क्रमांकन#': 1, 'नियम#': 503, 'शुरूआत#': 259, 'जिसके#': 1769, 'परिणामस्वरूप#': 429, 'मध्यम#': 185, 'बनते#': 165, 'स्था': 57, 'एं#': 269, 'काफ़ी#': 198, 'प्रचलित#': 374, 'उपयोग#': 2984, 'अनौपचारिक#': 73, 'स्थितियों#': 203, 'परिचित#': 140, 'त्री': 19, 'ढंग#': 379, 'औपचारिक#': 258, 'प्रयोग#': 2797, 'ज़रूरी#': 79, 'वरा#': 5, 'संबो': 34, 'धन#': 129, 'देता#': 1658, 'परिचय#': 201, 'आम#': 32, 'क्षेत्रा': 19, 'धिकारों#': 4, 'समय#': 6115, 'लेख#': 494, 'प्रमाण#': 407, 'पत्र#': 676, 'अनुरूप#': 249, 'दस्तावे': 189, 'ज़': 249, 'ों#': 96, 'अंकित#': 126, 'अधिकार#': 1130, 'विशेष': 39, 'फ़्रा': 75, 'ंस#': 251, 'क्यू': 56, 'बेक#': 9, 'नीदरलैंड#': 70, 'जर्मनी#': 426, 'नागरिक#': 448, 'क़ानून#': 95, 'पदा': 23, 'धिकारी#': 23, 'जिसका#': 1618, 'काम#': 3171, 'घटनाओं#': 341, 'बच्चों#': 832, 'न्यायाधीश#': 109, 'निर्दिष्ट#': 119, 'हानि#': 213, 'पहुं': 75, 'चा': 131, 'यहां#': 1885, 'वर्तनी#': 47, 'जांच#': 455, 'एक#': 643, 'जन्': 85, 'मे#': 69, 'लोग#': 2120, 'आप्रवा': 4, 'नुसार#': 81, 'संभवतः#': 200, 'क़ानू': 43, 'अपना#': 2011, 'बद': 101, 'लना#': 160, 'पड़#': 273, 'नियत#': 77, 'संस्कार#': 259, 'मित्र#': 298, '1991#': 171, 'स्वी': 143, 'श#': 327, 'B': 23, 'r': 196, 'f': 55, 'x': 42, 'c': 183, 'm': 222, 'n': 110, 'p': 163, 'l': 200, 'v': 72, 'k': 55, 's': 353, 'q': 15, 'b': 121, '1': 380, '16#': 35, 'प्रयास#': 977, 'मौलिक#': 187, 'अर्थ': 24, 'कलात्मक#': 129, 'देखते#': 421, 'निम्न#': 440, 'वर्गों#': 203, 'व्युत्पन्न#': 137, 'नामों#': 199, 'पुनरुप': 2, 'योग#': 62, 'पूर्वजों#': 77, 'स्मृति#': 216, 'ख़ास#': 105, 'प्रेम#': 463, 'पात्र#': 270, 'भंडार#': 87, 'सीमित#': 559, 'जिनकी#': 274, 'भिन्न#': 1064, 'उदाहरण#': 1249, 'ईसाई#': 371, 'बाइबिल#': 97, 'संतों#': 34, 'बिल्कुल#': 135, 'अपवाद#': 88, '—': 23, 'थि': 41, 'पि': 159, 'आदर्श#': 324, 'त्रि': 68, 'शक्ति#': 1268, 'मि': 271, 'यम#': 52, 'मेरी#': 229, 'तथापि#': 226, 'जी': 359, 'स#': 772, 'जगत#': 197, 'हिस्सों#': 220, 'वर्': 235, 'जित#': 51, 'धर्म': 35, 'विरोधी#': 369, 'जना#': 3, 'जो': 85, 'शु': 38, 'आ#': 116, 'स्वरूपों#': 29, 'ईसाइयों#': 41, 'सर्व': 9, 'रोमन#': 327, 'कैथोलिक#': 199, '2': 211, 'वीं#': 777, 'सदी#': 961, 'जिन#': 455, 'प्रति#': 1883, 'श्रद्धा#': 106, 'वहां#': 714, 'लंबे#': 381, 'चली#': 275, 'लैंड#': 194, '17': 114, 'सीसी#': 26, 'रानी#': 408, 'सर्वाधिक#': 480, 'व्युत्': 54, 'पत्ति#': 54, 'मोटे#': 161, 'निम्नलिखित#': 485, 'श्रेणियों#': 139, 'बांटा#': 87, 'रूपांतरण#': 121, 'बाइ': 1, 'बिलीय#': 1, 'ब्रू#': 35, 'सा': 320, 'मूल#': 1566, 'बनता#': 278, 'शो': 1, 'शाना#': 1, 'स्पेनिश#': 112, 'पुर्तगाली#': 76, 'ज़ा': 11, 'पॉ': 83, 'ु': 119, 'मशहूर#': 137, 'सफल#': 801, 'व्यक्तियों#': 558, 'दुबारा#': 85, 'लाए#': 84, 'चीनी#': 502, 'कोरियाई#': 143, 'शुओं#': 50, 'सोच#': 137, 'बहुधा#': 75, 'शों#': 122, 'रू': 118, 'ओं#': 8, 'पूछ': 79, 'परिवारों#': 183, 'दी#': 92, 'रखते#': 486, 'भाषा#': 2208, 'अंग्रेज़ी#': 242, 'इससे#': 1266, 'अक्षरों#': 74, 'संयोजन#': 275, 'सैद्धांतिक#': 98, 'लगता#': 718, 'बोलने#': 163, 'शब्दों#': 569, 'वजह#': 636, 'एशियाई#': 234, 'स्थानों#': 531, 'अलावा#': 1387, 'आधिकारिक#': 435, 'कनाडा#': 322, 'पढ़ने#': 145, 'अंतर्राष्ट्रीय#': 574, 'कारोबार#': 112, 'च्छु': 52, 'मामले#': 644, 'सही#': 625, 'आसानी#': 311, 'संप्रे': 17, 'षण#': 140, 'राजभाषा#': 89, 'उच्चारण#': 184, 'नोट#': 116, 'स्प#': 46, 'होगा#': 1393, 'आप्रवासी#': 21, 'छात्र#': 300, 'ख़ुद#': 65, 'रहती#': 775, 'शब्द#': 1781, 'चु': 122, 'नें#': 45, 'मेल#': 231, 'खाता#': 109, 'आदमी#': 233, 'डार#': 4, 'राष्ट्र#': 774, 'प्रवास#': 93, 'आर्थर#': 70, 'नामी#': 11, 'भाषी#': 90, 'महिला#': 836, 'जापानी#': 318, 'को#': 64, 'नो': 88, 'अंत#': 1215, 'मतलब#': 318, 'भ्रम#': 93, 'बना#': 1961, 'रोमांस#': 45, 'मर्': 21, 'स्त्री#': 253, 'टी': 180, 'रान#': 35, 'मारिको#': 1, 'ंग': 33, 'स्त्री': 2, 'भय': 67, 'ंगी#': 41, 'जॉर्डन#': 77, 'मी#': 63, 'लेक्स#': 22, 'श्': 176, 'क्रिस#': 58, 'री#': 388, 'J': 17, 'o': 385, 'e#': 228, 'जै': 20, 'सै': 145, 'लिंग#': 236, 'रहता#': 1357, 'इतिहास#': 1239, 'समुदायों#': 186, 'ज़ोर#': 79, 'व्याकरण#': 211, 'निर्धारण#': 257, 'पुरानी#': 309, 'नॉ': 132, 'र्स#': 58, 'लैटिन#': 195, 'उससे#': 762, 'उत्पन्न#': 1254, 'इतालवी#': 177, 'यूनानी#': 201, 'पर्याय#': 75, 'दरअसल#': 75, 'लागू#': 725, 'शिशु#': 163, 'ति': 138, 'लोकप्रियता#': 136, 'आवृत्ति#': 156, 'व्या': 97, 'प्ति#': 11, 'वितरण#': 284, 'व्यवस्था#': 1102, '18': 52, '00#': 109, 'इंग्लैंड#': 556, 'वेल्स#': 121, 'सक#': 8, 'जिससे#': 1544, 'जॉन#': 452, 'क्रमशः#': 194, 'पाने#': 396, 'लड़': 128, 'लड़के#': 97, 'विपरीत#': 522, 'आंकड़े#': 85, 'एमिली#': 14, 'जेम्स#': 226, 'खो': 134, 'बल्कि#': 709, 'पिछले#': 411, '100#': 465, 'वर्षों#': 925, 'लड़कियों#': 128, 'बदलाव#': 261, 'लड़कों#': 74, 'उतना#': 142, 'विविधता#': 214, 'बढ़#': 576, 'प्रवृ': 80, 'तियों#': 179, 'प्रभाव#': 1587, 'ब्रिटेन#': 539, 'दृ': 52, 'ष्टि': 32, 'गो': 261, 'चर#': 44, 'प्रसिद्ध#': 1569, 'स्तियां#': 12, 'ब्रिटिश#': 1286, 'अभिनेत्री#': 251, 'रा#': 214, 'नाइटली#': 1, 'वृद्धि#': 941, 'K': 4, 'e': 456, 'i': 234, 'a': 331, 'er': 83, '5': 81, '9': 80, '2001#': 331, 'कोल्': 2, 'बी#': 131, 'दूसरे#': 1973, 'विजेता#': 192, 'बनने#': 508, '3': 184, 'वें#': 230, 'पहुंचा#': 241, 'माइ': 70, 'शीर्ष#': 474, '1000#': 131, 'गाय': 56, 'िका#': 97, 'साइ': 80, 'जिनका#': 411, 'डे': 96, '2007#': 694, '7': 46, '8': 127, 'काल्पनिक#': 146, 'कथाओं#': 102, 'पात्रों#': 141, 'लोगो#': 201, 'प्रतीत#': 248, 'प#': 475, 'अवर#': 32, 'फ़#': 41, 'किरदार#': 203, 'ला#': 362, 'बहुत#': 4395, 'टै': 69, 'मारा#': 163, 'एंड#': 660, 'चलर#': 26, 'फ़िल्म#': 963, 'स्थापित#': 1665, 'उल्लेखनीय#': 459, 'उदाहरणों#': 73, 'सिका#': 35, 'विलियम#': 188, 'शेक्सपियर#': 63, 'नाटक#': 631, 'रचा#': 44, 'स्वि': 3, 'फ़ा': 34, 'अप्रामाणिक#': 6, 'ंडी#': 81, 'एकांकी#': 46, 'पीटर#': 183, 'पैन#': 82, 'बॉय#': 24, 'वुड#': 33, 'ग्रो': 4, 'दुर्': 76, 'स्प्': 2, 'लै': 51, 'लारा#': 16, 'लारि': 1, 'डॉक्टर#': 151, 'ज़ि': 55, 'गो#': 12, 'उपस्थिति#': 329, 'दुर्लभ#': 178, 'गीत#': 645, 'ल्स#': 31, 'जू': 65, '1968#': 104, '4': 150, '6': 61, 'रिक#': 133, 'टन#': 141, 'गाने#': 214, '1972#': 120, 'रॉक#': 149, 'ग्रुप#': 207, 'गाना#': 97, 'आंकड़ों#': 110, 'पता#': 1316, 'चला#': 722, '1985#': 123, 'जिस#': 1060, 'झ': 479, 'ान#': 36, 'सराह': 22, 'ंड#': 107, 'दै': 97, 'रॉ': 19, 'क्स#': 152, 'क्रै': 12, 'डल#': 4, 'ैल#': 40, 'आया#': 821, 'प्रदर्शित#': 450, 'तत्काल#': 146, '1992#': 146, 'द्वितीय#': 584, 'युद्ध#': 1915, 'डॉ': 11, 'गिरावट#': 156, 'ड़': 173, 'दार#': 57, 'सुनने#': 118, 'लगते#': 229, 'क्रि': 116, 'स्टी': 58, 'का#': 137, 'लड़की#': 180, 'भा#': 9, 'नाइजीरिया#': 71, 'जोर#': 278, 'गत#': 38, 'समानता#': 215, 'सकती#': 1763, 'अपराधी#': 116, '्यू#': 35, 'मार्क#': 96, 'न्यू#': 338, 'टे': 238, 'स्ट': 64, 'मेंट#': 65, 'पुस्तिकाओं#': 6, 'ग्रीक#': 164, 'पौराणिक#': 192, 'री': 61, 'ब्रि': 58, 'टी#': 175, 'सेन#': 96, 'एं': 67, 'टो': 130, 'जलि': 2, 'ब्रै': 3, 'चलाई#': 50, 'प्रवृत्ति#': 237, '2000#': 359, 'वंगत#': 27, 'उम्र#': 751, 'किन#': 66, 'नारि': 1, 'टा#': 118, 'सोना#': 76, 'चांदी#': 87, 'कॉ': 124, 'मिक#': 82, 'स्ट्रि': 2, 'चर्स#': 5, 'टिन#': 3, 'थॉम': 23, 'थॉम्': 32, 'दिखने#': 93, 'जा': 430, 'सूस#': 25, '्रे': 15, 'ंच#': 33, 'ड्यु': 2, 'सन्': 65, 'सेल्': 23, 'बू': 101, 'संभाव्य#': 36, 'पत्': 130, 'देखें#': 300, 'सूची#': 528, 'सॉ': 41, 'मिल#': 694, 'टेक#': 109, 'एकीकृत#': 175, 'बा': 287, 'एम्': 75, 'फायर#': 10, 'यु': 322, 'क्ति#': 63, 'विद्युत#': 291, 'मान#': 597, 'ली': 144, 'च्यू': 1, 'बदल#': 576, 'प्रायः#': 294, 'भवा': 2, 'तर#': 66, 'ोल्': 69, 'धारा#': 382, 'करे': 39, 'आजकल#': 202, 'प्रचलन#': 127, 'आशय#': 86, 'इलेक्ट्रॉनिक#': 129, 'उपकरण#': 430, 'त्रिको': 35, 'णीय#': 69, 'ट्यूब#': 133, 't': 254, 'जिसने#': 812, 'Lee#': 69, 'F': 34, 'or': 69, 't#': 218, 'आविष्कार#': 177, 'आसपास#': 529, 'फायरों#': 2, 'ट्रां': 72, 'जि': 259, 'ट्यू': 8, 'बों#': 91, 'अनुप्रयोगों#': 72, 'टेली': 37, 'ऑडियो#': 77, 'प्रौद्योगिकी#': 481, '187': 78, 'पेटेंट#': 111, 'तेजी#': 383, 'लंबी#': 313, 'दूरी#': 725, 'संकेतों#': 96, 'संचरण#': 90, 'बढ़ाने#': 295, 'al#': 22, 'g': 112, 'al': 88, 's#': 225, 'ग्रा': 45, 'फी#': 2, 'स्टेशनों#': 148, 'इंटर': 66, 'मी': 42, 'उपकरणों#': 282, 'सिग्नल#': 85, 'रिकॉर्': 18, 'डर#': 93, 'समीटर#': 15, 'बैक#': 46, 'विलुप्त#': 80, 'ऊर्जा#': 985, 'y#': 104, 'निर्माण#': 2589, 'मध्य': 101, 'स्टेशन#': 679, 'स्रोत#': 461, 'अगले#': 475, 'समिशन#': 31, 'यानी#': 228, 'दिशाओं#': 69, 'भेजने#': 93, 'द्वि#': 34, 'टर्स#': 2, 'फिक#': 5, 'V': 44, 'ar': 59, 'आवश्यक#': 1089, 'तोष': 35, 'जनक#': 151, 'टेलीफोन#': 94, 'कंपनी#': 1232, 'S': 51, 'h': 70, 've#': 40, 'वर्तक#': 8, 'बनाने#': 1494, 'मौजूदा#': 225, 'प्रयासों#': 223, 'सुधार#': 588, 'कार्बन#': 306, 'न्यु': 2, 'इलेक्': 45, 'ट्रो': 69, 'डा': 204, 'यनामिक#': 1, 'वर#': 227, 'जोड़े#': 121, 'y': 31, 'वे#': 192, 'टर#': 164, 'स्टन#': 44, 'सब': 41, 'लाइन#': 288, 'परीक्षण#': 781, 'परिष्कृत#': 90, 'बने#': 1048, 'आवश्यकताओं#': 194, 'आउट': 97, 'पुट#': 43, 'माइक्रो': 3, 'फोन#': 1, 'तरंग#': 70, 'धित#': 30, 'सीधे#': 372, 'स्पी': 97, 'कर#': 436, 'पुन#': 222, 'इन्': 122, 'हे#': 85, 'ध्वनि#': 251, 'तरंगो#': 3, 'नही#': 296, 'पा': 644, 'ेगा#': 100, 'अतः#': 596, 'योग्य#': 503, 'पावर#': 117, 'किलो': 3, 'लों#': 184, 'बढ़ा': 83, 'ट्रा': 23, 'ँ': 302, 'डियो#': 6, 'कहलाता#': 235, 'वैसे#': 238, 'विडियो#': 99, 'शक्तिशाली#': 265, 'रेडियो#': 618, 'वास्तव#': 603, 'वर्धन#': 13, 'ही': 64, 'ँ#': 47, 'योजित#': 46, 'सप्लाई#': 21, 'चू': 5, 'ँकि#': 5, 'उच्च#': 1352, 'लार्': 6, 'उचित#': 420, 'अधिकतम#': 258, 'स्थाना': 19, 'तरण#': 68, 'नेटवर्क#': 360, 'तभी#': 347, 'सफ': 2, 'होगी#': 623, 'प्रतिरोध#': 217, 'ल्य#': 41, 'अर्थात्#': 400, 'बाधा#': 122, 'जहा': 38, 'N': 16, 'सफार्': 1, 'मर#': 38, 'प्राथमिक#': 385, 'द्वि': 68, 'ती': 276, 'यक#': 43, 'ख्या#': 5, 'R': 22, 'इनपुट#': 69, 'बैटरी#': 152, 'अनुपात#': 235, 'उसकी#': 1958, 'क्टर#': 36, 'दर्शाते#': 66, 'T': 17, 'an': 59, 'आपरे': 10, 'शनल#': 19, 'वर्गीकरण#': 231, 'फ्रे': 37, 'टेलर#': 87, 'W': 25, 'in': 134, 'w#': 14, '१८': 72, '५': 96, '६#': 127, '१९': 197, '१': 99, '५#': 82, 'वैज्ञानिक#': 674, 'बन्': 54, 'ल्यू#': 1, 'निकल#': 336, 'नी': 176, 'औद्योगिक#': 397, 'विधि': 63, 'वत#': 98, 'सलाह': 35, 'फिल्': 45, 'फिया#': 118, 'जर्': 66, 'मन': 72, 'टाउन#': 69, 'सम्पन्न#': 109, 'म्भिक#': 42, 'फ्रांस#': 482, 'ठारह#': 41, 'माह#': 183, 'भ्रमण#': 90, 'उपरान्त#': 102, 'हार': 48, 'वर्ड#': 31, '\\u200c#': 81, '5#': 247, 'नगर#': 957, 'कारखाने#': 104, 'यांत्रिक#': 112, 'प्रतिरू': 25, 'पकार#': 19, 'tt': 16, 'इन्होंने#': 461, 'वन': 28, 'आरंभ#': 550, 'पश्चा': 60, 'स्टील#': 102, 'कार्यकर्ताओं#': 71, 'इन्हें#': 698, 'दिन#': 2095, 'कितना#': 113, 'निश्चय#': 209, 'किए#': 2209, 'अनुसंधान#': 531, 'फलस्वरूप#': 288, 'औ': 149, 'जारों#': 15, 'इस्पात#': 146, 'पानी#': 1400, 'ढ़': 74, 'मृ': 53, 'करण#': 171, 'g#': 17, 'रीति#': 160, 'गति#': 846, 'धातु#': 287, 'काटने#': 82, 'संभव#': 569, 'सका#': 253, 'कारखा': 64, 'नों#': 451, 'प्रबंध#': 284, 'जिसको#': 89, 'आगे#': 1272, 'चलकर#': 162, 'शेष#': 400, 'सिद्धांतों#': 266, 'प्रवर्तन#': 89, 'बिताया#': 66, 'लिखी#': 450, 'पुस्तकों#': 246, 'आर्ट#': 123, 'टिंग#': 103, 'प्रि': 20, 'सायं': 1, 'अनेकों#': 105, 'पुस्तकें#': 168, 'लिखे#': 348, 'प्रारंभिक#': 476, 'प्रं': 1, 'बंध#': 55, 'विचारा': 1, 'महत्त्वपूर्ण#': 297, '‘': 86, 'क्ला': 27, 'विचार': 22, 'धारा': 24, '’': 71, 'वर्ग#': 992, 'ॉल#': 2, 'प्रशासनिक#': 248, 'मैक्स#': 76, 'बर्स#': 1, 'अफ': 16, 'सर': 41, 'शाही#': 333, 'वर्णन#': 842, 'करेंगे#': 300, 'पश्चात्#': 313, 'जाएगा#': 659, 'फै': 164, 'सलो#': 2, '185': 115, '191': 170, 'अमरीका#': 263, 'आंदोलन#': 594, 'संस्थापक#': 260, 'इंजीनियर#': 112, 'कार्य': 163, 'क्षमता#': 1014, 'चाहा#': 41, '4#': 229, 'शिक्ष': 29, 'ार्थी#': 11, 'निक#': 113, 'कारखाना#': 45, 'इंजीनियरिंग#': 327, 'विद्वान#': 248, 'नेताओं#': 213, 'उत्पादन#': 1173, 'परिवर्तन#': 897, 'अवश्य#': 249, 'क्रांति#': 332, 'जुड़ा#': 332, 'बड़े#': 1918, 'पैमाने#': 337, 'जिसकी#': 616, 'समझते#': 120, 'पूर्ण': 16, 'योगदान#': 506, 'लाने#': 358, 'देखना#': 117, 'मानना#': 392, 'विश्लेषण#': 414, 'इसको#': 195, 'सर्वोत्तम#': 93, 'ू': 93, 'ा#': 5, 'याद#': 380, 'घटकों#': 85, 'केंड#': 21, 'अवधि#': 716, 'विश्वास#': 551, 'समकालीन#': 211, 'शै': 71, 'व#': 411, 'अवस्था#': 606, 'उसका#': 1486, 'शास्त्र#': 363, 'चाहता#': 315, 'कर्मचारियों#': 289, 'श्रम#': 194, 'सर्वश्रेष्ठ#': 565, 'प्रशिक्षित#': 157, 'प्रबंधक#': 107, 'सहयोगी#': 160, 'नू': 15, 'तन#': 187, 'साझेदारी#': 94, 'होंगे#': 337, 'पक्षों#': 116, '1#': 135, 'दि#': 22, 'साइं': 3, 'मैनेज': 50, 'शीर्षक#': 377, 'हम#': 79, 'निकाल#': 203, 'फ्र': 1, 'पुस्तक#': 699, 'ठीक#': 651, 'बिक्री#': 403, 'अमरी': 1, 'सोसाइटी#': 123, 'इंजी': 1, 'नियर्': 1, '190': 215, '1900#': 72, 'डार्ट#': 5, 'माउ': 66, 'स्कूल#': 932, 'बिजनेस#': 75, 'प्रोफेसर#': 176, 'क्षमताओं#': 86, 'कार्यकारी#': 164, 'अधिकारी#': 445, 'साथी#': 265, 'काम': 32, 'गारों#': 5, 'अंतराल#': 114, '8#': 219, 'यर': 91, 'बनी#': 777, 'कार्या': 66, 'मज': 106, 'शीघ्र#': 219, 'सौंप#': 117, 'संसाधनों#': 189, 'मिलने#': 402, 'संख्या#': 1674, 'प्रदर्शन#': 1122, 'स्थल#': 641, 'भाग्य': 40, 'बेच#': 112, 'छुट्टी#': 96, '1910#': 55, 'देना#': 611, 'निमोनिया#': 127, 'मृत्यु#': 1138, 'दर्शन#': 726, 'बॉक्स#': 174, '2#': 353, 'हाउस#': 262, 'प्रे': 118, 'सर्वे': 1, 'यल#': 63, 'कमे': 56, 'साक्ष्य#': 126, 'अंगू': 12, 'ठा#': 55, 'सुधारों#': 78, 'पूर्वक#': 24, 'पद्धतियों#': 71, 'सहायता#': 1082, 'अच्छे#': 370, 'बिंदुओं#': 75, 'मानक#': 481, 'गार#': 32, 'अपेक्षा#': 301, 'सरलता#': 88, 'सकेगा#': 66, 'अपनाई#': 55, '19#': 14, 'तत्व#': 399, '9#': 110, '0#': 223, 'तत्वों#': 284, 'तंत्र#': 340, 'मात्र#': 459, 'वर': 71, 'निम्ना': 32, 'ंकित#': 34, 'विस्तार#': 794, 'देखता#': 138, 'बिन्': 1, 'देश्': 2, 'वरी#': 13, 'प्रसाद#': 270, '1918#': 64, '1982#': 117, 'बिहार#': 369, 'मुख्यमंत्री#': 178, 'डा#': 111, 'आजादी#': 168, 'ज्यादातर#': 385, 'जाय': 23, 'दाद#': 68, 'जमीं': 88, 'दारों#': 94, 'ऊंची#': 103, 'जाति#': 630, 'प्रतिदिन#': 162, 'ड़#': 157, 'जवा': 64, 'लाल#': 718, 'नेहरू#': 139, 'अनुच्छेद#': 186, 'देरी#': 101, '1953#': 84, 'गठन#': 475, 'लकर#': 69, 'भाग्य#': 45, 'ंद#': 80, 'लभ#': 22, 'पंत#': 17, 'कालि': 68, 'हमंत्री#': 10, 'सरकार#': 2238, 'रिपोर्ट#': 471, 'कू': 187, '़': 33, 'ढेर#': 65, 'डाल#': 210, 'जितना#': 206, 'नुक्': 2, 'शान#': 2, 'वर्तमान#': 1379, 'संवैधानिक#': 148, 'अधिकारों#': 277, 'वंचित#': 94, 'धर्म#': 1586, 'चित्र#': 497, 'जातियाँ#': 90, 'खड़ी#': 124, 'जातियों#': 235, 'ऊपर#': 1066, 'ऊर्': 12, 'क्रम#': 419, 'कदा': 10, 'चित#': 46, 'मनु#': 163, 'जिम्मेदार#': 193, 'हों#': 626, 'परंतु#': 645, 'वर्ण#': 173, 'पवित्रता#': 41, 'उपदेश#': 166, 'जन': 47, 'अर्थ#': 1330, 'पूर्वज#': 78, 'आरोप#': 319, 'लगाया#': 622, 'उठ': 90, 'श्रे': 9, 'कोटि#': 136, 'द्ध': 13, 'खास#': 275, 'असर#': 175, 'जान': 62, 'नकार#': 25, 'दियों#': 12, 'अन': 116, 'पढ़#': 10, 'सिरे#': 110, 'बाबा#': 179, 'साहब#': 110, 'ॅ': 55, 'आं': 64, 'सम्मिलित#': 394, 'दर': 39, 'नार#': 14, 'ख': 195, 'ै': 139, 'परिवर्त': 17, 'नशील#': 17, 'हमेशा#': 476, '1977#': 109, 'लगे#': 919, 'आपा': 45, 'तकाल#': 49, 'रारजी#': 17, 'साई#': 34, 'कांग्रे': 16, 'जनता#': 653, '1978#': 114, 'बिं': 2, 'अगु': 42, 'वाई#': 94, 'घोषणा#': 806, '1980#': 203, 'फाइनल#': 215, 'गिर#': 189, 'चुकी#': 392, 'इंदिरा#': 108, 'दौ': 52, 'बारा#': 1, 'सत्ता#': 362, 'शैक्षिक#': 158, 'आर्थिक#': 969, 'तमाम#': 122, 'परखा#': 6, 'मालूम#': 95, 'कुल#': 1240, 'ड़ी#': 150, 'जातियां#': 28, 'आधे#': 157, 'ज्यादा#': 837, 'हिस्सा#': 975, 'यू': 45, 'ही#': 107, 'रखी#': 299, 'बातें#': 172, 'प्रमुखता#': 64, 'उठा': 90, 'पड़ा#': 973, 'उठा#': 153, 'समझा#': 308, 'जाये': 47, 'गा': 123, 'आसमान#': 1, 'उड़ने#': 37, 'जमीन#': 297, 'नक्': 47, 'शा#': 120, 'हवाई#': 527, 'जहाज#': 248, 'धरती#': 209, 'फोटो#': 85, 'विदेशी#': 483, 'शासकों#': 238, 'रहने#': 982, 'शिक्षित#': 88, 'बाबू#': 97, 'ऊपरी#': 245, 'नज़र#': 152, 'लेखकों#': 232, 'इतना#': 438, 'देख#': 437, 'पाते#': 226, 'छूत#': 2, 'हो': 150, 'अनू': 34, 'सूचित#': 164, 'जग': 19, 'रह': 20, 'बुओं#': 1, 'ज्ञात#': 552, 'विधायक#': 68, 'सर्वो': 5, 'तम#': 62, 'स्मृ': 6, 'तिकार#': 2, 'भग': 29, 'लिख#': 78, 'गये#': 1313, 'रामायण#': 140, 'महाभारत#': 265, 'पुराणों#': 134, 'थों#': 20, 'मनु': 1, 'ब्रह्': 11, 'ः#': 5, 'क्षत्रियों#': 14, 'वैश्य': 1, 'स्त्रों#': 58, 'चतुर्थ#': 80, 'स्तु#': 1, 'शू': 59, 'द्रों#': 75, 'स्ति#': 6, 'चम': 2, 'ब्राह्': 1, 'मण#': 2, 'क्षत्रिय#': 79, 'वैश्य#': 46, 'चै': 25, 'वा#': 98, 'बदौ': 15, 'लत#': 73, 'शैक्षणिक#': 146, 'रंग#': 1038, 'भेदी#': 16, 'हजारों#': 208, 'सालों#': 187, 'अति': 38, 'न्याय#': 263, 'ब्': 92, '्रा': 1, 'ह्': 31, 'व्यापार#': 827, 'जनी#': 2, 'ें#': 79, 'खेती#': 236, 'ल्पकारी#': 4, 'अद्यम#': 1, 'दिशा#': 565, 'गहराई#': 191, 'समझना#': 117, 'मराव#': 6, 'कैसे#': 429, 'गंभीर#': 445, 'लिखा#': 919, 'सम्यक#': 10, 'दिल्ली#': 1144, 'प्रश्': 13, 'वली#': 99, 'प्रश्न#': 330, 'नकों#': 4, 'भर#': 20, 'घू': 105, 'भर': 34, 'पहचा': 2, 'भ': 241, 'करी#': 63, 'भे': 142, 'अर#': 78, 'दूध#': 276, 'बनाना#': 241, 'त्रिक#': 8, 'पेशा#': 23, 'मरने#': 98, 'दरी#': 13, 'भोज#': 80, 'अनिवार्य#': 338, 'सवा': 17, 'स्या': 1, 'तक#': 113, 'बंदी#': 116, 'नमक#': 134, 'तेल#': 725, 'खू#': 1, 'ईंधन#': 236, 'टू#': 4, 'ि': 76, 'चलाना#': 45, 'फा': 132, 'जंगल#': 235, 'बाग#': 87, 'लगाना#': 120, 'कुं': 24, 'आँ#': 1, 'मकान#': 81, 'प्पर#': 5, 'छा': 163, 'संकर#': 51, 'अस्': 30, 'प्रतिशत#': 839, 'बताई#': 58, 'अध्यक्षता#': 117, 'होकर#': 1203, '1955#': 83, 'राजे': 27, 'सौं': 51, 'पी#': 47, 'केंद्रीय#': 290, '1956#': 121, 'पाया#': 983, 'विद्': 13, 'करीब#': 512, 'करोड़#': 427, 'कितनी#': 110, 'अनुमान#': 489, 'हिसाब#': 160, 'पाठक#': 80, 'महो': 1, 'खुद#': 637, 'सिफारि': 42, 'शें#': 18, 'सिफारिश#': 129, 'जनजाति#': 182, '.': 107, 'बच': 59, 'सीटें#': 68, 'आरक्षित#': 90, 'सकी#': 90, 'दारी#': 52, 'खत्म#': 231, 'भूमि#': 793, 'जाये#': 223, 'बंधित#': 28, 'े#': 120, 'सरकारों#': 138, 'हितों#': 178, 'मंत्रालय#': 277, 'बनाये#': 296, 'अधीन#': 396, 'चलने#': 329, 'तकनीकी#': 326, 'प्रोफे': 16, 'शिक्षण#': 178, 'त्राओं#': 17, 'जायें#': 34, 'वयस्क#': 187, 'आवासीय#': 70, 'विद्यालय#': 336, 'रोजगार#': 189, 'मिलना#': 56, 'उनको#': 358, 'मिला#': 791, 'लेने#': 1020, 'भागीदारी#': 181, 'कामयाब#': 75, 'छि': 183, 'जायेगा#': 152, 'मन्': 10, 'मथ': 4, 'नाथ#': 120, 'गुप्त#': 336, 'फ़रवरी#': 248, '०': 43, '८#': 95, 'अक्टूबर#': 694, '२०००#': 85, 'स्वतन्': 115, 'त्रता#': 59, 'संग्राम#': 97, 'क्रा': 48, 'तिकारी#': 33, 'स्त#': 89, 'लेखक#': 611, 'हिन्दी#': 1017, 'बांग्ला#': 44, 'कथा': 54, 'ऐतिहासिक#': 730, 'ल्प#': 30, 'आयु#': 530, 'हिन्': 83, 'दुस्तान#': 91, 'पब्': 22, 'लिक': 34, 'ऐ': 50, 'सक्रिय#': 494, '२': 76, 'धानी#': 11, 'अहमद#': 155, 'रेल#': 272, 'यात्री#': 287, 'सजा#': 154, 'मिली#': 716, 'मथ#': 5, 'सख्त#': 81, 'गयी#': 1833, '३': 44, '७': 109, 'छू': 28, 'आये#': 350, 'लिखने#': 212, '९#': 43, 'त्र#': 86, '४': 39, 'रहे': 1, 'योजना#': 827, 'बाल#': 434, 'भारती#': 87, 'पत्रिकाओं#': 116, 'दक#': 34, 'स्थित#': 2782, 'ईस्ट#': 135, 'निवास#': 387, 'वाराणसी#': 113, 'मह#': 35, 'द्या': 1, 'बंगाल#': 372, 'छो': 8, '८': 20, '०#': 193, 'हु': 61, 'रे': 241, 'श्वर#': 30, 'नेपाल#': 373, 'विरा': 50, 'प्रधाना': 5, 'पक#': 51, 'ढाई#': 29, 'लिखाई#': 9, 'काशी#': 141, 'विद्या': 25, 'खिल#': 36, 'करा#': 137, 'आन्दोलन#': 178, 'क्रिया': 64, 'शील#': 36, 'संस्मरण#': 39, '193': 187, 'अकाल्पनिक#': 1, 'नमूने#': 112, 'आपने#': 208, 'सशस्त्र#': 112, '1939#': 66, 'विधाओं#': 42, 'आपके#': 207, 'ग्रन्थों#': 98, 'कथा#': 442, 'समीक्षा#': 275, 'आपका#': 105, 'बह': 162, 'उपन्यास#': 440, 'चरि': 24, 'चलता#': 627, 'कृतियों#': 128, '194': 1, 'गति': 3, 'रूपरेखा#': 85, '1954#': 65, 'रहीं#': 162, 'मनो': 90, 'आपकी#': 127, 'रुचि#': 231, 'ग्रहण#': 425, 'कृ': 173, 'तियाँ#': 131, '1946#': 92, 'सम्बद्ध#': 68, 'पत्रिका#': 378, 'पादन#': 53, 'भवन#': 352, 'अन्तर्राष्ट्रीय#': 133, 'संगोष्ठी#': 12, 'उपस्थित#': 319, 'प्रतिनिधि#': 243, 'राम#': 553, 'स्मिल#': 13, 'स्त': 99, 'ौल#': 13, 'शोध': 61, 'खुश#': 91, 'भगत#': 38, 'सिंह#': 1901, 'विस्फोट#': 116, 'ट्रिक': 6, 'लिमिटेड#': 227, 'विनिर्माण#': 71, 'मूलभूत#': 67, 'संरचना#': 426, 'विशा': 20, 'उद्यम#': 140, 'बीत#': 38, 'देशी#': 93, 'उप': 114, 'उद्योग#': 675, 'सपना#': 72, 'निष्पादन#': 87, 'शानदार#': 142, 'ट्रैक#': 203, 'रिकॉर्ड#': 406, 'कल्पना#': 350, 'कम्पनी#': 216, '१९७': 138, '१#': 105, 'अर्जित#': 194, 'लाभा': 21, 'भुगतान#': 380, 'शहर#': 2033, 'चों#': 25, 'बसा#': 99, 'उत्पाद#': 424, 'उत्पादों#': 263, 'पारे': 4, 'परिवहन#': 283, 'दूरसंचार#': 103, 'नवी': 44, 'अर्थव्यवस्था#': 287, 'पूर्ति#': 245, 'प्रभागों#': 16, 'क्षेत्रीय#': 307, 'केन्द्रों#': 73, 'साइटों#': 44, 'लयों#': 126, 'ग्राहकों#': 226, 'शीघ': 23, '्रता#': 23, 'स्पर्': 23, 'मूल्यों#': 197, 'सेवाएं#': 147, 'कराने#': 248, 'समर्थ#': 104, 'गुणवत्ता#': 275, 'विश्वस': 50, 'यता#': 156, 'प्रौ': 63, 'द्योगिकियों#': 63, 'अग्रणी#': 190, 'कम्प': 71, 'नियों#': 169, 'अनुकूल#': 246, 'बनाकर#': 262, 'मानकों#': 176, 'डिजाइन#': 512, 'ओ#': 128, '९': 24, '००': 5, 'पर्यावरण#': 404, 'व्यावसायिक#': 365, 'प्रमा': 69, 'णन#': 39, 'चुका#': 510, 'समग्र#': 150, 'मार्ग#': 901, 'अग्रसर#': 64, 'प्रयोग': 10, 'कर्ताओं#': 21, '०००#': 230, 'संयंत्र#': 272, 'आपूर्': 9, 'तिकर्ताओं#': 8, '‹': 1, 'डे#': 28, 'निर्या': 3, 'तकों#': 13, 'पश्चिम#': 866, 'दूर': 2, 'संसार#': 408, 'निर्यात#': 202, 'एकल#': 433, 'सम्पूर्ण#': 309, 'हेतु#': 840, 'टर्': 30, 'नकी#': 2, 'स्टे': 37, 'प्रचालन#': 69, 'क्षण#': 132, 'अव': 337, 'जैसी#': 569, 'मरम्मत#': 75, 'पुनरु': 24, 'द्धार#': 45, 'विनिर्माताओं#': 4, 'तियां#': 48, 'करों#': 6, 'आधु': 13, 'सात#': 620, 'अद्य': 46, 'अपनाया#': 238, 'परियोजनाओं#': 125, 'सफलतापूर्वक#': 157, 'उसमें#': 558, 'विशाल#': 643, 'अपेक्षित#': 107, 'ची': 103, 'पन#': 40, 'डिजा': 26, 'इनों#': 20, 'रुप#': 11, 'अंतर्': 48, 'आपूर्ति#': 295, 'अनुकू': 121, 'सफलता#': 549, 'योजनाओं#': 1, 'विश्वसनीय#': 100, 'विकल्प#': 303, 'अपेक्षाओं#': 20, 'लगातार#': 524, 'उन्': 74, 'निरंतर#': 269, 'अत्यधिक#': 447, 'बद्धता#': 62, 'फ्यू': 7, 'सेल्स#': 25, 'सुपर#': 156, 'कंड': 2, 'टरों#': 12, 'भविष्य#': 356, 'निवेश#': 382, 'निवे': 60, 'घ': 98, 'लू#': 21, '२००५#': 80, 'राजस्व#': 192, 'कर्': 22, 'कर': 88, 'इस्लामिक#': 73, 'कैलेंडर#': 74, 'र्र': 6, 'ईस्वी#': 123, 'म्बर#': 24, 'हम्': 2, 'मद': 2, 'ص': 3, 'ل': 36, 'ی': 7, 'ا': 21, 'ہ': 9, 'ع': 3, 'آ': 3, 'س': 5, 'م': 6, 'नवा': 42, 'से#': 24, 'हजरत#': 67, 'इमाम#': 69, 'हुसैन#': 128, 'इब्न#': 178, 'रिश्': 25, '्यद#': 23, 'ख़': 109, 'अत्य': 2, 'चारी#': 2, 'शासक#': 502, 'सैन्य#': 483, 'लगा': 130, 'घटना#': 539, 'सिर्फ#': 440, 'दगी#': 46, 'पहलुओं#': 147, 'दर्शक#': 119, 'बुनियाद#': 17, 'हज़रत#': 96, 'मुहम्मद#': 598, 'तालि': 29, 'फ़ा#': 29, 'बनना#': 70, 'अधर्मी#': 6, 'पसंद#': 368, 'हुईं#': 175, 'शहीद#': 91, 'पश्चात#': 356, 'हसन#': 65, 'फा#': 45, 'उस#': 40, 'मत#': 36, 'आने#': 930, 'जाएं#': 72, 'जानता#': 119, 'सारा#': 154, 'ठी#': 121, 'दबाव#': 443, 'मानने#': 149, 'इनकार#': 175, 'रोकने#': 325, 'मदी': 4, 'छोड़कर#': 359, 'मक्': 9, 'के#': 107, 'पहुंचे#': 149, 'इरादा#': 81, 'जियों#': 11, 'आकर#': 274, 'चाहते#': 451, 'बा#': 194, 'खून#': 109, 'बहे#': 1, 'फे#': 1, 'रास्ते#': 242, 'मनों#': 53, 'फौ': 74, 'घेर#': 67, 'खे': 90, 'बू#': 35, 'लगाए#': 140, 'खरी': 61, 'दा#': 198, 'बनाता#': 318, 'शर्': 61, 'तें#': 53, 'नहर#': 97, 'पहरा#': 15, 'रोक#': 296, 'बुलाया#': 125, 'गुज': 137, 'प्या': 35, 'मांगा#': 24, 'इंकार#': 94, 'सोचा#': 102, 'टूट#': 171, 'जाएंगे#': 122, 'हमारी#': 224, 'सारी#': 271, 'माने#': 341, 'रात#': 522, 'अल्लाह#': 465, 'बाद': 39, 'मांग': 40, 'मेरा#': 175, 'मेरे#': 346, 'चाहे#': 255, 'नाना#': 104, 'बचा#': 181, '10#': 41, 'सुबह#': 235, 'जंग#': 58, 'लाखों#': 137, 'इतिहासकार#': 127, 'बचाने#': 220, 'अस': 8, 'गर#': 17, 'गले#': 136, 'वाला#': 1585, 'घोड़ों#': 81, 'पों#': 61, 'मोहम्मद#': 201, 'सिर#': 349, 'तल': 89, 'वार#': 166, 'श्रेणी#': 802, 'इस्रा': 5, 'वन्य#': 67, 'वनस्प': 49, 'जीव#': 530, 'तुओं#': 46, 'इसरा': 19, 'इल#': 62, 'तोष्': 19, 'उष्णकटिबंधीय#': 139, 'सीमा#': 959, 'मध्य#': 1489, 'सागर#': 332, 'गि': 122, 'स्तान#': 96, 'प्रजाति#': 176, 'सीरिया#': 109, 'भूरे#': 87, 'भालू#': 69, 'नुकसान#': 317, '२००#': 81, 'प्रकृति#': 669, 'भौगोलिक#': 220, 'जलवायु#': 217, 'स्तन': 89, 'धारियों#': 27, 'लेक्': 16, 'टिक#': 64, 'प्रजातियों#': 235, 'बंद#': 673, 'अफ्रीकी#': 192, 'गरीय#': 85, 'धारी#': 41, 'किस्म#': 127, 'हाल#': 511, 'खुराक#': 90, 'चीता#': 121, 'यान#': 7, 'हरी#': 9, 'आधुनिक#': 1118, 'पायी#': 158, 'बिल्ली#': 52, 'जोखिम#': 409, '10': 40, 'प्रजातियाँ#': 28, 'संक': 17, 'ग्रस्त#': 12, '2002#': 291, 'जीवित#': 349, 'शिकारी#': 55, 'तप्राय#': 28, 'चमगादड़#': 77, 'बाहर#': 1245, 'कीट#': 100, 'अवी': 8, 'शोधकर्ताओं#': 70, 'घाटी#': 306, 'सेना#': 1647, 'बल्': 20, 'तुर्क#': 67, 'अनियंत्रित#': 20, 'कानूनों#': 108, 'पशु#': 330, 'प्रजातियां#': 105, 'शताब्दी#': 952, 'शुरुआत#': 931, 'सफेद#': 295, 'रियाई#': 51, 'शेर#': 123, 'जंगली#': 214, 'पक्षियों#': 169, 'सरी': 3, 'चरों#': 11, 'प्रतिबंधित#': 94, 'सिवाय#': 72, 'मौसम#': 289, 'कीटों#': 74, 'जानवरों#': 175, 'हालाँकि#': 290, 'पैक#': 39, 'ग्रामीण#': 311, 'इलाकों#': 164, 'वन्य': 59, 'तू#': 60, 'खतरा#': 208, 'सन्दर्भ#': 244, 'यूनान#': 70, 'मूर्': 61, 'पू': 70, 'बहु': 56, 'दृश्य#': 507, 'ईश्वर#': 445, 'अवधारणा#': 282, 'इसपर#': 86, 'तान#': 47, 'करार#': 112, 'लुप्त#': 61, 'यूना': 23, 'अनुष्ठान#': 156, 'प्रथाओं#': 79, 'मिथ': 83, 'किं': 10, 'विद्वानों#': 375, 'सभ्यता#': 268, 'प्रकाश#': 718, 'डाला#': 326, 'मात्रा#': 1019, 'संग्रहीत#': 66, 'परो': 46, 'फू': 27, 'भि': 67, 'चि': 108, 'उत्पत्ति#': 288, 'िकाओं#': 12, 'प्राणियों#': 175, 'रोमांच#': 14, 'कथ': 1, 'मौखिक#': 147, 'काव्य#': 389, 'लाया#': 307, 'I': 23, 'd#': 43, 'महाकाव्य#': 123, 'प्राची': 78, 'नतम#': 60, 'जन#': 96, 'सिय': 2, 'आक्': 1, 'ख्यान#': 1, 'दिव्य#': 118, 'उत्तरा': 15, 'धिका': 1, '्रियों#': 1, 'मानवीय#': 177, 'संकट#': 185, 'उद्': 67, 'गम#': 126, 'लि#': 54, 'जानकारी#': 752, 'जनों#': 67, 'संरक्षित#': 117, 'गे': 100, 'कविताओं#': 115, 'लेनि': 4, 'स्टिक#': 4, 'रचनाओं#': 244, 'साम्राज्य#': 717, 'लू': 19, 'टार्': 9, 'P': 49, 'त्रा': 21, 'मिलते#': 466, 'हिन्दू#': 386, 'दिये#': 268, '्यू': 13, 'देवराज#': 19, 'नाइस': 2, 'क्रो': 2, 'डन#': 2, 'समकक्ष#': 84, 'गण#': 8, 'देवि': 5, '्रो': 2, 'इटी#': 2, 'अथ': 3, 'मीटर#': 602, 'पर्': 32, 'पूजा#': 552, 'पशु': 53, 'सांड#': 10, 'लिये#': 2615, 'बसूरत#': 15, 'संगे': 1, 'मर': 3, 'मरी#': 19, 'मंदिर#': 2192, 'लम्पिक#': 11, 'खेल#': 1056, 'मानते#': 594, 'पर्वत#': 316, 'बारह#': 178, 'लम्पि': 1, 'अन्': 34, 'तर्': 62, 'डिस्क#': 133, 'नक्रिप्': 5, 'तकनीक#': 402, 'अपठ': 4, 'कोड#': 261, 'सुरक्षित#': 398, 'रखती#': 155, 'धिकृत#': 18, 'डिक्रिप्': 12, 'क्रिप्': 75, 'सॉफ्टवेयर#': 345, 'हार्': 53, 'वेयर#': 65, 'डेटा#': 254, 'भंडारण#': 84, 'पहुंच#': 382, 'ऍ': 15, 'पूरे#': 897, 'ऑपरेटिंग#': 70, 'ंग#': 160, 'अनुक्रम#': 95, 'टेड#': 15, 'यने#': 50, 'पार': 60, 'दर्': 131, 'टाइम#': 112, 'फ्': 234, 'लाई#': 62, 'विधि#': 618, 'टवेयर#': 46, 'संदर्भित#': 216, 'स्वचालित#': 103, 'सहे': 3, 'जा#': 90, 'कुंजी#': 64, 'तुरंत#': 277, 'फाइ': 28, 'सुलभ#': 64, 'संपूर्ण#': 296, 'ल्यू': 22, 'भौतिक#': 376, 'ड्राइव#': 123, 'फाइल#': 1, 'पढ़ा#': 76, 'फ़ाइल#': 64, 'सामग्री#': 680, 'उपयोगकर्ता#': 152, 'ड्राइ': 83, 'वरों#': 60, 'स्थापक#': 12, 'एक्': 157, 'उपयोगकर्ताओं#': 84, 'लिके': 21, 'अनजान#': 25, 'कहला#': 2, 'लेता#': 489, 'कार्यान्वयन#': 123, 'इरा': 51, 'दे#': 91, 'चूंकि#': 314, 'बल#': 58, 'समाधान#': 288, 'संस्करणों#': 111, 'हमला': 34, 'कंप्यूटर#': 314, 'पहुँच#': 283, 'रों#': 133, 'देशिका#': 14, 'संशोधन#': 202, 'टाइ': 7, 'मस्टै': 1, 'आकार#': 828, 'ट्रस्टेड#': 1, 'र्म#': 10, 'मॉ': 82, 'ड्यू': 65, 'प्रो': 172, 'सर#': 62, 'मदर': 2, 'बोर्ड#': 345, 'एम्बेडेड#': 65, 'प्रमाणित#': 143, 'अद्वितीय#': 125, 'पित#': 50, 'पेट#': 168, 'हार्ड#': 56, 'बांध#': 153, 'विफल#': 178, 'जाएगी#': 193, 'रिक': 11, 'फायदा#': 78, 'हटा': 52, 'विफलता#': 107, 'बिंदु#': 286, 'गा#': 56, 'पुनर्': 50, 'प्राप्ति#': 307, 'बाजार#': 688, 'सुविधाओं#': 202, 'स्टो': 98, 'स्ट#': 105, 'फु': 25, 'पड़ता#': 762, 'छोड़': 53, 'वायरस#': 377, 'पुर#': 144, '\\u200d': 62, 'थान#': 4, 'चम्': 15, 'नदी#': 1267, 'बाएं#': 85, 'किनारे#': 381, 'मुख्यालय#': 374, 'सीमाओं#': 168, 'अवस्थित#': 80, 'राजमार्ग#': 201, 'आगरा#': 153, 'निकलता#': 121, 'एव': 37, 'बां': 33, 'निकट': 82, 'किमी#': 561, 'रै': 27, 'राजधानी#': 729, 'किलोमीटर#': 753, 'राज्य': 13, 'जयपुर#': 231, 'निकटतम#': 71, 'अड्डे#': 150, 'ग्वालियर#': 161, 'पत्थर#': 399, 'अधिकतर#': 370, 'इमारतों#': 101, 'पत्थरों#': 114, 'राजस्थान#': 389, 'अरा': 39, 'पर्व': 43, 'चल#': 57, 'मैदान#': 272, 'मिलन#': 80, 'चट्टा': 23, 'श्रृंख': 19, 'किले#': 341, 'झील#': 375, 'महल#': 389, 'पुराने#': 481, 'वि#': 11, 'वंशी#': 22, 'मरो': 4, 'रियासत#': 142, 'राजा': 11, 'विरु': 2, 'महाराणा#': 64, 'प्रारम्भ#': 225, 'भरतपुर#': 67, 'सिं': 14, 'धि': 36, 'अंग्रेज़#': 51, 'समझौते#': 254, 'जाट#': 134, 'आगया#': 2, 'मतों#': 46, 'नाग': 6, 'वंश#': 480, 'क्षे': 1, 'बाढ़#': 124, 'बचने#': 186, 'सामं': 71, '1949#': 94, 'राजा#': 2070, 'कुंद#': 5, 'गुफा#': 100, 'धमा': 3, 'दन#': 17, 'पहाड़ी#': 264, 'अंदर#': 400, 'मथुरा#': 113, 'वन#': 14, 'आक्रमण#': 482, 'श्रीकृष्ण#': 131, 'चले#': 549, 'पीछा#': 143, 'विष्ट#': 91, 'वहाँ#': 912, 'उत्तराखंड#': 79, 'मद्': 9, ',': 32, 'वर्णित#': 357, 'प्रसंग#': 106, 'उल्लेख#': 772, 'ंड': 44, 'स्वा': 48, 'मिन्': 1, 'सूर्य#': 591, 'प्रतिष्ठा': 1, 'हमें#': 365, 'विक्रम': 1, 'तिथि#': 149, 'शाखा#': 380, 'सूरज': 19, 'मल#': 23, 'पीछे#': 711, 'आजाद#': 86, 'कितने#': 91, 'जान#': 330, 'क़': 138, 'गांव#': 541, 'शही': 18, 'त्तर#': 60, 'परमार#': 35, 'चम#': 33, 'वाह#': 105, '1947#': 144, 'प्रजा': 5, 'कार्यकर्ता#': 121, 'एकत्रित#': 151, 'हुये#': 211, 'ंडा#': 26, 'हरा': 8, 'पेड़#': 297, 'रंगा#': 12, 'सभा': 14, 'ऊ#': 41, 'तत्कालीन#': 347, 'मजि': 27, 'उपा': 34, 'धी': 54, 'क्षक#': 77, 'दत्त#': 12, 'था': 15, 'आज': 1, 'रंगे#': 5, 'ंडे#': 25, 'तार': 22, 'ठाकुर#': 127, 'हियों#': 26, 'खड़े#': 201, 'हालत#': 117, 'इतने#': 207, 'गोली#': 166, 'मार#': 509, 'गिर': 22, 'चारों#': 450, 'मारो': 8, 'और#': 79, 'कारे#': 1, 'लगाने#': 357, 'शहा': 12, 'कांड#': 40, 'न्यौ': 3, 'हमारे#': 460, 'वीर#': 167, 'सपूत#': 2, 'साक्ष': 50, 'ी#': 114, 'पंडित#': 141, 'शर्मा#': 356, 'बताते#': 211, 'शारे#': 14, 'लियों#': 98, 'निशान#': 82, 'धु': 64, 'पड़े#': 225, 'दास#': 267, 'तल#': 106, 'सपू': 2, 'क्र#': 10, 'यह#': 900, 'वास्तुकला#': 145, 'खूबसूरत#': 163, 'शिव#': 549, 'ईं#': 41, 'कदम#': 285, 'महादेव#': 142, 'गुरु#': 481, 'शंकराचार्य#': 75, 'श्री#': 1162, 'स्वामी#': 437, 'सरस्वती#': 215, 'ेक#': 44, 'सरोवर#': 100, 'ताल': 1, 'तालाव#': 3, 'अत्यन्त#': 199, 'वंश': 34, 'असुर#': 38, 'भगवान#': 1157, 'कृष्ण#': 516, 'दान#': 448, 'पाकर#': 73, 'जगा#': 11, 'नजर#': 149, 'पड़ते#': 110, 'स्म#': 33, 'नके#': 1, 'मुगल#': 231, 'सम्राट#': 314, 'अकबर#': 323, 'करवाया#': 226, 'तीर्थों#': 32, 'भा': 78, 'तीर्थ#': 183, 'सुन्दर#': 170, 'ीक#': 3, 'तिकी#': 1, 'गोद#': 68, 'गहरे#': 145, 'जला': 54, 'शय#': 87, 'वास्तु#': 51, 'गृह#': 196, 'राजाओं#': 1, 'प्रतिवर्ष#': 115, 'पद#': 24, 'चमी#': 36, 'मेला#': 154, 'श्रद्धालु#': 67, 'स्नान#': 172, 'क्रिया#': 635, 'रविवार#': 97, 'कान#': 110, 'बन्द#': 84, 'स्या#': 26, 'ः': 62, 'परिक्रमा#': 94, 'लगाते#': 97, 'पूर्णिमा#': 92, 'सायंकाल#': 10, 'सरो': 7, 'महा#': 46, 'भक्त#': 160, 'किला#': 175, 'खारों#': 1, 'नरेश#': 100, 'शे': 175, 'सूरी': 1, 'सामना#': 449, 'ढ़#': 38, 'रेल्': 7, 'सरानी#': 1, 'वनी#': 51, 'आँ': 137, 'रिक्': 2, 'महाराज#': 288, '६': 35, 'n#': 49, '16': 64, 'मन्दिर#': 341, 'अवतार#': 143, 'युक्त#': 404, 'मर्यादा': 1, 'पुरु': 1, 'त्तम#': 2, 'मक#': 1, 'ष्ट': 69, 'हारी#': 20, 'ग्रह#': 116, 'मुख#': 6, 'मूर्ति#': 259, 'चोरी#': 98, 'तरराष्ट्रीय#': 24, 'ंगु': 10, 'केन्द्रीय#': 192, 'भूमिका#': 1280, 'वार': 2, 'आराध्य#': 23, 'प्रभु#': 103, 'दक्षि': 4, 'णा': 63, 'हनुमान#': 122, 'प्रतिमा#': 214, 'हिका#': 8, 'आती#': 469, 'हजहां#': 24, 'बनावट#': 106, 'पर्यटकों#': 195, 'आकर्षित#': 283, 'नपुर#': 6, 'बताया#': 843, 'अभयारण्य#': 109, 'शासक': 1, 'पुराना#': 245, 'क्षेत्रफल#': 185, 'करी': 8, 'बन#': 18, 'वनविहार#': 2, 'ध्य#': 32, 'पठार#': 154, 'तालाब#': 189, 'मुग़ल#': 78, 'बादशाह#': 132, '17#': 3, 'देखने#': 577, 'पर्यटक#': 164, 'होटल#': 207, 'वर्तित#': 3, 'आकर्षण#': 245, 'सबदार#': 5, 'बनवाया#': 134, 'गर': 31, 'च्छ#': 50, 'मछ': 58, 'देखी#': 250, 'पक्षी#': 230, 'जल': 11, 'कौ': 21, 'ख#': 207, 'सवारी#': 108, 'लार्ड#': 27, 'लेक#': 20, 'राव#': 208, 'गार्डन#': 70, 'पात#': 36, 'कानपुर#': 97, 'जगहों#': 117, 'ऊंचाई#': 269, '३००#': 66, 'फुट#': 294, 'मह': 4, 'ंकाल#': 1, 'कृषि#': 608, 'ऊ': 6, 'स्बे#': 67, 'रोड#': 254, 'स्थापत्य': 4, 'अलौ': 1, 'किकता#': 5, 'टॉवर#': 73, 'घं': 4, '2011#': 445, '20': 2, 'ज़िले#': 116, 'बढ़': 71, 'तरी#': 12, '0': 38, 'औसत#': 476, 'घनत्व#': 161, 'ंगा': 34, 'साक्षरता#': 127, 'नजदीकी#': 64, 'र्ट#': 96, 'मुम्बई#': 119, 'H': 16, 'पर#': 73, 'ब्रहान#': 2, '१९९': 119, 'अयोध्या#': 91, 'विवा': 110, 'दित#': 143, 'पड़': 124, 'ताल#': 65, 'गठित#': 137, 'कार्यकाल#': 147, 'लंबा#': 167, 'न्यायालय#': 364, 'सेवानिवृत्त#': 91, 'जिन्हें#': 757, 'दिसम्बर#': 374, 'ये#': 287, 'फैले#': 121, 'सौंपा#': 95, 'पेश#': 454, 'करनी#': 257, 'ताली': 15, 'बढ़ाया#': 134, 'अंततः#': 340, '२००९#': 111, 'नवम्बर#': 328, 'हिस्से#': 506, 'हाथ#': 712, 'आयोगों#': 11, 'खर्च#': 256, 'सूत्रों#': 123, 'इंड': 30, 'एशि': 51, 'न्यू': 179, 'सर्विस#': 81, 'सने#': 81, 'गिरा': 23, 'महत्वपूर्ण#': 1849, 'अदा#': 71, 'करेगा#': 374, 'क्यों#': 270, 'नियुक्ति#': 158, 'सप्ताह#': 354, 'लने#': 135, 'रक्षा#': 602, 'आखिरी#': 160, 'कल्याण#': 238, 'नवाई#': 59, 'बर्': 125, 'स्वर्गीय#': 39, 'जोशी#': 105, 'मुलायम#': 65, 'यादव#': 159, 'अधिकारियों#': 367, 'बयान#': 172, 'अधिकारी': 14, 'अधी': 76, 'राय#': 298, 'निय': 12, 'अने': 5, 'चिन्': 95, 'कहिंज#': 1, 'सक': 25, 'भारो': 22, 'तो': 40, 'लक#': 125, 'कोच#': 86, 'श्रीमती#': 101, 'मनरा': 7, 'महि': 68, 'कार्यो#': 42, 'च#': 25, 'चार्या#': 1, 'पुरस्कार#': 962, 'खिलाड़ी#': 298, 'ज़िकार#': 1, 'स्मरण#': 85, 'मान्य#': 95, 'महे': 24, 'लक्ष्मी#': 146, 'तको': 2, 'विक्रम#': 130, 'कमला#': 61, 'छोटी#': 718, 'राजकीय#': 116, 'बालिका#': 65, 'इंटर#': 51, 'उत्तीर्ण#': 81, 'स्ना#': 1, 'माहा': 1, 'लीय#': 2, 'एथ': 13, 'टिक्स#': 13, 'फेंक#': 68, 'प्रतियोगिताओं#': 81, 'खिताब#': 177, 'संपन्न#': 174, 'प्रतियोगिता#': 409, 'सिल्वर#': 89, 'पदक#': 219, 'बचपन#': 243, 'साहस#': 68, 'कर्म': 3, 'ठ': 74, 'भरी#': 135, 'ंकने#': 41, 'सैनिक#': 363, 'मदद#': 949, 'तीं#': 95, 'जिसमे#': 320, '१९८': 120, 'खेलों#': 251, 'स्वर्ण#': 228, 'रजत#': 74, 'कां': 69, 'स्य#': 108, 'कुशल#': 171, 'गौरव#': 105, 'स्पोर्ट्स#': 72, 'टे#': 94, 'नौकरी#': 211, 'मुकाम#': 16, 'पहुँचने#': 125, 'दीवान#': 68, '३#': 65, 'चोट#': 165, 'शार': 1, 'परे': 15, 'शानियों#': 15, 'छोड़ने#': 192, 'स्व': 5, 'स्थ्य#': 5, 'बिंद#': 6, 'लखनऊ#': 185, 'प्रारंभ#': 526, 'निर्देशन#': 225, 'लन#': 135, 'महीन#': 26, 'किलोग्राम#': 74, 'वजन#': 195, 'उठाकर#': 65, 'प्र#': 49, 'नारायण#': 190, '२००': 55, 'चर्या#': 1, 'असंख्य#': 70, 'ग़री': 72, 'मौका#': 161, 'पाता#': 209, 'खिलाड़': 3, 'यो#': 10, 'उन्होनें#': 74, 'कड़ी#': 206, 'नत#': 108, 'लगन#': 29, 'क्री': 32, 'चे#': 163, 'खेत#': 101, 'आद': 90, 'शारीरिक#': 432, 'प्रतिभा#': 179, 'दें#': 211, 'पहाड़#': 107, 'श्य': 1, 'नया#': 551, 'सेवार्': 1, 'नवीन#': 225, 'खिलाड़ियों#': 141, 'प्रशिक्षण#': 554, 'भारत': 7, 'वासी#': 17, 'निवासी#': 213, 'भाव#': 372, 'गर्': 95, 'महसूस#': 317, 'सफ़ि': 13, 'यात#': 22, 'पंजाब#': 285, 'पंजाबी#': 99, 'लेखिका#': 35, 'कहानी#': 690, 'लिख': 26, 'नारी': 53, 'ज़रि': 79, 'रतों#': 75, 'आवाज़#': 79, 'लंद#': 15, 'पाकि': 1, 'मार्': 64, 'चित्रण#': 226, 'संबर#': 1, 'सला': 36, 'वालि': 19, 'तरि': 1, 'दिकी#': 1, 'विश्विध्या': 1, 'लाहौर#': 165, 'फ़ारसी#': 129, 'उच्चतर#': 67, 'विद्या#': 186, 'जानी#': 226, 'पहि': 5, 'ख्': 20, 'जुड़#': 103, 'अध्यापन#': 106, 'लिखना#': 77, 'नज़': 3, 'अख': 23, 'बारों#': 48, 'सलों#': 6, 'अखबार#': 87, 'कहानियों#': 129, 'दुःख#': 81, 'प्रका': 5, 'कहानियाँ#': 115, 'अख़': 25, 'सराहना#': 80, 'जल्दी#': 210, 'ग़ज़ल#': 73, 'आलोचक#': 95, 'यरी#': 46, 'इंग': 46, 'सल#': 54, 'eb': 4, 'गरम#': 100, 'कविता': 27, 'उपर#': 35, 'कील#': 14, 'वह#': 157, 'समझ': 112, 'कि#': 4, 'मजबू': 25, 'लखिलाना#': 1, 'दिखा': 12, 'दिखाई#': 855, 'देती#': 755, 'ठो': 3, 'चलती#': 200, 'पैरों#': 110, 'बूत#': 10, 'ंदा#': 29, 'गह': 3, 'कहि': 2, 'द्द#': 3, 'दरिया#': 16, 'उल्': 27, 'सूरज#': 117, 'रहना#': 205, 'देखो': 35, 'मने#': 48, 'तुम्हें#': 123, 'सह': 40, 'धमाल#': 7, 'D': 62, 'ha': 99, 'M': 19, 'संचा': 1, 'लिका#': 1, 'बेह': 1, 'जैन#': 342, 'खंड#': 269, 'G': 9, 'ch': 39, 'सीटों#': 101, 'खाली#': 129, 'j': 11, 'नाट': 2, 'कहै': 2, 'सीट#': 115, 'cha': 3, 'शासनकाल#': 171, 'तारू': 23, 'राजवंश#': 215, 'विज्ञापन#': 285, 'w': 90, 'C': 28, 'han': 6, 'बनवासी#': 2, 'मद#': 6, 'th': 66, 'देखरेख#': 78, 'tha': 1, 'शिलालेख#': 77, '18#': 5, 'हार#': 392, 'शंगा': 8, 'उत्तरी#': 883, 'chan': 14, 'समर्थित#': 81, 'U': 1, 'itt': 4, 'शाखाओं#': 154, 'ष्यों#': 53, 'तारी': 16, 'खों#': 16, 'अभिक': 5, 'खंडों#': 46, 'लता#': 198, 'भिक्ष': 30, 'ुओं#': 74, 'असहमति#': 33, 'ति#': 159, 'स्तंभ#': 157, 'hal': 1, 'har': 3, 'वापस#': 710, 'सुर#': 18, 'कश्यप#': 90, 'पुत्र#': 988, 'चि#': 2, 'नव#': 44, 'ज्योतिष#': 104, 'वास्तु': 5, 'त्यराज#': 3, 'पर्वन्': 1, 'यज्ञ#': 166, 'अवसर#': 515, 'लक्षण#': 487, 'सभागृह#': 2, 'अद्भुत#': 138, 'ल्प': 23, 'नियाँ#': 24, 'रं': 21, 'जिनसे#': 202, 'न्या': 8, 'शंकर#': 237, 'असुरों#': 27, 'नाश#': 84, 'अमृतकुंड#': 1, 'किंतु#': 776, 'विष्णु#': 359, 'पुरा': 4, 'इंद्र#': 91, 'इसने#': 461, 'पराजित#': 194, 'तपस्या#': 122, 'माया#': 85, 'लीं#': 22, 'वेश#': 38, 'त्री#': 31, 'असली#': 141, 'प्रकट#': 453, 'अभय': 2, 'देकर#': 335, 'विद्याओं#': 16, 'पुत्री#': 195, 'आदि': 7, 'पर्व#': 12, '19': 3, 'तक्षक#': 7, 'भागा#': 8, 'चक्र#': 381, 'अर्जुन#': 192, 'बदले#': 237, 'युधिष्ठिर#': 67, 'भव#': 33, 'देखकर#': 290, 'दुर्यो': 44, 'भावना#': 382, 'शिवजी#': 66, 'राक्षस#': 68, 'ंत#': 81, 'वजी': 4, 'भु': 75, 'प्रसन्न#': 130, 'मनसे#': 1, 'भाव': 22, 'अन्या': 18, 'न्य#': 37, 'ंको#': 13, 'प्रणा': 45, 'चर': 38, 'नव': 4, 'देखा#': 1172, 'स्तु': 39, 'वनको': 1, 'सुनकर#': 167, 'परमेश्वर#': 82, 'आदर': 1, 'बोले#': 94, 'मैं': 5, 'माँग#': 132, 'इस': 1, 'मनकी#': 1, 'करू': 23, 'मारजी#': 3, 'मंग': 6, 'नको#': 1, 'ष्ठ': 2, 'अं': 77, 'म्र#': 18, 'प्रभु': 18, 'मस्': 33, 'बोला#': 76, 'आप#': 23, 'मुझ': 27, 'मुझे#': 395, 'सदा': 26, 'मित्रता#': 71, 'रखें#': 51, 'ंकी#': 8, 'उपेक्षा#': 64, 'रहूँ#': 2, 'आसुर#': 5, 'उदय#': 181, 'आपके': 1, 'तल्': 1, 'लीन#': 54, 'रहकर#': 116, 'निर्भय#': 9, 'सबके#': 80, 'सल': 4, 'परमे': 1, 'प्रार्थना#': 249, 'विकार#': 177, 'अभी': 1, 'आज्ञा': 3, 'अप': 71, 'लोक': 31, 'स्वर्': 5, 'कट्य#': 7, 'यने': 1, 'महात्मा#': 245, 'शंकर': 1, 'न्य': 1, 'फलों#': 121, 'बोलते#': 83, 'ंगी': 2, 'इंडिका#': 8, 'आमों#': 3, 'उपमहाद्वीप#': 92, 'मिलती#': 598, 'धीरे#': 800, 'लगी#': 544, 'बांग्लादेश#': 230, 'दर्जा#': 193, 'हजार#': 308, 'चौथी#': 114, 'सवीं#': 44, 'ब्राजील#': 136, 'मू': 88, 'इंडी': 49, 'मेक्सिको#': 97, 'आम्र': 1, 'मराठी#': 136, 'बंगाली#': 134, 'मलयालम#': 90, 'मान्न#': 1, 'इटली#': 347, 'थाईलैंड#': 65, 'उत्पादक#': 108, 'साधार': 1, 'ऊंचा#': 74, 'साधारण#': 385, 'बहार#': 24, 'सें': 3, 'सार': 56, 'वार्षिक#': 283, 'ऋतु#': 178, 'समाप्ति#': 155, 'भार#': 417, 'फलने#': 9, 'निदेशक#': 206, 'तत्त्व#': 99, 'कर्तव्य#': 107, 'नागरिकों#': 259, 'दाय': 39, 'त्वों#': 77, 'कर्तव्यों#': 70, 'अनुच्छे': 5, 'आचार#': 77, 'विधेयक#': 128, 'बुनियादी#': 267, 'परिभाषित#': 283, 'III#': 95, 'नस्ल#': 74, 'भेद#': 241, 'धों#': 32, 'अदा': 42, 'वर्त': 14, 'सिद्धांत#': 907, 'शानि': 2, 'प्रावधान#': 148, 'जिनको#': 74, 'पारित#': 238, 'आशा#': 163, 'एकता#': 101, 'नैतिक#': 230, 'कानूनी#': 305, 'संघर्ष#': 538, 'मनुष्य#': 692, 'प्रेरित#': 411, 'प्रजा#': 101, '1917#': 57, '1919#': 84, 'अपना': 35, 'ल्पों#': 68, 'मांगों#': 30, 'भारतीयों#': 124, 'बरा': 45, 'मुकद': 16, 'राजनैतिक#': 170, 'हथियार#': 152, 'अनुभवों#': 91, 'असं': 7, 'सफोर्ड#': 6, 'मांगे#': 19, 'दृष्टिकोण#': 480, 'अंग्रेजों#': 287, 'सुनिश्चित#': 281, '1925#': 64, 'सेंट#': 351, 'राष्ट्रमंडल#': 72, 'अभिव्यक्ति#': 200, 'स्थलों#': 228, '192': 114, 'उत्पीड़': 67, 'स्वराज#': 36, 'संकल्प#': 150, 'सद': 24, 'स्य': 26, 'गारंटी#': 84, 'प्रावधानों#': 67, 'ज्यों#': 43, 'त्यों#': 65, 'करा': 121, 'ची#': 159, 'अधिवेशन#': 76, 'शोषण#': 174, 'घोषित#': 509, 'उद्देश्यों#': 150, 'समर्पित#': 306, 'प्रस्तावित#': 171, 'स्वामित्व#': 228, 'निषेध#': 86, 'सार्वभौ': 81, 'मता': 41, 'धिकार#': 130, 'त्यु': 15, 'दंड#': 130, 'आवा': 66, 'गमन#': 71, 'जिम्मेदारी#': 128, 'डाली#': 77, 'जवाद#': 59, 'बढ़ते#': 186, 'चिह्न#': 111, '1930#': 136, 'समाजवादी#': 99, 'त्ति#': 84, 'अल्पसंख्यक#': 95, '1945#': 78, 'बहादुर#': 126, 'सप्रू#': 11, 'निर्धारित#': 601, 'राज#': 478, 'नेट#': 80, 'मिशन#': 330, 'हस्ता': 56, 'ंतरण#': 56, 'प्रारूप#': 141, 'प्रांतों#': 99, 'रिया': 40, 'प्रतिनिधियों#': 77, 'कार्यवाही#': 83, 'नवंबर#': 339, 'मुताबिक#': 200, 'आदिवासी#': 183, 'सलाह#': 274, 'सलाहकार#': 162, 'बहस#': 147, 'चर्': 33, '1948#': 144, 'लेखन#': 425, 'मानवा': 47, 'गतिविधियों#': 360, 'निर्ण': 39, 'उपदेशों#': 17, 'आयरिश#': 73, 'विद्यमान#': 173, '1976#': 109, 'निहित#': 200, 'अतिक्रमण#': 24, 'दायित्व#': 127, 'डालते#': 73, 'विरुद्ध#': 325, 'संपत्ति#': 351, 'तृतीय#': 165, 'हटा#': 214, 'लोकतांत्रिक#': 94, 'पालिका#': 110, 'शक्तियों#': 208, 'उल्लंघन#': 153, 'न्याया': 28, 'त्य#': 72, 'असंवैधानिक#': 11, 'शून्य#': 139, 'सकें#': 280, 'परिभाषा#': 235, 'कं': 68, 'धिकारियों#': 6, 'एजेंसियों#': 70, 'निजी#': 529, 'राष्ट्री': 66, 'गरिकों#': 1, '1973#': 130, 'नंद#': 39, 'बनाम#': 76, '1967#': 102, 'रद्द#': 101, 'घान#': 1, 'सदन#': 201, 'तिहाई#': 124, 'बहुमत#': 131, 'अन्यथा#': 130, 'संशोधित#': 170, 'आपात#': 36, 'अस्थाई#': 30, 'बित#': 108, 'समुचित#': 95, 'वहन#': 39, 'अनुशासन#': 92, 'रखा': 60, 'सेनाओं#': 147, 'अनुप्रयोग#': 148, 'गारं': 2, 'सामूहिक#': 165, 'संरक्षण#': 455, 'नता#': 148, 'वैध#': 150, 'प्रयोजनों#': 66, 'भेदन#': 21, 'प्रयोजन#': 85, 'संगत#': 136, 'मूल': 2, 'पूर्णतः#': 78, 'कोष#': 132, 'मनोरंजन#': 162, 'शुल्क#': 271, 'रोका#': 101, 'आव': 28, 'पर्याप्त#': 483, 'लाभार्थ#': 4, 'सकारात्मक#': 225, 'उपायों#': 102, 'अस्पृ': 2, 'श्यता#': 2, 'अपराध#': 307, 'अधिनियम#': 520, 'अधि': 88, 'नियमित#': 428, 'विशि': 56, 'पद': 64, 'समाप्त#': 878, 'रत्न#': 73, 'पुरस्कारों#': 81, 'भारतरत्न#': 5, 'लंकरण#': 37, 'तकर्ता#': 1, 'निर्माताओं#': 154, 'व्यक्ति': 24, 'गं#': 1, 'स्वतं': 13, 'हथियारों#': 108, 'अपनाने#': 93, 'हें#': 5, 'बदलते#': 76, 'हित#': 274, 'सशक्त#': 88, 'गल#': 101, 'गी#': 58, 'कठि': 8, 'नाइ': 8, 'होंगी#': 71, 'बचा': 56, 'नका#': 6, 'विधाई#': 1, 'प्रभावी#': 338, 'प्री': 63, 'कोर्ट#': 249, 'अस्तित्व#': 435, 'गरि': 32, 'पहलू#': 119, 'ख्याओं#': 23, 'आजी': 31, 'विका#': 31, 'स्वच्छ#': 105, 'अच्छा#': 534, 'वरित#': 1, 'कैद#': 70, 'दोष': 9, 'सिद्धि#': 95, 'आत्म#': 150, 'ारो': 7, 'गिरफ्तार#': 181, 'गिरफ्': 49, 'तारी#': 49, 'वकील#': 113, 'घंटे#': 353, 'रक्षक#': 79, 'निवार': 38, 'निरोध#': 43, 'अधिकृत#': 86, 'शंकाओं#': 9, 'संशोध': 22, 'अनि': 16, 'च्छा#': 17, 'अनुमोदन#': 79, 'मिले#': 366, 'अभ्या': 12, 'कमजोर#': 189, 'पारिश्रमिक#': 40, 'कानू': 11, 'कदार#': 33, 'भर्ती#': 195, 'सामुदायिक#': 210, 'खतरनाक#': 105, 'विनियमन#': 65, '1986#': 121, 'श्रमिक#': 99, 'श्रमिकों#': 119, 'वास#': 39, 'स्थ': 84, 'प्रचार#': 388, 'उपाय#': 218, 'धर्मांतरण#': 12, 'संप्र': 36, 'दायों#': 36, 'मामलों#': 569, 'धर्मार्थ#': 35, 'संस्था': 52, 'अधिग्रहण#': 195, 'जुड़ी#': 224, 'गतिविधि#': 180, 'संस्था#': 389, 'तपोषित#': 20, 'कृति#': 196, 'सांस्कृतिक#': 575, 'भाष': 139, 'ाई#': 63, 'लिपि#': 205, 'बाह्य#': 168, 'थो': 5, 'संबं': 2, 'धिक#': 62, 'चलाने#': 209, 'चलाया#': 178, 'प्रशासित#': 37, 'उठाया#': 151, 'भले#': 136, 'संख्य#': 5, 'शर्तों#': 93, 'नामित#': 169, 'प्रत्य': 9, 'परमा': 46, 'पृ': 2, 'it#': 1, 'लिक#': 3, 'विशेषाधिकार#': 67, 'आवजे#': 10, 'स्वप्रेरणा#': 1, 'याचिका#': 74, 'प्रस्ता': 33, 'वना#': 33, 'लोकतंत्र#': 116, 'मार्गदर्शन#': 121, 'परिक': 12, 'ल्पित#': 72, 'न्यायो': 13, 'वर्गीकृत#': 180, 'चाहि': 3, 'ï': 1, 'बावजूद#': 598, 'मानदंड#': 74, 'माप#': 142, 'अदालत#': 199, 'डालता#': 90, 'कल्या': 34, 'प्रोत्साहन#': 124, 'असमानता#': 40, 'लड़ने#': 115, 'नीतियों#': 151, 'पुरुषों#': 336, 'वेतन#': 118, 'साधनों#': 164, 'संकें': 1, 'कमी#': 726, 'लाना#': 149, 'लाकर#': 100, 'समता': 15, 'चिह्': 38, 'खनिज#': 132, 'न्याय': 68, 'तृत्व#': 17, 'राहत#': 87, 'उद्योगों#': 192, 'लूम#': 3, 'अयोग्य': 2, 'करवा': 92, 'मिलें#': 20, 'जनजातियों#': 86, 'उठाने#': 117, 'संगतियों#': 14, 'गरिक#': 1, 'प्रोत्साहित#': 248, 'मार': 130, 'हानिकारक#': 126, 'पेय#': 127, 'दवाओं#': 175, 'सेवन#': 155, 'आंशिक#': 195, 'रियों#': 2, 'ध#': 46, 'तरीके#': 488, 'संगठित#': 164, 'वनों#': 111, 'महत्त्व#': 119, 'वस्तुओं#': 454, 'अंतरराष्ट्रीय#': 446, 'शांति#': 344, 'संवर्धन#': 97, 'तथ': 2, 'स्वर्ण': 8, 'ग्यारह#': 59, 'बढ़ाई#': 34, 'भावक#': 25, 'वार्ड#': 38, 'कर्त': 2, 'व्य': 4, 'मिश्रित#': 260, 'चारे#': 19, 'हिंसा#': 177, 'बाध्य#': 105, 'अनुपा': 2, 'लेख': 30, 'पत्रों#': 1, 'वातावरण#': 382, 'कार्यरत#': 154, 'घरेलू#': 344, 'आलोचकों#': 174, 'वक्': 10, 'ठ#': 80, 'भ्रष्टाचार#': 91, '1990#': 275, 'अभिया': 54, 'त्रिकी#': 55, '2003#': 347, 'रुप': 53, 'कड़े#': 45, 'ंडों#': 47, '1995#': 183, 'अत्याचार#': 75, 'निवारण#': 68, 'उपभोक्ता#': 141, 'उपभोक्ताओं#': 79, 'बेहतर#': 441, 'शिकाय': 26, 'सरल#': 334, 'त्वरित#': 59, 'स्ता#': 79, 'आवजा#': 22, 'यूनिवर्': 35, 'गरी': 62, 'लाभदायक#': 68, 'कार्यान्': 63, 'वित#': 68, 'निर्वा': 3, 'ग्राम#': 412, 'कें': 66, 'शासित#': 7, 'प्रदेशों#': 170, 'आधी#': 99, 'जम्मू#': 228, 'मीर#': 53, 'नागा': 18, 'विदेश#': 313, 'कायम#': 148, 'अभियानों#': 74, 'दलों#': 119, 'तूफान#': 67, 'गुजारा#': 18, 'त्ता#': 13, 'फैसले#': 133, 'प्रतिक्रिया#': 428, 'आक्रो': 21, 'फैसला#': 333, 'धता#': 108, '1971#': 134, 'अवैध#': 168, 'मूल्य': 1, 'ित#': 5, 'ठहराया#': 111, 'ईरान#': 253, 'अर्थात#': 405, 'अफगानिस्तान#': 141, 'मदार#': 12, 'दरगा': 70, 'सारे#': 518, 'कोने#': 96, 'भारतवर्ष#': 67, 'वेद#': 29, 'यथ': 26, '\\u200b': 4, 'सल्तनत#': 108, 'यद#': 63, 'सूरी#': 65, 'तुर्की#': 175, 'अफगा': 8, 'पठान#': 13, 'सम्रा': 41, 'हमि': 2, 'पड़ोसी#': 122, 'मुगलों#': 94, 'दौर#': 340, 'उपाधि#': 300, 'धारण#': 316, 'तरजी': 6, 'नींव#': 137, 'जोड़ा#': 279, 'गद्दी#': 83, 'आराम#': 158, 'बैठा#': 91, 'अल्': 29, 'सिंहासन#': 98, 'विराजमान#': 71, 'सुल्': 23, 'रज़ि': 4, 'बहराम#': 4, 'गद्': 6, 'शीन#': 6, 'आखिर#': 67, 'महमू': 58, 'ईरानी#': 111, 'गवर्नर#': 159, 'ग्या': 1, 'ग़': 73, 'निकु': 1, 'सियार#': 1, 'खरी#': 26, 'बहा': 1, 'सूफी#': 72, 'लाह#': 12, 'वनाम#': 1, 'धार#': 67, 'शरी': 9, 'जंगलों#': 166, 'पहाड़ों#': 85, 'आबादियों#': 10, 'समाधि#': 103, '्य': 3, 'वियों#': 1, 'तपन्न#': 6, 'अमीर#': 147, 'जरू': 52, 'मंद#': 4, 'इलाके#': 156, 'चाह': 20, 'खाने#': 265, 'पीने#': 136, 'जें#': 60, 'जाकर#': 278, 'भूख#': 66, 'वालों#': 343, 'जाया#': 221, 'हिन्द#': 87, 'नाते#': 90, 'तीय#': 30, 'यानि#': 147, 'यही#': 721, 'ख़ा': 24, 'शिला': 28, 'लेखों#': 59, 'त्रीय#': 5, 'बराबर#': 397, 'घट': 43, 'सलन#': 46, 'रहित#': 127, 'सम्राज#': 2, 'महाराजा#': 266, 'महाराजा': 5, 'शह': 1, 'स्तू': 1, 'कुमार#': 363, 'कुमारी#': 81, 'शहज़ा': 10, 'राजकुमार#': 235, 'राजकुमारी#': 103, 'रज़ा': 1, 'ईस': 1, 'जैसा#': 690, 'नवजा': 58, 'नज़रि': 11, 'क्षत्रि': 1, 'नू#': 30, 'जिकि': 31, 'अफ़': 13, 'निस्तान#': 13, 'गुजरात#': 227, 'ंगारजी#': 1, 'निर्मित#': 707, 'आइना#': 1, 'स्थापत्य#': 70, 'नमूना#': 94, 'संग्रहालय#': 364, 'भयंकर#': 100, 'भूकंप#': 64, 'समुं': 3, 'हिल#': 93, 'हमी': 11, 'सार#': 152, 'घिरा#': 136, 'कपास#': 76, 'मवेशियों#': 83, 'व्यापारिक#': 186, 'प्पे#': 5, 'पाई#': 26, 'चाँदी#': 70, 'सामान#': 205, 'च्छ': 2, 'सौर#': 202, 'शहरों#': 383, 'ट्रेन#': 206, 'अहमदाबाद#': 87, 'महान': 76, 'गरों#': 19, 'अड्डा#': 147, 'स्टै': 51, 'निगम#': 197, '्रेड#': 3, 'हाइ': 16, 'यूनिवर्सिटी#': 175, 'जिनमे#': 105, 'मजी#': 11, 'वजी#': 1, 'महाविद्यालय#': 159, 'क्कर#': 79, 'मर्स#': 19, 'समेत#': 163, 'घा#': 13, 'कामो': 2, 'गांवों#': 107, 'कलाकार#': 329, 'बेचने#': 103, 'नागोर#': 1, 'हज': 1, 'जम्': 1, 'मानकु': 2, 'भारा': 1, 'आंड#': 1, 'तरा#': 29, 'नार': 1, 'सरा#': 1, 'ताल्': 11, 'वेक#': 2, 'किताब#': 245, 'सच्': 104, 'शि#': 1, 'अध्य': 1, '्यनरत#': 1, 'काले#': 299, 'रिंग#': 112, 'स्रोतों#': 152, 'आपराधिक#': 105, 'दिखाया#': 364, 'लेखांकन#': 143, 'धो': 61, 'जरिये#': 108, 'जटिल#': 240, 'तकनीकों#': 149, 'विनियामक#': 21, 'प्राधिकरण#': 84, '1996#': 195, 'मुद्रा#': 535, 'वैश्विक#': 298, 'मुकाबला#': 121, 'अंत': 1, 'निकाय#': 121, 'मिलाकर#': 266, 'असंभव#': 94, 'आंक': 38, 'स्वीकृति#': 193, 'असमर्थ#': 115, 'अरबों#': 86, 'चिंता#': 224, 'निका': 152, 'पकड़ने#': 107, 'प्रतिष्ठा#': 168, 'लेनदेन#': 72, 'चरणों#': 187, 'माध्य': 31, 'समेंट#': 9, 'वरण#': 47, 'लेन': 17, 'यरिंग#': 1, 'शियों#': 25, 'अपरि': 32, 'हार्य#': 32, 'छोड़ा#': 96, 'नकदी#': 36, 'रूपों#': 264, 'तरीकों#': 223, 'प्रकारों#': 90, 'बैंक#': 763, 'स्ट्र': 3, 'चरिंग#': 2, 'विनिमय#': 130, 'हरा#': 181, 'लान#': 27, 'विधे': 1, 'A': 30, 'खु': 79, 'इकाई#': 300, 'उत्तरार्': 41, 'द्ध#': 89, 'लती#': 36, 'एंटी#': 52, 'ड्रिंग#': 11, 'ड्स#': 2, 'अखंड': 19, 'समझौ': 41, 'अर्': 143, 'स्वायत्त#': 80, 'प्रशासकीय#': 21, 'सेंट्रल#': 101, 'अफगान#': 55, 'रखना#': 283, 'आतंकवादी#': 78, 'http': 12, 'web#': 189, 'archive#': 94, 'org#': 137, '201': 1, 'http#': 87, 'www#': 96, 'इकट्ठा#': 117, 'संदिग्ध#': 80, 'मांकित#': 1, 'नकद#': 51, 'सूच': 65, 'नाओं#': 87, 'डेटाबेस#': 70, 'मिलकर#': 386, 'गै': 54, 'मुकदमा#': 116, 'क्षों#': 13, 'कार्यों#': 604, 'विनिय': 28, 'प्रत्यु': 18, 'II#': 15, 'नियंत्रित#': 384, 'प्रत्यक्ष#': 326, 'अप्रत्यक्ष#': 71, 'पाना#': 82, 'इस्ते': 1, 'बैंकर#': 8, 'निर्देश#': 178, '200': 8, '/': 6, 'बैंकों#': 133, 'एस्टे': 30, 'एजें': 32, 'कंपनियों#': 322, '000#': 5, 'यूरो#': 71, 'निर्देशित#': 252, 'मूल्य#': 642, 'रिकॉर्ड्स#': 72, 'उल्लिखित#': 71, 'गतिविधि': 44, 'पोरेट#': 18, 'शेयर#': 227, 'नियंत्रण#': 831, 'विनियमित#': 52, 'बैंकिंग#': 159, 'जिनके#': 515, 'संदेह#': 147, 'नराशि#': 38, 'संचालन#': 375, 'दायरे#': 86, 'आयी#': 111, 'मौ': 133, 'द्रिक#': 34, 'स्वरुप#': 86, 'जनशील#': 1, 'आचरण#': 106, 'धान#': 30, 'कारावास#': 77, 'माध्यमिक#': 137, 'विनियम#': 26, 'लेखा': 12, 'ग्राहक#': 192, 'देनी#': 65, 'विशेषा': 1, 'पेशे': 41, 'वरा': 3, 'खुलासा#': 86, 'सोसायटी#': 120, 'अनुमो': 51, 'जमा#': 240, 'तरणों#': 1, 'लाभों#': 45, 'स्पेन#': 246, 'सांडों#': 2, ',000#': 105, 'दर्शाती#': 67, 'सितम्बर#': 270, '186': 140, 'आधा#': 105, 'चौथाई#': 53, 'रिपोर्': 80, 'ब्यूरो#': 65, 'ंज#': 6, 'महारानी#': 92, 'साहि': 10, 'पंजीकृत#': 103, 'परिवर्तक#': 11, 'स्टर्': 30, 'यूनियन#': 102, 'अनुपालन#': 57, 'उपयोगिता#': 81, 'बांट#': 15, 'निरो': 9, 'नियामक#': 85, 'क्रे': 5, 'नाइटेड#': 54, 'स्टेट्स#': 79, 'टाइटल#': 45, 'क्रेडिट#': 133, 'कार्ड#': 175, 'नियां#': 16, 'ब्रो': 16, 'लर#': 38, 'ट्रे': 33, '10,000#': 71, 'डॉलर#': 482, 'ंसी#': 66, 'अनिवार्यता#': 22, 'मुक्त#': 536, 'स्पद#': 10, 'पारि': 15, 'भाषित#': 14, 'निकलने#': 161, 'सुविधा#': 414, 'धोखा#': 79, 'E': 30, 'निया#': 48, 'यना#': 56, 'टें#': 10, 'परता#': 18, 'जानो': 4, 'वरे#': 11, 'आश्': 53, 'प्रवाहित#': 89, 'खाते#': 149, 'आंतरिक#': 351, 'निरीक्षण#': 144, 'रल#': 51, 'नियं': 29, 'कार्यालय#': 331, 'योजन#': 63, 'भेजा#': 359, 'असफल#': 184, 'वाशिंगटन#': 81, 'ग्': 58, 'कार्यात्मक#': 66, 'स्तियों#': 40, 'पार#': 393, 'बाइल#': 39, 'वन्यू#': 1, 'संलग्न#': 95, 'रखता#': 351, 'नरा': 1, 'बताने#': 91, 'सफला': 1, 'जरूरत#': 327, 'आदान#': 89, 'अकेला#': 80, 'रता#': 106, 'दोषी#': 130, 'ईसी#': 6, 'जानकर#': 55, 'गलत#': 261, 'असामान्य#': 135, 'संके': 10, 'संपर्क#': 407, 'पूरित#': 1, 'कंपनियां#': 95, 'प्रक्रियाओं#': 183, 'निभा#': 44, 'कर्ता#': 55, 'तकनी': 15, 'कें#': 78, 'फ़ि': 33, 'फंड#': 77, 'अचानक#': 149, 'वापसी#': 152, 'काली#': 174, 'मेजबान#': 100, 'ख्य': 58, 'िकीय#': 56, 'इंजन#': 509, 'लिंक#': 73, 'कर्मी#': 35, 'मिलान#': 72, 'जोखि': 31, 'जागरूकता#': 83, 'वरणों#': 49, 'जारी': 7, 'कॉल#': 140, '1989#': 139, 'इना': 5, 'एक्शन#': 141, 'स्क#': 40, 'फोर्स#': 29, 'आतंकवाद#': 64, 'धारक#': 66, 'सदस्यता#': 127, 'पर्य': 25, 'मूल्यांकन#': 275, 'दिल#': 299, '1997#': 195, 'संगी': 40, 'फिल्म#': 2835, 'चो': 70, 'क्षित#': 60, 'करिश्': 20, 'कपूर#': 173, 'तीसरी#': 248, '1993#': 172, 'वाणिज्यिक#': 199, 'कमाई#': 182, 'संगीत#': 1362, 'चने#': 21, 'दोस्त#': 241, 'प्यार#': 423, 'इच्छा#': 390, 'चरित्र#': 299, 'सप': 37, 'ज़ार#': 23, 'अच्छी#': 655, 'शास्त्रीय#': 223, 'नृत्य#': 666, 'अनाथ#': 26, 'करीबी#': 76, 'दोस्तों#': 80, 'पैर#': 237, 'घायल#': 158, 'महीनों#': 194, 'निभा': 61, 'मानता#': 146, 'नती#': 28, 'डालने#': 159, 'जल्द#': 277, 'अजय#': 89, 'अक्षय#': 91, 'जाई#': 11, 'जहार#': 5, 'विधा#': 72, 'लौट#': 293, 'लगने#': 163, 'ष्या': 2, 'ताई#': 51, 'अरु': 7, 'णा#': 56, 'अंतरंग#': 20, 'आश्चर्य': 35, 'कित#': 35, 'हॉल#': 148, 'पहुँचा#': 115, 'मंगे': 8, 'टू': 28, 'टने#': 98, 'बताती#': 96, 'तबा': 72, 'शहाल#': 8, 'प्रतिबिं': 81, 'मंच#': 234, 'रिकार्ड#': 96, 'बता#': 123, 'रूचि#': 114, 'दर्शाना#': 9, 'द्य#': 73, 'एल्बम#': 315, 'संगीतकार#': 104, 'उत्तम#': 172, 'वक्त#': 181, 'बोल#': 144, 'आनंद#': 228, 'लिखें#': 15, 'बिकने#': 50, 'प्रचुर#': 100, 'श्रेय#': 219, 'रचे#': 30, 'युवाओं#': 84, 'फिल्मों#': 481, 'कमाने#': 48, '₹': 4, 'सलैंड#': 18, 'अनुमानित#': 131, 'तीसरा#': 221, 'मारे': 1, 'टान#': 9, 'ग्रेट#': 119, 'रेंज#': 72, 'जानते#': 182, 'साउ': 63, 'राज्यपाल#': 123, 'थॉमस#': 132, 'सियों#': 18, 'नाइट#': 1, 'इनी#': 1, 'ब्रजबं': 1, 'मिलियन#': 737, 'केन्द्रित#': 130, 'निप': 29, 'टारे#': 17, 'मुंह#': 121, 'मील#': 444, 'मोड़#': 95, 'फैली#': 131, 'केन्द्र#': 379, 'सबे': 4, 'नाम': 2, 'मुद्रण#': 1, 'बनाइट#': 1, 'स्वदेशी#': 101, 'तरा': 1, 'ग्रा#': 27, 'घरों#': 147, 'बारी': 28, 'स्कॉ': 1, 'समैन#': 6, '182': 64, 'अपराधियों#': 64, 'सायिक#': 39, 'स्थापन#': 31, '184': 85, 'समझौता#': 196, 'अग्नि#': 229, 'सेट#': 332, '185#': 8, 'अभियान#': 521, 'निभाई#': 253, 'जनरल#': 376, 'प्रशांत#': 110, 'आज#': 82, 'सलै': 1, 'ंडर#': 1, 'निकारी#': 1, 'पर्यटन#': 267, 'द्वार#': 232, 'गोल्ड#': 59, 'वर्ल्ड#': 302, 'सपो': 33, 'सद्': 18, 'शिखर#': 157, 'सम्मेलन#': 308, 'सिटी#': 255, 'रिसर्च#': 103, 'बीटा#': 77, 'इतिहा': 2, 'शताब्': 3, 'बीसवीं#': 97, 'भूगो': 1, 'शहरी#': 178, 'संरचना': 1, 'गवर्': 1, 'िकी': 1, 'फ्रा': 1, 'उपयोगि': 2, 'सेवा': 1, 'आयुर्वेद#': 110, 'संस्': 45, 'कार': 49, 'लाइव#': 103, 'तकार': 1, 'संदर्': 1, 'मनोरं': 1, 'देखे': 1, 'बाहरी#': 333, 'ंक': 3, 'उन्नीसवीं#': 65, 'विकि': 1, 'पार्क#': 329, 'मिल': 3, 'निपटान#': 66, 'तुर्': 37, 'जगी': 1, 'स्पा': 2, 'ट्र': 69, 'वु': 5, 'इंट#': 47, 'खाड़ी#': 133, 'चट्टानों#': 83, 'रेड#': 94, 'टारा#': 12, 'सले#': 21, 'अन्वेषण#': 72, 'खोज#': 736, 'ब्र': 2, 'लेफ्टिनेंट#': 74, 'हेनरी#': 283, 'मिलर#': 29, 'कमान#': 69, 'सैनिकों#': 336, 'क्यू#': 24, 'पेशकश#': 205, 'दौरा#': 229, 'ओपन#': 120, 'खुला#': 130, 'कराया#': 295, 'सॉफ्': 3, 'यरों#': 61, 'बाइनरी#': 36, 'तन्': 6, 'कम्पा': 6, 'बौद्धिक#': 119, 'पदा#': 31, 'सम्बन्ध#': 437, 'द्योगिकी#': 10, 'निर्भर#': 551, 'करे#': 288, 'ंचे#': 4, 'कम्प्यूटर#': 115, 'वैज्ञानिकों#': 155, 'हूं#': 239, 'लिका': 19, 'तारीख#': 109, 'लौ': 17, 'बौ': 3, 'खर्': 13, 'मुक्ति#': 204, 'सवाल#': 168, 'कम': 7, 'प्यू': 7, 'रहें#': 130, 'देर#': 188, 'जाय#': 209, 'इसलिये#': 181, 'फ्री#': 75, 'पैसा#': 96, 'मिलेगा#': 73, 'चलेगा#': 16, 'व्यापारी#': 159, 'होंने#': 30, 'कमाया#': 26, 'तरीका#': 179, 'परन्तु#': 564, 'प्पा#': 1, 'साही#': 33, 'सैन#': 98, 'फ्रां': 43, 'Open#': 76, 'it': 64, 'ive#': 2, 'O': 14, 'I#': 1, 'पोरे': 20, 'बनायी#': 111, 'सिद्धा': 15, 'मार्ग': 31, 'अन्तर्गत#': 225, 'इसें': 6, 'सों#': 9, 'द्धारा': 1, 'इसे': 2, 'छोर#': 108, 'एल्ड#': 3, 'लेफ्': 3, 'स्ट्री': 7, 'ब्यू': 7, 'are#': 160, 'बाकी#': 226, 'नारों#': 52, 'सकोड#': 2, 'निक्स#': 20, 'L': 53, 'फिकल#': 6, 'भिन्नता#': 158, 'मैक#': 108, 'इन्हीं#': 215, 'आसान#': 163, 'निकाला#': 249, 'स्तित#': 1, 'नक्स#': 26, 'अन्दर#': 257, 'रिस#': 17, 'फायर': 3, 'बर्ड#': 6, 'ईसेंस#': 5, 'सप्': 10, 'वेब#': 151, 'ब्रा': 21, 'लुक#': 71, 'एक्सप्रेस#': 149, 'जिम्': 2, 'फोटो': 7, '४#': 45, 'माइक्रोसॉफ्ट#': 73, 'at#': 2, 'प्रस्तु': 22, 'खोल#': 109, 'सर्वर#': 66, 'सोच': 95, 'जब#': 286, 'वर्णी#': 4, 'अन्तर#': 96, 'गहरा#': 134, 'ee#': 26, 'चक्कर#': 95, 'फ्रेंच#': 236, 'म्भ#': 54, 'Q': 4, 'l#': 68, 'इत्यादि': 1, 'डाटा#': 159, 'बेस#': 76, 'स्क्रिप्': 3, 'अक्षर#': 126, 'लित#': 53, 'रखि': 3, 'मदा': 27, 'जीवनी#': 103, 'डेविड#': 185, 'for#': 167, 'the#': 1080, 'प्रेरणा#': 338, 'and#': 537, 'pen#': 8, 'no': 77, 'o#': 117, 'that#': 107, 'with#': 121, 'from#': 68, 'ther': 80, 'than#': 33, 'an#': 43, 'फाय': 29, 'दूसरा#': 727, 'बिल#': 114, 'जायेगी#': 75, 'मुश्किल#': 217, 'सवालों#': 34, 'समझा': 58, 'कमियों#': 15, 'fr': 14, 'for': 15, 'om': 37, 'en#': 27, 'wi': 27, 'नियरों#': 1, 'सर्प#': 70, 'ड्रै': 34, 'गन#': 78, 'कने#': 25, 'हि#': 6, 'स्ताई#': 14, 'ज़ि#': 3, 'वेदों#': 123, 'नदियों#': 216, 'खा#': 108, 'इन्द्र#': 91, 'दर्शा': 13, 'द्रजी#': 1, 'भरत#': 69, 'लक्ष्मण#': 77, 'भाइयों#': 114, 'पाप#': 98, 'नष्ट#': 449, 'अवि': 8, 'तुम#': 374, 'कहो': 30, 'लोक#': 701, 'रहेगा#': 129, 'धर्मा': 7, 'त्मा#': 7, 'पृथ्वी#': 778, 'आपको#': 312, 'वंशों#': 21, 'आशंका#': 71, 'तुम्हारा#': 83, 'त्य': 2, 'परा': 16, 'कथन#': 162, 'त्याग#': 216, 'पश्': 1, 'घु': 66, 'महत्या#': 7, 'नकाल#': 18, 'ज्येष्ठ#': 91, 'मधु': 1, 'पकर#': 6, 'कठोर#': 209, 'आसन#': 68, 'भो': 20, 'इतनी#': 253, 'शक्': 55, 'संचित#': 65, 'बढ़ा#': 262, 'सदा#': 166, 'आधीन#': 9, 'कृपा#': 155, 'लोकों#': 25, 'आधि': 42, 'पत्य#': 42, 'नेह#': 49, 'तुम्हारी#': 67, 'अस्वीकार#': 152, 'दू': 10, 'सको#': 3, 'तुम्हारे#': 129, 'वज्र#': 14, 'धरा': 67, 'सहन#': 67, 'तिशाली#': 3, 'मस्तक#': 28, 'सोचने#': 56, 'मैंने#': 225, 'व्यक्': 2, 'प्राय': 1, 'धु#': 1, 'भुग': 8, 'तना#': 8, 'उद्धार#': 31, 'बता': 5, 'णु#': 1, 'आराधना#': 68, 'देवे': 9, 'प्रताप#': 121, 'लौटा#': 66, 'पड़ी#': 206, 'देवों#': 49, 'निगल#': 16, 'समीप#': 161, 'मारने#': 182, 'तलाया#': 60, 'समुद्र#': 364, '्या#': 43, 'इनको#': 110, 'मानें#': 11, 'द्रस्य#': 1, 'क्रमों#': 1, 'जोकि#': 144, 'परम#': 170, 'वर्य#': 12, 'रणों#': 40, 'मारता#': 34, 'शरीर#': 1266, 'फैला#': 263, 'परिपूर्ण#': 74, 'घों#': 6, 'आकाश#': 212, 'गिरा#': 55, 'पुनः#': 458, 'आश्रय#': 78, 'लकड़ी#': 235, 'ील#': 3, 'सूक्ष्म#': 256, 'बिन्दु#': 76, 'ड़ों#': 27, 'दौड़#': 110, 'न्न#': 25, 'काट#': 150, 'टु#': 24, 'शत्रु#': 166, 'संतान#': 117, 'वाहन#': 321, 'त्रो': 2, 'आवरण#': 87, 'नदियाँ#': 81, 'अगा': 9, 'मानो#': 68, 'बिजली#': 378, 'जनरूप#': 1, 'लंकार': 1, 'परस्पर#': 195, 'बढ़ता#': 203, 'ताप#': 258, 'विजय#': 468, 'उसको#': 199, 'शुद्ध#': 385, 'सड़े#': 8, 'वनस्पति#': 176, 'ष्ठ#': 33, 'मल': 1, 'पड़ने#': 169, 'बार': 18, 'वर्ष': 1, 'उपर्य': 1, '्यु': 1, 'उड़#': 31, 'वर्षा#': 332, 'पदार्थ#': 662, 'वायु#': 385, 'अन्त#': 156, 'पराजय#': 66, 'खंडन#': 63, 'साउंडट्रैक#': 65, '2012#': 313, 'पुष्टि#': 309, 'स्कोर#': 169, 'लिखेगा#': 1, 'पिछली#': 119, 'मैन#': 274, 'विलियम्स#': 74, 'सुना#': 106, 'आइ': 65, 'तीसरे#': 400, 'ट्रेलर#': 30, 'ऑनलाइन#': 132, 'इंग#': 24, 'विंग#': 69, 'रिलीज़#': 337, 'ध्रु': 5, 'प्रतियों#': 56, 'नंबर#': 318, 'खोला#': 141, 'प्रशंसकों#': 71, 'ड्रॉ': 16, 'हराव#': 22, 'निरा': 110, 'ओवर#': 86, 'म्यूजिक#': 82, 'यूके#': 81, 'इट#': 51, 'द्धि': 54, 'हीन#': 1, 'पूर्वा': 103, 'मानित#': 4, 'स्ट्रिंग#': 23, 'खी#': 114, 'चरम#': 144, 'क्रिश्': 39, 'म्स#': 2, 'भाज': 1, 'खारिज#': 129, 'कहकर#': 136, 'निष्कर्ष#': 199, 'थॉल#': 1, 'अति#': 252, 'निर्भरता#': 48, 'चिं': 45, 'महत्वा': 22, 'कांक्षा#': 22, 'ज़रू': 9, 'संतुष्ट#': 70, 'लम्यूजिक#': 4, 'ग्रि': 1, 'वर्तियों#': 16, 'स्टॉ': 27, 'पकता#': 25, 'क्षणों#': 28, 'स्टार्स#': 20, 'प्रतिरूप#': 77, 'व्यनिष्ठ': 1, 'परही': 10, 'दर्शाया#': 162, 'ड्रम#': 106, 'स्तेज#': 2, 'बोल्ड#': 12, 'साउंड': 1, 'ट्रै': 1, 'गी': 58, 'ड्रो': 3, 'फ्रै': 21, 'साह': 35, 'सिक#': 69, 'फ़ान#': 9, 'पान#': 1, 'नजि': 8, 'प्रान्त#': 175, 'एसि': 10, '२००३#': 71, '००#': 36, 'गिनी#': 65, 'सोचना#': 27, 'ारी#': 4, 'हान#': 61, 'नु#': 10, 'पतन#': 191, 'आज़ा': 56, 'तंग#': 48, 'ज़ा#': 53, 'कारा#': 33, 'मंगो': 52, 'बौद्ध#': 418, 'मुग़': 1, 'उनसे#': 417, 'इनाम#': 38, 'उसपर#': 92, 'पें#': 1, 'गां': 2, 'सू#': 2, 'यंगह': 1, 'सबंड#': 1, 'गुज़': 39, 'बिलकुल#': 128, 'हल्': 4, 'इला': 30, 'गिर्': 56, 'दीवार#': 159, 'रखकर#': 130, 'खे#': 27, 'हू#': 7, 'अंगूर#': 81, 'चेतना#': 167, 'संरचनाओं#': 106, 'दार्शनिक#': 222, 'सवाद#': 33, 'nom': 1, '२०': 14, 'मुंड#': 1, 'पीय#': 13, 'वस्तुएँ#': 79, 'तात्पर्य#': 112, 'सकने#': 80, 'कारकों#': 148, 'देन#': 122, 'आत्मनिष्ठ': 2, 'जर्मन#': 434, 'प्राय#': 5, 'वजूद#': 11, 'मरी': 4, 'चिका#': 4, 'असल#': 63, 'सार्थ': 64, 'सित#': 2, 'इसीलिए#': 185, 'अपेक्षा': 3, 'पाती#': 98, 'ताज#': 74, 'चिंतन#': 103, 'मार्टिन#': 70, 'ज्याँ#': 6, 'पॉल#': 152, 'सार्': 3, 'मिनो': 1, 'सियो': 1, 'प्राकृतिक#': 705, 'विज्ञा': 42, 'आधारभूत#': 86, 'संवाद#': 154, 'आलोच': 20, 'आत्मा': 1, 'रोशनी#': 106, 'उत्तरो': 38, 'कहने#': 199, 'कार्': 60, 'मूला': 2, 'धारों#': 2, 'अनिश्': 3, 'तरफ़#': 118, 'भव': 1, 'चीज़#': 158, 'तार्': 60, 'किक#': 56, 'सक्': 3, 'आस्था#': 86, 'ख्त#': 11, 'परखते#': 3, 'घटक#': 171, 'सला#': 44, 'सच्चाई#': 88, 'वृक्ष#': 228, 'मर्रा#': 26, 'डिकल#': 4, 'कारक#': 233, 'प्रामा': 22, 'णिकता#': 22, 'बना': 14, 'सूरत#': 39, 'ग्रहों#': 1, 'धार': 47, 'णाओं#': 58, 'अपरिवर्त': 27, 'रचनाएँ#': 160, 'जिकल#': 3, 'इनवे': 1, 'शंस#': 1, 'प्योर#': 2, 'मिनॉ': 6, 'ऐंड#': 99, 'सफ़ी#': 5, 'प्रभावशाली#': 225, 'दार्श': 42, 'निकों#': 41, 'स्वाभाविक#': 182, 'इसि': 2, 'साइंस#': 75, 'खोजने#': 91, 'तपर': 1, 'प्रेर': 11, 'आस्थाओं#': 10, 'कामनाओं#': 5, 'नियाओं#': 2, 'दर्य': 1, 'इन': 21, 'करणों#': 1, 'टिका': 24, 'अस्मि': 15, 'ठोस#': 278, 'अनिर्धारित#': 1, 'अनुयायियों#': 96, 'कमो': 12, 'मुकाबले#': 106, 'श्य#': 4, 'ंदगी#': 22, 'लक्ष्यों#': 80, 'सान#': 7, '1999#': 258, 'सिक': 53, 'इटि': 1, 'ंग्': 11, 'निवर्': 21, 'प्रेस#': 276, 'एवे': 1, 'ब्रज#': 1, 'बर्ग#': 106, 'हिस्टो': 9, 'रिकल#': 9, 'डक्शन#': 7, '198': 1, 'सरि': 1, 'र्थ': 10, 'फार्': 28, 'पशुओं#': 146, 'काउबॉय#': 136, 'घोड़े#': 148, 'सवार#': 138, 'फ़ार्म#': 25, '19वीं#': 142, 'काउ': 34, 'परंपराओं#': 102, 'तकथा#': 4, 'पाल#': 58, 'फार्म#': 115, 'घुड़': 73, 'प्रतिस्पर्धा#': 165, 'खासकर#': 115, 'अमेरिकों#': 5, 'शुरुआती#': 176, 'गहरी#': 186, 'पोशा': 15, 'शैलियों#': 112, 'नित्य#': 93, 'क्लासिक#': 69, 'परंपरा': 21, 'शब्दा': 10, 'मवे': 63, 'सीधा#': 129, 'कारू#': 8, 'अंग्रे': 2, 'अरबी#': 295, 'मूलतः#': 135, 'शाब्दिक#': 83, 'गायों#': 30, 'hand#': 2, 'काउपो': 2, 'तपरिवहन#': 1, 'छे#': 2, 'काउपं': 2, 'लेन्': 10, 'कैलिफोर्निया#': 156, 'टेक्सास#': 87, 'महज#': 41, 'बजाए#': 87, 'फर्ड#': 4, 'ंड़#': 3, 'चरा': 21, 'रिया#': 2, 'किशो': 83, 'वस्था#': 86, 'किशोर#': 83, 'बालक#': 278, 'पैदल#': 114, 'भरो': 9, 'चारा': 13, 'जिम्मे#': 9, 'जवान#': 67, 'कैरियर#': 214, 'अपंग#': 12, 'जिंदगी#': 88, 'माहौल#': 86, 'होनेवाले#': 68, 'वयस्कों#': 112, 'परिपक्': 30, 'साथियों#': 119, 'उम्मीद#': 218, 'मध्ययुगीन#': 77, 'सिंडा#': 1, 'प्रायद्वीप#': 68, 'शुष्क#': 116, 'घास#': 144, 'नेटा#': 1, 'मजबूत#': 387, 'जीन#': 269, 'नके': 2, 'कामोर#': 2, 'सकि': 1, 'फार': 57, 'पाये#': 144, 'कंक्': 1, 'स्टा': 7, 'द्धा#': 59, 'पर्यावरणीय#': 128, 'रूपा': 54, 'ंतरित#': 54, 'गयीं#': 157, 'क्सिको#': 57, 'नाटकीय#': 125, 'अकान#': 1, 'चारो': 29, 'स्ति': 1, 'जो#': 67, 'सेंडा': 1, 'मालिक#': 186, 'तिहासिक#': 34, 'वीय#': 28, 'बहरहाल#': 67, 'बार्': 2, 'यनात्मक#': 17, 'प्रजनन#': 163, 'दक्षिणी#': 505, 'मस्तंग#': 4, 'औपनिवेशिक#': 122, 'नस्': 22, 'जानवर#': 139, 'फैल#': 130, 'स्पै': 27, 'निश#': 27, 'विलय#': 200, 'मुलाकात#': 123, 'करनेवाले#': 126, 'सेंडा#': 1, 'ट्रेल#': 4, 'स्मिक': 3, 'रेल': 56, 'मांस#': 157, 'रेलवे#': 457, 'सैकड़ों#': 130, 'अमेरिकियों#': 37, 'इंडि': 8, 'यंस#': 75, 'इंडियन#': 211, 'शनों#': 18, 'दिखाना#': 26, 'वंशज#': 138, 'निचले#': 173, 'भोजन#': 629, 'इमारत#': 198, 'खुले#': 220, 'कमरे#': 150, 'बंकहाउस#': 1, 'ब्रांड#': 173, 'चिह्नित#': 81, 'गर्म#': 254, 'लोहे#': 183, 'ंगहॉ': 3, 'आया': 20, 'तित#': 20, 'गहॉ': 1, 'भरपूर#': 69, 'फोर्ड#': 10, 'युवा#': 428, 'परिपक्व#': 66, 'वसंत#': 81, 'अप#': 5, 'उच्चतम#': 163, 'ड़ने#': 5, 'लायक#': 88, 'उपचार#': 540, 'रेक#': 44, 'जे#': 94, 'इकट्': 26, 'ठे#': 80, 'चलन#': 59, 'घो': 49, 'खुली#': 111, 'बनै': 2, 'स्तंग्': 1, 'उपयोगी#': 264, 'ब्रे': 14, 'किंग#': 28, 'स्टेड#': 1, 'ंक#': 13, 'स्टिंग#': 1, 'साध': 4, 'बेहद#': 198, 'क्रू': 40, 'फोर्': 1, 'नियो#': 1, 'कामों#': 69, 'संभा': 58, 'आपस#': 171, 'वसा#': 251, 'फिलिप#': 90, 'फोर्थ#': 1, 'शिकागो#': 109, 'प्ला': 91, 'बाजारों#': 74, 'संभावी#': 4, 'सद#': 35, 'सास#': 43, 'किसान#': 132, 'फसलों#': 94, 'किसानों#': 163, 'चेतावनी#': 130, 'कर्मियों#': 66, 'कीमत#': 279, 'बिलेने#': 2, 'ट्री#': 18, 'रास्ता#': 172, 'सहोल्म#': 3, 'कलाहो': 7, 'हॉलीवुड#': 71, 'त्रणों#': 8, 'अपेक्षाकृत#': 274, 'एवज#': 21, 'संतुलन#': 128, 'ंका#': 1, 'दोपहर#': 99, 'स्वस्थ#': 151, 'पहुंचने#': 192, 'दड़#': 9, 'बैल#': 63, 'प्रभारी#': 36, 'प्रायोगिक#': 42, 'औषधि#': 109, 'चला': 13, 'लिकों#': 53, 'अव्यव': 1, 'हृत#': 1, 'टेन#': 26, 'वेस्ट#': 138, 'ढा': 87, 'समाहित#': 57, 'तार#': 106, 'अभाव#': 301, 'भया': 35, 'समतल#': 79, 'अना': 101, 'श्यक#': 59, '1940#': 96, 'यार्ड#': 15, 'ंकना#': 1, 'विकासशील#': 106, 'आबाद#': 32, 'मांत#': 44, 'विक्': 12, 'मिश्रण#': 305, 'षों#': 33, 'पृथक#': 119, 'मानदारी#': 28, 'रेखा#': 321, 'भरे#': 147, 'अविवा': 24, 'समलै': 38, 'ंगिक#': 28, 'आप': 8, 'फो': 4, 'बिक#': 34, 'ंगिकता#': 11, '20वीं#': 86, 'ल्ड#': 101, 'दिमाग#': 89, 'रोमां': 65, '1920#': 90, 'नकारात्मक#': 147, 'हिंसक#': 107, 'त्यारे#': 23, 'अभिनेताओं#': 61, 'मानजनक#': 47, 'वास्तविकता#': 96, 'हथि': 8, 'यार': 8, 'भगाने#': 18, 'अतीत#': 109, 'लेखित#': 21, 'नेशनल#': 329, 'म्यू': 50, 'मार्गों#': 81, 'कंधे#': 98, 'बिलि': 9, 'व्यो': 4, 'मरू': 35, 'अव्यावहारिक#': 6, 'महिलाएं#': 130, 'चार्ल्स#': 192, 'चार्र': 1, 'char': 3, 'सदृश#': 83, 'चर्रे': 1, 'प्रदर्': 15, 'शाने': 2, 'रस्': 42, 'दर्शकों#': 210, 'ंगें#': 3, 'कर्ट#': 14, 'निंदा#': 107, 'बुरा#': 91, 'तलू': 10, 'पहनने#': 68, 'इनरों#': 6, 'आकर्षक#': 169, 'कपड़ों#': 82, 'लगीं#': 83, 'स्पे': 4, 'स्टॉक#': 179, 'वैसा#': 98, 'पहन': 34, 'असु': 3, 'लगरी#': 18, 'फ्रं': 18, 'धाओं#': 14, 'स्क्वायर#': 79, 'ोर#': 14, 'अप्रशिक्षित#': 5, 'रेसिंग#': 121, 'उद्य': 11, 'स्पर्धा#': 34, 'ओलंपिक#': 177, 'र्य#': 36, 'जार#': 31, 'षक#': 8, 'कमी': 7, 'टोपी#': 79, 'पहनती#': 23, 'दस्ता': 12, 'पहना#': 68, 'पहना': 46, 'भूगोल#': 161, 'संभाल#': 45, 'अवशेष#': 123, 'उतनी#': 109, 'बचे#': 97, 'हिस्पर': 1, 'सहा': 59, 'स्थायी#': 272, 'स्टिन#': 49, 'एंग्': 40, 'शब्दावली#': 96, 'वारे#': 1, 'नियुक्त#': 496, 'पूर': 57, 'खर#': 21, 'फ्रंट#': 51, 'टिने': 2, 'अवसरों#': 116, 'प्रभावों#': 104, 'चराई#': 6, 'सहाय#': 59, 'निकला#': 133, 'कमंद#': 2, 'लंगर#': 26, 'क्षि': 12, 'प्त#': 35, 'गांस#': 1, 'पहनते#': 64, 'स्ते#': 58, 'बारिश#': 83, 'बादा#': 2, 'पतली#': 76, 'स्क्र': 2, 'पाउंड#': 104, 'इनवु': 1, 'ऱ': 1, 'स्टीन#': 13, 'क्यूबा#': 174, 'बीमारियों#': 85, 'विद्रोहियों#': 69, 'दमन#': 91, '18वीं#': 90, 'प्रांत#': 301, 'सहयोगियों#': 71, 'क्रीक#': 12, 'छोड़े#': 34, 'ीन#': 65, 'भगा#': 14, 'वारो': 8, 'भेजे#': 105, 'एस्पा': 1, 'ñ': 2, 'यनी#': 1, 'स्वर#': 297, 'कामे': 5, 'जॉर्ज#': 226, 'ंकू': 12, 'उपहार#': 108, 'आश्चर्यजनक#': 64, 'द्वीप#': 456, 'सीधी#': 81, 'कहां#': 36, 'आमंत्रित#': 122, 'पोशाक#': 139, 'टॉ': 102, 'यार्': 48, 'विवादास्पद#': 115, 'परिचालन#': 99, 'समी#': 37, 'समनु': 2, 'कब्जा#': 255, 'हटाने#': 147, 'ल्ट#': 1, 'ख्यात#': 17, 'चिंको': 2, 'टुओं#': 1, 'पकड़#': 182, 'चैनल#': 215, 'प्रभुत्व#': 111, 'पर्वतीय#': 68, 'अंग्रेज#': 145, 'मनुष्यों#': 203, 'तारों#': 90, 'घे': 47, 'मंड#': 8, 'प्रतिद्वंद्वी#': 70, 'कना': 42, 'फाइन': 1, 'संघटित#': 5, 'चार्रो': 1, 'गौ': 58, 'ú': 1, 'रू#': 48, 'chal': 1, 'चिली#': 68, 'कमैन#': 2, 'वर्स#': 1, 'ु#': 17, 'लारू': 1, 'निभाया#': 71, 'सवारों#': 7, 'कामार्गु': 1, 'गार्': 2, 'सिको': 1, 'ó': 1, 'ल्या': 1, 'á': 1, 'मरे': 1, 'टरो': 1, 'अस्टु': 1, 'क्यूरो': 1, 'z': 4, 'खाना#': 120, 'खिलाना#': 6, 'ंडि': 5, 'क्षति#': 182, 'सबूत#': 149, 'निदान#': 236, 'क्षतिग्रस्त#': 92, 'घेरे#': 64, 'कर्मचारी#': 228, 'विशेषज्ञता#': 68, 'स्टिक्स#': 4, 'सटीक#': 149, 'अज्ञात#': 164, 'फॉर#': 205, 'प्रोडक्शन#': 70, 'भागी#': 26, 'उपश्रेणी#': 1, 'सूचीबद्ध#': 166, 'सर्': 59, 'ऎ': 1, 'सामग्रियों#': 72, 'डाई#': 33, 'लंबाई#': 197, 'समायोजित#': 69, 'यातायात#': 163, 'शैल#': 40, 'च्': 29, 'पक': 9, 'गर्दन#': 72, 'सेंस#': 9, 'सहज#': 180, 'नुमान#': 41, 'इंज#': 9, 'ंव#': 30, 'वजन': 3, 'शांत#': 130, 'र्थ#': 39, 'अमेरिकन#': 297, 'क्सास#': 4, 'चिक': 1, 'टैक#': 5, 'जाने': 66, 'टरचा': 5, 'पिक': 2, 'बड़#': 12, 'पहियों#': 28, 'ंगरों#': 1, 'दराज#': 14, 'किलों#': 23, 'यं': 3, 'फर्': 76, '1950#': 171, 'एथली': 74, 'बॉ': 36, 'र्रोजगार#': 1, 'शर्ट#': 52, 'चीज#': 76, 'उतार#': 76, 'स्टाइल#': 49, 'योगी#': 59, 'सितारे#': 37, 'जोड़ने#': 177, 'सहमत#': 179, 'पहनाना#': 3, 'खतरे#': 128, 'त्त#': 74, 'जानेवाले#': 94, 'अस#': 2, 'स्मिथ#': 185, 'काउंटी#': 178, 'था#': 7, 'घा': 42, 'नर्स#': 1, 'फलो#': 1, 'छवि#': 151, 'इयों#': 3, 'अभिनेता#': 315, 'माओं#': 1, 'शायद#': 361, 'शक#': 23, 'हमान#': 31, 'स्वाद#': 140, 'आरा': 1, 'मित#': 1, 'छु': 31, 'मनाने#': 95, 'प्रस्ताव#': 480, 'बिली#': 38, 'स्टल#': 51, 'नीत#': 61, 'कर्स#': 1, 'जरिए#': 137, 'व्यक्तित्व#': 255, 'सफे': 1, 'व्यंग्य': 9, 'फैशन#': 85, 'ड्र': 2, 'स्टोर#': 2, 'पहनता#': 12, 'स्टू': 3, 'जमाने#': 65, 'कहा': 31, 'एण्ड#': 99, 'भोर#': 9, 'अप्रचलित#': 20, 'शारा#': 45, 'नकल#': 58, 'कांगो#': 52, 'नजरिया#': 9, 'अपा': 5, 'पेरिस#': 194, 'सामज#': 2, 'तरू': 4, 'शराब#': 356, 'खेलने#': 184, 'विशेषण#': 1, 'संभावित#': 266, 'खतरों#': 49, 'संवेदनशील#': 111, 'वाही#': 17, 'डब्ल्यू#': 95, 'द्वीपों#': 97, 'स्ट्रेले': 2, 'स्तकारों#': 2, 'लंबर#': 3, 'घटि': 18, 'कारी': 12, 'गरी#': 13, 'गाड़ी#': 104, '1952#': 105, 'तकालीन#': 59, 'नार्': 4, 'मेजबानी#': 124, 'जीता#': 399, 'कॉर्': 1, 'अल्पा': 12, 'गण': 13, 'आयो': 39, 'पुर्तगा': 63, 'चालक#': 134, 'एंड': 1, 'तकर#': 39, 'डिक#': 27, 'ट्रि': 39, 'ंपि': 1, 'टूर्नामेंट#': 356, 'गिनती#': 72, 'स्व#': 163, 'प्रस्तुति#': 100, 'ध्वज#': 42, 'लड़े#': 31, 'उद्घाटन#': 155, 'समारोह#': 383, 'समापन#': 103, 'समारोहों#': 75, '†': 2, 'इंगित#': 96, 'प्रतिद्वं': 20, 'द्वियों#': 15, 'भागियों#': 37, 'अनुपस्थिति#': 64, 'गांग#': 1, 'फान#': 4, '\\u200e': 1, 'विचारक#': 87, 'मानवता#': 77, 'यंग#': 50, 'महानतम#': 43, 'ठारह': 28, 'विख्यात#': 174, 'संवेद': 39, 'मिला': 5, 'तलम्': 2, 'जीवनकाल#': 85, 'क्रां': 41, 'मान्यताओं#': 75, 'तीव्र#': 260, 'पुनरू': 2, 'रदार#': 41, 'तू': 1, 'प्रच': 19, 'विचारों#': 384, 'खंड': 54, 'मध्या': 15, 'हृदय#': 272, 'स्वप्न#': 85, 'क्षणिक#': 24, 'सिद्ध#': 469, 'गर्भ#': 111, 'नै': 105, 'आवि': 28, 'द्रु': 9, 'तगा': 9, 'परिवर्तनों#': 107, 'तोड़#': 146, 'छाप#': 65, 'शाली#': 17, 'छाया#': 108, 'सौंदर्य#': 103, 'मुखी#': 44, 'प्रतिष्ठ': 1, 'साधक#': 69, 'असी': 37, 'रंगमंच#': 91, 'त्वपूर्ण#': 2, 'बातों#': 202, 'अंगों#': 144, 'सबल#': 17, 'समृ': 1, 'लब्': 2, 'प्रतिष्ठ#': 2, 'तकाव्य#': 3, 'आलोचनात्मक#': 65, 'प्रबंधों#': 3, 'स्पर्श#': 112, 'लिकता#': 19, 'अप्रभावित#': 19, 'भिन्': 1, 'नकालीन#': 1, 'आध्यात्मिक#': 302, 'भावना': 16, 'व्यं': 2, 'भावु': 31, 'गिक#': 20, 'मस्त': 2, 'ष्क#': 2, 'परिष्': 18, 'जटिलता#': 66, 'बढ़ने#': 241, 'भावों#': 65, 'पुनीत#': 11, 'बहि': 2, 'आत्मा#': 370, 'कालांतर#': 66, 'दृढ़#': 108, 'सृष्टि#': 179, 'प्राणी#': 220, 'धे#': 22, 'द्यो': 50, 'टिक': 1, 'कालीन#': 68, 'नवयु': 9, 'एका': 38, 'आत्महत्या#': 70, 'स्तर': 1, 'युगीन#': 12, 'नाटकों#': 119, 'मां': 1, 'विश्वसाहित्य#': 2, 'नायक#': 201, 'वनकथा#': 4, 'आक्रांत#': 27, 'कृष्ट#': 36, 'लेन#': 183, 'कर्म#': 274, 'पढ़': 52, 'ख्या': 1, 'म्य#': 8, 'विका': 9, 'हिटलर#': 92, 'निरंकु': 24, 'चिकित्': 1, 'मधुर#': 68, 'विद्यार्थी#': 167, 'क्रांतिकारी#': 146, 'पद्म#': 76, 'खत्री#': 16, 'मदेवी#': 1, 'लय#': 9, 'अध्या': 8, 'कारो': 15, 'गाँव#': 530, 'दुकान#': 88, 'गाँवों#': 76, 'थोड़ा#': 208, 'धारू#': 1, 'आर्य#': 125, 'दीक्षा#': 79, 'जग#': 23, 'परिवेश#': 91, 'निर्णायक#': 90, 'अंग्रेज़': 51, 'आतंक#': 49, 'धूप#': 72, 'सड़': 47, 'उन्हीं#': 211, 'सड़कों#': 142, 'सिर्फ़#': 84, 'चिंगारियाँ#': 1, 'सर्व#': 80, 'अपमान#': 74, 'प्रकारा': 4, 'ंतर#': 6, 'साम्राज्य': 39, 'तप्रांत#': 2, 'कारख़ा': 14, 'खूब#': 103, 'मती#': 45, 'रती#': 1, 'शाम#': 178, 'ियों#': 60, 'धमकी#': 85, 'धम': 3, 'भाग': 14, 'शिकायत#': 104, 'ज़मीन#': 114, 'टाई#': 11, 'भाँ': 3, 'लेना#': 321, 'कठिन#': 321, 'राई#': 4, 'कन्या#': 142, 'शाला#': 52, 'मुख्या': 1, 'आवास#': 150, 'स्त्रियाँ#': 49, 'घूमने#': 90, 'आत्मरक्षा#': 14, 'भीत#': 44, 'भागने#': 89, 'भागे#': 12, 'घटित#': 98, 'बाघ#': 133, 'आदर्': 39, 'स्वी#': 26, 'प्रचार': 37, 'चाहती#': 136, 'आरंभिक#': 169, 'कांग': 6, 'उग्र#': 77, 'बीज#': 289, 'यहीं#': 220, 'नवादी#': 2, 'भरा#': 160, 'उदा': 36, 'सीन#': 24, '1921#': 70, 'असहयोग#': 33, 'साह#': 62, 'होली#': 147, 'णों#': 75, 'कड़ों#': 35, 'खाराम#': 1, 'गणेश#': 162, 'देशे': 1, 'गाँधी#': 119, 'गाँ': 7, 'तात्': 41, 'कालिक#': 41, 'एजेंडा#': 12, 'वस्तुतः#': 95, 'प्प': 1, 'तिकारियों#': 36, 'तराय#': 2, 'घोर#': 50, 'उनपर#': 81, 'चार्ज#': 96, 'आपसी#': 90, 'मत': 25, 'भेदों#': 25, 'असे': 28, 'परिण': 17, 'राजगुरु#': 54, 'सिंहा': 7, 'लोकन#': 7, 'तथ्यों#': 99, 'त्रह': 1, 'मानकर#': 91, 'शोष': 2, 'चमन': 1, 'मीं': 2, 'एजेंडे#': 9, 'ष्या#': 21, 'आकांक्ष': 1, 'देखे#': 194, 'मरणों#': 5, 'एकांतिक#': 2, 'आवास्तविक#': 1, 'निष': 1, 'क्रमण#': 1, 'भावी#': 109, 'महानायक#': 5, 'बोस#': 93, 'बिता': 40, 'हाई#': 257, 'विप्': 7, 'मूलक#': 3, 'अधू': 10, 'ंछित#': 1, 'लारे#': 8, 'मरेड#': 9, 'मियों#': 65, 'तोष#': 48, 'अभिप्राय#': 81, 'दिखाता#': 63, 'शहीन#': 2, 'भौ': 12, 'तिक': 12, 'यथार्थ#': 98, 'भूति#': 58, 'देह#': 72, 'कृत्रिम#': 191, 'विभाजन#': 319, 'आगत#': 2, 'परिदृश्य#': 74, 'संभावनाओं#': 50, 'संग्रहों#': 24, 'उड़ान#': 237, 'वृत्त#': 1, 'गारी#': 5, 'फूलों#': 94, 'चारिक#': 54, 'समर्थक#': 150, 'संरक्षक#': 94, 'पत्रकारिता#': 109, 'धर्ष#': 2, 'हमारा#': 130, 'शोषित#': 75, 'संघ': 14, 'आत्मी': 5, 'करारी#': 6, 'अकादमी#': 256, 'व्या#': 1, 'कामरेड#': 1, 'उड़': 7, 'वृत#': 1, 'चिंगारी#': 11, 'भूल#': 113, 'क्लब#': 294, 'व्यंग्य#': 101, 'संग्रह': 2, 'रंग': 19, 'র': 2, 'ং': 1, 'প': 1, 'ু': 1, 'लिकाओं#': 8, 'जानकी': 1, 'गरा#': 3, 'निरहा': 1, 'कोयले#': 68, 'पह': 6, 'लार#': 6, 'सन्या': 8, 'विद्रो': 1, 'विद्रोह#': 297, 'संभागीय#': 3, 'मिट्टी#': 463, 'जलो': 13, 'तापमान#': 330, 'सेल्सियस#': 77, 'मिमी#': 80, 'घट#': 1, 'अरे#': 17, '2006#': 616, 'द्रता#': 47, 'शुरु#': 173, '°': 2, 'F#': 2, 'मिली': 26, 'इंच#': 177, 'निर्माता#': 386, 'रिश्ते#': 105, 'अरिका': 1, 'तरी': 35, 'क़ा#': 36, 'ā': 4, 'गुणों#': 229, 'असामान्यताओं#': 12, 'सितारों#': 60, 'गर्मी#': 200, 'नक्ष': 25, 'पहचानने#': 74, 'मछली#': 199, 'अर्थों#': 68, 'दृष्टिको': 23, 'दृढ़ता#': 64, 'परिश्रम#': 65, 'पारस्परिक#': 105, 'शास्त्री#': 2, 'भावनाओं#': 119, 'ष्टिकर्ता#': 9, 'अल्पकालिक#': 29, 'ष्टाचार#': 21, 'म्रता#': 1, 'अप्रसन्न#': 9, 'प्रगति#': 249, 'साबित#': 330, 'ق': 2, 'ت': 1, 'फ़ियों#': 2, 'गारो': 4, 'शीर्': 2, 'दय#': 15, 'नाई#': 1, 'तर': 31, 'कुरान#': 146, 'आज्ञाओं#': 3, 'बनें#': 23, 'फ़ि#': 1, 'इलाह#': 3, 'नींद#': 69, 'तने#': 19, 'د': 4, 'ر': 5, 'ك': 2, 'अनुभूति#': 72, 'दबा#': 46, 'و': 5, 'दरा': 1, 'मानसिक#': 287, 'ग्रता#': 37, 'ش': 3, 'ف': 3, 'ه': 10, 'रहस्य': 68, 'वान#': 12, 'द्रियों#': 28, 'सक्रि': 45, 'द्रियाँ#': 8, 'अंतर': 3, 'खें#': 36, 'अंतरिक्ष#': 428, 'सुन#': 83, 'ن': 3, 'ء': 3, 'सर्वनाश#': 9, 'क़ा': 17, 'कामिल#': 10, 'संकी': 46, 'र्ण#': 78, 'बुद्धि#': 220, 'महासागर#': 157, 'जागरू': 29, 'विघटन#': 86, 'लाह': 2, 'ي': 2, 'ٌ': 1, 'ى': 1, 'ब्रह्माण्ड#': 91, 'ध्वनियों#': 45, 'प्रिय#': 129, 'गायब#': 72, 'फ़ी#': 19, 'निको': 2, 'विनाश#': 124, 'सारिक#': 41, 'बेहो': 19, 'वरीय#': 47, 'निर्वाह#': 69, 'डब्': 21, 'नवाद#': 2, 'मिन#': 1, 'भव्यता#': 18, 'ب': 3, 'असंबद्ध#': 14, 'साहिब#': 123, 'खारी#': 12, 'आसक्त#': 12, 'समझाने#': 66, ':': 2, 'बिल्': 6, 'याब#': 6, 'पीढ़': 59, 'फियों#': 5, 'मरता#': 15, 'प्रकार': 1, 'स्कूलों#': 163, 'तनाव#': 278, 'हिक#': 41, 'मनोवैज्ञानिक#': 191, 'प्रतिक्रियाओं#': 49, 'अनिश्चित#': 68, 'क्रियाओं#': 139, 'ड्रि': 1, 'ग्रन्': 9, 'थियों#': 9, 'स्र': 5, 'संकल्पना#': 51, 'साधा': 2, 'अन्यो': 3, 'श्रित#': 3, 'स्थि': 21, 'हारा': 1, 'प्रतिक्रिया': 24, 'बद्': 1, 'दील#': 1, 'वन्': 18, 'प्रबल#': 147, 'परिस्थिति#': 121, 'वांछित#': 92, 'चाहत#': 19, 'त्रण#': 36, 'अवांछित#': 25, 'आं#': 9, 'खाई#': 74, 'योग्यता#': 221, 'जगारी#': 27, 'चाही#': 2, 'समस्याएं#': 74, 'नकार': 7, 'कारणों#': 340, 'विवाह#': 746, 'जिम्मे': 27, 'दारियों#': 27, 'नकरा': 2, 'सकरा': 1, 'स्वीकृत#': 117, 'सम्भव#': 85, 'संख्यक#': 1, 'विक': 60, 'प्रयोगा': 39, 'अवरोध#': 1, 'दुर्घटना#': 133, 'अस्वस्थ#': 10, 'विकला': 18, 'अपूर्ण#': 50, 'आत्मानु': 1, 'जड़#': 130, 'ठा': 8, 'मुश्किलों#': 9, 'लम्': 71, 'असफलता#': 44, 'अके': 4, 'फोर#': 39, 'प्रांतीय#': 93, 'श्रीलंका#': 237, 'ट्वेंटी#': 64, 'मुख्यधारा#': 69, 'प्रीमियर#': 99, 'लीग#': 271, 'पुनर्जीवित#': 64, 'चैंपि': 60, 'चैम्पि': 5, 'राहु': 1, 'चौथे#': 153, 'सत्र#': 238, 'प्रतिस्थापित#': 93, 'टीमों#': 185, 'अक्षमता#': 29, 'गित#': 63, 'जीतने#': 200, 'फाइंग#': 15, 'लेगा#': 38, 'चैंपियन#': 85, 'मैचों#': 267, 'समों#': 7, 'स्टेडियम#': 135, 'चां': 2, 'लाहि': 2, 'मलि': 2, 'ंगा#': 2, 'कप्तान#': 142, 'बन': 1, 'कमांड': 10, 'वारि': 1, 'यर्स#': 1, 'द्धाओं#': 5, 'खेला#': 195, 'टूर्नामे': 14, 'मति': 1, 'टलैंड#': 9, 'सेंटर#': 243, 'प्रतिरूपण#': 86, 'भागि': 4, 'उन्हों#': 7, 'त्रित्व#': 10, 'कोशिका#': 273, 'प्रेर्': 2, 'पोल्': 1, 'प्रयोगशाला#': 122, 'आगले#': 2, 'ग्रै': 2, 'वेशन#': 1, 'ऽ': 2, 'स्लि': 2, 'भ्रूण#': 173, 'शोध#': 382, 'अवा': 1, 'संक्रमण#': 422, 'त्यू#': 4, 'हाला': 7, '२००८#': 130, 'गोषित#': 1, 'ू#': 1, 'न्या#': 2, 'माना': 2, 'देंगे#': 110, 'चाई#': 1, 'कोशिकाओं#': 333, 'भ्रू': 10, 'ष्य': 1, 'रोग#': 895, 'संक्रम': 27, 'एमे': 3, '२००६#': 84, 'स्यू': 1, 'ह्यू': 27, 'मन#': 54, 'नाइट': 5, 'tt#': 3, 'अंडे#': 214, 'स्कॉटलैंड#': 141, 'संग्रहा': 35, 'वयं': 1, 'पत्र': 2, 'वज्': 4, 'सक्ष': 1, 'तकार#': 2, 'ध्': 1, 'उजागर#': 86, 'अपरैल#': 1, '२००४#': 64, 'अथा': 1, 'निषे': 39, 'चन#': 39, 'आज्ञा#': 107, 'दायर#': 106, 'ष्य#': 2, 'विरोधियों#': 69, 'तंत्रिक#': 1, 'विकारों#': 73, 'उप्': 1, 'अनुमति': 1, 'सिकी#': 1, 'र्य': 1, 'उपविजेता#': 23, 'उन': 4, 'स्थ#': 80, 'जंक्शन#': 121, 'अंकाई#': 1, 'काई#': 1, 'णे#': 7, 'विस्तारित#': 101, 'वल#': 5, 'नागपुर#': 80, 'पुणे#': 110, 'अंड': 3, 'टरी#': 13, 'फाई#': 15, 'अमृतसर#': 65, 'हजू': 2, 'सिख#': 150, 'श्रद्धा': 37, 'लुओं#': 37, 'मुफ्त#': 75, 'पुल#': 151, 'संरचनात्मक#': 76, 'विद्यु': 4, 'लोको': 5, 'डीजल#': 73, 'इलेक्ट्रिक#': 179, 'बनु#': 1, 'तात्मक#': 11, 'कविताएँ#': 66, 'दिको': 1, 'ग़ज़': 16, 'नागो': 2, 'उत्तराधिकारी#': 173, 'फारसी#': 202, 'लेडी#': 75, 'रूसी#': 222, 'यादों#': 21, 'छोड़ी#': 34, 'लोकप्रि': 1, 'प्रदर्शनी#': 77, 'कमैक#': 1, 'स्टूडियो#': 202, 'प्रायोजित#': 62, 'ंड्स#': 10, 'ताकत#': 107, 'मानव': 1, 'पीड़': 3, 'ाओं#': 3, 'अग': 1, 'लु#': 1, 'आरम्भ#': 319, 'रोगी#': 339, 'आयु': 1, 'चार्यों#': 1, 'ञ': 2, '–': 1, 'पूर्वरूप#': 4, 'रोगों#': 232, 'औष': 27, 'अन्न#': 79, 'विहार#': 125, 'प्रारम्भिक#': 79, 'विध#': 2, 'विकृति#': 53, 'धि#': 23, 'गुणित#': 7, 'पद्ध': 11, 'म्यो': 2, 'सिद्धान्त#': 253, 'लक्षणों#': 233, 'किन्तु#': 674, 'वेग#': 112, 'पाठा#': 1, 'दोषों#': 57, 'संचय#': 80, 'प्रकोप#': 108, 'श्र': 2, 'असंतुलन#': 25, 'टेस्ट#': 553, 'सरे#': 22, 'मूत्र#': 72, 'नेत्र#': 75, 'आकृति#': 124, 'स्थाओं#': 48, 'परमाणु#': 458, 'रासायनिक#': 308, 'गुण#': 357, 'तरल#': 222, 'गैस#': 325, 'अर': 1, 'भौतिकी#': 126, 'नाभिक#': 98, 'इलेक्ट्रॉ': 59, 'ट्रॉ': 32, 'ट्रान#': 36, 'ऑन#': 3, 'द्रव्यमान#': 137, 'आवेश#': 76, 'बकीय#': 45, 'शित#': 28, 'ट्रल#': 3, 'द्यु': 1, 'सायन': 12, 'शता': 3, 'भूत#': 75, 'लोहा#': 128, 'सियम#': 6, 'पारा#': 25, 'आक्सीजन#': 106, 'नाइट्रोजन#': 112, 'हाइड्रोजन#': 197, 'रसायन#': 237, 'अविभाज्य#': 9, 'टुकड़े#': 111, 'समस्था': 36, 'क्रमांक#': 29, 'चुंबकीय#': 83, 'अणु#': 138, 'यौगिक#': 189, 'असंघटित#': 1, 'कणों#': 127, 'प्रयोगों#': 115, 'अपरमा': 1, 'संघटक#': 12, 'हल्का#': 69, 'गुना#': 169, 'तिकविज्ञा': 2, '1932#': 64, 'कहलाते#': 114, 'ज्या#': 55, 'अभौतिक#': 7, 'अला': 1, 'च्छा': 34, 'निवेशकों#': 81, 'उन्हे#': 117, 'पौ': 2, 'आइसी': 4, 'अंतरण#': 43, 'इंटरनेट#': 209, 'खरीद#': 164, 'सिक्यो': 23, 'सर्वि': 22, 'स्पो': 1, 'निवेशक#': 82, 'सेबी#': 119, 'आवं': 36, 'टित#': 36, 'मरहित#': 2, 'लागत#': 462, 'टिकट#': 95, 'फिके': 17, 'माइकल#': 143, 'बेनोइट#': 187, 'पहलवान#': 64, 'प्रचारों#': 2, 'ट्री': 11, 'चैम्पियनशिप#': 312, 'सलिंग#': 44, 'डबल्यू#': 373, 'CW#': 24, 'प्रो#': 70, 'W#': 3, 'WCW#': 79, 'WWE#': 90, 'कुश्ती#': 94, 'कीं#': 90, 'चैम्पियन#': 55, 'पहचाना#': 122, 'तपूर्व#': 50, 'बिग#': 111, 'बेल्ट#': 71, 'गोल्': 24, 'रॉयल#': 189, 'मैच#': 817, 'अविश्वसनीय#': 27, 'पसंदीदा#': 84, 'भावान#': 14, 'पहल': 22, 'वानों#': 22, 'सिय#': 1, 'जबसे#': 11, 'स्प': 46, 'ष्टी': 46, 'मस्ति': 2, 'सायनिक#': 21, 'मौत#': 352, 'सप्ता': 51, 'व्यू#': 33, 'ब्रेट#': 68, 'हार्ट#': 345, 'इनामा': 4, 'ंगटन#': 3, 'WWF#': 68, 'टैग#': 64, 'टाइगर#': 81, 'द्रह#': 20, 'द्विशि': 2, 'रस्क#': 2, 'प्रशंसक#': 77, 'मांसपेशी#': 80, 'वज़': 47, 'ब्रू': 21, 'स्टू#': 12, 'म्पि': 7, 'वादा#': 92, 'ंकि#': 27, 'ृत#': 1, 'अनुकरण#': 83, 'समान': 25, 'अलौकिक#': 65, 'हवा#': 335, 'चाल#': 111, 'चले': 5, 'जहा#': 46, 'लिप#': 23, 'मनवे': 3, 'एंव#': 65, 'जॉनी#': 75, 'लोर#': 15, 'मुख': 32, 'मगर#': 167, 'ब्लैक#': 206, 'जूनियर#': 98, 'प्रभाग#': 64, 'समु': 3, 'तारा': 1, 'गणों#': 1, 'प्रदर्शक#': 13, 'जीती#': 88, 'चालीस#': 71, 'मिनट#': 296, 'चैम्पियन': 2, 'X': 12, 'कराव#': 58, 'पारी#': 130, 'मस्ट्रांग#': 9, 'कोल्ड#': 12, 'स्कॉर्': 3, 'सेकंड#': 110, 'इटन#': 2, 'बोर#': 2, 'बेनो': 1, 'वापि': 47, 'धू': 8, 'नेही#': 1, 'शुरु': 18, 'गलती#': 97, 'नकेक#': 5, 'कक्ष#': 150, 'लौटे#': 68, 'पाठा': 2, 'लम्बे#': 161, 'हील#': 13, 'प्लान#': 36, 'डीन#': 27, 'तीनों#': 278, '्री#': 41, 'पब्लिक#': 101, 'नर#': 1, 'जगाने#': 17, 'वीज़ा#': 145, 'दौरे#': 231, 'अतिकाल#': 4, 'हस्ताक्षर#': 271, 'कोण#': 139, 'भाओं#': 7, 'प्रसारण#': 323}\n"
          ],
          "name": "stdout"
        },
        {
          "output_type": "display_data",
          "data": {
            "text/markdown": "####50 most frequent tokens:",
            "text/plain": [
              "<IPython.core.display.Markdown object>"
            ]
          },
          "metadata": {
            "tags": []
          }
        },
        {
          "output_type": "stream",
          "text": [
            "[('में#', 133670), ('हैं#', 42933), ('किया#', 26832), ('लिए#', 26027), ('\\n', 19729), ('गया#', 19197), ('रूप#', 16003), ('करने#', 14306), ('साथ#', 14142), ('जाता#', 14035), ('नहीं#', 13502), ('द्वारा#', 11455), ('तथा#', 10532), ('अपने#', 10145), ('बाद#', 9645), ('दिया#', 9441), ('होता#', 8778), ('कुछ#', 7506), ('हुआ#', 6910), ('करते#', 6760), ('हुए#', 6359), ('समय#', 6115), ('उन्होंने#', 5931), ('अधिक#', 5846), ('सकता#', 5814), ('एवं#', 5789), ('भारत#', 5778), ('इसके#', 5745), ('उनके#', 5683), ('होती#', 5656), ('करता#', 5624), ('होने#', 5542), ('नाम#', 5463), ('कारण#', 5460), ('अपनी#', 5390), ('अन्य#', 5233), ('वाले#', 5190), ('प्रकार#', 5090), ('सबसे#', 4922), ('कहा#', 4919), ('पहले#', 4801), ('किसी#', 4771), ('होते#', 4614), ('लेकिन#', 4580), ('जैसे#', 4502), ('बहुत#', 4395), ('जाती#', 4360), ('उन्हें#', 4297), ('शामिल#', 4291), ('हुई#', 4258)]\n"
          ],
          "name": "stdout"
        },
        {
          "output_type": "display_data",
          "data": {
            "text/markdown": "####50 least frequent tokens:",
            "text/plain": [
              "<IPython.core.display.Markdown object>"
            ]
          },
          "metadata": {
            "tags": []
          }
        },
        {
          "output_type": "stream",
          "text": [
            "[('आत्मानु', 1), ('राहु', 1), ('बन', 1), ('वारि', 1), ('यर्स#', 1), ('मति', 1), ('पोल्', 1), ('वेशन#', 1), ('अवा', 1), ('गोषित#', 1), ('ू#', 1), ('चाई#', 1), ('ष्य', 1), ('स्यू', 1), ('वयं', 1), ('सक्ष', 1), ('ध्', 1), ('अपरैल#', 1), ('अथा', 1), ('तंत्रिक#', 1), ('उप्', 1), ('अनुमति', 1), ('सिकी#', 1), ('र्य', 1), ('अंकाई#', 1), ('काई#', 1), ('बनु#', 1), ('दिको', 1), ('लोकप्रि', 1), ('कमैक#', 1), ('मानव', 1), ('अग', 1), ('लु#', 1), ('आयु', 1), ('चार्यों#', 1), ('–', 1), ('पाठा#', 1), ('अर', 1), ('द्यु', 1), ('असंघटित#', 1), ('अपरमा', 1), ('अला', 1), ('स्पो', 1), ('सिय#', 1), ('ृत#', 1), ('तारा', 1), ('गणों#', 1), ('बेनो', 1), ('नेही#', 1), ('नर#', 1)]\n"
          ],
          "name": "stdout"
        },
        {
          "output_type": "display_data",
          "data": {
            "text/markdown": "###Tokenisation of 10 test words ",
            "text/plain": [
              "<IPython.core.display.Markdown object>"
            ]
          },
          "metadata": {
            "tags": []
          }
        },
        {
          "output_type": "stream",
          "text": [
            "संरचित                ['सं', 'र', 'चि', 'त']        \n",
            "हो\n",
            "जाता               ['हो', '\\n', 'जा', 'ता']      \n",
            "जोसेफ                 ['जो', 'से', 'फ']             \n",
            "अनूदित                ['अनू', 'दि', 'त']            \n",
            "अलेक्जेंडर            ['अ', 'लेक्', 'जे', 'ंड', 'र']\n",
            "दलाल                  ['द', 'ला', 'ल']              \n",
            "सौंपे                 ['सौं', 'पे']                 \n",
            "रेजिनों               ['रे', 'जि', 'नो', 'ं']       \n",
            "ड्वॉर्किन             ['ड्', 'व', 'ॉ', 'र्', 'कि', 'न']\n",
            "चमक                   ['चम', 'क']                   \n"
          ],
          "name": "stdout"
        },
        {
          "output_type": "display_data",
          "data": {
            "text/markdown": "###Comparison of tokenisation",
            "text/plain": [
              "<IPython.core.display.Markdown object>"
            ]
          },
          "metadata": {
            "tags": []
          }
        },
        {
          "output_type": "stream",
          "text": [
            "Word                From Polyglot library                             From BPE                                          \n",
            "वह                  ['वह']                                            ['व', 'ह']                                        \n",
            "पहले                ['पहल', 'े']                                      ['पहल', 'े']                                      \n",
            "हुआ                 ['हुआ']                                           ['हु', 'आ']                                       \n",
            "(                   ['(']                                             []                                                \n",
            "'                   [\"'\"]                                             []                                                \n",
            "सूज़ाने             ['सू', 'ज़ा', 'ने']                               ['सू', 'ज़ा', 'ने']                               \n",
            "जकीउर               ['ज', 'की', 'उर']                                 ['ज', 'की', 'उ', 'र']                             \n",
            "मंडलांतानुक्रम      ['मंडल', 'ांत', 'ानु', 'क्रम']                    ['मंड', 'ला', 'ं', 'ता', 'नुक्रम']                \n",
            "जहिद                ['ज', 'हि', 'द']                                  ['ज', 'हि', 'द']                                  \n",
            "अनुवाकानुक्रमणी     ['अनु', 'वाक', 'ानु', 'क्रमण', 'ी']               ['अनु', 'वा', 'का', 'नुक्रम', 'ण', 'ी']           \n"
          ],
          "name": "stdout"
        }
      ]
    },
    {
      "cell_type": "code",
      "metadata": {
        "id": "1gspb0QdlwdM"
      },
      "source": [
        ""
      ],
      "execution_count": null,
      "outputs": []
    }
  ]
}